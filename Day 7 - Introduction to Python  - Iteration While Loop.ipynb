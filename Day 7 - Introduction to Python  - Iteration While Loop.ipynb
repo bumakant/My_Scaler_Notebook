{
 "cells": [
  {
   "attachments": {},
   "cell_type": "markdown",
   "metadata": {
    "collapsed": true,
    "pycharm": {
     "name": "#%% md\n"
    }
   },
   "source": [
    "# Python While Loop\n",
    "\n",
    "Python While Loop is used to execute a block of statements repeatedly until a given condition is satisfied. \n",
    "And when the condition becomes false, the line immediately after the loop in the program is executed.\n",
    "\n",
    "Syntax: \n",
    "\n",
    "while expression:\n",
    "    statement(s)\n",
    "\n",
    "\n",
    "While loop falls under the category of indefinite iteration. Indefinite iteration means that the number of times the loop is executed isn’t specified explicitly in advance. \n",
    "\n",
    "Statements represent all the statements indented by the same number of character spaces after a programming construct are considered to be part of a single block of code. \n",
    "Python uses indentation as its method of grouping statements. When a while loop is executed, expr is first evaluated in a Boolean context and if it is true, the loop body is executed. \n",
    "Then the expr is checked again, if it is still true then the body is executed again and this continues until the expression becomes false."
   ]
  },
  {
   "cell_type": "code",
   "execution_count": 30,
   "metadata": {},
   "outputs": [
    {
     "name": "stdout",
     "output_type": "stream",
     "text": [
      "umakant\n",
      "umakant\n",
      "umakant\n",
      "\n",
      "Done\n"
     ]
    }
   ],
   "source": [
    "# python program to illutrate while loop \n",
    "# to print name 3 times or many times \n",
    "name = str(input())\n",
    "num = int(input())\n",
    "count = 0\n",
    "while count < num:\n",
    "    print(name)\n",
    "    count += 1\n",
    "print(\"\\nDone\")"
   ]
  },
  {
   "cell_type": "code",
   "execution_count": 9,
   "metadata": {},
   "outputs": [
    {
     "name": "stdout",
     "output_type": "stream",
     "text": [
      "6\n",
      "5\n",
      "4\n",
      "3\n",
      "2\n",
      "1\n"
     ]
    }
   ],
   "source": [
    "'''\n",
    "In the above example, we have run a while loop over a \n",
    "list that will run until there is an element present in the list.\n",
    "'''\n",
    "# while loop with the list\n",
    "#check if list still contain any element\n",
    "a = [1, 2, 3, 4, 5, 6]\n",
    "while a:\n",
    "    print(a.pop())"
   ]
  },
  {
   "cell_type": "code",
   "execution_count": 13,
   "metadata": {},
   "outputs": [
    {
     "name": "stdout",
     "output_type": "stream",
     "text": [
      "5\n",
      "*\n",
      "*\n",
      "*\n",
      "*\n",
      "*\n",
      "*\n"
     ]
    }
   ],
   "source": [
    "'''\n",
    "Just like the if block, if the while block consists of a single statement we can declare the entire loop in a single line. \n",
    "If there are multiple statements in the block that makes up the loop body, they can be separated by semicolons (;). \n",
    "'''\n",
    "\n",
    "# Single statement while block\n",
    "n = int(input())\n",
    "print(n)\n",
    "i = 0\n",
    "while(i<=n): i+= 1; print(\"*\")"
   ]
  },
  {
   "cell_type": "code",
   "execution_count": 27,
   "metadata": {},
   "outputs": [
    {
     "name": "stdout",
     "output_type": "stream",
     "text": [
      "e d u c t o n "
     ]
    }
   ],
   "source": [
    "'''Loop Control Statements\n",
    "Loop control statements change execution from its normal sequence. \n",
    "When execution leaves a scope, all automatic objects that were created in that scope are destroyed. \n",
    "Python supports the following control statements.'''\n",
    "\n",
    "# Print all leters except e and s\n",
    "i = 0\n",
    "a = \"education\"\n",
    "\n",
    "while i < len(a):\n",
    "    if a[i] == \"a\" or a[i] == 'i':\n",
    "        i += 1\n",
    "        continue\n",
    "\n",
    "    print(a[i], end=\" \")\n",
    "    i += 1\n",
    "\n"
   ]
  },
  {
   "cell_type": "code",
   "execution_count": 25,
   "metadata": {},
   "outputs": [
    {
     "name": "stdout",
     "output_type": "stream",
     "text": [
      "i n t "
     ]
    }
   ],
   "source": [
    "# Break Statement \n",
    "# break the loop as soon it sees \"e\"\n",
    "\n",
    "i = 0\n",
    "a = \"intersetllar\"\n",
    "while i <len(a):\n",
    "    if a[i] == \"e\":\n",
    "        i += 1\n",
    "        break\n",
    "\n",
    "    print(a[i], end=\" \")\n",
    "    i += 1"
   ]
  },
  {
   "cell_type": "code",
   "execution_count": 29,
   "metadata": {},
   "outputs": [
    {
     "name": "stdout",
     "output_type": "stream",
     "text": [
      "value of i: 16\n"
     ]
    }
   ],
   "source": [
    "'''\n",
    "Pass Statement\n",
    "The Python pass statement to write empty loops. \n",
    "Pass is also used for empty control statements, functions, and classes.\n",
    "'''\n",
    "\n",
    "i = 0\n",
    "a = \"autobiographySVR\"\n",
    "\n",
    "while i < len(a):\n",
    "    i += 1\n",
    "    pass\n",
    "\n",
    "print('value of i:', i)\n",
    "\n"
   ]
  },
  {
   "cell_type": "code",
   "execution_count": 1,
   "metadata": {
    "pycharm": {
     "name": "#%%\n"
    }
   },
   "outputs": [
    {
     "name": "stdout",
     "output_type": "stream",
     "text": [
      "12\n",
      "1 2 3 4 5 6 7 8 9 10 11 12 \n",
      "Done\n"
     ]
    }
   ],
   "source": [
    "# to print numbers 1 to n \n",
    "\n",
    "n = int(input()) # took an user input\n",
    "print(n) # printed user input\n",
    "i = 1# this will be like initial value, i.e, if it is 0, then line will start with zero\n",
    "while i <= n:\n",
    "  print(i, end=\" \")\n",
    "  i += 1 # making an increment\n",
    "print(\"\\nDone\")"
   ]
  },
  {
   "cell_type": "code",
   "execution_count": 4,
   "metadata": {
    "pycharm": {
     "name": "#%%\n"
    }
   },
   "outputs": [
    {
     "name": "stdout",
     "output_type": "stream",
     "text": [
      "2 4 6 8 10 12 14 16 18 20 \n",
      "Done\n"
     ]
    }
   ],
   "source": [
    "n = int(input())\n",
    "i = 2\n",
    "while i <= n:\n",
    "  print(i, end=\" \")\n",
    "  i += 2 # As we have make increment of 2, it will print even numbers because initial value is 2\n",
    "print(\"\\nDone\")"
   ]
  },
  {
   "cell_type": "code",
   "execution_count": 5,
   "metadata": {
    "pycharm": {
     "name": "#%%\n"
    }
   },
   "outputs": [
    {
     "name": "stdout",
     "output_type": "stream",
     "text": [
      "20\n",
      "1 3 5 7 9 11 13 15 17 19 \n",
      "Done\n"
     ]
    }
   ],
   "source": [
    "# this program has printed odd numbers as we have put i = 1 and incremnting with 2\n",
    "n = int(input())\n",
    "print(n)\n",
    "i = 1 # This Value has to be defined\n",
    "while i < n + 1:\n",
    "  print(i, end=\" \")\n",
    "  i += 2\n",
    "print(\"\\nDone\")"
   ]
  },
  {
   "cell_type": "code",
   "execution_count": 23,
   "metadata": {},
   "outputs": [
    {
     "name": "stdout",
     "output_type": "stream",
     "text": [
      "15\n",
      "0 5 10 15 "
     ]
    }
   ],
   "source": [
    "# to find multiples of 3\n",
    "n =  int(input())\n",
    "print(n)\n",
    "i = 0\n",
    "while i <= n:\n",
    "    print(i, end=\" \")\n",
    "    i += 3\n",
    "print(\"\\nDone\")"
   ]
  },
  {
   "cell_type": "code",
   "execution_count": 21,
   "metadata": {
    "pycharm": {
     "name": "#%%\n"
    }
   },
   "outputs": [
    {
     "name": "stdout",
     "output_type": "stream",
     "text": [
      "10\n",
      "1 2 3 4 5 6 7 8 9 10 \n",
      "Done\n"
     ]
    }
   ],
   "source": [
    "n =  int(input())\n",
    "print(n)\n",
    "i = 1\n",
    "while i <= n:\n",
    "    print(i, end=\" \")\n",
    "    i += 1\n",
    "print(\"\\nDone\")"
   ]
  },
  {
   "cell_type": "code",
   "execution_count": 31,
   "metadata": {
    "pycharm": {
     "name": "#%%\n"
    }
   },
   "outputs": [
    {
     "name": "stdout",
     "output_type": "stream",
     "text": [
      "1 2 3 "
     ]
    }
   ],
   "source": [
    "'''\n",
    "The break Statement\n",
    "With the break statement we can stop the loop even if the while condition is true:\n",
    "'''\n",
    "\n",
    "i = 1\n",
    "while i < 6:\n",
    "  print(i, end=\" \")\n",
    "  if i == 3:\n",
    "    break\n",
    "  i += 1"
   ]
  },
  {
   "cell_type": "code",
   "execution_count": 26,
   "metadata": {
    "pycharm": {
     "name": "#%%\n"
    }
   },
   "outputs": [
    {
     "name": "stdout",
     "output_type": "stream",
     "text": [
      "1 2 3 4 5 6 "
     ]
    }
   ],
   "source": [
    "i = 1\n",
    "while i < 15:\n",
    "  print(i, end=\" \")\n",
    "  if i == 6:\n",
    "    break\n",
    "  i += 1"
   ]
  },
  {
   "attachments": {},
   "cell_type": "markdown",
   "metadata": {
    "pycharm": {
     "name": "#%% md\n"
    }
   },
   "source": []
  },
  {
   "cell_type": "code",
   "execution_count": 31,
   "metadata": {
    "pycharm": {
     "name": "#%%\n"
    }
   },
   "outputs": [
    {
     "name": "stdout",
     "output_type": "stream",
     "text": [
      "1 2 4 5 6 "
     ]
    }
   ],
   "source": [
    "''''\n",
    "The continue Statement\n",
    "With the continue statement we can stop the current iteration, \n",
    "and continue with the next:\n",
    "'''\n",
    "\n",
    "i = 0\n",
    "while i < 6:\n",
    "  i += 1\n",
    "  if i ==3:\n",
    "    continue # we have to use if condition while using \"continue\"\n",
    "  print(i, end=\" \")\n",
    "\n",
    "# Note that number 3 is missing in the result"
   ]
  },
  {
   "cell_type": "markdown",
   "metadata": {
    "pycharm": {
     "name": "#%% md\n"
    }
   },
   "source": [
    "The else Statement\n",
    "\n",
    "With the else statement we can run a block of code once when the condition no longer is true:"
   ]
  },
  {
   "cell_type": "code",
   "execution_count": 35,
   "metadata": {
    "pycharm": {
     "name": "#%%\n"
    }
   },
   "outputs": [
    {
     "name": "stdout",
     "output_type": "stream",
     "text": [
      "1 2 3 4 5 \n",
      "i is no longer less than 6\n"
     ]
    }
   ],
   "source": [
    "i = 1\n",
    "while i < 6:\n",
    "  print(i,  end=\" \")\n",
    "  i += 1\n",
    "else:\n",
    "  print(\"\\ni is no longer less than 6\")"
   ]
  },
  {
   "cell_type": "code",
   "execution_count": 41,
   "metadata": {
    "pycharm": {
     "name": "#%%\n"
    }
   },
   "outputs": [
    {
     "name": "stdout",
     "output_type": "stream",
     "text": [
      "Hello Geek\n",
      "Hello Geek\n",
      "Hello Geek\n"
     ]
    }
   ],
   "source": [
    "# Python program to illustrate\n",
    "# while loop\n",
    "count = 0\n",
    "while count < 3:\n",
    "    count = count + 1\n",
    "    print(\"Hello Geek\")\n",
    "# In the above example, the condition for while will be True as long as the counter variable (count) is less than 3."
   ]
  },
  {
   "cell_type": "code",
   "execution_count": null,
   "metadata": {
    "pycharm": {
     "name": "#%%\n"
    }
   },
   "outputs": [],
   "source": [
    "# checks if list still\n",
    "# contains any element\n",
    "a = [1, 2, 3, 4]\n",
    "\n",
    "while a:\n",
    "    print(a.pop())\n",
    "# In the above example, we have run a while loop over a list that will run until there is an element present in the list."
   ]
  },
  {
   "cell_type": "markdown",
   "metadata": {
    "pycharm": {
     "name": "#%% md\n"
    }
   },
   "source": [
    "Example - Single statement while block\n",
    "\n",
    "Just like the if block, if the while block consists of a single statement we can declare the entire loop in a single line. If there are multiple statements in the block that makes up the loop body, they can be separated by semicolons (;)."
   ]
  },
  {
   "cell_type": "code",
   "execution_count": 42,
   "metadata": {
    "pycharm": {
     "name": "#%%\n"
    }
   },
   "outputs": [
    {
     "name": "stdout",
     "output_type": "stream",
     "text": [
      "Hello Geek\n",
      "Hello Geek\n",
      "Hello Geek\n",
      "Hello Geek\n",
      "Hello Geek\n"
     ]
    }
   ],
   "source": [
    "# Python program to illustrate\n",
    "# Single statement while block, in which we give semicolon after increment\n",
    "count = 0\n",
    "while count < 5: count += 1; print(\"Hello Geek\")"
   ]
  },
  {
   "cell_type": "markdown",
   "metadata": {
    "pycharm": {
     "name": "#%% md\n"
    }
   },
   "source": [
    "Example 4: Loop Control Statements\n",
    "\n",
    "Loop control statements change execution from its normal sequence. When execution leaves a scope, all automatic objects that were created in that scope are destroyed. Python supports the following control statements.\n",
    "Continue Statement\n",
    "\n",
    "Python Continue Statement returns the control to the beginning of the loop.\n",
    "Example: Python while loop with continue statement\n"
   ]
  },
  {
   "cell_type": "code",
   "execution_count": 43,
   "metadata": {
    "pycharm": {
     "name": "#%%\n"
    }
   },
   "outputs": [
    {
     "name": "stdout",
     "output_type": "stream",
     "text": [
      "Current Letter : g\n",
      "Current Letter : k\n",
      "Current Letter : f\n",
      "Current Letter : o\n",
      "Current Letter : r\n",
      "Current Letter : g\n",
      "Current Letter : k\n"
     ]
    }
   ],
   "source": [
    "# Prints all letters except 'e' and 's'\n",
    "i = 0\n",
    "a = 'geeksforgeeks'\n",
    "\n",
    "while i < len(a):\n",
    "    if a[i] == 'e' or a[i] == 's':\n",
    "        i += 1\n",
    "        continue\n",
    "\n",
    "    print('Current Letter :', a[i])\n",
    "    i += 1"
   ]
  },
  {
   "cell_type": "markdown",
   "metadata": {
    "pycharm": {
     "name": "#%% md\n"
    }
   },
   "source": [
    "Break Statement\n",
    "\n",
    "Python Break Statement brings control out of the loop.\n",
    "\n"
   ]
  },
  {
   "cell_type": "code",
   "execution_count": 44,
   "metadata": {
    "pycharm": {
     "name": "#%%\n"
    }
   },
   "outputs": [
    {
     "name": "stdout",
     "output_type": "stream",
     "text": [
      "Current Letter : g\n"
     ]
    }
   ],
   "source": [
    "# Example: Python while loop with a break statement\n",
    "# break the loop as soon it sees 'e'\n",
    "# or 's'\n",
    "i = 0\n",
    "a = 'geeksforgeeks'\n",
    "\n",
    "while i < len(a):\n",
    "    if a[i] == 'e' or a[i] == 's':\n",
    "        i += 1\n",
    "        break\n",
    "\n",
    "    print('Current Letter :', a[i])\n",
    "    i += 1"
   ]
  },
  {
   "cell_type": "markdown",
   "metadata": {
    "pycharm": {
     "name": "#%% md\n"
    }
   },
   "source": [
    "Pass Statement\n",
    "\n",
    "The Python pass statement to write empty loops. Pass is also used for empty control statements, functions, and classes.\n",
    "Example: Python while loop with a pass statement\n"
   ]
  },
  {
   "cell_type": "code",
   "execution_count": 47,
   "metadata": {
    "pycharm": {
     "name": "#%%\n"
    }
   },
   "outputs": [
    {
     "name": "stdout",
     "output_type": "stream",
     "text": [
      "Value of i : 13\n"
     ]
    }
   ],
   "source": [
    "# An empty loop\n",
    "a = str(input())\n",
    "i = 0\n",
    "\n",
    "while i < len(a): # here we have used lenth feature to count the numbers \n",
    "    i += 1\n",
    "    pass\n",
    "\n",
    "print('Value of i :', i)"
   ]
  },
  {
   "cell_type": "code",
   "execution_count": 48,
   "metadata": {
    "pycharm": {
     "name": "#%%\n"
    }
   },
   "outputs": [
    {
     "name": "stdout",
     "output_type": "stream",
     "text": [
      "1 2 3 4 5 6 "
     ]
    }
   ],
   "source": [
    "# The while Loop\n",
    "\n",
    "# With the while loop we can execute a set of statements as long as a condition is true.\n",
    "# to print first 6 numbers\n",
    "i = 1\n",
    "while i < 7:\n",
    "  print(i, end=\" \")\n",
    "  i += 1 # this statement adding +1 till last number"
   ]
  },
  {
   "cell_type": "code",
   "execution_count": 49,
   "metadata": {
    "pycharm": {
     "name": "#%%\n"
    }
   },
   "outputs": [
    {
     "name": "stdout",
     "output_type": "stream",
     "text": [
      "1\n",
      "2\n",
      "3\n"
     ]
    }
   ],
   "source": [
    "#The break Statement\n",
    "\n",
    "# With the break statement we can stop the loop even if the while condition is true:\n",
    "\n",
    "i = 1 # initialization\n",
    "while i < 6:  # loop condition\n",
    "  print(i) #Loop Body\n",
    "  if i == 3: # loop break\n",
    "    break # we are breaking the loop at 3\n",
    "  i += 1  # Increment/ updating  loop Variable"
   ]
  },
  {
   "cell_type": "code",
   "execution_count": null,
   "metadata": {},
   "outputs": [],
   "source": [
    "'''Sentinel Controlled Statement\n",
    "In this, we don’t use any counter variable because we don’t know how many times the loop will execute.\n",
    "Here user decides that how many times he wants to execute the loop. For this, we use a sentinel value.\n",
    "A sentinel value is a value that is used to terminate a loop whenever a user enters it, generally, the sentinel value is -1.\n",
    "\n",
    "Example: Python while loop with user input\n",
    "\n",
    "Explanation:\n",
    "\n",
    "First, it asks the user to input a number. if the user enters -1 then the loop will not execute\n",
    "User enter 6 and the body of the loop executes and again ask for input\n",
    "Here user can input many times until he enters -1 to stop the loop\n",
    "User can decide how many times he wants to enter input\n",
    "\n",
    "'''\n",
    "a = int(input('Enter a number (-1 to quit): '))\n",
    "\n",
    "while a != -1:\n",
    "\ta = int(input('Enter a number (-1 to quit): '))\n",
    "\n",
    "\n"
   ]
  },
  {
   "cell_type": "code",
   "execution_count": 50,
   "metadata": {
    "pycharm": {
     "name": "#%%\n"
    }
   },
   "outputs": [
    {
     "name": "stdout",
     "output_type": "stream",
     "text": [
      "1 2 3 4 5 6 7 8 \n",
      "done\n"
     ]
    }
   ],
   "source": [
    "# printing number from 1 to n\n",
    "n = int(input()) # int(input()) -> for desired number\n",
    "i = 1\n",
    "while i  <= n:\n",
    "    print(i, end=\" \") # end = \" \" removed new line formation , So 1 to 10 in same line\n",
    "    i+=1\n",
    "print(\"\\ndone\")   # \\n Added new line and done was written bellow number line"
   ]
  },
  {
   "cell_type": "code",
   "execution_count": 31,
   "metadata": {
    "pycharm": {
     "name": "#%%\n"
    }
   },
   "outputs": [
    {
     "name": "stdout",
     "output_type": "stream",
     "text": [
      "1 2 3 4 5 6 7 8 9 10 \n",
      "Done\n"
     ]
    }
   ],
   "source": [
    "# Printing number 1 to n\n",
    "n = int(input())\n",
    "i = 1 # it will print 0 to 3\n",
    "while i <= n: # as we have put \"=\" it will print till 4\n",
    "    print(i, end=' ') # end = \" \" removed new line formation , So 1 to 10 in same line\n",
    "    i += 1\n",
    "print('\\nDone')"
   ]
  },
  {
   "cell_type": "code",
   "execution_count": 1,
   "metadata": {
    "pycharm": {
     "name": "#%%\n"
    }
   },
   "outputs": [
    {
     "name": "stdout",
     "output_type": "stream",
     "text": [
      "2 4 6 8 10 12 \n",
      "Done\n"
     ]
    }
   ],
   "source": [
    "# Quizzes\n",
    "# to print ever number\n",
    "n = int(input())\n",
    "i = 2\n",
    "while i  <= n:\n",
    "    if i % 2 == 0: # we are checking if the number is divisible by 2 , reminder has tobe zero\n",
    "        print(i, end=\" \")\n",
    "    i += 1\n",
    "print('\\nDone')"
   ]
  },
  {
   "cell_type": "code",
   "execution_count": 33,
   "metadata": {
    "pycharm": {
     "name": "#%%\n"
    }
   },
   "outputs": [
    {
     "name": "stdout",
     "output_type": "stream",
     "text": [
      "1 3 5 7 9 11 13 "
     ]
    }
   ],
   "source": [
    "# to print odd number\n",
    "n = int(input())\n",
    "i = 0 # this is starting point\n",
    "while i  <= n:\n",
    "    if i % 2 == 1: # we are checking if the number is divisible by 2 , reminder has tobe one\n",
    "        print(i, end=\" \")\n",
    "    i += 1 # this makes the code definite"
   ]
  },
  {
   "cell_type": "code",
   "execution_count": 35,
   "metadata": {
    "pycharm": {
     "name": "#%%\n"
    }
   },
   "outputs": [
    {
     "name": "stdout",
     "output_type": "stream",
     "text": [
      "2 4 6 8 10 12 14 \n",
      "Done\n"
     ]
    }
   ],
   "source": [
    "# print even numbers without if condition\n",
    "n = int(input())\n",
    "i = 2 # for even number use 2\n",
    "while i  <= n:\n",
    "    print(i, end=\" \")\n",
    "    i += 2 # as we have made increment by 2, we can get same output without if condition\n",
    "print(\"\\nDone\")"
   ]
  },
  {
   "cell_type": "code",
   "execution_count": 34,
   "metadata": {
    "pycharm": {
     "name": "#%%\n"
    }
   },
   "outputs": [
    {
     "name": "stdout",
     "output_type": "stream",
     "text": [
      "1 3 5 7 9 11 13 15 \n",
      "Done\n"
     ]
    }
   ],
   "source": [
    "# to print odd number without if condition\n",
    "n = int(input())\n",
    "i = 1 # for even number use 1\n",
    "while i  <= n:\n",
    "    print(i, end=\" \")\n",
    "    i += 2  # as we have made increment by 2, we can get same output whout if condition\n",
    "print(\"\\nDone\")"
   ]
  },
  {
   "cell_type": "markdown",
   "metadata": {
    "pycharm": {
     "name": "#%% md\n"
    }
   },
   "source": [
    "To print Multiple of number"
   ]
  },
  {
   "cell_type": "code",
   "execution_count": 39,
   "metadata": {
    "pycharm": {
     "name": "#%%\n"
    }
   },
   "outputs": [
    {
     "name": "stdout",
     "output_type": "stream",
     "text": [
      "The number which multiple has to be found: 14\n",
      "The number upto which multiple has to be found: 95\n",
      "14 28 42 56 70 84 "
     ]
    }
   ],
   "source": [
    "# to print multiple of any number\n",
    "m = int(input()) # number whose multiple has to be found\n",
    "print(\"The number which multiple has to be found:\", m)\n",
    "n = int(input(\"The number upto which multiple has to be found:\" )) # upto the number\n",
    "print(\"The number upto which multiple has to be found:\", n)\n",
    "i = 1\n",
    "while i  <= n:\n",
    "    if i % m == 0: # we are checking if the number is divisible by 2 , reminder has to be one\n",
    "        print(i, end=\" \")\n",
    "    i += 1"
   ]
  },
  {
   "cell_type": "code",
   "execution_count": 28,
   "metadata": {
    "pycharm": {
     "name": "#%%\n"
    }
   },
   "outputs": [
    {
     "name": "stdout",
     "output_type": "stream",
     "text": [
      "4 8 12 16 20 24 28 32 36 40 "
     ]
    }
   ],
   "source": [
    "\n",
    "m = int(input())\n",
    "n = int(input())\n",
    "\n",
    "i = 1\n",
    "while i  <= n:\n",
    "    if i % m == 0: # we are checking if the number is divisible by 2 , reminder has to be one\n",
    "        print(i, end=\" \")\n",
    "    i += 1"
   ]
  },
  {
   "cell_type": "code",
   "execution_count": 34,
   "metadata": {
    "pycharm": {
     "name": "#%%\n"
    }
   },
   "outputs": [
    {
     "name": "stdout",
     "output_type": "stream",
     "text": [
      "4 8 12 16 20 24 28 32 36 40 "
     ]
    }
   ],
   "source": [
    "# to Print multiple of any number\n",
    "\n",
    "x = int(input())\n",
    "y = 10\n",
    "i = x\n",
    "while i <= x*y:# Multiplied by User input\n",
    "    print(i, end=\" \")\n",
    "    i += x # Increment as per user input"
   ]
  },
  {
   "cell_type": "code",
   "execution_count": 40,
   "metadata": {
    "pycharm": {
     "name": "#%%\n"
    }
   },
   "outputs": [
    {
     "name": "stdout",
     "output_type": "stream",
     "text": [
      "2 4 8 16 32 64 "
     ]
    }
   ],
   "source": [
    "# to print power of 2\n",
    "n = int(input())\n",
    "i = 1\n",
    "while i <= n:\n",
    "    if  i <= n:\n",
    "        print(2**i, end=\" \") # 2**i prints power of two\n",
    "        i += 1"
   ]
  },
  {
   "cell_type": "code",
   "execution_count": 56,
   "metadata": {
    "pycharm": {
     "name": "#%%\n"
    }
   },
   "outputs": [
    {
     "name": "stdout",
     "output_type": "stream",
     "text": [
      "5 25 125 625 "
     ]
    }
   ],
   "source": [
    "n = int(input())\n",
    "pwr =  int(input())\n",
    "i = 1\n",
    "res = 1\n",
    "\n",
    "while i<=pwr:\n",
    "    res *= n\n",
    "    print(res, end=\" \")\n",
    "    i += 1"
   ]
  },
  {
   "cell_type": "code",
   "execution_count": 3,
   "metadata": {
    "pycharm": {
     "name": "#%%\n"
    }
   },
   "outputs": [
    {
     "name": "stdout",
     "output_type": "stream",
     "text": [
      "5 25 125 625 3125 15625 78125 390625 1953125 9765625 48828125 244140625 "
     ]
    }
   ],
   "source": [
    "# to Print power of any number in python\n",
    "num =  int(input())\n",
    "i =  1\n",
    "while i <= n:\n",
    "    print(num**i, end=\" \")\n",
    "    i += 1"
   ]
  },
  {
   "cell_type": "code",
   "execution_count": 65,
   "metadata": {
    "pycharm": {
     "name": "#%%\n"
    }
   },
   "outputs": [
    {
     "name": "stdout",
     "output_type": "stream",
     "text": [
      "1 4 9 16 25 36 49 64 81 "
     ]
    }
   ],
   "source": [
    "# to Print perfect squares\n",
    "n =  int(input())\n",
    "i = 1 # this is important thing, you have to set variables\n",
    "while i<=n:\n",
    "    print(i*i, end=\" \")\n",
    "    i += 1"
   ]
  },
  {
   "cell_type": "code",
   "execution_count": 66,
   "metadata": {
    "pycharm": {
     "name": "#%%\n"
    }
   },
   "outputs": [
    {
     "name": "stdout",
     "output_type": "stream",
     "text": [
      "6 5 4 3 2 1 0 "
     ]
    }
   ],
   "source": [
    "# to print number from n to n, Reverse order\n",
    "n =  int(input())\n",
    "i = n # n will be variable\n",
    "while i >= 0: # we reverse the condition\n",
    "    print(i, end=\" \")\n",
    "    i -= 1"
   ]
  },
  {
   "cell_type": "code",
   "execution_count": 67,
   "metadata": {
    "pycharm": {
     "name": "#%%\n"
    }
   },
   "outputs": [
    {
     "name": "stdout",
     "output_type": "stream",
     "text": [
      "0 : 01 : 22 : 4"
     ]
    }
   ],
   "source": [
    "# Quizz\n",
    "i = 0\n",
    "j = 0\n",
    "while i<=2:\n",
    "    if j%2: # Default condition\n",
    "        j+=1 # this value won't increase\n",
    "    print(i, \":\", j, end=\"\")\n",
    "    i+=1\n",
    "    j+=1"
   ]
  }
 ],
 "metadata": {
  "kernelspec": {
   "display_name": "Python 3 (ipykernel)",
   "language": "python",
   "name": "python3"
  },
  "language_info": {
   "codemirror_mode": {
    "name": "ipython",
    "version": 3
   },
   "file_extension": ".py",
   "mimetype": "text/x-python",
   "name": "python",
   "nbconvert_exporter": "python",
   "pygments_lexer": "ipython3",
   "version": "3.10.7"
  },
  "vscode": {
   "interpreter": {
    "hash": "2b65794920baf2ed48b5c4d08ad291c323e29767f57003aefe0301e1d8fb86c5"
   }
  }
 },
 "nbformat": 4,
 "nbformat_minor": 1
}
