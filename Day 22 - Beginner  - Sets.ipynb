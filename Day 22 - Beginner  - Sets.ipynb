{
 "cells": [
  {
   "cell_type": "markdown",
   "metadata": {},
   "source": [
    "'''Sets in Python'''\n",
    "\n",
    "A Set in Python programming is an unordered collection data type that is iterable, \n",
    "mutable and has no duplicate elements. \n",
    "\n",
    "(IT HAS NO DUPLICATE ELEMENTS)\n",
    "\n",
    "Set are represented by { } (values enclosed in curly braces)\n",
    "\n",
    "1) The major advantage of using a set, as opposed to a list, \n",
    "is that it has a highly optimized method for checking whether a \n",
    "specific element is contained in the set. \n",
    "2) This is based on a data structure known as a hash table. \n",
    "Since sets are unordered, we cannot access items using indexes as we do in lists.\n",
    "\n",
    "https://www.geeksforgeeks.org/sets-in-python/"
   ]
  },
  {
   "cell_type": "code",
   "execution_count": 1,
   "metadata": {},
   "outputs": [
    {
     "data": {
      "text/plain": [
       "set"
      ]
     },
     "execution_count": 1,
     "metadata": {},
     "output_type": "execute_result"
    }
   ],
   "source": [
    "var = {'flower', 'elephant', 'apple', 'guitar', 'dog', 'igloo', 'carrot', 'jacket'}\n",
    "type(var)"
   ]
  },
  {
   "cell_type": "code",
   "execution_count": 3,
   "metadata": {},
   "outputs": [
    {
     "data": {
      "text/plain": [
       "set"
      ]
     },
     "execution_count": 3,
     "metadata": {},
     "output_type": "execute_result"
    }
   ],
   "source": [
    "#           0       1          2        3       4         5         6           7      8         9\n",
    "sets = {'Sun', 'Mercury', 'Venus', 'Earth', 'Mars', 'Jupiter', 'Saturn', 'Uranus', 'Neptune', 'Pluto'}\n",
    "#         -10      -9       -8        -7      -6        -5        -4         -3        -2       -1 \n",
    "\n",
    "type(sets)"
   ]
  },
  {
   "cell_type": "markdown",
   "metadata": {},
   "source": [
    "Suppose you are working in an edtech company. The ed -tech company is offering a course on Calculus (C) and :inear Algebra(L), amond many other.\n",
    "Now you want to represent the student in the course. Which data structure to USE ?\n",
    "\n",
    "Assume all names are unique for the student taking part in the edtech comapany."
   ]
  },
  {
   "cell_type": "code",
   "execution_count": 6,
   "metadata": {},
   "outputs": [
    {
     "data": {
      "text/plain": [
       "10"
      ]
     },
     "execution_count": 6,
     "metadata": {},
     "output_type": "execute_result"
    }
   ],
   "source": [
    "admission = ['Aanand', 'Satish, Umakant', 'Lokesh', 'Manoj', 'Riddhi', 'Aabha', 'Aanand', 'Rachel', 'Aashish', 'Prianka']\n",
    "len(admission)"
   ]
  },
  {
   "cell_type": "code",
   "execution_count": 7,
   "metadata": {},
   "outputs": [
    {
     "name": "stdout",
     "output_type": "stream",
     "text": [
      "{'Rachel', 'Lokesh', 'Riddhi', 'Manoj', 'Aashish', 'Aanand', 'Aabha', 'Satish, Umakant', 'Prianka'}\n"
     ]
    }
   ],
   "source": [
    "admission = {'Aanand', 'Satish, Umakant', 'Lokesh', 'Manoj', 'Riddhi', 'Aabha', 'Aanand', 'Rachel', 'Aashish', 'Prianka'}\n",
    "print(admission)\n",
    "# Set is unordered collection of data "
   ]
  },
  {
   "cell_type": "code",
   "execution_count": 9,
   "metadata": {},
   "outputs": [
    {
     "name": "stdout",
     "output_type": "stream",
     "text": [
      "3\n"
     ]
    }
   ],
   "source": [
    "l = (1, 1, 2, 2, 3, 3) # duplicates wont be counted, so the answe will be 3\n",
    "s = set(l)\n",
    "print(len(s))"
   ]
  },
  {
   "cell_type": "code",
   "execution_count": 10,
   "metadata": {},
   "outputs": [
    {
     "name": "stdout",
     "output_type": "stream",
     "text": [
      "{'b', 'c', 'a'}\n",
      "{'d', 'b', 'c', 'a'}\n"
     ]
    }
   ],
   "source": [
    "'''Type Casting with Python Set method\n",
    "The Python set() method is used for type casting.\n",
    "\n",
    "# Python set is an unordered datatype, \n",
    "\n",
    "which means we cannot know in which order the elements of the set are stored.\n",
    "'''\n",
    "\n",
    "# typecasting list to set\n",
    "myset = set([\"a\", \"b\", \"c\"])\n",
    "print(myset)\n",
    " \n",
    "# Adding element to the set\n",
    "myset.add(\"d\")\n",
    "print(myset)"
   ]
  },
  {
   "cell_type": "code",
   "execution_count": 2,
   "metadata": {},
   "outputs": [
    {
     "name": "stdout",
     "output_type": "stream",
     "text": [
      "{True, 52.7, 'Geeks', 10, 'for'}\n"
     ]
    }
   ],
   "source": [
    "'''Heterogeneous Element with Python Set\n",
    "\n",
    "Python sets can store heterogeneous elements in it, \n",
    "i.e., a set can store a mixture of string, integer, boolean, etc datatypes.\n",
    "'''\n",
    "\n",
    "# Python example demonstrate that a set\n",
    "# can store heterogeneous elements\n",
    "myset = {\"Geeks\", \"for\", 10, 52.7, True}\n",
    "print(myset)"
   ]
  },
  {
   "cell_type": "code",
   "execution_count": 16,
   "metadata": {},
   "outputs": [
    {
     "data": {
      "text/plain": [
       "{' ', 'd', 'e', 'h', 'l', 'o', 'r', 'w'}"
      ]
     },
     "execution_count": 16,
     "metadata": {},
     "output_type": "execute_result"
    }
   ],
   "source": [
    "set('hello world')\n",
    "# this will remove duplicates \n",
    "# output = {' ', 'd', 'e', 'h', 'l', 'o', 'r', 'w'}"
   ]
  },
  {
   "cell_type": "code",
   "execution_count": 21,
   "metadata": {},
   "outputs": [
    {
     "data": {
      "text/plain": [
       "True"
      ]
     },
     "execution_count": 21,
     "metadata": {},
     "output_type": "execute_result"
    }
   ],
   "source": [
    "# in operater\n",
    "\n",
    "admission = {'Aanand', 'Satish, Umakant', 'Lokesh', 'Manoj', 'Riddhi', 'Aabha', 'Aanand', 'Rachel', 'Aashish', 'Priyanka'}\n",
    "'Aanand' in admission\n",
    "'Priyanka' in admission"
   ]
  },
  {
   "cell_type": "code",
   "execution_count": 26,
   "metadata": {},
   "outputs": [
    {
     "name": "stdout",
     "output_type": "stream",
     "text": [
      "{'enough', 'what', 'life', 'just', 'get', 'they', 'You', 'want', 'help', 'everything', 'other', 'will', 'if', 'in', 'can', 'people', 'you'}\n"
     ]
    }
   ],
   "source": [
    "'''To take user input in a set, you can use the input() function to prompt the user to enter a comma-separated list of values.\n",
    " You can then split the input by commas and convert the resulting list of strings to a set using the set() function. \n",
    "Here's an example:\n",
    "\n",
    "\n",
    "In this example, the input() function prompts the user to enter values separated by spaces. \n",
    "The split() method is used to convert the input string into a list of individual values, \n",
    "using the default separator of spaces. \n",
    "Finally, the set() function is used to create a set from the list, and the resulting set is printed to the console.\n",
    "\n",
    "Note that sets do not preserve the order of the original input, and duplicate values are automatically removed.\n",
    "\n",
    "'''\n",
    "\n",
    "user_input = input(\"Enter values separated by spaces: \")\n",
    "user_list = user_input.split() # Split input by spaces to create a list\n",
    "user_set = set(user_list) # Convert the list to a set\n",
    "print(user_set)"
   ]
  },
  {
   "cell_type": "code",
   "execution_count": 27,
   "metadata": {},
   "outputs": [
    {
     "data": {
      "text/plain": [
       "True"
      ]
     },
     "execution_count": 27,
     "metadata": {},
     "output_type": "execute_result"
    }
   ],
   "source": [
    "set = {'enough', 'what', 'life', 'just', 'get', 'they', 'You', 'want', 'help', 'everything', 'other', 'will', 'if', 'in', 'can', 'people', 'you'}\n",
    "'what' in set"
   ]
  },
  {
   "cell_type": "code",
   "execution_count": 29,
   "metadata": {},
   "outputs": [
    {
     "ename": "TypeError",
     "evalue": "'set' object does not support item assignment",
     "output_type": "error",
     "traceback": [
      "\u001b[1;31m---------------------------------------------------------------------------\u001b[0m",
      "\u001b[1;31mTypeError\u001b[0m                                 Traceback (most recent call last)",
      "Cell \u001b[1;32mIn[29], line 3\u001b[0m\n\u001b[0;32m      1\u001b[0m \u001b[39m'''Iteration and Indexing for SET in python'''\u001b[39;00m\n\u001b[0;32m      2\u001b[0m s \u001b[39m=\u001b[39m {\u001b[39m1\u001b[39m, \u001b[39m2\u001b[39m, \u001b[39m5\u001b[39m, \u001b[39m7\u001b[39m, \u001b[39m4\u001b[39m, \u001b[39m8\u001b[39m, \u001b[39m0\u001b[39m, \u001b[39m4\u001b[39m, \u001b[39m5\u001b[39m, \u001b[39m7\u001b[39m, \u001b[39m1\u001b[39m, \u001b[39m2\u001b[39m, \u001b[39m7\u001b[39m, \u001b[39m5\u001b[39m, \u001b[39m3\u001b[39m}\n\u001b[1;32m----> 3\u001b[0m s[\u001b[39m2\u001b[39;49m] \u001b[39m=\u001b[39m\u001b[39m33\u001b[39m\n\u001b[0;32m      5\u001b[0m \u001b[39m# 'set' object is not subscriptable\u001b[39;00m\n",
      "\u001b[1;31mTypeError\u001b[0m: 'set' object does not support item assignment"
     ]
    }
   ],
   "source": [
    "'''Iteration and Indexing for SET in python'''\n",
    "s = {1, 2, 5, 7, 4, 8, 0, 4, 5, 7, 1, 2, 7, 5, 3}\n",
    "s[2] =33\n",
    "# 'set' does not support item assignment\n",
    "# 'set' object is not subscriptable"
   ]
  },
  {
   "cell_type": "code",
   "execution_count": 38,
   "metadata": {},
   "outputs": [
    {
     "name": "stdout",
     "output_type": "stream",
     "text": [
      "enough life get they You want help what just "
     ]
    }
   ],
   "source": [
    "'''Method #1: Iterating over a set using simple for loop.'''\n",
    "\n",
    "# \n",
    "test_set = {'enough', 'what', 'life', 'just', 'get', 'they', 'You', 'want', 'help'}\n",
    " \n",
    "# Iterating using for loop\n",
    "for val in test_set:\n",
    "    print(val, end =' ')"
   ]
  },
  {
   "cell_type": "code",
   "execution_count": 41,
   "metadata": {},
   "outputs": [
    {
     "name": "stdout",
     "output_type": "stream",
     "text": [
      "Rachel Umakant Lokesh Riddhi Manoj Aashish Aanand Satish Aabha Priyanka "
     ]
    }
   ],
   "source": [
    "set = {'Aanand', 'Satish', 'Umakant', 'Lokesh', 'Manoj', 'Riddhi', 'Aabha', 'Aanand', 'Rachel', 'Aashish', 'Priyanka'}\n",
    "\n",
    "for val in set:\n",
    "    print(val, end =' ')"
   ]
  },
  {
   "cell_type": "code",
   "execution_count": 1,
   "metadata": {},
   "outputs": [
    {
     "name": "stdout",
     "output_type": "stream",
     "text": [
      "Number of unique words: 8\n"
     ]
    }
   ],
   "source": [
    "# Count of unique words present in the sentence.\n",
    "\n",
    "'''This program first initializes a string variable sentence with the value \"the quick brown fox jumps over the lazy dog\". \n",
    "Then it splits the sentence into individual words using the split() function, and assigns the resulting list to a new variable called words.\n",
    "\n",
    "Next, the program converts the list of words into a set of unique words using the set() function, \n",
    "and assigns the resulting set to a new variable called unique_words.\n",
    "\n",
    "Finally, the program prints the count of unique words using the len() function and the print() function.\n",
    "\n",
    "Note that this program considers two words to be unique if they have different spellings or different capitalization, \n",
    "even if they have the same meaning (for example, \"The\" and \"the\" are considered different words).\n",
    " \n",
    "If you want to count only words with the exact same spelling and capitalization as unique, \n",
    "you can convert all the words to lowercase using the lower() method before creating the set of unique words.'''\n",
    "\n",
    "\n",
    "\n",
    "sentence = \"the quick brown fox jumps over the lazy dog\"    # the sentence to be processed\n",
    "words = sentence.split()    # split the sentence into individual words\n",
    "unique_words = set(words)   # convert the list of words into a set of unique words\n",
    "\n",
    "print(\"Number of unique words:\", len(unique_words))    # display the count of unique words"
   ]
  },
  {
   "cell_type": "code",
   "execution_count": 5,
   "metadata": {},
   "outputs": [
    {
     "name": "stdout",
     "output_type": "stream",
     "text": [
      "['Be', 'the', 'change', 'you', 'wish', 'to', 'see', 'in', 'the', 'world.']\n",
      "9\n"
     ]
    }
   ],
   "source": [
    "msg =\"Be the change you wish to see in the world.\"\n",
    "word = msg.split()\n",
    "print(word)\n",
    "unique_words = set(word)\n",
    "print(len(unique_words))\n"
   ]
  },
  {
   "cell_type": "code",
   "execution_count": 6,
   "metadata": {},
   "outputs": [
    {
     "name": "stdout",
     "output_type": "stream",
     "text": [
      "9\n"
     ]
    }
   ],
   "source": [
    "msg =\"Be the change you wish to see in the world.\"\n",
    "word = msg.split()\n",
    "print(len(set(word)))"
   ]
  },
  {
   "cell_type": "code",
   "execution_count": null,
   "metadata": {},
   "outputs": [],
   "source": [
    "# Quizz\n",
    "[1, 2, 2, 3, 4, 4, 6, 6, 7, 7, 8, 9, 19, 3, 31, 5,]"
   ]
  },
  {
   "cell_type": "code",
   "execution_count": 7,
   "metadata": {},
   "outputs": [
    {
     "name": "stdout",
     "output_type": "stream",
     "text": [
      "{'Aashish', 'Aanand', 'Manoj', 'Priyanka', 'Satish', 'Aabha', 'Lokesh', 'Riddhi', 'Umakant', 'Rachel'}\n"
     ]
    },
    {
     "ename": "TypeError",
     "evalue": "'set' object does not support item assignment",
     "output_type": "error",
     "traceback": [
      "\u001b[1;31m---------------------------------------------------------------------------\u001b[0m",
      "\u001b[1;31mTypeError\u001b[0m                                 Traceback (most recent call last)",
      "Cell \u001b[1;32mIn[7], line 13\u001b[0m\n\u001b[0;32m     10\u001b[0m \u001b[39mprint\u001b[39m(myset)\n\u001b[0;32m     12\u001b[0m \u001b[39m# values of a set cannot be changed\u001b[39;00m\n\u001b[1;32m---> 13\u001b[0m myset[\u001b[39m1\u001b[39;49m] \u001b[39m=\u001b[39m \u001b[39m\"\u001b[39m\u001b[39mHello\u001b[39m\u001b[39m\"\u001b[39m\n\u001b[0;32m     14\u001b[0m \u001b[39mprint\u001b[39m(myset)\n",
      "\u001b[1;31mTypeError\u001b[0m: 'set' object does not support item assignment"
     ]
    }
   ],
   "source": [
    "# Mutability\n",
    "\n",
    "'''Check unique and  Immutable with Python Set\n",
    "Python sets cannot have a duplicate value and once it is created we cannot change its value.'''\n",
    "\n",
    "# Python program to demonstrate that\n",
    "# a set cannot have duplicate values\n",
    "# and we cannot change its items\n",
    " \n",
    "# a set cannot have duplicate values\n",
    "myset = {'Aanand', 'Satish', 'Umakant', 'Lokesh', 'Manoj', 'Riddhi', 'Aabha', 'Aanand', 'Rachel', 'Aashish', 'Priyanka'}\n",
    "print(myset)\n",
    " \n",
    "# values of a set cannot be changed\n",
    "myset[1] = \"Hello\"\n",
    "print(myset)"
   ]
  },
  {
   "attachments": {},
   "cell_type": "markdown",
   "metadata": {},
   "source": [
    "The first code explains that the set cannot have a duplicate value. Every item in it is a unique value. \n",
    "\n",
    "The second code generates an error because we cannot assign or change a value once the set is created. \n",
    "We can only add or delete items in the set.\n",
    "\n",
    "{'Geeks', 'for'}\n",
    "TypeError: 'set' object does not support item assignment"
   ]
  },
  {
   "cell_type": "code",
   "execution_count": 16,
   "metadata": {},
   "outputs": [
    {
     "name": "stdout",
     "output_type": "stream",
     "text": [
      "People: {'Archi', 'Idrish', 'Jay'}\n",
      "\n",
      "Set after adding element: {1, 'Daxit', 2, 'Idrish', 3, 4, 5, 'Jay', 'Archi'}\n"
     ]
    }
   ],
   "source": [
    "'''Adding elements to Python Sets\n",
    "Insertion in the set is done through the set.add() function, \n",
    "where an appropriate record value is created to store in the hash table. \n",
    "Same as checking for an item, i.e., O(1) on average. \n",
    "However, in worst case it can become O(n).'''\n",
    "\n",
    "# A Python program to\n",
    "# demonstrate adding elements\n",
    "# in a set\n",
    "\n",
    "# Creating a Set\n",
    "people = {\"Jay\", \"Idrish\", \"Archi\"}\n",
    "\n",
    "print(\"People:\", end = \" \")\n",
    "print(people)\n",
    "\n",
    "# This will add Daxit\n",
    "# in the set\n",
    "people.add(\"Daxit\")\n",
    "\n",
    "# Adding elements to the\n",
    "# set using iterator\n",
    "for i in range(1, 6):\n",
    "\tpeople.add(i)\n",
    "\n",
    "print(\"\\nSet after adding element:\", end = \" \")\n",
    "print(people)\n"
   ]
  },
  {
   "cell_type": "code",
   "execution_count": 13,
   "metadata": {},
   "outputs": [
    {
     "name": "stdout",
     "output_type": "stream",
     "text": [
      "{'GroomingKit ', 'blacket', 'charger', 'phone', 'laptop', 'soap', 'toothpaste', 'perfume', 'shirts', 'bags'}\n"
     ]
    }
   ],
   "source": [
    "'''set.add() takes exactly one argument (2 given)\n",
    "\n",
    "we can add elements to sets but not able to change any element.\n",
    "'''\n",
    "\n",
    "tour = {'blacket', 'toothpaste', 'soap','charger', 'laptop', 'shirts', 'bags', 'charger', 'phone'}\n",
    "tour.add(\"perfume\")\n",
    "print(tour)"
   ]
  },
  {
   "cell_type": "code",
   "execution_count": 15,
   "metadata": {},
   "outputs": [
    {
     "name": "stdout",
     "output_type": "stream",
     "text": [
      "{'blacket', 'charger', 'phone', 'laptop', 'soap', 'toothpaste', 'perfume', 'GroomingKit', 'shirts', 'bags'}\n"
     ]
    }
   ],
   "source": [
    "tour = {'blacket', 'toothpaste', 'soap','charger', 'laptop', 'shirts', 'bags', 'charger', 'phone'}\n",
    "tour.add(\"perfume\")\n",
    "tour.add(\"GroomingKit\")\n",
    "print(tour)"
   ]
  },
  {
   "cell_type": "code",
   "execution_count": 23,
   "metadata": {},
   "outputs": [
    {
     "name": "stdout",
     "output_type": "stream",
     "text": [
      "{'sanitizer', 'blades', 'blacket', 'charger', 'shaving gel', 'phone', 'laptop', 'soap', 'toothpaste', 'shirts', 'bags', 'shower gel'}\n"
     ]
    }
   ],
   "source": [
    "tour = {'blacket', 'toothpaste', 'soap','charger', 'laptop', 'shirts', 'bags', 'charger', 'phone'}\n",
    "grooming_kit = {'shower gel', 'sanitizer', 'shaving gel', 'blades'}\n",
    "tour.update(grooming_kit)\n",
    "print(tour)"
   ]
  },
  {
   "cell_type": "code",
   "execution_count": 25,
   "metadata": {},
   "outputs": [
    {
     "name": "stdout",
     "output_type": "stream",
     "text": [
      "{'charger', 'phone', 'laptop', 'soap', 'toothpaste', 'shirts', 'bags'}\n"
     ]
    }
   ],
   "source": [
    "# Deleting an element (random elemnt will be deleted)\n",
    "tour = {'blacket', 'toothpaste', 'soap','charger', 'laptop', 'shirts', 'bags', 'charger', 'phone'}\n",
    "tour.pop()\n",
    "print(tour)"
   ]
  },
  {
   "cell_type": "code",
   "execution_count": 26,
   "metadata": {},
   "outputs": [
    {
     "name": "stdout",
     "output_type": "stream",
     "text": [
      "{'blacket', 'charger', 'phone', 'laptop', 'toothpaste', 'shirts', 'bags'}\n"
     ]
    }
   ],
   "source": [
    "# Deleting an element (specific element will be deleted)\n",
    "tour = {'blacket', 'toothpaste', 'soap','charger', 'laptop', 'shirts', 'bags', 'charger', 'phone'}\n",
    "tour.remove('soap')\n",
    "print(tour)"
   ]
  },
  {
   "cell_type": "code",
   "execution_count": 27,
   "metadata": {},
   "outputs": [
    {
     "name": "stdout",
     "output_type": "stream",
     "text": [
      "{'blacket', 'charger', 'phone', 'laptop', 'toothpaste', 'shirts', 'bags'}\n"
     ]
    }
   ],
   "source": [
    "tour = {'blacket', 'toothpaste', 'soap','charger', 'laptop', 'shirts', 'bags', 'charger', 'phone'}\n",
    "tour.discard('soap')\n",
    "print(tour)"
   ]
  },
  {
   "cell_type": "code",
   "execution_count": 9,
   "metadata": {},
   "outputs": [
    {
     "name": "stdout",
     "output_type": "stream",
     "text": [
      "Terrestial object {'Earth', 'Sun', 'Super Nova', 'Mars', 'Interstellar', 'Jupiter'}\n",
      "{'Earth', 'Pluto', 'Sun', 'Super Nova', 'Mars', 'Interstellar', 'Jupiter'}\n",
      "\n",
      "Set after adding element: {1, 2, 3, 4, 5, 'Super Nova', 'Interstellar', 'Pluto', 'Mars', 'Jupiter', 'Earth', 'Sun'}\n"
     ]
    }
   ],
   "source": [
    "'''\n",
    "Methods for Sets\n",
    "Adding elements to Python Sets\n",
    "\n",
    "Insertion in the set is done through the set.add() function, \n",
    "where an appropriate record value is created to store in the hash table. \n",
    "Same as checking for an item, i.e., O(1) on average. \n",
    "However, in worst case it can become O(n).\n",
    "\n",
    "'''\n",
    "\n",
    "\n",
    "# A Python program to\n",
    "# demonstrate adding elements\n",
    "# in a set\n",
    "\n",
    "# Creating a Set\n",
    "terrestial_object = {\"Jupiter\", \"Mars\", \"Earth\", \"Sun\", \"Super Nova\", \"Interstellar\"}\n",
    "\n",
    "print(\"Terrestial object\", end = \" \")\n",
    "print(terrestial_object)\n",
    "\n",
    "terrestial_object.add(\"Pluto\")\n",
    "\n",
    "print(terrestial_object)\n",
    "\n",
    "# Adding elements to the\n",
    "# set using iterator\n",
    "\n",
    "for i in range(1, 6):\n",
    "    terrestial_object.add(i)\n",
    "\n",
    "print(\"\\nSet after adding element:\", end = \" \")\n",
    "print(terrestial_object)"
   ]
  },
  {
   "cell_type": "code",
   "execution_count": 17,
   "metadata": {},
   "outputs": [
    {
     "name": "stdout",
     "output_type": "stream",
     "text": [
      "Union using union() function\n",
      "{'Idrish', 'Jay', 'Karan', 'Archil', 'Arjun'}\n",
      "\n",
      "Union using '|' operator\n",
      "{'Deepanshu', 'Idrish', 'Jay', 'Raju', 'Archil'}\n"
     ]
    }
   ],
   "source": [
    "'''Union operation on Python Sets\n",
    "Two sets can be merged using union() function or | operator.\n",
    "Both Hash Table values are accessed and traversed with merge operation perform on them to combine the elements,\n",
    " at the same time duplicates are removed.\n",
    "The Time Complexity of this is O(len(s1) + len(s2)) where s1 and s2 are two sets whose union needs to be done.'''\n",
    "\n",
    "# Python Program to\n",
    "# demonstrate union of\n",
    "# two sets\n",
    " \n",
    "people = {\"Jay\", \"Idrish\", \"Archil\"}\n",
    "vampires = {\"Karan\", \"Arjun\"}\n",
    "dracula = {\"Deepanshu\", \"Raju\"}\n",
    " \n",
    "# Union using union()\n",
    "# function\n",
    "population = people.union(vampires)\n",
    " \n",
    "print(\"Union using union() function\")\n",
    "print(population)\n",
    " \n",
    "# Union using \"|\"\n",
    "# operator\n",
    "population = people|dracula\n",
    " \n",
    "print(\"\\nUnion using '|' operator\")\n",
    "print(population)"
   ]
  },
  {
   "cell_type": "code",
   "execution_count": 14,
   "metadata": {},
   "outputs": [
    {
     "name": "stdout",
     "output_type": "stream",
     "text": [
      "Intersection using .intersection() function\n",
      "{3, 4}\n",
      "\n",
      "Intersection using '&' operator\n",
      "{3, 4}\n"
     ]
    }
   ],
   "source": [
    "'''Intersection operation on Python Sets\n",
    "\n",
    "This can be done through intersection() or & operator.\n",
    "Common Elements are selected. They are similar to iteration over the Hash lists and combining the same values on both the Table. \n",
    "Time Complexity of this is O(min(len(s1), len(s2)) where s1 and s2 are two sets whose union needs to be done.\n",
    "\n",
    "'''\n",
    "\n",
    "# python program to demonstrate intersection of two programs \n",
    "\n",
    "set1 = set()\n",
    "set2 = set()\n",
    "\n",
    "# USing for loop, we will make some ranges \n",
    "\n",
    "for i in range(5):\n",
    "    set1.add(i)\n",
    "\n",
    "for i in range(3, 9):\n",
    "    set2.add(i)\n",
    "\n",
    "# intersection using \n",
    "# .intersection() function\n",
    "\n",
    "set3 = set1.intersection(set2)\n",
    "\n",
    "print(\"Intersection using .intersection() function\")\n",
    "print(set3)\n",
    "\n",
    "# Intersection using\n",
    "# \"&\" operator \n",
    "\n",
    "set3 = set1 & set2\n",
    "\n",
    "print(\"\\nIntersection using '&' operator\")\n",
    "print(set3)"
   ]
  },
  {
   "cell_type": "code",
   "execution_count": 18,
   "metadata": {},
   "outputs": [
    {
     "name": "stdout",
     "output_type": "stream",
     "text": [
      " Difference of two sets using difference() function\n",
      "{0, 1, 2}\n",
      "\n",
      "Difference of two sets using '-' operator\n",
      "{0, 1, 2}\n"
     ]
    }
   ],
   "source": [
    "'''Finding Differences of Sets in Python\n",
    "\n",
    "To find differences between sets. \n",
    "Similar to finding differences in the linked list.\n",
    "This is done through difference() or  operator. \n",
    "Time complexity of finding difference s1  s2 is O(len(s1)) \n",
    "\n",
    "'''\n",
    "# USing for loop, we will make some ranges \n",
    "set1 = set()\n",
    "set2 = set()\n",
    "\n",
    "for i in range(5):\n",
    "    set1.add(i)\n",
    "\n",
    "for i in range(3, 9):\n",
    "    set2.add(i)\n",
    "\n",
    "# Difference of two sets\n",
    "# using difference() function\n",
    "set3 = set1.difference(set2)\n",
    "\n",
    "print(\" Difference of two sets using difference() function\")\n",
    "print(set3)\n",
    "\n",
    "# Difference of two sets\n",
    "# using '-' operator\n",
    "set3 = set1 - set2\n",
    "\n",
    "print(\"\\nDifference of two sets using '-' operator\")\n",
    "print(set3)"
   ]
  },
  {
   "cell_type": "code",
   "execution_count": 18,
   "metadata": {},
   "outputs": [
    {
     "name": "stdout",
     "output_type": "stream",
     "text": [
      "Union using union() function\n",
      "{'oil', 'cookies', 'shower gel', 'soap', 'lentis', 'loation', 'cream', 'talcum powder', 'spices', 'cake'}\n"
     ]
    }
   ],
   "source": [
    "# Grosary \n",
    "food = {'cookies', 'oil', 'lentis', 'spices', 'cake'}\n",
    "personal_care = {'soap', 'loation', 'talcum powder', 'cream', 'shower gel'}\n",
    "\n",
    "print('Union using union() function')\n",
    "shoping_list = food.union(personal_care)\n",
    "\n",
    "print(shoping_list)\n"
   ]
  },
  {
   "cell_type": "code",
   "execution_count": 20,
   "metadata": {},
   "outputs": [
    {
     "name": "stdout",
     "output_type": "stream",
     "text": [
      "{'oil', 'cookies', 'shower gel', 'soap', 'lentis', 'loation', 'cream', 'talcum powder', 'spices', 'cake'}\n"
     ]
    }
   ],
   "source": [
    "food = {'cookies', 'oil', 'lentis', 'spices', 'cake'}\n",
    "personal_care = {'soap', 'loation', 'talcum powder', 'cream', 'shower gel'}\n",
    "\n",
    "shoping_list = food|personal_care\n",
    "\n",
    "print(shoping_list)"
   ]
  },
  {
   "cell_type": "code",
   "execution_count": null,
   "metadata": {},
   "outputs": [],
   "source": [
    "'''https://www.tutorialspoint.com/python-set-operation'''\n"
   ]
  },
  {
   "cell_type": "code",
   "execution_count": 29,
   "metadata": {},
   "outputs": [
    {
     "name": "stdout",
     "output_type": "stream",
     "text": [
      "{'AA', 'VV', 'CC', 'BB'}\n"
     ]
    }
   ],
   "source": [
    "'''add(x) Method: It adds the item x to a set if it is non-preexisting.'''\n",
    "\n",
    "A = {\"AA\", \"BB\", \"CC\"}\n",
    "A.add(\"VV\")\n",
    "print(A)"
   ]
  },
  {
   "cell_type": "code",
   "execution_count": 1,
   "metadata": {},
   "outputs": [
    {
     "name": "stdout",
     "output_type": "stream",
     "text": [
      "{'NN', 'AA', 'MM', 'BB', 'CC'}\n"
     ]
    }
   ],
   "source": [
    "'''union(s) Method: It returns a union of two set.Using the operator ‘|’between 2 existing sets is the same as writing My_Set1.union(My_Set2)..'''\n",
    "\n",
    "\n",
    "A = {\"AA\", \"BB\", \"CC\"}\n",
    "B = {\"MM\", \"NN\"}\n",
    "Z = A.union(B)\n",
    "# OR\n",
    "Z = A|B\n",
    "print(Z)"
   ]
  },
  {
   "cell_type": "code",
   "execution_count": 36,
   "metadata": {},
   "outputs": [
    {
     "name": "stdout",
     "output_type": "stream",
     "text": [
      "{'CC', 'DD'}\n"
     ]
    }
   ],
   "source": [
    "'''intersect(s) Method: It returns an intersection of two givensets. The ‘&’ operator can be used in this operation.'''\n",
    "A = {\"AA\", \"BB\", \"CC\", \"DD\"}\n",
    "B = {\"DD\", \"CC\", \"EE\", \"FF\"}\n",
    "\n",
    "S = A.intersection(B) # common element in both sets\n",
    "print(S)"
   ]
  },
  {
   "cell_type": "code",
   "execution_count": 42,
   "metadata": {},
   "outputs": [
    {
     "name": "stdout",
     "output_type": "stream",
     "text": [
      "{'FF', 'EE'}\n"
     ]
    }
   ],
   "source": [
    "'''difference(s) Method: Returns a set containing all the elements \n",
    "which are existing in the first set but not present in the second set. \n",
    "We can use ‘-‘ operator here.'''\n",
    "\n",
    "A = {\"AA\", \"BB\", \"CC\", \"DD\"}\n",
    "B = {\"DD\", \"CC\", \"EE\", \"FF\"}\n",
    "\n",
    "W = A.difference(B)\n",
    "# OR\n",
    "W = B - A\n",
    "\n",
    "\n",
    "print(W)\n"
   ]
  },
  {
   "cell_type": "code",
   "execution_count": 43,
   "metadata": {},
   "outputs": [
    {
     "name": "stdout",
     "output_type": "stream",
     "text": [
      "set()\n"
     ]
    }
   ],
   "source": [
    "'''clear() Method: The whole existing set will become empty.'''\n",
    "B = {\"DD\", \"CC\", \"EE\", \"FF\"}\n",
    "B.clear()\n",
    "print(B)"
   ]
  },
  {
   "cell_type": "code",
   "execution_count": 46,
   "metadata": {},
   "outputs": [
    {
     "name": "stdout",
     "output_type": "stream",
     "text": [
      "Union : {0, 1, 2, 3, 4, 5, 6, 8}\n",
      "Intersection : {2, 4}\n",
      "Difference : {0, 8, 6}\n",
      "Symmetric difference : {0, 1, 3, 5, 6, 8}\n"
     ]
    }
   ],
   "source": [
    "'''\n",
    "| for union.\n",
    "& for intersection.\n",
    "- for difference\n",
    "^ for symmetric difference\n",
    "\n",
    "'''\n",
    "\n",
    "# Program to perform different set operations\n",
    "# as we do in mathematics\n",
    "\n",
    "# sets are define\n",
    "A = {0, 2, 4, 6, 8};\n",
    "B = {1, 2, 3, 4, 5};\n",
    "\n",
    "# union\n",
    "print(\"Union :\", A | B)\n",
    "\n",
    "# intersection\n",
    "print(\"Intersection :\", A & B)\n",
    "\n",
    "# difference\n",
    "print(\"Difference :\", A - B)\n",
    "\n",
    "# symmetric difference\n",
    "print(\"Symmetric difference :\", A ^ B)\n"
   ]
  },
  {
   "attachments": {},
   "cell_type": "markdown",
   "metadata": {},
   "source": [
    "Operators for Sets\n",
    "Sets and frozen sets support the following operators -\n",
    "\n",
    "key in s         # containment check\n",
    "key not in s   # non-containment check\n",
    "s1 == s2       # s1 is equivalent to s2\n",
    "s1 != s2       # s1 is not equivalent to s2\n",
    "s1 <= s2    # s1is subset of s2 s1 < s2     # s1 is proper subset of s2 s1 >= s2             # s1is superset of s2\n",
    "s1 > s2     # s1 is proper superset of s2\n",
    "s1 | s2        # the union of s1 and s2\n",
    "s1 & s2        # the intersection of s1 and s2\n",
    "s1 – s2        # the set of elements in s1 but not s2\n",
    "s1 ˆ s2        # the set of elements in precisely one of s1 or s2"
   ]
  },
  {
   "cell_type": "code",
   "execution_count": 33,
   "metadata": {},
   "outputs": [
    {
     "name": "stdout",
     "output_type": "stream",
     "text": [
      "My_Set1 =  {1, 2, 3, 4, 5}\n",
      "My_Set2 =  {3, 4, 5, 6, 7}\n",
      "\n",
      "\n",
      "Union of My_Set1&My_Set2: My_Set3 =  {1, 2, 3, 4, 5, 6, 7}\n",
      "Intersection of My_Set1&My_Set2: My_Set4 =  {3, 4, 5}\n",
      "\n",
      "\n",
      "My_Set3 is superset of My_Set4\n",
      "My_Set4 is subset of My_Set3\n",
      "\n",
      "\n",
      "Elements in My_Set3 and not in My_Set4: My_Set5 =  {1, 2, 6, 7}\n",
      "\n",
      "\n",
      "My_Set4 and My_Set5 have nothing in common\n",
      "\n",
      "After applying clear on sets My_Set5: \n",
      "My_Set5 =  set()\n",
      "My_Set1 =  {1, 2, 3, 4, 5}\n",
      "My_Set2 =  {3, 4, 5, 6, 7}\n",
      "\n",
      "\n",
      "Union of My_Set1&My_Set2: My_Set3 =  {1, 2, 3, 4, 5, 6, 7}\n",
      "Intersection of My_Set1&My_Set2: My_Set4 =  {3, 4, 5}\n",
      "\n",
      "\n",
      "My_Set3 is superset of My_Set4\n",
      "My_Set4 is subset of My_Set3\n",
      "\n",
      "\n",
      "Elements in My_Set3 and not in My_Set4: My_Set5 =  {1, 2, 6, 7}\n",
      "\n",
      "\n",
      "My_Set4 and My_Set5 have nothing in common\n",
      "\n",
      "After applying clear on sets My_Set5: \n",
      "My_Set5 =  set()\n"
     ]
    }
   ],
   "source": [
    "# Python program to demonstrate working# of \n",
    "# Set in Python \n",
    "# creating two sets \n",
    "My_Set1 = set()\n",
    "My_Set2 = set()\n",
    "# Adding elements to My_Set1\n",
    "for i in range(1, 6): \n",
    "   My_Set1.add(i) \n",
    "# Adding elements to My_Set2\n",
    "for i in range(3, 8): \n",
    "   My_Set2.add(i) \n",
    "print(\"My_Set1 = \", My_Set1) \n",
    "print(\"My_Set2 = \", My_Set2) \n",
    "print(\"\\n\") \n",
    "# Union of My_Set1 and My_Set2\n",
    "My_Set3 = My_Set1 | My_Set2# My_Set1.union(My_Set2) \n",
    "print(\"Union of My_Set1&My_Set2: My_Set3 = \", My_Set3) \n",
    "# Intersection of My_Set1 and My_Set2\n",
    "My_Set4 = My_Set1&My_Set2# My_Set1.intersection(My_Set2) \n",
    "print(\"Intersection of My_Set1&My_Set2: My_Set4 = \", My_Set4) \n",
    "print(\"\\n\") \n",
    "# Checking relation between My_Set3 and My_Set4\n",
    "if My_Set3>My_Set4: # My_Set3.issuperset(My_Set4) \n",
    "   print(\"My_Set3 is superset of My_Set4\") \n",
    "elif My_Set3<My_Set4: # My_Set3.issubset(My_Set4) \n",
    "   print(\"My_Set3 is subset of My_Set4\") \n",
    "else : # My_Set3 == My_Set4\n",
    "   print(\"My_Set3 is same as My_Set4\") \n",
    "# displaying relation between My_Set4 and My_Set3\n",
    "if My_Set4<My_Set3: # My_Set4.issubset(My_Set3) \n",
    "   print(\"My_Set4 is subset of My_Set3\") \n",
    "   print(\"\\n\") \n",
    "# difference between My_Set3 and My_Set4\n",
    "My_Set5 = My_Set3 - My_Set4\n",
    "print(\"Elements in My_Set3 and not in My_Set4: My_Set5 = \", My_Set5) \n",
    "print(\"\\n\") \n",
    "# check if My_Set4 and My_Set5 are disjoint sets \n",
    "if My_Set4.isdisjoint(My_Set5): \n",
    "   print(\"My_Set4 and My_Set5 have nothing in common\\n\") \n",
    "# Removing all the values of My_Set5\n",
    "My_Set5.clear()\n",
    "print(\"After applying clear on sets My_Set5: \") \n",
    "print(\"My_Set5 = \", My_Set5) # Python program to demonstrate working# of \n",
    "# Set in Python \n",
    "# creating two sets \n",
    "My_Set1 = set()\n",
    "My_Set2 = set()\n",
    "# Adding elements to My_Set1\n",
    "for i in range(1, 6): \n",
    "   My_Set1.add(i) \n",
    "# Adding elements to My_Set2\n",
    "for i in range(3, 8): \n",
    "   My_Set2.add(i) \n",
    "print(\"My_Set1 = \", My_Set1) \n",
    "print(\"My_Set2 = \", My_Set2) \n",
    "print(\"\\n\") \n",
    "# Union of My_Set1 and My_Set2\n",
    "My_Set3 = My_Set1 | My_Set2# My_Set1.union(My_Set2) \n",
    "print(\"Union of My_Set1&My_Set2: My_Set3 = \", My_Set3) \n",
    "# Intersection of My_Set1 and My_Set2\n",
    "My_Set4 = My_Set1&My_Set2# My_Set1.intersection(My_Set2) \n",
    "print(\"Intersection of My_Set1&My_Set2: My_Set4 = \", My_Set4) \n",
    "print(\"\\n\") \n",
    "# Checking relation between My_Set3 and My_Set4\n",
    "if My_Set3>My_Set4: # My_Set3.issuperset(My_Set4) \n",
    "   print(\"My_Set3 is superset of My_Set4\") \n",
    "elif My_Set3<My_Set4: # My_Set3.issubset(My_Set4) \n",
    "   print(\"My_Set3 is subset of My_Set4\") \n",
    "else : # My_Set3 == My_Set4\n",
    "   print(\"My_Set3 is same as My_Set4\") \n",
    "# displaying relation between My_Set4 and My_Set3\n",
    "if My_Set4<My_Set3: # My_Set4.issubset(My_Set3) \n",
    "   print(\"My_Set4 is subset of My_Set3\") \n",
    "   print(\"\\n\") \n",
    "# difference between My_Set3 and My_Set4\n",
    "My_Set5 = My_Set3 - My_Set4\n",
    "print(\"Elements in My_Set3 and not in My_Set4: My_Set5 = \", My_Set5) \n",
    "print(\"\\n\") \n",
    "# check if My_Set4 and My_Set5 are disjoint sets \n",
    "if My_Set4.isdisjoint(My_Set5): \n",
    "   print(\"My_Set4 and My_Set5 have nothing in common\\n\") \n",
    "# Removing all the values of My_Set5\n",
    "My_Set5.clear()\n",
    "print(\"After applying clear on sets My_Set5: \") \n",
    "print(\"My_Set5 = \", My_Set5) "
   ]
  }
 ],
 "metadata": {
  "kernelspec": {
   "display_name": "Python 3 (ipykernel)",
   "language": "python",
   "name": "python3"
  },
  "language_info": {
   "codemirror_mode": {
    "name": "ipython",
    "version": 3
   },
   "file_extension": ".py",
   "mimetype": "text/x-python",
   "name": "python",
   "nbconvert_exporter": "python",
   "pygments_lexer": "ipython3",
   "version": "3.11.2"
  }
 },
 "nbformat": 4,
 "nbformat_minor": 2
}
