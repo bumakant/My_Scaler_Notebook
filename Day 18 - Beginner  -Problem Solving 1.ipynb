{
 "cells": [
  {
   "cell_type": "markdown",
   "metadata": {
    "collapsed": true,
    "pycharm": {
     "name": "#%% md\n"
    }
   },
   "source": [
    " # Agenda\n",
    " * Taking a list as input\n",
    " * Mutability\n",
    " * More operation on list\n",
    " * Linear Search\n",
    " * Find Maximum and minimum"
   ]
  },
  {
   "cell_type": "markdown",
   "source": [
    "# Read the problem statement carefully  = this is how you get the logic to write a code"
   ],
   "metadata": {
    "collapsed": false,
    "pycharm": {
     "name": "#%% md\n"
    }
   }
  },
  {
   "cell_type": "code",
   "execution_count": 1,
   "outputs": [],
   "source": [
    "# Runs made by MSD in n matches\n",
    "runs = [56, 78, 100, 98, 56, 76, 90, 83, 68]\n",
    "\n",
    "# Take n as input from user\n"
   ],
   "metadata": {
    "collapsed": false,
    "pycharm": {
     "name": "#%%\n"
    }
   }
  },
  {
   "cell_type": "markdown",
   "source": [
    "You can create an empty list in Python using two ways.\n",
    "The first way is to use the empty square bracket notation [] which creates a new list object without any element in it.\n",
    "The second way is to use the list() initializer method without an argument which creates an empty list object too"
   ],
   "metadata": {
    "collapsed": false,
    "pycharm": {
     "name": "#%% md\n"
    }
   }
  },
  {
   "cell_type": "code",
   "execution_count": 2,
   "outputs": [
    {
     "name": "stdout",
     "output_type": "stream",
     "text": [
      "Your list: ['65', '45', '98', '89', '78', '32', '65', '78', '35', '65']\n"
     ]
    }
   ],
   "source": [
    "# how to create an empty list and take user input and fill the list in python using for loop\n",
    "\"\"\"In this example, the while loop runs indefinitely until the user enters the string 'done'.\n",
    "Within the loop, the input() function is used to prompt the user for input,\n",
    " and the append() method is used to add the input to the my_list list.\n",
    "  When the user enters 'done', the loop breaks, and the final list is printed to the console.\n",
    "\"\"\"\n",
    "my_list = []  # Create an empty list\n",
    "\n",
    "# Prompt the user for input a specified number of times\n",
    "num_items = int(input('Enter the number of items: '))\n",
    "for i in range(num_items):\n",
    "    user_input = input(f'Enter item {i+1}: ')\n",
    "    my_list.append(user_input)\n",
    "\n",
    "print('Your list:', my_list)"
   ],
   "metadata": {
    "collapsed": false,
    "pycharm": {
     "name": "#%%\n"
    }
   }
  },
  {
   "cell_type": "code",
   "execution_count": null,
   "outputs": [],
   "source": [
    "\"\"\"In this example, the range() function is used to generate a sequence of numbers from 0 to num_items - 1,\n",
    "which are used as indices to prompt the user for input.\n",
    "Within the loop, the input() function is used to prompt the user for input,\n",
    "and the append() method is used to add the input to the my_list list. Finally, the final list is printed to the console.\"\"\"\n",
    "\n",
    "my_list = []  # Create an empty list\n",
    "\n",
    "# Prompt the user for input until they enter 'done'\n",
    "while True:\n",
    "    user_input = input('Enter a value (or \"done\" to exit): ')\n",
    "    if user_input == 'done':\n",
    "        break\n",
    "    else:\n",
    "        my_list.append(user_input)\n",
    "\n",
    "print('Your list:', my_list)\n"
   ],
   "metadata": {
    "collapsed": false,
    "pycharm": {
     "name": "#%%\n"
    }
   }
  },
  {
   "cell_type": "markdown",
   "source": [
    "# 1 Take value of n as input from user\n",
    "# 2 Creat an empty list\n",
    "    empty_list = []\n",
    "# 3 for i  = 1 to n\n",
    "    1) x = input the element\n",
    "    2) add an elementy (x) to my list\n",
    "  print the list"
   ],
   "metadata": {
    "collapsed": false,
    "pycharm": {
     "name": "#%% md\n"
    }
   }
  },
  {
   "cell_type": "code",
   "execution_count": 1,
   "outputs": [
    {
     "name": "stdout",
     "output_type": "stream",
     "text": [
      "[98, 65, 45, 98, 32]\n"
     ]
    }
   ],
   "source": [
    "# List 1-D Problem Solving\n",
    "n  = int(input(\"Enter total number of Matches \"))\n",
    "lst= list()\n",
    "for i in range(n):\n",
    "    x = int(input(\"Enter a number\"))\n",
    "    lst.append(x)\n",
    "print(lst)"
   ],
   "metadata": {
    "collapsed": false,
    "pycharm": {
     "name": "#%%\n"
    }
   }
  },
  {
   "cell_type": "code",
   "execution_count": 4,
   "outputs": [
    {
     "name": "stdout",
     "output_type": "stream",
     "text": [
      "Your list: ['15 65 98 32 45']\n"
     ]
    }
   ],
   "source": [
    "\"\"\"To take all user input at once and fill the list using a for loop in Python,\n",
    " you can use the split() method to split the user input string into individual\n",
    " items and then loop over those items to add them to the list. Here's an example:\"\"\"\n",
    "\n",
    "\"\"\"In this example, the input() function is used to prompt the user for input,\n",
    "and the split() method is used to split the input string into a list of individual items, separated by commas.\n",
    "The strip() method is used to remove any whitespace around the items.\n",
    "Finally, a for loop is used to loop over the items and add them to the my_list list, and the final list is printed to the console.\"\"\"\n",
    "\n",
    "my_list = []  # Create an empty list\n",
    "\n",
    "# Prompt the user for input\n",
    "user_input = input('Enter items separated by commas: ')\n",
    "\n",
    "# Split the input string into individual items\n",
    "items = user_input.split(',')\n",
    "\n",
    "# Loop over the items and add them to the list\n",
    "for item in items:\n",
    "    my_list.append(item.strip())\n",
    "\n",
    "print('Your list:', my_list)"
   ],
   "metadata": {
    "collapsed": false,
    "pycharm": {
     "name": "#%%\n"
    }
   }
  },
  {
   "cell_type": "code",
   "execution_count": 9,
   "outputs": [
    {
     "name": "stdout",
     "output_type": "stream",
     "text": [
      "['1 2 3 6 5 4 7 8 9']\n"
     ]
    }
   ],
   "source": [
    "mylst = [] # creat an empty list\n",
    "\n",
    "usr_inpt = input()\n",
    "items = usr_inpt.split(\",\")\n",
    "\n",
    "for item in items:\n",
    "    mylst.append(item.strip())\n",
    "print(mylst)"
   ],
   "metadata": {
    "collapsed": false,
    "pycharm": {
     "name": "#%%\n"
    }
   }
  },
  {
   "cell_type": "code",
   "execution_count": 16,
   "outputs": [
    {
     "name": "stdout",
     "output_type": "stream",
     "text": [
      "[10, 20, 30, 40, 50, 60]\n"
     ]
    }
   ],
   "source": [
    "# Input Format  - 2\n",
    "n = int(input()) # taking user input\n",
    "lst = [] # creating list\n",
    "x = input() # taking number of list\n",
    "\n",
    "for i in x.split():\n",
    "    lst.append(int(i)) # adding elements to list\n",
    "print(lst) # print list"
   ],
   "metadata": {
    "collapsed": false,
    "pycharm": {
     "name": "#%%\n"
    }
   }
  },
  {
   "cell_type": "markdown",
   "source": [
    "In Python, mutability refers to the ability of an object to be changed after it is created, while immutability refers to the inability of an object to be changed after it is created.\n",
    "\n",
    "Mutable objects can have their values modified, added or removed without changing their identity.\n",
    "Immutable objects, on the other hand, cannot have their values changed once they are created.\n",
    " If you try to change an immutable object, a new object is created instead.\n",
    "\n",
    "Here are some examples of mutable and immutable objects in Python:"
   ],
   "metadata": {
    "collapsed": false,
    "pycharm": {
     "name": "#%% md\n"
    }
   }
  },
  {
   "cell_type": "markdown",
   "source": [
    "# Immutable Objects"
   ],
   "metadata": {
    "collapsed": false,
    "pycharm": {
     "name": "#%% md\n"
    }
   }
  },
  {
   "cell_type": "code",
   "execution_count": null,
   "outputs": [],
   "source": [
    "\"\"\"1. Strings\n",
    "Strings in Python are immutable. Once created, you cannot modify them. Any operation that appears to modify a string, such as concatenation or slicing, actually creates a new string.\"\"\"\n",
    "\n",
    "my_string = \"Hello, World!\"\n",
    "new_string = my_string.upper() # creates a new string\n",
    "print(my_string) # output: \"Hello, World!\"\n",
    "print(new_string) # output: \"HELLO, WORLD!\""
   ],
   "metadata": {
    "collapsed": false,
    "pycharm": {
     "name": "#%%\n"
    }
   }
  },
  {
   "cell_type": "code",
   "execution_count": null,
   "outputs": [],
   "source": [
    "\"\"\"2. Numbers\n",
    "Numbers in Python, such as integers, floats and complex numbers, are also immutable. Once created, you cannot modify their values.\"\"\"\n",
    "\n",
    "\n",
    "my_number = 42\n",
    "my_number += 1 # creates a new integer object\n",
    "print(my_number) # output: 43"
   ],
   "metadata": {
    "collapsed": false,
    "pycharm": {
     "name": "#%%\n"
    }
   }
  },
  {
   "cell_type": "code",
   "execution_count": null,
   "outputs": [],
   "source": [
    "\"\"\"3. Tuples\n",
    "Tuples are immutable sequences of values. Once created, you cannot modify their values or length.\"\"\"\n",
    "\n",
    "my_tuple = (1, 2, 3)\n",
    "new_tuple = my_tuple + (4,) # creates a new tuple\n",
    "print(my_tuple) # output: (1, 2, 3)\n",
    "print(new_tuple) # output: (1, 2, 3, 4)"
   ],
   "metadata": {
    "collapsed": false,
    "pycharm": {
     "name": "#%%\n"
    }
   }
  },
  {
   "cell_type": "markdown",
   "source": [
    "# Mutable Objects"
   ],
   "metadata": {
    "collapsed": false,
    "pycharm": {
     "name": "#%% md\n"
    }
   }
  },
  {
   "cell_type": "code",
   "execution_count": null,
   "outputs": [],
   "source": [
    "\"\"\"1. Lists\n",
    "Lists are mutable sequences of values. You can add, remove, or modify values in a list after it is created.\"\"\"\n",
    "\n",
    "my_list = [1, 2, 3]\n",
    "my_list.append(4) # modifies the original list\n",
    "print(my_list) # output: [1, 2, 3, 4]"
   ],
   "metadata": {
    "collapsed": false,
    "pycharm": {
     "name": "#%%\n"
    }
   }
  },
  {
   "cell_type": "code",
   "execution_count": null,
   "outputs": [],
   "source": [
    "\"\"\"2. Sets\n",
    "Sets are mutable collections of unique values. You can add or remove values from a set after it is created.\"\"\"\n",
    "\n",
    "my_set = {1, 2, 3}\n",
    "my_set.add(4) # modifies the original set\n",
    "print(my_set) # output: {1, 2, 3, 4}"
   ],
   "metadata": {
    "collapsed": false,
    "pycharm": {
     "name": "#%%\n"
    }
   }
  },
  {
   "cell_type": "code",
   "execution_count": null,
   "outputs": [],
   "source": [
    "\"\"\"3. Dictionaries\n",
    "Dictionaries are mutable collections of key-value pairs. You can add, remove or modify key-value pairs in a dictionary after it is created.\"\"\"\n",
    "\n",
    "my_dict = {\"a\": 1, \"b\": 2, \"c\": 3}\n",
    "my_dict[\"d\"] = 4 # modifies the original dictionary\n",
    "print(my_dict) # output: {\"a\": 1, \"b\": 2, \"c\": 3, \"d\": 4}"
   ],
   "metadata": {
    "collapsed": false,
    "pycharm": {
     "name": "#%%\n"
    }
   }
  },
  {
   "cell_type": "code",
   "execution_count": 17,
   "outputs": [
    {
     "name": "stdout",
     "output_type": "stream",
     "text": [
      "[2, 5, 10]\n"
     ]
    }
   ],
   "source": [
    "# Quizzes\n",
    "\n",
    "user_values = [2, 5, 9]\n",
    "user_values[2] = user_values[2]+1\n",
    "\n",
    "print(user_values)"
   ],
   "metadata": {
    "collapsed": false,
    "pycharm": {
     "name": "#%%\n"
    }
   }
  },
  {
   "cell_type": "code",
   "execution_count": 19,
   "outputs": [
    {
     "name": "stdout",
     "output_type": "stream",
     "text": [
      "[3, 6, 11]\n"
     ]
    }
   ],
   "source": [
    "user_values = [3, 5, 9]\n",
    "user_values[1] = user_values[1]+1\n",
    "user_values[2] = user_values[2]+2\n",
    "print(user_values)"
   ],
   "metadata": {
    "collapsed": false,
    "pycharm": {
     "name": "#%%\n"
    }
   }
  },
  {
   "cell_type": "code",
   "execution_count": 21,
   "outputs": [
    {
     "name": "stdout",
     "output_type": "stream",
     "text": [
      "[1, 1, 8]\n"
     ]
    }
   ],
   "source": [
    "user_values =[1, 6, 8]\n",
    "user_values[1] = user_values[0] # 6 will be replaced by 1\n",
    "\n",
    "print(user_values)"
   ],
   "metadata": {
    "collapsed": false,
    "pycharm": {
     "name": "#%%\n"
    }
   }
  },
  {
   "cell_type": "code",
   "execution_count": 22,
   "outputs": [
    {
     "name": "stdout",
     "output_type": "stream",
     "text": [
      "[3, 7, 3]\n"
     ]
    }
   ],
   "source": [
    "user_values = [3, 6, 7]\n",
    "user_values[1] = user_values[2] # 6 will be replaced by 7\n",
    "user_values[2] = user_values[0] # 7 will be replaced by 3\n",
    "\n",
    "print(user_values)"
   ],
   "metadata": {
    "collapsed": false,
    "pycharm": {
     "name": "#%%\n"
    }
   }
  },
  {
   "cell_type": "markdown",
   "source": [
    "# In Python, lists are a fundamental data structure that allows you to store a collection of items, such as numbers, strings, or other objects.\n",
    "# Lists are mutable, which means you can add, remove, or modify elements after the list is created.\n",
    "\n",
    "Here are some common operations you can perform on lists in Python:"
   ],
   "metadata": {
    "collapsed": false,
    "pycharm": {
     "name": "#%% md\n"
    }
   }
  },
  {
   "cell_type": "code",
   "execution_count": 30,
   "outputs": [],
   "source": [
    "\"\"\"Creating a list: You can create a list by enclosing a sequence of values in square brackets, separated by commas. For example:\"\"\"\n",
    "\n",
    "my_list = [1, 2, 3, 4, 5]"
   ],
   "metadata": {
    "collapsed": false,
    "pycharm": {
     "name": "#%%\n"
    }
   }
  },
  {
   "cell_type": "code",
   "execution_count": 31,
   "outputs": [
    {
     "name": "stdout",
     "output_type": "stream",
     "text": [
      "1\n",
      "3\n"
     ]
    }
   ],
   "source": [
    "\"\"\"Accessing elements: You can access individual elements in a list by their index, which starts from 0. For example:\"\"\"\n",
    "\n",
    "print(my_list[0])  # Output: 1\n",
    "print(my_list[2])  # Output: 3"
   ],
   "metadata": {
    "collapsed": false,
    "pycharm": {
     "name": "#%%\n"
    }
   }
  },
  {
   "cell_type": "code",
   "execution_count": 32,
   "outputs": [
    {
     "name": "stdout",
     "output_type": "stream",
     "text": [
      "[2, 3]\n"
     ]
    }
   ],
   "source": [
    "\"\"\"Slicing a list: You can extract a subset of elements from a list by using slicing notation. For example:\"\"\"\n",
    "\n",
    "print(my_list[1:3])  # Output: [2, 3]"
   ],
   "metadata": {
    "collapsed": false,
    "pycharm": {
     "name": "#%%\n"
    }
   }
  },
  {
   "cell_type": "code",
   "execution_count": 33,
   "outputs": [
    {
     "name": "stdout",
     "output_type": "stream",
     "text": [
      "[1, 2, 10, 4, 5]\n"
     ]
    }
   ],
   "source": [
    "\"\"\"Modifying elements: You can modify individual elements in a list by assigning a new value to their index. For example:\"\"\"\n",
    "\n",
    "my_list[2] = 10\n",
    "print(my_list)  # Output: [1, 2, 10, 4, 5]"
   ],
   "metadata": {
    "collapsed": false,
    "pycharm": {
     "name": "#%%\n"
    }
   }
  },
  {
   "cell_type": "code",
   "execution_count": 34,
   "outputs": [
    {
     "name": "stdout",
     "output_type": "stream",
     "text": [
      "[1, 2, 10, 4, 5, 6]\n",
      "[1, 2, 10, 4, 5, 6, 7, 8]\n"
     ]
    }
   ],
   "source": [
    "\"\"\"Adding elements: You can add elements to a list using the append() method or the + operator. For example:\"\"\"\n",
    "\n",
    "my_list.append(6)\n",
    "print(my_list)  # Output: [1, 2, 10, 4, 5, 6]\n",
    "\n",
    "my_list = my_list + [7, 8]\n",
    "print(my_list)  # Output: [1, 2, 10, 4, 5, 6, 7, 8]"
   ],
   "metadata": {
    "collapsed": false,
    "pycharm": {
     "name": "#%%\n"
    }
   }
  },
  {
   "cell_type": "code",
   "execution_count": 35,
   "outputs": [
    {
     "name": "stdout",
     "output_type": "stream",
     "text": [
      "[1, 2, 4, 5, 6, 7, 8]\n",
      "[2, 4, 5, 6, 7, 8]\n"
     ]
    }
   ],
   "source": [
    "\"\"\"Removing elements: You can remove elements from a list using the remove() method or the del statement. For example:\"\"\"\n",
    "\n",
    "my_list.remove(10)\n",
    "print(my_list)  # Output: [1, 2, 4, 5, 6, 7, 8]\n",
    "\n",
    "del my_list[0]\n",
    "print(my_list)  # Output: [2, 4, 5, 6, 7, 8]"
   ],
   "metadata": {
    "collapsed": false,
    "pycharm": {
     "name": "#%%\n"
    }
   }
  },
  {
   "cell_type": "code",
   "execution_count": 36,
   "outputs": [
    {
     "name": "stdout",
     "output_type": "stream",
     "text": [
      "True\n",
      "2\n"
     ]
    }
   ],
   "source": [
    "\"\"\"Finding elements: You can check if an element exists in a list using the in operator or the index() method. For example:\"\"\"\n",
    "\n",
    "print(5 in my_list)  # Output: True\n",
    "print(my_list.index(5))  # Output: 2"
   ],
   "metadata": {
    "collapsed": false,
    "pycharm": {
     "name": "#%%\n"
    }
   }
  },
  {
   "cell_type": "markdown",
   "source": [
    "These are just a few examples of the operations you can perform on lists in Python.\n",
    " There are many other methods and functions available for working with lists, so be sure to check the Python documentation for more"
   ],
   "metadata": {
    "collapsed": false,
    "pycharm": {
     "name": "#%% md\n"
    }
   }
  },
  {
   "cell_type": "markdown",
   "source": [
    "# In Python, you can swap the positions of two elements in a list using multiple ways:"
   ],
   "metadata": {
    "collapsed": false,
    "pycharm": {
     "name": "#%% md\n"
    }
   }
  },
  {
   "cell_type": "code",
   "execution_count": 37,
   "outputs": [
    {
     "name": "stdout",
     "output_type": "stream",
     "text": [
      "[1, 4, 3, 2, 5]\n"
     ]
    }
   ],
   "source": [
    "\"\"\"Using a temporary variable:\"\"\"\n",
    "\n",
    "my_list = [1, 2, 3, 4, 5]\n",
    "\n",
    "temp = my_list[1]\n",
    "my_list[1] = my_list[3]\n",
    "my_list[3] = temp\n",
    "\n",
    "print(my_list)  # Output: [1, 4, 3, 2, 5]"
   ],
   "metadata": {
    "collapsed": false,
    "pycharm": {
     "name": "#%%\n"
    }
   }
  },
  {
   "cell_type": "code",
   "execution_count": 38,
   "outputs": [
    {
     "name": "stdout",
     "output_type": "stream",
     "text": [
      "[1, 4, 3, 2, 5]\n"
     ]
    }
   ],
   "source": [
    "\"\"\"Using tuple packing and unpacking:\"\"\"\n",
    "# this method was taught in scaler\n",
    "my_list = [1, 2, 3, 4, 5]\n",
    "\n",
    "my_list[1], my_list[3] = my_list[3], my_list[1]\n",
    "\n",
    "print(my_list)  # Output: [1, 4, 3, 2, 5]"
   ],
   "metadata": {
    "collapsed": false,
    "pycharm": {
     "name": "#%%\n"
    }
   }
  },
  {
   "cell_type": "code",
   "execution_count": 39,
   "outputs": [
    {
     "name": "stdout",
     "output_type": "stream",
     "text": [
      "[1, 3, 4, 2, 5]\n"
     ]
    }
   ],
   "source": [
    "\"\"\"Using the list.pop() method:\"\"\"\n",
    "\n",
    "my_list = [1, 2, 3, 4, 5]\n",
    "\n",
    "temp = my_list.pop(1)\n",
    "my_list.insert(3, temp)\n",
    "\n",
    "print(my_list)  # Output: [1, 4, 3, 2, 5]"
   ],
   "metadata": {
    "collapsed": false,
    "pycharm": {
     "name": "#%%\n"
    }
   }
  },
  {
   "cell_type": "code",
   "execution_count": 40,
   "outputs": [
    {
     "name": "stdout",
     "output_type": "stream",
     "text": [
      "[1, 3, 4, 2, 5]\n"
     ]
    }
   ],
   "source": [
    "\"\"\"Using the list.remove() method and slicing:\"\"\"\n",
    "\n",
    "my_list = [1, 2, 3, 4, 5]\n",
    "\n",
    "temp = my_list[1]\n",
    "my_list.remove(temp)\n",
    "my_list[3:3] = [temp]\n",
    "\n",
    "print(my_list)  # Output: [1, 4, 3, 2, 5]"
   ],
   "metadata": {
    "collapsed": false,
    "pycharm": {
     "name": "#%%\n"
    }
   }
  },
  {
   "cell_type": "code",
   "execution_count": 42,
   "outputs": [
    {
     "name": "stdout",
     "output_type": "stream",
     "text": [
      "[5, 5, 5, 2, 3, 7]\n"
     ]
    }
   ],
   "source": [
    "l = [1, 5, 2, 3]\n",
    "l.append(7)\n",
    "l.insert(0,5)\n",
    "l[1]=l[2]\n",
    "l[2],l[0]=l[0],l[2]\n",
    "print(l)"
   ],
   "metadata": {
    "collapsed": false,
    "pycharm": {
     "name": "#%%\n"
    }
   }
  },
  {
   "cell_type": "markdown",
   "source": [
    "CURD operations (Create, Update, Retrieve, and Delete) refer to the four basic functions that can be performed on a database. These operations are used to manipulate data in a database, and they are essential for any application that uses a database to store information.\n",
    "\n",
    "Here's a brief overview of each operation:\n",
    "\n",
    "# Create: This operation is used to insert new data into a database. For example, if you have an application that allows users to create new accounts, you would use the Create operation to add the user's account information to the database.\n",
    "\n",
    "# Update: This operation is used to modify existing data in a database. For example, if a user wants to change their account information, you would use the Update operation to make the necessary changes to their record in the database.\n",
    "\n",
    "# Retrieve: This operation is used to retrieve data from a database. For example, if you have an application that displays a list of products, you would use the Retrieve operation to retrieve the product information from the database and display it to the user.\n",
    "\n",
    "# Delete: This operation is used to remove data from a database. For example, if a user wants to delete their account, you would use the Delete operation to remove their record from the database.\n",
    "\n",
    "Together, these four operations provide the basic functionality required for working with a database."
   ],
   "metadata": {
    "collapsed": false
   }
  },
  {
   "cell_type": "code",
   "execution_count": null,
   "outputs": [],
   "source": [
    "\"\"\"Create:\n",
    "To create a list in Python, you can simply use square brackets []. You can then use the append() method to add new elements to the list. For example:\"\"\"\n",
    "\n",
    "my_list = []\n",
    "my_list.append(1)\n",
    "my_list.append(2)\n",
    "my_list.append(3)\n",
    "print(my_list) # Output: [1, 2, 3]"
   ],
   "metadata": {
    "collapsed": false,
    "pycharm": {
     "name": "#%%\n"
    }
   }
  },
  {
   "cell_type": "code",
   "execution_count": null,
   "outputs": [],
   "source": [
    "\"\"\"Update:\n",
    "To update an element in a list, you can access it using its index and then assign a new value to it. For example:\"\"\"\n",
    "\n",
    "my_list = [1, 2, 3]\n",
    "my_list[1] = 4\n",
    "print(my_list) # Output: [1, 4, 3]"
   ],
   "metadata": {
    "collapsed": false,
    "pycharm": {
     "name": "#%%\n"
    }
   }
  },
  {
   "cell_type": "code",
   "execution_count": null,
   "outputs": [],
   "source": [
    "\"\"\"Retrieve:\n",
    "To retrieve elements from a list, you can use indexing and slicing. For example:\"\"\"\n",
    "\n",
    "my_list = [1, 2, 3]\n",
    "print(my_list[0]) # Output: 1\n",
    "print(my_list[1:]) # Output: [2, 3]"
   ],
   "metadata": {
    "collapsed": false,
    "pycharm": {
     "name": "#%%\n"
    }
   }
  },
  {
   "cell_type": "code",
   "execution_count": null,
   "outputs": [],
   "source": [
    "\"\"\"You can also use built-in functions like len() to get the length of the list:\"\"\"\n",
    "\n",
    "my_list = [1, 2, 3]\n",
    "print(len(my_list)) # Output: 3"
   ],
   "metadata": {
    "collapsed": false,
    "pycharm": {
     "name": "#%%\n"
    }
   }
  },
  {
   "cell_type": "code",
   "execution_count": 44,
   "outputs": [
    {
     "name": "stdout",
     "output_type": "stream",
     "text": [
      "[1, 3]\n",
      "[3]\n"
     ]
    }
   ],
   "source": [
    "\"\"\"To remove an element from a list, you can use the remove() method or the del keyword followed by the index of the element. For example:\"\"\"\n",
    "\n",
    "my_list = [1, 2, 3]\n",
    "my_list.remove(2)\n",
    "print(my_list) # Output: [1, 3]\n",
    "\n",
    "del my_list[0]\n",
    "print(my_list) # Output: [3]"
   ],
   "metadata": {
    "collapsed": false,
    "pycharm": {
     "name": "#%%\n"
    }
   }
  },
  {
   "cell_type": "code",
   "execution_count": 45,
   "outputs": [
    {
     "name": "stdout",
     "output_type": "stream",
     "text": [
      "[1, 3, 2, 5, 6, 7]\n"
     ]
    }
   ],
   "source": [
    "my_list = [1, 2, 3, 2, 5, 6, 7, ]\n",
    "my_list.remove(2)\n",
    "print(my_list) # it will delete first occurrence"
   ],
   "metadata": {
    "collapsed": false,
    "pycharm": {
     "name": "#%%\n"
    }
   }
  },
  {
   "cell_type": "code",
   "execution_count": 46,
   "outputs": [
    {
     "name": "stdout",
     "output_type": "stream",
     "text": [
      "[4, 6, 8, 4, 9, 4]\n"
     ]
    }
   ],
   "source": [
    "l = [4, 6, 8, 4, 8, 9, 4 ]\n",
    "del l[4] # 8 will be deleted\n",
    "print(l)"
   ],
   "metadata": {
    "collapsed": false,
    "pycharm": {
     "name": "#%%\n"
    }
   }
  },
  {
   "cell_type": "code",
   "execution_count": 48,
   "outputs": [
    {
     "name": "stdout",
     "output_type": "stream",
     "text": [
      "[1, 7, 8, 5, 6]\n"
     ]
    }
   ],
   "source": [
    "# To remove 2nd position element 5:\n",
    "l = [1, 5, 7, 8, 5, 6]\n",
    "x = 2\n",
    "l.pop(x-1)\n",
    "print(l)"
   ],
   "metadata": {
    "collapsed": false,
    "pycharm": {
     "name": "#%%\n"
    }
   }
  },
  {
   "cell_type": "code",
   "execution_count": 43,
   "outputs": [
    {
     "name": "stdout",
     "output_type": "stream",
     "text": [
      "2\n",
      "[1, 3]\n"
     ]
    }
   ],
   "source": [
    "\"\"\"You can also use the pop() method to remove an element from a specific index and return its value:\"\"\"\n",
    "\n",
    "my_list = [1, 2, 3]\n",
    "popped_element = my_list.pop(1)\n",
    "print(popped_element) # Output: 2\n",
    "print(my_list) # Output: [1, 3]"
   ],
   "metadata": {
    "collapsed": false,
    "pycharm": {
     "name": "#%%\n"
    }
   }
  },
  {
   "cell_type": "markdown",
   "source": [
    "# Linear Search\n",
    "Linear search is a basic search algorithm that sequentially searches a list or array for a specific value until the value is found or the end of the list is reached.\n",
    "In Python, you can implement linear search using a loop that iterates over each element in the list and compares it to the target value.\n",
    " Here is an example implementation of linear search in Python:"
   ],
   "metadata": {
    "collapsed": false,
    "pycharm": {
     "name": "#%% md\n"
    }
   }
  },
  {
   "cell_type": "code",
   "execution_count": 49,
   "outputs": [],
   "source": [
    "def linear_search(arr, target):\n",
    "    \"\"\"\n",
    "    Search for a target value in a list using linear search.\n",
    "\n",
    "    :param arr: list of values to search\n",
    "    :param target: value to search for\n",
    "    :return: index of the target value in the list, or -1 if not found\n",
    "    \"\"\"\n",
    "    for i in range(len(arr)):\n",
    "        if arr[i] == target:\n",
    "            return i\n",
    "    return -1"
   ],
   "metadata": {
    "collapsed": false,
    "pycharm": {
     "name": "#%%\n"
    }
   }
  },
  {
   "cell_type": "markdown",
   "source": [
    "# Linear Search\n",
    "In this implementation, the function takes two arguments: the list arr to search, and the target value to search for.\n",
    "The function then iterates over each element in the list using a for loop and checks if the current element is equal to the target value.\n",
    "If it is, the function returns the index of the element in the list using the return statement.\n",
    "If the function completes the loop without finding the target value,\n",
    "it returns -1 to indicate that the target value was not found in the list.\n",
    "\n",
    "Here is an example usage of the linear_search function:"
   ],
   "metadata": {
    "collapsed": false,
    "pycharm": {
     "name": "#%% md\n"
    }
   }
  },
  {
   "cell_type": "code",
   "execution_count": null,
   "outputs": [],
   "source": [
    "my_list = [1, 2, 3, 4, 5, 6]\n",
    "target_value = 4\n",
    "\n",
    "result = linear_search(my_list, target_value)\n",
    "\n",
    "if result == -1:\n",
    "    print(\"Target value not found in list.\")\n",
    "else:\n",
    "    print(f\"Target value found at index {result}.\")"
   ],
   "metadata": {
    "collapsed": false,
    "pycharm": {
     "name": "#%%\n"
    }
   }
  },
  {
   "cell_type": "markdown",
   "source": [
    "In this example, the function is called with a list of integers and a target value of 4.\n",
    "The result of the function call is stored in the variable result, which is then checked to see if the target value was found.\n",
    "If the target value was found, the index of the target value in the list is printed.\n",
    "If the target value was not found, a message indicating that the target value was not found is printed."
   ],
   "metadata": {
    "collapsed": false,
    "pycharm": {
     "name": "#%% md\n"
    }
   }
  },
  {
   "cell_type": "code",
   "execution_count": 51,
   "outputs": [
    {
     "data": {
      "text/plain": "4"
     },
     "execution_count": 51,
     "metadata": {},
     "output_type": "execute_result"
    }
   ],
   "source": [
    "# Find the first match (index in which sachin core 99 runs )\n",
    "\n",
    "runs = [0, 1, 55, 67, 99, 120, 200, 99]\n",
    "def search(lst, target):\n",
    "    n = len(lst)\n",
    "    for i in range (n):\n",
    "        if lst[i]== target:\n",
    "            return i\n",
    "    return None\n",
    "search(runs, 99)\n"
   ],
   "metadata": {
    "collapsed": false,
    "pycharm": {
     "name": "#%%\n"
    }
   }
  }
 ],
 "metadata": {
  "kernelspec": {
   "display_name": "Python 3",
   "language": "python",
   "name": "python3"
  },
  "language_info": {
   "codemirror_mode": {
    "name": "ipython",
    "version": 2
   },
   "file_extension": ".py",
   "mimetype": "text/x-python",
   "name": "python",
   "nbconvert_exporter": "python",
   "pygments_lexer": "ipython2",
   "version": "2.7.6"
  }
 },
 "nbformat": 4,
 "nbformat_minor": 0
}