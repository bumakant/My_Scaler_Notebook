{
 "cells": [
  {
   "cell_type": "markdown",
   "metadata": {
    "pycharm": {
     "name": "#%% md\n"
    }
   },
   "source": [
    "Python is a high-level, interpreted, and general-purpose programming language. It was created by Guido van Rossum and first released in 1991. Python emphasizes readability and simplicity, making it an accessible language for beginners, while also being powerful enough for experienced developers.\n",
    "\n",
    "Python has gained popularity for several reasons, including:\n",
    "\n",
    "    Readability: Python uses a clean and expressive syntax that emphasizes readability, making it easier to understand and write code. It uses indentation rather than brackets, which enforces code formatting and enhances readability.\n",
    "\n",
    "    Simplicity: Python's design philosophy emphasizes simplicity and minimalism, making it easy to learn and use. It has a concise and intuitive syntax, allowing developers to write code more efficiently.\n",
    "\n",
    "    Versatility: Python is a versatile language that can be used for a wide range of applications, including web development, data analysis, artificial intelligence, machine learning, scientific computing, automation, and more. It provides extensive libraries and frameworks that simplify development in various domains.\n",
    "\n",
    "    Extensive Libraries: Python has a rich ecosystem of libraries and modules, such as NumPy, Pandas, Matplotlib, TensorFlow, Django, Flask, and many more. These libraries provide pre-built functionalities, making it easier to solve complex problems without reinventing the wheel.\n",
    "\n",
    "    Portability: Python is a cross-platform language, meaning that Python code can run on different operating systems without modification. This allows developers to write code once and deploy it on multiple platforms, increasing productivity.\n",
    "\n",
    "    Community and Support: Python has a large and active community of developers, which contributes to its growth and popularity. The Python community provides support, resources, and extensive documentation, making it easier to learn and troubleshoot issues.\n",
    "\n",
    "Python can be used in various scenarios, including:\n",
    "\n",
    "    Web Development: Python has frameworks like Django and Flask, which facilitate web application development.\n",
    "\n",
    "    Data Analysis and Visualization: Python provides libraries like NumPy and Pandas for data manipulation and analysis, along with Matplotlib and Seaborn for data visualization.\n",
    "\n",
    "    Machine Learning and Artificial Intelligence: Python's libraries, such as TensorFlow, PyTorch, and scikit-learn, make it a preferred choice for machine learning and AI development.\n",
    "\n",
    "    Scientific Computing: Python is widely used in scientific computing and simulations due to libraries like SciPy and NumPy.\n",
    "\n",
    "    Automation and Scripting: Python's simplicity and versatility make it ideal for automating repetitive tasks and writing scripts for various purposes.\n",
    "\n",
    "    Desktop Applications: Python can be used for developing desktop applications using frameworks like PyQt and Tkinter.\n",
    "\n",
    "In summary, Python's readability, simplicity, versatility, extensive libraries, and strong community support contribute to its popularity and make it suitable for a wide range of applications."
   ]
  },
  {
   "cell_type": "markdown",
   "metadata": {
    "pycharm": {
     "name": "#%% md\n"
    }
   },
   "source": [
    "https://www.geeksforgeeks.org/introduction-to-python/"
   ]
  },
  {
   "cell_type": "code",
   "execution_count": null,
   "metadata": {
    "pycharm": {
     "is_executing": true,
     "name": "#%%\n"
    }
   },
   "outputs": [],
   "source": [
    "print(\"Hello Umakant !\")"
   ]
  },
  {
   "cell_type": "code",
   "execution_count": null,
   "metadata": {
    "pycharm": {
     "is_executing": true,
     "name": "#%%\n"
    }
   },
   "outputs": [],
   "source": [
    "# Python code for \"Hello World\"\n",
    "# nothing else to type...see how simple is the syntax.\n",
    "  \n",
    "print(\"Hello World\")   "
   ]
  },
  {
   "cell_type": "code",
   "execution_count": 26,
   "metadata": {
    "pycharm": {
     "name": "#%%\n"
    }
   },
   "outputs": [
    {
     "name": "stdout",
     "output_type": "stream",
     "text": [
      "I \n",
      "am Successful \n",
      "python Coder.\n"
     ]
    }
   ],
   "source": [
    "print(\"I \\nam Successful \\npython Coder.\")"
   ]
  },
  {
   "cell_type": "code",
   "execution_count": 27,
   "metadata": {
    "pycharm": {
     "name": "#%%\n"
    }
   },
   "outputs": [
    {
     "name": "stdout",
     "output_type": "stream",
     "text": [
      "True\n"
     ]
    }
   ],
   "source": [
    "if 5 == 1+3+1:\n",
    "    print(True)\n",
    "else:\n",
    "    print(False)"
   ]
  },
  {
   "cell_type": "code",
   "execution_count": 1,
   "metadata": {
    "pycharm": {
     "name": "#%%\n"
    }
   },
   "outputs": [
    {
     "name": "stdout",
     "output_type": "stream",
     "text": [
      "x is between 10 and 20\n"
     ]
    }
   ],
   "source": [
    "# Check if a number is between 10 and 20 (inclusive)\n",
    "x = 15\n",
    "\n",
    "if x in range(10, 21):\n",
    "    print(\"x is between 10 and 20\")\n",
    "else:\n",
    "    print(\"x is outside the range of 10 to 20\")"
   ]
  },
  {
   "cell_type": "code",
   "execution_count": null,
   "metadata": {
    "pycharm": {
     "name": "#%%\n"
    }
   },
   "outputs": [],
   "source": [
    "'''Input and Output\n",
    "\n",
    "In this section, we will learn how to take input from the user and\n",
    "hence manipulate it or simply display it. \n",
    "input() function is used to take input from the user.'''\n",
    "\n",
    "# Python program to illustrate getting input from user\n",
    "name = input(\"Enter your name: \")\n",
    "\n",
    "# user entered the name 'any name'\n",
    "print(\"hello\", name)\n"
   ]
  },
  {
   "cell_type": "code",
   "execution_count": 5,
   "metadata": {
    "pycharm": {
     "name": "#%%\n"
    }
   },
   "outputs": [
    {
     "name": "stdout",
     "output_type": "stream",
     "text": [
      "False\n"
     ]
    }
   ],
   "source": [
    "n = int(input())\n",
    "m = int(input())\n",
    "o = int(input())\n",
    "\n",
    "if m == n or o != n:\n",
    "    print(True)\n",
    "else:\n",
    "    print(False)"
   ]
  },
  {
   "cell_type": "code",
   "execution_count": 14,
   "metadata": {
    "pycharm": {
     "name": "#%%\n"
    }
   },
   "outputs": [
    {
     "name": "stdout",
     "output_type": "stream",
     "text": [
      "Enter the angle A: 45\n",
      "Enter the angle B: 45\n",
      "Enter the angle C: 90\n",
      "It is a tringle.\n",
      "Triangle type Right-Angled\n"
     ]
    }
   ],
   "source": [
    "# write a program to check if the figure is triangle or not and if it is triangle, find out the type of it using angles of triangle.\n",
    "\n",
    "\n",
    "# define a function to check the sum of all angles of triangle is 180 or not\n",
    "\n",
    "def is_triangle(a, b, c):\n",
    "    if a+b+c ==180:\n",
    "        return True\n",
    "    return False \n",
    "\n",
    "# define a function to check the type of triangle on the basis of angles \n",
    "def calculate_triangle_type(a, b, c):\n",
    "    if a == 90 or b == 90 or c ==90:\n",
    "        return \"Right-Angled\"\n",
    "    elif a>90 or b>90 or c>90:\n",
    "        return \"Obtuse\"\n",
    "    else:\n",
    "        return \"Acute\"\n",
    "\n",
    "#Taking user input\n",
    "angle_a = int(input(\"Enter the angle A: \"))\n",
    "angle_b = int(input(\"Enter the angle B: \"))\n",
    "angle_c = int(input(\"Enter the angle C: \"))\n",
    "\n",
    "# Check if it is a triangel \n",
    "\n",
    "if is_triangle(angle_a, angle_b, angle_c):\n",
    "    print(\"It is a tringle.\")\n",
    "    \n",
    "    # Calculate triangle type\n",
    "    triangle_type = calculate_triangle_type(angle_a, angle_b, angle_c)\n",
    "    print(\"Triangle type\", triangle_type)\n",
    "\n",
    "else:\n",
    "    print(\"It is not a trinagle\")\n",
    "    "
   ]
  },
  {
   "cell_type": "code",
   "execution_count": 5,
   "metadata": {
    "pycharm": {
     "name": "#%%\n"
    }
   },
   "outputs": [
    {
     "name": "stdout",
     "output_type": "stream",
     "text": [
      "Area of circle: 3.14 Circumference of circle 6.28\n"
     ]
    }
   ],
   "source": [
    "# Area of circle\n",
    "# formula = pie*r**2\n",
    "r = float(input())\n",
    "a = 3.14*(r**2) # area of circle\n",
    "c = 2*3.14*r # circumference of circle\n",
    "print(\"Area of circle:\", a ,\"Circumference of circle\",c)"
   ]
  },
  {
   "cell_type": "code",
   "execution_count": 25,
   "metadata": {},
   "outputs": [
    {
     "name": "stdout",
     "output_type": "stream",
     "text": [
      "1\n",
      "Area of Circle: 3.14\n"
     ]
    }
   ],
   "source": [
    "# function to demonstrate the area of circle \n",
    "\n",
    "def area_cicle(radius): \n",
    "    #The radius should be passed as a parameter to the area_circle function. \n",
    "    #This ensures that the radius value is accessible within the function.\n",
    "    area = 3.14*radius**2\n",
    "    \n",
    "    return area\n",
    "\n",
    "# take user input\n",
    "radius = float(input())\n",
    "#The radius = int(input()) line should be placed before calling the area_circle function. \n",
    "#This allows the user to input the radius value before calculating the area.\n",
    "circle_area = area_cicle(radius)\n",
    "\n",
    "print(\"Area of Circle:\", circle_area)\n",
    "    \n"
   ]
  },
  {
   "cell_type": "code",
   "execution_count": null,
   "metadata": {},
   "outputs": [],
   "source": [
    "def area_circle(radius):\n",
    "    return 3.14 * radius ** 2\n",
    "\n",
    "radius = int(input(\"Enter the radius: \"))\n",
    "print(\"Area of the circle:\", area_circle(radius))\n"
   ]
  },
  {
   "cell_type": "markdown",
   "metadata": {
    "pycharm": {
     "name": "#%% md\n"
    }
   },
   "source": [
    "In Python, the boolean data type represents two possible values: True and False. Booleans are often used for logical operations and conditional statements. Here are some key points about booleans in Python:\n",
    "\n",
    "    Boolean Values: There are two boolean values in Python: True and False. They are case-sensitive, so be sure to capitalize the first letter.\n",
    "\n",
    "    Logical Operators: Booleans are commonly used in combination with logical operators, such as and, or, and not. These operators allow you to perform logical operations on boolean values.\n",
    "        and Operator: Returns True if both operands are True, otherwise returns False.\n",
    "        or Operator: Returns True if at least one operand is True, otherwise returns False.\n",
    "        not Operator: Reverses the boolean value. If the operand is True, it returns False, and if the operand is False, it returns True.\n",
    "\n",
    "    Comparison Operators: Boolean values are often the result of comparison operations. These operations compare two values and return a boolean result. Some commonly used comparison operators include:\n",
    "        ==: Equality operator. Returns True if the operands are equal, otherwise returns False.\n",
    "        !=: Inequality operator. Returns True if the operands are not equal, otherwise returns False.\n",
    "        <, >, <=, >=: Comparison operators for less than, greater than, less than or equal to, and greater than or equal to, respectively.\n",
    "\n",
    "    Boolean Functions: Python provides built-in functions that work with booleans. Some commonly used boolean functions include:\n",
    "        bool(): Converts a value to its corresponding boolean representation. Returns False for empty containers, zero numeric values, and None, and True for non-empty containers, non-zero numeric values, and non-None values.\n",
    "        all(): Returns True if all elements in an iterable are True, otherwise returns False.\n",
    "        any(): Returns True if at least one element in an iterable is True, otherwise returns False.\n",
    "\n",
    "Booleans are fundamental in programming as they help control the flow of execution based on conditions. They are extensively used in if statements, while loops, and other control structures to determine which blocks of code should be executed."
   ]
  },
  {
   "cell_type": "code",
   "execution_count": 27,
   "metadata": {},
   "outputs": [
    {
     "name": "stdout",
     "output_type": "stream",
     "text": [
      "True\n",
      "False\n",
      "False\n"
     ]
    }
   ],
   "source": [
    "# Example 1: Logical Operators\n",
    "x = 5\n",
    "y = 10\n",
    "\n",
    "# Using logical operators\n",
    "print(x > 3 and y < 15)    # Output: True\n",
    "print(x == 2 or y != 10)   # Output: False\n",
    "print(not(x < 10))         # Output: False\n"
   ]
  },
  {
   "cell_type": "code",
   "execution_count": 28,
   "metadata": {},
   "outputs": [
    {
     "name": "stdout",
     "output_type": "stream",
     "text": [
      "False\n",
      "True\n",
      "False\n"
     ]
    }
   ],
   "source": [
    "# Example 2: Comparison Operators\n",
    "\n",
    "a = 7\n",
    "b = 5\n",
    "\n",
    "# Using comparison operators\n",
    "print(a == b)    # Output: False\n",
    "print(a > b)     # Output: True\n",
    "print(a <= b)    # Output: False\n"
   ]
  },
  {
   "cell_type": "code",
   "execution_count": 30,
   "metadata": {},
   "outputs": [
    {
     "name": "stdout",
     "output_type": "stream",
     "text": [
      "False\n",
      "True\n"
     ]
    }
   ],
   "source": [
    "# Example 3: Boolean Functions\n",
    "\n",
    "values = [True, False, True, True]\n",
    "\n",
    "# Using boolean functions\n",
    "print(all(values))    # Output: False\n",
    "print(any(values))    # Output: True\n"
   ]
  },
  {
   "cell_type": "code",
   "execution_count": 31,
   "metadata": {},
   "outputs": [
    {
     "ename": "SyntaxError",
     "evalue": "invalid syntax (2908725807.py, line 1)",
     "output_type": "error",
     "traceback": [
      "\u001b[1;36m  Cell \u001b[1;32mIn[31], line 1\u001b[1;36m\u001b[0m\n\u001b[1;33m    Example 4: Conditional Statements\u001b[0m\n\u001b[1;37m            ^\u001b[0m\n\u001b[1;31mSyntaxError\u001b[0m\u001b[1;31m:\u001b[0m invalid syntax\n"
     ]
    }
   ],
   "source": [
    "# Example 4: Conditional Statements\n",
    "x = 15\n",
    "\n",
    "# Using boolean in conditional statement\n",
    "if x > 10:\n",
    "    print(\"x is greater than 10\")\n",
    "else:\n",
    "    print(\"x is not greater than 10\")"
   ]
  },
  {
   "cell_type": "code",
   "execution_count": 33,
   "metadata": {
    "pycharm": {
     "name": "#%%\n"
    }
   },
   "outputs": [],
   "source": [
    "# When you run a condition in an if statement, Python returns True or False:"
   ]
  },
  {
   "cell_type": "code",
   "execution_count": 4,
   "metadata": {
    "pycharm": {
     "name": "#%%\n"
    }
   },
   "outputs": [
    {
     "data": {
      "text/plain": [
       "True"
      ]
     },
     "execution_count": 4,
     "metadata": {},
     "output_type": "execute_result"
    }
   ],
   "source": [
    "bool([\"apple\", \"cherry\", \"banana\"])"
   ]
  },
  {
   "cell_type": "code",
   "execution_count": 3,
   "metadata": {
    "pycharm": {
     "name": "#%%\n"
    }
   },
   "outputs": [
    {
     "data": {
      "text/plain": [
       "False"
      ]
     },
     "execution_count": 3,
     "metadata": {},
     "output_type": "execute_result"
    }
   ],
   "source": [
    "bool(10==9)"
   ]
  },
  {
   "cell_type": "code",
   "execution_count": 6,
   "metadata": {
    "pycharm": {
     "name": "#%%\n"
    }
   },
   "outputs": [
    {
     "ename": "TypeError",
     "evalue": "'type' object is not subscriptable",
     "output_type": "error",
     "traceback": [
      "\u001b[1;31m---------------------------------------------------------------------------\u001b[0m",
      "\u001b[1;31mTypeError\u001b[0m                                 Traceback (most recent call last)",
      "Cell \u001b[1;32mIn[6], line 1\u001b[0m\n\u001b[1;32m----> 1\u001b[0m \u001b[39mbool\u001b[39;49m[\u001b[39m\"\u001b[39;49m\u001b[39mTrue\u001b[39;49m\u001b[39m\"\u001b[39;49m]\n\u001b[0;32m      2\u001b[0m \u001b[39m# TypeError: type 'bool' is not subscriptable\u001b[39;00m\n",
      "\u001b[1;31mTypeError\u001b[0m: 'type' object is not subscriptable"
     ]
    }
   ],
   "source": [
    "bool[\"True\"]\n",
    "# TypeError: type 'bool' is not subscriptable"
   ]
  },
  {
   "cell_type": "code",
   "execution_count": 1,
   "metadata": {
    "pycharm": {
     "name": "#%%\n"
    }
   },
   "outputs": [
    {
     "data": {
      "text/plain": [
       "False"
      ]
     },
     "execution_count": 1,
     "metadata": {},
     "output_type": "execute_result"
    }
   ],
   "source": [
    "'''Some Values are False\n",
    "\n",
    "In fact, there are not many values that evaluate to False,\n",
    "except empty values, such as (), [], {}, \"\", the number 0, and the value None.\n",
    "And of course the value False evaluates to False.'''\n",
    "\n",
    "bool(False)\n",
    "bool(None)\n",
    "bool(0)\n",
    "bool(\"\")\n",
    "bool(())\n",
    "bool([])\n",
    "bool({})"
   ]
  },
  {
   "cell_type": "markdown",
   "metadata": {
    "pycharm": {
     "name": "#%% md\n"
    }
   },
   "source": [
    "One more value, or object in this case, evaluates to False, and that is if you have an object that is made from a class with a __len__ function that returns 0 or False:"
   ]
  },
  {
   "cell_type": "code",
   "execution_count": 5,
   "metadata": {
    "pycharm": {
     "name": "#%%\n"
    }
   },
   "outputs": [
    {
     "name": "stdout",
     "output_type": "stream",
     "text": [
      "False\n"
     ]
    }
   ],
   "source": [
    "class myclass():\n",
    "  def __len__(self):\n",
    "    return 0\n",
    "\n",
    "myobj = myclass()\n",
    "print(bool(myobj))"
   ]
  },
  {
   "cell_type": "code",
   "execution_count": 41,
   "metadata": {
    "pycharm": {
     "name": "#%%\n"
    }
   },
   "outputs": [],
   "source": [
    "# You can execute code based on the Boolean answer of a function:"
   ]
  },
  {
   "cell_type": "code",
   "execution_count": 42,
   "metadata": {
    "pycharm": {
     "name": "#%%\n"
    }
   },
   "outputs": [
    {
     "name": "stdout",
     "output_type": "stream",
     "text": [
      "YES!\n"
     ]
    }
   ],
   "source": [
    "def myFunction() :\n",
    "  return True\n",
    "\n",
    "if myFunction():\n",
    "  print(\"YES!\")\n",
    "else:\n",
    "  print(\"NO!\")"
   ]
  },
  {
   "cell_type": "markdown",
   "metadata": {
    "pycharm": {
     "name": "#%% md\n"
    }
   },
   "source": [
    "# Variables\n",
    "In other programming languages like C, C++, and Java, you will need to declare the type of variables but in Python you don’t need to do that. Just type in the variable and when values will be given to it, then it will automatically know whether the value given would be an int, float, or char or even a String.\n",
    "\n",
    "\n",
    "# Creating Variables\n",
    "Python has no command for declaring a variable.\n",
    "\n",
    "A variable is created the moment you first assign a value to it.\n",
    "\n",
    "# Variable Names\n",
    "1- A variable can have a short name (like x and y) or a more descriptive name (age, carname, total_volume). Rules for Python variables:\n",
    "2 -A variable name must start with a letter or the underscore character\n",
    "3 -A variable name cannot start with a number\n",
    "4 -A variable name can only contain alpha-numeric characters and underscores (A-z, 0-9, and _ )\n",
    "5 -Variable names are case-sensitive (age, Age and AGE are three different variables)\n",
    "6 -A variable name cannot be any of the Python keywords.\n"
   ]
  },
  {
   "cell_type": "code",
   "execution_count": 44,
   "metadata": {
    "pycharm": {
     "name": "#%%\n"
    }
   },
   "outputs": [],
   "source": [
    "# Variable Names \n",
    "myvar = \"John\"\n",
    "my_var = \"John\"\n",
    "_my_var = \"John\"\n",
    "myVar = \"John\"\n",
    "MYVAR = \"John\"\n",
    "myvar2 = \"John\""
   ]
  },
  {
   "cell_type": "markdown",
   "metadata": {
    "pycharm": {
     "name": "#%% md\n"
    }
   },
   "source": [
    " # Multi Words Variable Names\n",
    "Variable names with more than one word can be difficult to read.\n",
    "\n",
    "There are several techniques you can use to make them more readable:\n",
    "\n",
    "# Camel Case\n",
    "Each word, except the first, starts with a capital letter:\n",
    "myVariableName = \"John\"\n",
    "\n",
    "# Pascal Case\n",
    "Each word starts with a capital letter:\n",
    "\n",
    "MyVariableName = \"John\"\n",
    "\n",
    "# Snake Case\n",
    "Each word is separated by an underscore character:\n",
    "\n",
    "my_variable_name = \"John\""
   ]
  },
  {
   "cell_type": "code",
   "execution_count": 33,
   "metadata": {},
   "outputs": [
    {
     "name": "stdout",
     "output_type": "stream",
     "text": [
      "Name: Umakant Bopche\n",
      "Age: 28\n",
      "Is student: True\n"
     ]
    }
   ],
   "source": [
    "# Variable assignement \n",
    "name = \"Umakant Bopche\"\n",
    "age = 29\n",
    "is_student = True\n",
    "\n",
    "# Variable reassignemnt = \n",
    "age = 28\n",
    "\n",
    "#Printing Variable\n",
    "print(\"Name:\", name)\n",
    "print(\"Age:\",age)\n",
    "print(\"Is student:\", is_student)"
   ]
  },
  {
   "cell_type": "code",
   "execution_count": 45,
   "metadata": {
    "pycharm": {
     "name": "#%%\n"
    }
   },
   "outputs": [
    {
     "name": "stdout",
     "output_type": "stream",
     "text": [
      "Orange\n",
      "Banana\n",
      "Cherry\n"
     ]
    }
   ],
   "source": [
    "\"\"\"Assign Multiple Values\"\"\"\n",
    "\n",
    "# Python allows you to assign values to multiple variables in one line:\n",
    "\n",
    "# Example\n",
    "x, y, z = \"Orange\", \"Banana\", \"Cherry\"\n",
    "print(x)\n",
    "print(y)\n",
    "print(z)"
   ]
  },
  {
   "cell_type": "code",
   "execution_count": 46,
   "metadata": {
    "pycharm": {
     "name": "#%%\n"
    }
   },
   "outputs": [
    {
     "name": "stdout",
     "output_type": "stream",
     "text": [
      "apple\n",
      "banana\n",
      "cherry\n"
     ]
    }
   ],
   "source": [
    "\"\"\"Unpack a Collection\n",
    "If you have a collection of values in a list, tuple etc.\n",
    "Python allows you to extract the values into variables.\n",
    "This is called unpacking.\"\"\"\n",
    "\n",
    "fruits = [\"apple\", \"banana\", \"cherry\"]\n",
    "x, y, z = fruits\n",
    "print(x)\n",
    "print(y)\n",
    "print(z)"
   ]
  },
  {
   "cell_type": "code",
   "execution_count": 47,
   "metadata": {
    "pycharm": {
     "name": "#%%\n"
    }
   },
   "outputs": [
    {
     "name": "stdout",
     "output_type": "stream",
     "text": [
      "Python is awesome\n"
     ]
    }
   ],
   "source": [
    "\"\"\"Output Variables\n",
    "The Python print() function is often used to output variables.\"\"\"\n",
    "\n",
    "x = \"Python\"\n",
    "y = \"is\"\n",
    "z = \"awesome\"\n",
    "print(x, y, z)"
   ]
  },
  {
   "cell_type": "code",
   "execution_count": 48,
   "metadata": {
    "pycharm": {
     "name": "#%%\n"
    }
   },
   "outputs": [
    {
     "name": "stdout",
     "output_type": "stream",
     "text": [
      "Python is awesome\n"
     ]
    }
   ],
   "source": [
    "\"\"\"You can also use the + operator to output multiple variables:\"\"\"\n",
    "\n",
    "# Notice the space character after \"Python \" and \"is \", without them the result would be \"Pythonisawesome\".\n",
    "\n",
    "x = \"Python \"\n",
    "y = \"is \"\n",
    "z = \"awesome\"\n",
    "print(x + y + z)"
   ]
  },
  {
   "cell_type": "code",
   "execution_count": 49,
   "metadata": {
    "pycharm": {
     "name": "#%%\n"
    }
   },
   "outputs": [
    {
     "name": "stdout",
     "output_type": "stream",
     "text": [
      "Python is awesome\n"
     ]
    }
   ],
   "source": [
    "\"\"\"Global Variables\n",
    "Variables that are created outside of a function (as in all of the \n",
    "examples above are known as global variables.\n",
    "\n",
    "Global variables can be used by everyone, \n",
    "both inside of functions and outside.\"\"\"\n",
    "\n",
    "x = \"awesome\" # Global Variable \n",
    "\n",
    "def myfunc():\n",
    "  print(\"Python is \" + x)\n",
    "\n",
    "myfunc()"
   ]
  },
  {
   "cell_type": "markdown",
   "metadata": {
    "pycharm": {
     "name": "#%% md\n"
    }
   },
   "source": [
    "Functions\n",
    "\n",
    "You can think of functions like a bunch of code that is intended to do a particular task in the whole Python script. \n",
    "Python used the keyword ‘def’ to define a function.\n",
    "Syntax:\n",
    "https://www.w3schools.com/python/python_functions.asp\n",
    "\n",
    "def function-name(arguments):\n",
    "            #function body"
   ]
  },
  {
   "cell_type": "code",
   "execution_count": 8,
   "metadata": {
    "pycharm": {
     "name": "#%%\n"
    }
   },
   "outputs": [
    {
     "name": "stdout",
     "output_type": "stream",
     "text": [
      "hello\n",
      "hello again\n",
      "hello\n",
      "hello again\n"
     ]
    }
   ],
   "source": [
    "# Python program to illustrate\n",
    "# functions\n",
    "def hello():\n",
    "    print(\"hello\")\n",
    "    print(\"hello again\")\n",
    "hello()\n",
    "  \n",
    "# calling function\n",
    "hello()"
   ]
  },
  {
   "cell_type": "code",
   "execution_count": 50,
   "metadata": {
    "pycharm": {
     "name": "#%%\n"
    }
   },
   "outputs": [
    {
     "name": "stdout",
     "output_type": "stream",
     "text": [
      "Python is fantastic\n",
      "Python is awesome\n"
     ]
    }
   ],
   "source": [
    "\"\"\"If you create a variable with the same name inside a function,\n",
    "this variable will be local, \n",
    "and can only be used inside the function. \n",
    "The global variable with the same name will remain as it was, \n",
    "\n",
    "global and with the original value.\"\"\"\n",
    "\n",
    "# Create a variable inside a function, with the same name as the global variable\n",
    "\n",
    "x = \"awesome\" # this is global variable outside the function\n",
    "\n",
    "def myfunc(): # myfunc opened here\n",
    "  x = \"fantastic\" # Local Variable whcih is inside the function\n",
    "  print(\"Python is \" + x)\n",
    "\n",
    "myfunc() # myfunc closed here\n",
    "\n",
    "print(\"Python is \" + x)"
   ]
  },
  {
   "cell_type": "code",
   "execution_count": 51,
   "metadata": {
    "pycharm": {
     "name": "#%%\n"
    }
   },
   "outputs": [
    {
     "name": "stdout",
     "output_type": "stream",
     "text": [
      "Python is fantastic\n"
     ]
    }
   ],
   "source": [
    "\"\"\"The global Keyword\n",
    "Normally, when you create a variable inside a function, that variable is local, \n",
    "and can only be used inside that function.\n",
    "\n",
    "To create a global variable inside a function, you can use the global keyword.\"\"\"\n",
    "\n",
    "# If you use the global keyword, the variable belongs to the global scope:\n",
    "\n",
    "def myfunc():\n",
    "  global x\n",
    "  x = \"fantastic\"\n",
    "\n",
    "myfunc()\n",
    "\n",
    "print(\"Python is \" + x)"
   ]
  },
  {
   "cell_type": "code",
   "execution_count": 52,
   "metadata": {
    "pycharm": {
     "name": "#%%\n"
    }
   },
   "outputs": [
    {
     "name": "stdout",
     "output_type": "stream",
     "text": [
      "Python is fantastic\n"
     ]
    }
   ],
   "source": [
    "'''Also, use the global keyword if you want to change a global variable inside a function.'''\n",
    "\n",
    "# To change the value of a global variable inside a function, refer to the variable by using the global keyword:\n",
    "\n",
    "x = \"awesome\"\n",
    "\n",
    "def myfunc():\n",
    "  global x\n",
    "  x = \"fantastic\"\n",
    "\n",
    "myfunc()\n",
    "\n",
    "print(\"Python is \" + x)"
   ]
  },
  {
   "cell_type": "markdown",
   "metadata": {
    "pycharm": {
     "name": "#%% md\n"
    }
   },
   "source": [
    "# Assignments and Homework"
   ]
  },
  {
   "cell_type": "code",
   "execution_count": 1,
   "metadata": {
    "pycharm": {
     "name": "#%%\n"
    }
   },
   "outputs": [
    {
     "name": "stdout",
     "output_type": "stream",
     "text": [
      "Hello !\n",
      "I am Python.\n",
      "Not a raptile but language\n"
     ]
    }
   ],
   "source": [
    "# Print the text \n",
    "print(\"Hello !\\nI am Python.\\nNot a raptile but language\")"
   ]
  },
  {
   "cell_type": "code",
   "execution_count": 5,
   "metadata": {
    "pycharm": {
     "name": "#%%\n"
    }
   },
   "outputs": [
    {
     "name": "stdout",
     "output_type": "stream",
     "text": [
      "11\n",
      "1 3 5 7 9 11\n"
     ]
    }
   ],
   "source": [
    "# Print first n odd numbers using while loop\n",
    "n =  int(input())\n",
    "i = 1\n",
    "while i<=n:\n",
    "    if i !=n:\n",
    "        print(i, end = \" \")\n",
    "    else:\n",
    "        print(i, end = \"\")\n",
    "    i+=2\n",
    "print()\n",
    "    "
   ]
  },
  {
   "cell_type": "code",
   "execution_count": 2,
   "metadata": {
    "pycharm": {
     "name": "#%%\n"
    }
   },
   "outputs": [
    {
     "name": "stdout",
     "output_type": "stream",
     "text": [
      "1 3 5 7 9"
     ]
    }
   ],
   "source": [
    "# Print first five odd numbers separated by space and no space after last number\n",
    "\n",
    "for i in range(1, 10, 2):\n",
    "    if i != 9:\n",
    "        print(i, end=' ')\n",
    "    else:\n",
    "        print(i, end='')"
   ]
  },
  {
   "cell_type": "code",
   "execution_count": 3,
   "metadata": {
    "pycharm": {
     "name": "#%%\n"
    }
   },
   "outputs": [
    {
     "name": "stdout",
     "output_type": "stream",
     "text": [
      "1 3 5 7 9"
     ]
    }
   ],
   "source": [
    "for i in range(1, 10, 2):\n",
    "     if (i == 9):\n",
    "         print(i, end = \"\")\n",
    "     else:\n",
    "         print(i, end = \" \")"
   ]
  },
  {
   "cell_type": "code",
   "execution_count": 6,
   "metadata": {
    "pycharm": {
     "name": "#%%\n"
    }
   },
   "outputs": [
    {
     "name": "stdout",
     "output_type": "stream",
     "text": [
      "0 2 4 6 8 "
     ]
    }
   ],
   "source": [
    "#Print first 5 even numbers i.e. 0, 2, 4, 6, 8. \n",
    "for i in range(0, 10, 2):\n",
    "     if (i == 9):\n",
    "         print(i, end = \"\")\n",
    "     else:\n",
    "         print(i, end = \" \")"
   ]
  }
 ],
 "metadata": {
  "kernelspec": {
   "display_name": "Python 3 (ipykernel)",
   "language": "python",
   "name": "python3"
  },
  "language_info": {
   "codemirror_mode": {
    "name": "ipython",
    "version": 3
   },
   "file_extension": ".py",
   "mimetype": "text/x-python",
   "name": "python",
   "nbconvert_exporter": "python",
   "pygments_lexer": "ipython3",
   "version": "3.10.9"
  },
  "vscode": {
   "interpreter": {
    "hash": "ec58c88a82a28542bb5c7ea69c2bbe9859d4ad14f37e74e606b730517604d2da"
   }
  }
 },
 "nbformat": 4,
 "nbformat_minor": 1
}
