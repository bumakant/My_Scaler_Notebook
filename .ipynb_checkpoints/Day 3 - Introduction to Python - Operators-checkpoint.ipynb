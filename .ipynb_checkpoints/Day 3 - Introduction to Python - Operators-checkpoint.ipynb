{
 "cells": [
  {
   "cell_type": "markdown",
   "metadata": {
    "pycharm": {
     "name": "#%% md\n"
    }
   },
   "source": [
    "In Python, operators are symbols or special characters that perform operations on values or variables. They allow you to manipulate and combine values in expressions or statements. Python provides a wide range of operators, which can be categorized into different types based on their functionality. Here are some commonly used operators in Python:\n",
    "\n",
    "    # Arithmetic Operators:\n",
    "        + Addition: Adds two values.\n",
    "        - Subtraction: Subtracts the second value from the first.\n",
    "        * Multiplication: Multiplies two values.\n",
    "        / Division: Divides the first value by the second (returns a float result).\n",
    "        // Floor Division: Divides the first value by the second and rounds down to the nearest whole number.\n",
    "        % Modulo: Returns the remainder of the division of the first value by the second.\n",
    "        ** Exponentiation: Raises the first value to the power of the second.\n",
    "\n",
    "    # Comparison Operators:\n",
    "        == Equal to: Returns True if the operands are equal, otherwise False.\n",
    "        != Not equal to: Returns True if the operands are not equal, otherwise False.\n",
    "        < Less than: Returns True if the first value is less than the second, otherwise False.\n",
    "        > Greater than: Returns True if the first value is greater than the second, otherwise False.\n",
    "        <= Less than or equal to: Returns True if the first value is less than or equal to the second, otherwise False.\n",
    "        >= Greater than or equal to: Returns True if the first value is greater than or equal to the second, otherwise False.\n",
    "\n",
    "    # Logical Operators:\n",
    "        and Logical AND: Returns True if both operands are True, otherwise False.\n",
    "        or Logical OR: Returns True if at least one operand is True, otherwise False.\n",
    "        not Logical NOT: Reverses the boolean value. If the operand is True, it returns False, and vice versa.\n",
    "\n",
    "    # Assignment Operators:\n",
    "        = Assignment: Assigns the value on the right to the variable on the left.\n",
    "        += Add and Assign: Adds the value on the right to the variable on the left and assigns the result to the variable.\n",
    "        -= Subtract and Assign: Subtracts the value on the right from the variable on the left and assigns the result to the variable.\n",
    "        *= Multiply and Assign: Multiplies the variable on the left by the value on the right and assigns the result to the variable.\n",
    "        /= Divide and Assign: Divides the variable on the left by the value on the right and assigns the result to the variable.\n",
    "        //= Floor Divide and Assign: Performs floor division on the variable on the left by the value on the right and assigns the result to the variable.\n",
    "        %= Modulo and Assign: Calculates the remainder of the division of the variable on the left by the value on the right and assigns the result to the variable.\n",
    "        **= Exponentiate and Assign: Raises the variable on the left to the power of the value on the right and assigns the result to the variable.\n",
    "\n",
    "    String Concatenation Operator:\n",
    "        + Concatenation: Concatenates two strings together.\n",
    "\n",
    "These are just a few examples of the many operators available in Python. Operators are essential for performing mathematical calculations, making comparisons, combining logical conditions, assigning values, and manipulating strings. Understanding and using operators effectively is crucial in writing efficient and expressive Python code."
   ]
  },
  {
   "cell_type": "code",
   "execution_count": 1,
   "metadata": {},
   "outputs": [
    {
     "name": "stdout",
     "output_type": "stream",
     "text": [
      "Addition: 13\n",
      "Subtraction: 7\n",
      "Multiplication: 30\n",
      "Division: 3.3333333333333335\n",
      "Floor Division: 3\n",
      "Modulo: 1\n",
      "Exponentiation: 1000\n",
      "Equal to: False\n",
      "Not equal to: True\n",
      "Less than: True\n",
      "Greater than: False\n",
      "Less than or equal to: True\n",
      "Greater than or equal to: False\n",
      "Logical AND: False\n",
      "Logical OR: True\n",
      "Logical NOT p: False\n",
      "Logical NOT q: True\n",
      "Value after assignments: 8.0\n",
      "Greeting message: Hello John\n"
     ]
    }
   ],
   "source": [
    "# Arithmetic Operators\n",
    "x = 10\n",
    "y = 3\n",
    "\n",
    "addition = x + y\n",
    "subtraction = x - y\n",
    "multiplication = x * y\n",
    "division = x / y\n",
    "floor_division = x // y\n",
    "modulo = x % y\n",
    "exponentiation = x ** y\n",
    "\n",
    "print(\"Addition:\", addition)\n",
    "print(\"Subtraction:\", subtraction)\n",
    "print(\"Multiplication:\", multiplication)\n",
    "print(\"Division:\", division)\n",
    "print(\"Floor Division:\", floor_division)\n",
    "print(\"Modulo:\", modulo)\n",
    "print(\"Exponentiation:\", exponentiation)\n",
    "\n",
    "# Comparison Operators\n",
    "a = 5\n",
    "b = 7\n",
    "\n",
    "equal_to = a == b\n",
    "not_equal_to = a != b\n",
    "less_than = a < b\n",
    "greater_than = a > b\n",
    "less_than_or_equal_to = a <= b\n",
    "greater_than_or_equal_to = a >= b\n",
    "\n",
    "print(\"Equal to:\", equal_to)\n",
    "print(\"Not equal to:\", not_equal_to)\n",
    "print(\"Less than:\", less_than)\n",
    "print(\"Greater than:\", greater_than)\n",
    "print(\"Less than or equal to:\", less_than_or_equal_to)\n",
    "print(\"Greater than or equal to:\", greater_than_or_equal_to)\n",
    "\n",
    "# Logical Operators\n",
    "p = True\n",
    "q = False\n",
    "\n",
    "logical_and = p and q\n",
    "logical_or = p or q\n",
    "logical_not_p = not p\n",
    "logical_not_q = not q\n",
    "\n",
    "print(\"Logical AND:\", logical_and)\n",
    "print(\"Logical OR:\", logical_or)\n",
    "print(\"Logical NOT p:\", logical_not_p)\n",
    "print(\"Logical NOT q:\", logical_not_q)\n",
    "\n",
    "# Assignment Operators\n",
    "value = 5\n",
    "value += 2  # Equivalent to value = value + 2\n",
    "value -= 3  # Equivalent to value = value - 3\n",
    "value *= 4  # Equivalent to value = value * 4\n",
    "value /= 2  # Equivalent to value = value / 2\n",
    "\n",
    "print(\"Value after assignments:\", value)\n",
    "\n",
    "# String Concatenation Operator\n",
    "greeting = \"Hello\"\n",
    "name = \"John\"\n",
    "\n",
    "greeting_message = greeting + \" \" + name\n",
    "print(\"Greeting message:\", greeting_message)\n"
   ]
  },
  {
   "cell_type": "code",
   "execution_count": 11,
   "metadata": {
    "pycharm": {
     "name": "#%%\n"
    }
   },
   "outputs": [
    {
     "name": "stdout",
     "output_type": "stream",
     "text": [
      "Enter marks for subject 1: 45\n",
      "Enter marks for subject 2: 45\n",
      "Enter marks for subject 3: 45\n",
      "Total Marks: 135\n",
      "Average Score: 45.0\n",
      "Percentage: 45.0 %\n"
     ]
    }
   ],
   "source": [
    "# demonstrate the function to calculate the average \n",
    "\n",
    "def calculate_average():\n",
    "    sub1 = int(input(\"Enter marks for subject 1: \"))\n",
    "    sub2 = int(input(\"Enter marks for subject 2: \"))\n",
    "    sub3 = int(input(\"Enter marks for subject 3: \"))\n",
    "    \n",
    "    total = sub1+sub2+sub3\n",
    "    average = total/3\n",
    "    \n",
    "    print(\"Total Marks:\", total)\n",
    "    print(\"Average Score:\",average)\n",
    "    \n",
    "    percentage = (total/300)*100\n",
    "    print(\"Percentage:\", percentage, \"%\")\n",
    "\n",
    "#Call the fucntion to calculate and print the average \n",
    "\n",
    "calculate_average()\n",
    "    "
   ]
  },
  {
   "cell_type": "code",
   "execution_count": 18,
   "metadata": {},
   "outputs": [
    {
     "name": "stdout",
     "output_type": "stream",
     "text": [
      "Enter the dividend: -5\n",
      "Enter the Divisior: 2\n",
      "Division Result:  -2.5\n",
      "Floor Division Result:  -3\n"
     ]
    }
   ],
   "source": [
    "'''\n",
    "In this code, the calculate_division() function prompts the user to enter the dividend and divisor using the input() function.\n",
    "The inputs are converted to integers using int() for numerical calculations.\n",
    "\n",
    "The function then calculates the division result using the / operator and stores it in the division_result variable.\n",
    "It also calculates the floor division result using the // operator and stores it in the floor_division_result variable.\n",
    "\n",
    "Finally, the function prints the division result and the floor division result to the console using print() statements.\n",
    "\n",
    "You can call the calculate_division() function to prompt the user for dividend and divisor values \n",
    "and calculate the division and floor division results based on the user input.\n",
    "\n",
    "'''\n",
    "\n",
    "def calculate_division():\n",
    "    num1 = int(input(\"Enter the dividend: \"))\n",
    "    num2 = int(input(\"Enter the Divisior: \"))\n",
    "    \n",
    "    division_result = num1/num2\n",
    "    floor_division_result = num1//num2\n",
    "    \n",
    "    print(\"Division Result: \", division_result)\n",
    "    print(\"Floor Division Result: \",floor_division_result)\n",
    "\n",
    "# Call the fucntion to calculate and print the divisions \n",
    "calculate_division()"
   ]
  },
  {
   "cell_type": "code",
   "execution_count": 21,
   "metadata": {
    "pycharm": {
     "name": "#%%\n"
    }
   },
   "outputs": [
    {
     "name": "stdout",
     "output_type": "stream",
     "text": [
      "1.5076923076923077\n",
      "1\n"
     ]
    }
   ],
   "source": [
    "x = int(input())\n",
    "y = int(input())\n",
    "print(x/y)\n",
    "print(x//y) # floor Division\n"
   ]
  },
  {
   "cell_type": "code",
   "execution_count": 1,
   "metadata": {
    "pycharm": {
     "name": "#%%\n"
    }
   },
   "outputs": [
    {
     "name": "stdout",
     "output_type": "stream",
     "text": [
      "-2.5\n",
      "-3\n"
     ]
    }
   ],
   "source": [
    "# floor Division\n",
    "a = -5\n",
    "# it will shift to left on number line so the answer will be -3\n",
    "print(a/2)\n",
    "print(a//2)"
   ]
  },
  {
   "cell_type": "code",
   "execution_count": 20,
   "metadata": {
    "pycharm": {
     "name": "#%%\n"
    }
   },
   "outputs": [
    {
     "name": "stdout",
     "output_type": "stream",
     "text": [
      "4\n",
      "The square of the number is: 16\n"
     ]
    }
   ],
   "source": [
    "#Write a function find the square of number \n",
    "def squre_num():\n",
    "    num = int(input())\n",
    "    \n",
    "    square  = num**2\n",
    "    print(\"The square of the number is:\", square)\n",
    "    \n",
    "squre_num()"
   ]
  },
  {
   "cell_type": "code",
   "execution_count": 11,
   "metadata": {},
   "outputs": [
    {
     "name": "stdout",
     "output_type": "stream",
     "text": [
      "16\n",
      "The square root of the number: 4\n"
     ]
    }
   ],
   "source": [
    "# Wrute a function to calculate the square root of the number \n",
    "def square_root():\n",
    "    num = int(input())\n",
    "    square_root =  int(num**(1/2))\n",
    "    #We then convert the result to an integer using the int() function and print it out.\n",
    "    print(\"The square root of the number:\", square_root)\n",
    "\n",
    "square_root()\n",
    "\n",
    "    "
   ]
  },
  {
   "cell_type": "code",
   "execution_count": 10,
   "metadata": {},
   "outputs": [
    {
     "name": "stdout",
     "output_type": "stream",
     "text": [
      "16\n",
      "Square root : 4\n"
     ]
    }
   ],
   "source": [
    "import math\n",
    "\n",
    "def print_square_root(num):\n",
    "    sqrt = int(math.sqrt(num))\n",
    "    \n",
    "    print(\"Square root :\", sqrt)\n",
    "            \n",
    "# Take user input\n",
    "number = int(input())\n",
    "print_square_root(number)            "
   ]
  },
  {
   "cell_type": "code",
   "execution_count": 4,
   "metadata": {
    "pycharm": {
     "name": "#%%\n"
    }
   },
   "outputs": [
    {
     "name": "stdout",
     "output_type": "stream",
     "text": [
      "121\n",
      "The number is: 121\n",
      "The square of number is: 11.0\n"
     ]
    }
   ],
   "source": [
    "# to print square root of any number\n",
    "n = int(input())\n",
    "print(\"The number is:\", n)\n",
    "print(\"The square root of number is:\",(n**0.5)) \n",
    "# here we have use int directly into print statement to convert float into int"
   ]
  },
  {
   "cell_type": "code",
   "execution_count": 12,
   "metadata": {
    "pycharm": {
     "name": "#%%\n"
    }
   },
   "outputs": [
    {
     "name": "stdout",
     "output_type": "stream",
     "text": [
      "27\n",
      "The cube root of the number: 3\n"
     ]
    }
   ],
   "source": [
    "# Wrute a function to calculate the cube root of the number \n",
    "def cube_root():\n",
    "    num = int(input())\n",
    "    cube_root =  int(num**(1/3))\n",
    "    #We then convert the result to an integer using the int() function and print it out.\n",
    "    print(\"The cube root of the number:\", cube_root)\n",
    "\n",
    "cube_root()\n"
   ]
  },
  {
   "cell_type": "code",
   "execution_count": 1,
   "metadata": {
    "pycharm": {
     "name": "#%%\n"
    }
   },
   "outputs": [
    {
     "name": "stdout",
     "output_type": "stream",
     "text": [
      "The total hours are 2.5\n"
     ]
    }
   ],
   "source": [
    "# to find hours using min\n",
    "m = int(input())\n",
    "print(\"The total hours are\", m/60 )"
   ]
  },
  {
   "cell_type": "code",
   "execution_count": 1,
   "metadata": {},
   "outputs": [
    {
     "name": "stdout",
     "output_type": "stream",
     "text": [
      "180\n",
      "The Hourse are: 3.0\n"
     ]
    }
   ],
   "source": [
    "# write a program to demonstrate a function to find hours using minutes \n",
    "\n",
    "def hours_min():\n",
    "    minutes = int(input())\n",
    "    hours = minutes/60\n",
    "    \n",
    "    print(\"The Hourse are:\", hours)\n",
    "hours_min()"
   ]
  },
  {
   "cell_type": "code",
   "execution_count": null,
   "metadata": {
    "pycharm": {
     "name": "#%%\n"
    }
   },
   "outputs": [],
   "source": [
    "#BODMAS -> Bracket  -> Order -> Division -> Multiplication -> Addition -> Subtraction\n",
    "  # pigs, cows,  have 4 legs and chicken have 2\n",
    "ch = int(input())\n",
    "co = int(input())\n",
    "pi = int(input())\n",
    "# legs = 2*ch + 4*co + 4*pi\n",
    "print(2*ch + 4*co + 4*pi)"
   ]
  },
  {
   "cell_type": "code",
   "execution_count": 5,
   "metadata": {
    "pycharm": {
     "name": "#%%\n"
    }
   },
   "outputs": [
    {
     "name": "stdout",
     "output_type": "stream",
     "text": [
      "66\n",
      "The Number is Even\n"
     ]
    }
   ],
   "source": [
    "# problem 2  \"%\" -> use of modulo to find remainder\n",
    "# how can we use modulo to check if number is even or odd ?\n",
    "n = int(input())\n",
    "if n % 2 == 0: # this is condition\n",
    "    print(\"The Number is Even\") # if condition is satisfied\n",
    "else:\n",
    "    print(\"The number is odd\") # if condition is not satisfied"
   ]
  },
  {
   "cell_type": "code",
   "execution_count": 5,
   "metadata": {},
   "outputs": [
    {
     "name": "stdout",
     "output_type": "stream",
     "text": [
      "14\n",
      "The number is 14\n",
      "Number is Even\n"
     ]
    }
   ],
   "source": [
    "# write a function to demonstrate the number is odd or even \n",
    "def check_odd_even(num):\n",
    "    if num % 2 ==0:\n",
    "        return \"Even\"\n",
    "    else:\n",
    "        return \"Odd\"\n",
    "number = int(input())\n",
    "print(\"The number is\", number)\n",
    "\n",
    "result = check_odd_even(number)\n",
    "print(\"Number is\", result)"
   ]
  },
  {
   "cell_type": "markdown",
   "metadata": {
    "pycharm": {
     "name": "#%% md\n"
    }
   },
   "source": [
    "Python Assignment Operators\n",
    "\n",
    "Assignment operators are used to assign values to variables:\n",
    "Operator \tExample \tSame As\n",
    "= \t          x = 5 \tx = 5\n",
    "+= \t          x += 3 \tx = x + 3\n",
    "-= \t          x -= 3 \tx = x - 3\n",
    "*= \t          x *= 3 \tx = x * 3\n",
    "/= \t          x /= 3 \tx = x / 3\n",
    "%= \t          x %= 3 \tx = x % 3\n",
    "//= \t      x //= 3 \tx = x // 3\n",
    "**= \t      x **= 3 \tx = x ** 3\n",
    "&= \t          x &= 3 \tx = x & 3\n",
    "|= \t          x |= 3 \tx = x | 3\n",
    "^= \t          x ^= 3 \tx = x ^ 3\n",
    ">>= \t      x >>= 3 \tx = x >> 3\n",
    "<<= \t      x <<= 3 \tx = x << 3"
   ]
  },
  {
   "cell_type": "code",
   "execution_count": 32,
   "metadata": {
    "pycharm": {
     "name": "#%%\n"
    }
   },
   "outputs": [
    {
     "name": "stdout",
     "output_type": "stream",
     "text": [
      "5\n"
     ]
    }
   ],
   "source": [
    "x = 5\n",
    "print(x)"
   ]
  },
  {
   "cell_type": "code",
   "execution_count": 36,
   "metadata": {
    "pycharm": {
     "name": "#%%\n"
    }
   },
   "outputs": [
    {
     "name": "stdout",
     "output_type": "stream",
     "text": [
      "4\n"
     ]
    }
   ],
   "source": [
    "z = 1\n",
    "z += 3\n",
    "print(z)"
   ]
  },
  {
   "cell_type": "code",
   "execution_count": 38,
   "metadata": {
    "pycharm": {
     "name": "#%%\n"
    }
   },
   "outputs": [
    {
     "name": "stdout",
     "output_type": "stream",
     "text": [
      "3\n"
     ]
    }
   ],
   "source": [
    "pq = 6 # 6-3 =3\n",
    "pq -= 3\n",
    "print(pq)"
   ]
  },
  {
   "cell_type": "code",
   "execution_count": 40,
   "metadata": {
    "pycharm": {
     "name": "#%%\n"
    }
   },
   "outputs": [
    {
     "name": "stdout",
     "output_type": "stream",
     "text": [
      "6\n"
     ]
    }
   ],
   "source": [
    "ab = 9 # 9-3 =6\n",
    "ab -= 3\n",
    "print(ab)"
   ]
  },
  {
   "cell_type": "code",
   "execution_count": 41,
   "metadata": {
    "pycharm": {
     "name": "#%%\n"
    }
   },
   "outputs": [
    {
     "name": "stdout",
     "output_type": "stream",
     "text": [
      "24\n"
     ]
    }
   ],
   "source": [
    "n1 = 8\n",
    "n1 *= 3\n",
    "print(n1)"
   ]
  },
  {
   "cell_type": "code",
   "execution_count": 44,
   "metadata": {
    "pycharm": {
     "name": "#%%\n"
    }
   },
   "outputs": [
    {
     "name": "stdout",
     "output_type": "stream",
     "text": [
      "1.0\n",
      "\n"
     ]
    }
   ],
   "source": [
    "a1 = 9\n",
    "a1 /= 3\n",
    "print(a1) #Division"
   ]
  },
  {
   "cell_type": "code",
   "execution_count": 47,
   "metadata": {
    "pycharm": {
     "name": "#%%\n"
    }
   },
   "outputs": [
    {
     "name": "stdout",
     "output_type": "stream",
     "text": [
      "27\n"
     ]
    }
   ],
   "source": [
    "s1 = 3\n",
    "s1 **= 3 # we found square\n",
    "print(s1)"
   ]
  },
  {
   "cell_type": "code",
   "execution_count": 58,
   "metadata": {
    "pycharm": {
     "name": "#%%\n"
    }
   },
   "outputs": [
    {
     "name": "stdout",
     "output_type": "stream",
     "text": [
      "13\n"
     ]
    }
   ],
   "source": [
    "un = 5\n",
    "un |= 9\n",
    "print(un)"
   ]
  },
  {
   "cell_type": "code",
   "execution_count": 63,
   "metadata": {
    "pycharm": {
     "name": "#%%\n"
    }
   },
   "outputs": [
    {
     "name": "stdout",
     "output_type": "stream",
     "text": [
      "0\n"
     ]
    }
   ],
   "source": [
    "d = 4\n",
    "d >>= 9\n",
    "print(d)"
   ]
  },
  {
   "cell_type": "code",
   "execution_count": 6,
   "metadata": {
    "pycharm": {
     "name": "#%% md\n"
    }
   },
   "outputs": [
    {
     "name": "stdout",
     "output_type": "stream",
     "text": [
      "Equal to: False\n",
      "Not equal to: True\n",
      "Less than: True\n",
      "Greater than: False\n",
      "Less than or equal to: True\n",
      "Greater than or equal to: False\n"
     ]
    }
   ],
   "source": [
    "# Comparison Operators\n",
    "a = 5\n",
    "b = 7\n",
    "\n",
    "equal_to = a == b\n",
    "not_equal_to = a != b\n",
    "less_than = a < b\n",
    "greater_than = a > b\n",
    "less_than_or_equal_to = a <= b\n",
    "greater_than_or_equal_to = a >= b\n",
    "\n",
    "print(\"Equal to:\", equal_to)\n",
    "print(\"Not equal to:\", not_equal_to)\n",
    "print(\"Less than:\", less_than)\n",
    "print(\"Greater than:\", greater_than)\n",
    "print(\"Less than or equal to:\", less_than_or_equal_to)\n",
    "print(\"Greater than or equal to:\", greater_than_or_equal_to)\n"
   ]
  },
  {
   "cell_type": "code",
   "execution_count": 64,
   "metadata": {
    "pycharm": {
     "name": "#%%\n"
    }
   },
   "outputs": [
    {
     "name": "stdout",
     "output_type": "stream",
     "text": [
      "True\n"
     ]
    }
   ],
   "source": [
    "x = 5\n",
    "y = 3\n",
    "\n",
    "print(x >= y)\n",
    "# returns True because 5 greater than 3"
   ]
  },
  {
   "cell_type": "code",
   "execution_count": null,
   "metadata": {
    "pycharm": {
     "name": "#%%\n"
    }
   },
   "outputs": [],
   "source": [
    "x = 5\n",
    "y = 3\n",
    "\n",
    "print(x != y)\n",
    "\n",
    "# returns True because 5 is not equal to 3"
   ]
  },
  {
   "cell_type": "markdown",
   "metadata": {
    "pycharm": {
     "name": "#%% md\n"
    }
   },
   "source": [
    "Python Logical Operators\n",
    "\n",
    "Logical operators are used to combine conditional statements:\n",
    "\n",
    "\n",
    "Operator \t    Description \t                                            Example\n",
    "and  \t        Returns True if both statements are true \t                x < 5 and  x < 10\n",
    "or \t            Returns True if one of the statements is true \t            x < 5 or x < 4\n",
    "not \t        Reverse the result, returns False if the result is true \tnot(x < 5 and x < 10)"
   ]
  },
  {
   "cell_type": "code",
   "execution_count": 66,
   "metadata": {
    "pycharm": {
     "name": "#%%\n"
    }
   },
   "outputs": [
    {
     "name": "stdout",
     "output_type": "stream",
     "text": [
      "True\n"
     ]
    }
   ],
   "source": [
    "x = 5\n",
    "\n",
    "print(x > 3 and x < 10)\n",
    "\n",
    "# returns True because 5 is greater than 3 AND 5 is less than 10"
   ]
  },
  {
   "cell_type": "code",
   "execution_count": 67,
   "metadata": {
    "pycharm": {
     "name": "#%%\n"
    }
   },
   "outputs": [
    {
     "name": "stdout",
     "output_type": "stream",
     "text": [
      "True\n"
     ]
    }
   ],
   "source": [
    "x = 5\n",
    "\n",
    "print(x > 3 or x < 4)\n",
    "\n",
    "# returns True because one of the conditions are true (5 is greater than 3, but 5 is not less than 4)"
   ]
  },
  {
   "cell_type": "code",
   "execution_count": 68,
   "metadata": {
    "pycharm": {
     "name": "#%%\n"
    }
   },
   "outputs": [
    {
     "name": "stdout",
     "output_type": "stream",
     "text": [
      "False\n"
     ]
    }
   ],
   "source": [
    "x = 5\n",
    "\n",
    "print(not(x > 3 and x < 10))\n",
    "\n",
    "# returns False because not is used to reverse the result"
   ]
  },
  {
   "cell_type": "markdown",
   "metadata": {
    "pycharm": {
     "name": "#%% md\n"
    }
   },
   "source": [
    "Python Identity Operators\n",
    "\n",
    "Identity operators are used to compare the objects, not if they are equal, but if they are actually the same object, with the same memory location:\n",
    "Operator \t    Description \t                                            Example\n",
    "is  \t    Returns True if both variables are the same object \t            x is y\n",
    "is not \t    Returns True if both variables are not the same object \t        x is not y"
   ]
  },
  {
   "cell_type": "code",
   "execution_count": 69,
   "metadata": {
    "pycharm": {
     "name": "#%%\n"
    }
   },
   "outputs": [
    {
     "name": "stdout",
     "output_type": "stream",
     "text": [
      "True\n",
      "False\n",
      "True\n"
     ]
    }
   ],
   "source": [
    "x = [\"apple\", \"banana\"]\n",
    "y = [\"apple\", \"banana\"]\n",
    "z = x\n",
    "\n",
    "print(x is z)\n",
    "# returns True because z is the same object as x\n",
    "print(x is y)\n",
    "# returns False because x is not the same object as y, even if they have the same content\n",
    "print(x == y)\n",
    "# to demonstrate the difference between \"is\" and \"==\": this comparison returns True because x is equal to y"
   ]
  },
  {
   "cell_type": "code",
   "execution_count": 70,
   "metadata": {
    "pycharm": {
     "name": "#%%\n"
    }
   },
   "outputs": [
    {
     "name": "stdout",
     "output_type": "stream",
     "text": [
      "False\n",
      "True\n",
      "False\n"
     ]
    }
   ],
   "source": [
    "x = [\"apple\", \"banana\"]\n",
    "y = [\"apple\", \"banana\"]\n",
    "z = x\n",
    "\n",
    "print(x is not z)\n",
    "# returns False because z is the same object as x\n",
    "print(x is not y)\n",
    "# returns True because x is not the same object as y, even if they have the same content\n",
    "print(x != y)\n",
    "# to demonstrate the difference betweeen \"is not\" and \"!=\": this comparison returns False because x is equal to y"
   ]
  },
  {
   "cell_type": "markdown",
   "metadata": {
    "pycharm": {
     "name": "#%% md\n"
    }
   },
   "source": [
    "Python Membership Operators\n",
    "\n",
    "Membership operators are used to test if a sequence is presented in an object:\n",
    "\n",
    "Operator \tDescription \t                                                                    Example\n",
    "in  \t    Returns True if a sequence with the specified value is present in the object \t    x in y\n",
    "not in \t    Returns True if a sequence with the specified value is not present in the object \tx not in y"
   ]
  },
  {
   "cell_type": "code",
   "execution_count": 71,
   "metadata": {
    "pycharm": {
     "name": "#%%\n"
    }
   },
   "outputs": [
    {
     "name": "stdout",
     "output_type": "stream",
     "text": [
      "True\n"
     ]
    }
   ],
   "source": [
    "x = [\"apple\", \"banana\"]\n",
    "print(\"banana\" in x)\n",
    "# returns True because a sequence with the value \"banana\" is in the list"
   ]
  },
  {
   "cell_type": "code",
   "execution_count": 72,
   "metadata": {
    "pycharm": {
     "name": "#%%\n"
    }
   },
   "outputs": [
    {
     "name": "stdout",
     "output_type": "stream",
     "text": [
      "True\n"
     ]
    }
   ],
   "source": [
    "x = [\"apple\", \"banana\"]\n",
    "print(\"pineapple\" not in x)\n",
    "# returns True because a sequence with the value \"pineapple\" is not in the list"
   ]
  },
  {
   "cell_type": "markdown",
   "metadata": {
    "pycharm": {
     "name": "#%% md\n"
    }
   },
   "source": [
    "Python Bitwise Operators\n",
    "\n",
    "Bitwise operators are used to compare (binary) numbers:\n",
    "\n",
    "Operator \tName \t                Description \t                                    Example\n",
    "&  \t        AND \t                Sets each bit to 1 if both bits are 1 \t            x & y\n",
    "| \t        OR \t                    Sets each bit to 1 if one of two bits is 1 \t        x | y\n",
    "^ \t        XOR \t                Sets each bit to 1 if only one of two bits is 1 \tx ^ y\n",
    "~ \t        NOT \t                Inverts all the bits \t                              ~x\n",
    "<< \t        Zero fill left shift \tShift left by pushing zeros in from the right\n",
    "                                      and let the leftmost bits fall off \t            x << 2\n",
    ">> \t        Signed right shift \t     Shift right by pushing copies of the leftmost\n",
    "                                     bit in from the left, and let the\n",
    "                                     rightmost bits fall off \t                         x >> 2"
   ]
  },
  {
   "cell_type": "code",
   "execution_count": 5,
   "metadata": {
    "pycharm": {
     "name": "#%%\n"
    }
   },
   "outputs": [
    {
     "name": "stdout",
     "output_type": "stream",
     "text": [
      "8\n"
     ]
    }
   ],
   "source": [
    "print(56 & 10)"
   ]
  },
  {
   "cell_type": "markdown",
   "metadata": {
    "pycharm": {
     "name": "#%% md\n"
    }
   },
   "source": [
    "Operator Precedence\n",
    "\n",
    "Operator precedence describes the order in which operations are performed.\n",
    "Parenthesis has the highest precedence, meaning that expressions inside parentheses must be evaluated first:\n",
    "\n",
    "Example\n"
   ]
  },
  {
   "cell_type": "code",
   "execution_count": 80,
   "metadata": {
    "pycharm": {
     "name": "#%%\n"
    }
   },
   "outputs": [
    {
     "name": "stdout",
     "output_type": "stream",
     "text": [
      "0\n"
     ]
    }
   ],
   "source": [
    "print((6 + 3) - (6 + 3))"
   ]
  },
  {
   "cell_type": "code",
   "execution_count": 81,
   "metadata": {
    "pycharm": {
     "name": "#%%\n"
    }
   },
   "outputs": [
    {
     "name": "stdout",
     "output_type": "stream",
     "text": [
      "115\n"
     ]
    }
   ],
   "source": [
    "# Multiplication * has higher precedence than addition +, and therefor multiplications are evaluated before additions:\n",
    "print(100 + 5 * 3)"
   ]
  },
  {
   "cell_type": "code",
   "execution_count": 82,
   "metadata": {
    "pycharm": {
     "name": "#%%\n"
    }
   },
   "outputs": [
    {
     "name": "stdout",
     "output_type": "stream",
     "text": [
      "60\n"
     ]
    }
   ],
   "source": [
    "print(100 // 5 * 3)"
   ]
  },
  {
   "cell_type": "markdown",
   "metadata": {},
   "source": [
    "# Asignments and Homework "
   ]
  },
  {
   "cell_type": "code",
   "execution_count": 10,
   "metadata": {},
   "outputs": [
    {
     "name": "stdout",
     "output_type": "stream",
     "text": [
      "9\n"
     ]
    }
   ],
   "source": [
    "#Print the result of the following expression:\n",
    "\n",
    "#(3 + 4) // 2 + 6\n",
    "\n",
    "def main():\n",
    "    print((3 + 4) // 2 + 6)\n",
    "    return 0\n",
    "if __name__ == '__main__':\n",
    "    main()"
   ]
  },
  {
   "cell_type": "code",
   "execution_count": 4,
   "metadata": {},
   "outputs": [
    {
     "name": "stdout",
     "output_type": "stream",
     "text": [
      "5423\n",
      "hello65\n"
     ]
    }
   ],
   "source": [
    "# String Concatenation Python\n",
    "print(\"54\" + \"23\")\n",
    "print(\"hello\"+\"65\")\n"
   ]
  },
  {
   "cell_type": "code",
   "execution_count": 16,
   "metadata": {},
   "outputs": [
    {
     "name": "stdout",
     "output_type": "stream",
     "text": [
      "110.0\n"
     ]
    }
   ],
   "source": [
    "# Evaluate the Expression\n",
    "x = 50 * 2 + (60 - 20) / 4\n",
    "print(x)"
   ]
  },
  {
   "cell_type": "code",
   "execution_count": 18,
   "metadata": {},
   "outputs": [
    {
     "name": "stdout",
     "output_type": "stream",
     "text": [
      "5.25\n"
     ]
    }
   ],
   "source": [
    "# Evaluate Boolean Expression\n",
    "\n",
    "x = 20\n",
    "y = 5\n",
    "result = (x+True)/(4-y*False)\n",
    "print(result)"
   ]
  },
  {
   "cell_type": "code",
   "execution_count": 7,
   "metadata": {},
   "outputs": [
    {
     "data": {
      "text/plain": [
       "True"
      ]
     },
     "execution_count": 7,
     "metadata": {},
     "output_type": "execute_result"
    }
   ],
   "source": [
    "True == 1\n"
   ]
  },
  {
   "cell_type": "code",
   "execution_count": 10,
   "metadata": {},
   "outputs": [
    {
     "data": {
      "text/plain": [
       "False"
      ]
     },
     "execution_count": 10,
     "metadata": {},
     "output_type": "execute_result"
    }
   ],
   "source": [
    "False == 1"
   ]
  },
  {
   "cell_type": "code",
   "execution_count": 12,
   "metadata": {},
   "outputs": [
    {
     "name": "stdout",
     "output_type": "stream",
     "text": [
      "False\n"
     ]
    }
   ],
   "source": [
    "print( '1' == 1)"
   ]
  },
  {
   "cell_type": "code",
   "execution_count": 15,
   "metadata": {},
   "outputs": [
    {
     "name": "stdout",
     "output_type": "stream",
     "text": [
      "5\n",
      "14.666666666666666\n"
     ]
    }
   ],
   "source": [
    "# Python Division\n",
    "x = 55 // 11\n",
    "y = 44/3\n",
    "print(x)\n",
    "print(y)"
   ]
  }
 ],
 "metadata": {
  "kernelspec": {
   "display_name": "Python 3 (ipykernel)",
   "language": "python",
   "name": "python3"
  },
  "language_info": {
   "codemirror_mode": {
    "name": "ipython",
    "version": 3
   },
   "file_extension": ".py",
   "mimetype": "text/x-python",
   "name": "python",
   "nbconvert_exporter": "python",
   "pygments_lexer": "ipython3",
   "version": "3.10.10"
  }
 },
 "nbformat": 4,
 "nbformat_minor": 1
}
