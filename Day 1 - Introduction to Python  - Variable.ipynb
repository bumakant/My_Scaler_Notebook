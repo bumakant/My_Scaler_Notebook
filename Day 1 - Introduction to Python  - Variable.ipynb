{
 "cells": [
  {
   "cell_type": "markdown",
   "metadata": {
    "pycharm": {
     "name": "#%% md\n"
    }
   },
   "source": [
    "What is Python?\n",
    "\n",
    "Python is a popular programming language. It was created by Guido van Rossum, and released in 1991.\n",
    "\n",
    "It is used for:\n",
    "\n",
    "    web development (server-side),\n",
    "    software development,\n",
    "    mathematics,\n",
    "    system scripting.\n",
    "\n",
    "What can Python do?\n",
    "\n",
    "    Python can be used on a server to create web applications.\n",
    "    Python can be used alongside software to create workflows.\n",
    "    Python can connect to database systems. It can also read and modify files.\n",
    "    Python can be used to handle big data and perform complex mathematics.\n",
    "    Python can be used for rapid prototyping, or for production-ready software development.\n",
    "\n",
    "Why Python?\n",
    "\n",
    "    Python works on different platforms (Windows, Mac, Linux, Raspberry Pi, etc).\n",
    "    Python has a simple syntax similar to the English language.\n",
    "    Python has syntax that allows developers to write programs with fewer lines than some other programming languages.\n",
    "    Python runs on an interpreter system, meaning that code can be executed as soon as it is written.\n",
    "     This means that prototyping can be very quick.\n",
    "    Python can be treated in a procedural way, an object-oriented way or a functional way.\n",
    "\n",
    "Good to know\n",
    "\n",
    "    The most recent major version of Python is Python 3, which we shall be using in this tutorial.\n",
    "     However, Python 2, although not being updated with anything other than security updates, is still quite popular.\n",
    "    In this tutorial Python will be written in a text editor.\n",
    "    It is possible to write Python in an Integrated Development Environment,\n",
    "    such as Thonny, Pycharm, Netbeans or Eclipse which are particularly useful when managing larger collections of Python files.\n",
    "\n",
    "Python Syntax compared to other programming languages\n",
    "\n",
    "    1 - Python was designed for readability, and has some similarities to the English language with influence from mathematics.\n",
    "    Python uses new lines to complete a command, as opposed to other programming languages which often use semicolons or parentheses.\n",
    "    Python relies on indentation, using whitespace, to define scope; such as the scope of loops, functions and classes.\n",
    "    Other programming languages often use curly-brackets for this purpose.\n",
    "\n",
    "\n"
   ]
  },
  {
   "cell_type": "markdown",
   "metadata": {
    "pycharm": {
     "name": "#%% md\n"
    }
   },
   "source": [
    "https://www.geeksforgeeks.org/introduction-to-python/"
   ]
  },
  {
   "cell_type": "code",
   "execution_count": null,
   "metadata": {
    "pycharm": {
     "is_executing": true,
     "name": "#%%\n"
    }
   },
   "outputs": [],
   "source": [
    "print(\"Hello Umakant !\")"
   ]
  },
  {
   "cell_type": "code",
   "execution_count": null,
   "metadata": {
    "pycharm": {
     "is_executing": true,
     "name": "#%%\n"
    }
   },
   "outputs": [],
   "source": [
    "# Python code for \"Hello World\"\n",
    "# nothing else to type...see how simple is the syntax.\n",
    "  \n",
    "print(\"Hello World\")   "
   ]
  },
  {
   "cell_type": "code",
   "execution_count": 26,
   "metadata": {
    "pycharm": {
     "name": "#%%\n"
    }
   },
   "outputs": [
    {
     "name": "stdout",
     "output_type": "stream",
     "text": [
      "I \n",
      "am Successful \n",
      "python Coder.\n"
     ]
    }
   ],
   "source": [
    "print(\"I \\nam Successful \\npython Coder.\")"
   ]
  },
  {
   "cell_type": "code",
   "execution_count": 27,
   "metadata": {
    "pycharm": {
     "name": "#%%\n"
    }
   },
   "outputs": [
    {
     "name": "stdout",
     "output_type": "stream",
     "text": [
      "True\n"
     ]
    }
   ],
   "source": [
    "if 5 == 1+3+1:\n",
    "    print(True)\n",
    "else:\n",
    "    print(False)"
   ]
  },
  {
   "cell_type": "code",
   "execution_count": 1,
   "metadata": {
    "pycharm": {
     "name": "#%%\n"
    }
   },
   "outputs": [
    {
     "name": "stdout",
     "output_type": "stream",
     "text": [
      "x is between 10 and 20\n"
     ]
    }
   ],
   "source": [
    "# Check if a number is between 10 and 20 (inclusive)\n",
    "x = 15\n",
    "\n",
    "if x in range(10, 21):\n",
    "    print(\"x is between 10 and 20\")\n",
    "else:\n",
    "    print(\"x is outside the range of 10 to 20\")"
   ]
  },
  {
   "cell_type": "code",
   "execution_count": null,
   "metadata": {
    "pycharm": {
     "name": "#%%\n"
    }
   },
   "outputs": [],
   "source": [
    "'''Input and Output\n",
    "\n",
    "In this section, we will learn how to take input from the user and\n",
    "hence manipulate it or simply display it. \n",
    "input() function is used to take input from the user.'''\n",
    "\n",
    "# Python program to illustrate\n",
    "# getting input from user\n",
    "name = input(\"Enter your name: \")\n",
    "\n",
    "# user entered the name 'harssh'\n",
    "print(\"hello\", name)\n"
   ]
  },
  {
   "cell_type": "code",
   "execution_count": 5,
   "metadata": {
    "pycharm": {
     "name": "#%%\n"
    }
   },
   "outputs": [
    {
     "name": "stdout",
     "output_type": "stream",
     "text": [
      "False\n"
     ]
    }
   ],
   "source": [
    "n = int(input())\n",
    "m = int(input())\n",
    "o = int(input())\n",
    "\n",
    "if m == n or o != n:\n",
    "    print(True)\n",
    "else:\n",
    "    print(False)"
   ]
  },
  {
   "cell_type": "code",
   "execution_count": 29,
   "metadata": {
    "pycharm": {
     "name": "#%%\n"
    }
   },
   "outputs": [
    {
     "name": "stdout",
     "output_type": "stream",
     "text": [
      "Just a triangle\n"
     ]
    }
   ],
   "source": [
    "a = int(input())\n",
    "b = int(input())\n",
    "c = int(input())\n",
    "if a == b and b == c:\n",
    "    print(\"Equilateral Triangle\")\n",
    "if a == b and b != c:\n",
    "    print(\"Isosceles triangle\")\n",
    "if a != b and a != c and c != b:\n",
    "    print(\"Just a triangle\")"
   ]
  },
  {
   "cell_type": "code",
   "execution_count": 3,
   "metadata": {
    "pycharm": {
     "name": "#%%\n"
    }
   },
   "outputs": [
    {
     "name": "stdout",
     "output_type": "stream",
     "text": [
      "Straight Line\n"
     ]
    }
   ],
   "source": [
    "a = float(input())\n",
    "\n",
    "if a == 180:\n",
    "    print(\"Straight Line\")\n",
    "elif a < 90:\n",
    "    print(\"Acute Angle\")\n",
    "elif a == 90:\n",
    "    print(\"Right Angle\")\n",
    "elif a > 90:\n",
    "    print(\"obtuse angle\")\n"
   ]
  },
  {
   "cell_type": "code",
   "execution_count": 5,
   "metadata": {
    "pycharm": {
     "name": "#%%\n"
    }
   },
   "outputs": [
    {
     "name": "stdout",
     "output_type": "stream",
     "text": [
      "Area of circle: 3.14 Circumference of circle 6.28\n"
     ]
    }
   ],
   "source": [
    "# Area of circle\n",
    "# formula = pie*r**2\n",
    "r = float(input())\n",
    "a = 3.14*(r**2) # area of circle\n",
    "c = 2*3.14*r # circumference of circle\n",
    "print(\"Area of circle:\", a ,\"Circumference of circle\",c)"
   ]
  },
  {
   "cell_type": "markdown",
   "metadata": {
    "pycharm": {
     "name": "#%% md\n"
    }
   },
   "source": [
    "Python Booleans\n",
    "\n",
    "Booleans represent one of two values: True or False.\n",
    "Boolean Values\n",
    "\n",
    "In programming you often need to know if an expression is True or False.\n",
    "\n",
    "You can evaluate any expression in Python, and get one of two answers, True or False.\n",
    "\n",
    "When you compare two values, the expression is evaluated and Python returns the Boolean answer:"
   ]
  },
  {
   "cell_type": "code",
   "execution_count": 32,
   "metadata": {
    "pycharm": {
     "name": "#%%\n"
    }
   },
   "outputs": [
    {
     "name": "stdout",
     "output_type": "stream",
     "text": [
      "True\n",
      "False\n",
      "False\n"
     ]
    }
   ],
   "source": [
    "print(10 > 9)\n",
    "print(10 == 9)\n",
    "print(10 < 9)"
   ]
  },
  {
   "cell_type": "code",
   "execution_count": 33,
   "metadata": {
    "pycharm": {
     "name": "#%%\n"
    }
   },
   "outputs": [],
   "source": [
    "# When you run a condition in an if statement, Python returns True or False:"
   ]
  },
  {
   "cell_type": "code",
   "execution_count": 34,
   "metadata": {
    "pycharm": {
     "name": "#%%\n"
    }
   },
   "outputs": [
    {
     "name": "stdout",
     "output_type": "stream",
     "text": [
      "b is not greater than a\n"
     ]
    }
   ],
   "source": [
    "a = 200\n",
    "b = 33\n",
    "\n",
    "if b > a:\n",
    "  print(\"b is greater than a\")\n",
    "else:\n",
    "  print(\"b is not greater than a\")"
   ]
  },
  {
   "cell_type": "code",
   "execution_count": 6,
   "metadata": {
    "pycharm": {
     "name": "#%%\n"
    }
   },
   "outputs": [
    {
     "name": "stdout",
     "output_type": "stream",
     "text": [
      "True\n",
      "True\n"
     ]
    }
   ],
   "source": [
    "'''Evaluate Values and Variables\n",
    "\n",
    "The bool() function allows you to evaluate any value, \n",
    "and give you True or False in return,'''\n",
    "print(bool(\"Hello\"))\n",
    "print(bool(15))"
   ]
  },
  {
   "cell_type": "code",
   "execution_count": 36,
   "metadata": {
    "pycharm": {
     "name": "#%%\n"
    }
   },
   "outputs": [
    {
     "name": "stdout",
     "output_type": "stream",
     "text": [
      "True\n",
      "True\n"
     ]
    }
   ],
   "source": [
    "x = \"Hello\"\n",
    "y = 15\n",
    "\n",
    "print(bool(x))\n",
    "print(bool(y))"
   ]
  },
  {
   "cell_type": "markdown",
   "metadata": {
    "pycharm": {
     "name": "#%% md\n"
    }
   },
   "source": [
    "# Most Values are True\n",
    "\n",
    "# Almost any value is evaluated to True if it has some sort of content.\n",
    "\n",
    "# Any string is True, except empty strings.\n",
    "\n",
    "# Any number is True, except 0.\n",
    "\n",
    " # Any list, tuple, set, and dictionary are True, except empty ones."
   ]
  },
  {
   "cell_type": "code",
   "execution_count": 4,
   "metadata": {
    "pycharm": {
     "name": "#%%\n"
    }
   },
   "outputs": [
    {
     "data": {
      "text/plain": [
       "True"
      ]
     },
     "execution_count": 4,
     "metadata": {},
     "output_type": "execute_result"
    }
   ],
   "source": [
    "bool([\"apple\", \"cherry\", \"banana\"])"
   ]
  },
  {
   "cell_type": "code",
   "execution_count": 3,
   "metadata": {
    "pycharm": {
     "name": "#%%\n"
    }
   },
   "outputs": [
    {
     "data": {
      "text/plain": [
       "False"
      ]
     },
     "execution_count": 3,
     "metadata": {},
     "output_type": "execute_result"
    }
   ],
   "source": [
    "bool(10==9)"
   ]
  },
  {
   "cell_type": "code",
   "execution_count": 6,
   "metadata": {
    "pycharm": {
     "name": "#%%\n"
    }
   },
   "outputs": [
    {
     "ename": "TypeError",
     "evalue": "'type' object is not subscriptable",
     "output_type": "error",
     "traceback": [
      "\u001B[1;31m---------------------------------------------------------------------------\u001B[0m",
      "\u001B[1;31mTypeError\u001B[0m                                 Traceback (most recent call last)",
      "Cell \u001B[1;32mIn[6], line 1\u001B[0m\n\u001B[1;32m----> 1\u001B[0m \u001B[39mbool\u001B[39;49m[\u001B[39m\"\u001B[39;49m\u001B[39mTrue\u001B[39;49m\u001B[39m\"\u001B[39;49m]\n\u001B[0;32m      2\u001B[0m \u001B[39m# TypeError: type 'bool' is not subscriptable\u001B[39;00m\n",
      "\u001B[1;31mTypeError\u001B[0m: 'type' object is not subscriptable"
     ]
    }
   ],
   "source": [
    "bool[\"True\"]\n",
    "# TypeError: type 'bool' is not subscriptable"
   ]
  },
  {
   "cell_type": "code",
   "execution_count": 1,
   "metadata": {
    "pycharm": {
     "name": "#%%\n"
    }
   },
   "outputs": [
    {
     "data": {
      "text/plain": [
       "False"
      ]
     },
     "execution_count": 1,
     "metadata": {},
     "output_type": "execute_result"
    }
   ],
   "source": [
    "'''Some Values are False\n",
    "\n",
    "In fact, there are not many values that evaluate to False,\n",
    "except empty values, such as (), [], {}, \"\", the number 0, and the value None.\n",
    "And of course the value False evaluates to False.'''\n",
    "\n",
    "bool(False)\n",
    "bool(None)\n",
    "bool(0)\n",
    "bool(\"\")\n",
    "bool(())\n",
    "bool([])\n",
    "bool({})"
   ]
  },
  {
   "cell_type": "markdown",
   "metadata": {
    "pycharm": {
     "name": "#%% md\n"
    }
   },
   "source": [
    "One more value, or object in this case, evaluates to False, and that is if you have an object that is made from a class with a __len__ function that returns 0 or False:"
   ]
  },
  {
   "cell_type": "code",
   "execution_count": 39,
   "metadata": {
    "pycharm": {
     "name": "#%%\n"
    }
   },
   "outputs": [
    {
     "name": "stdout",
     "output_type": "stream",
     "text": [
      "False\n"
     ]
    }
   ],
   "source": [
    "class myclass():\n",
    "  def __len__(self):\n",
    "    return 0\n",
    "\n",
    "myobj = myclass()\n",
    "print(bool(myobj))"
   ]
  },
  {
   "cell_type": "code",
   "execution_count": 40,
   "metadata": {
    "pycharm": {
     "name": "#%%\n"
    }
   },
   "outputs": [
    {
     "name": "stdout",
     "output_type": "stream",
     "text": [
      "True\n"
     ]
    }
   ],
   "source": [
    "'''Functions can Return a Boolean\n",
    "\n",
    "You can create functions that returns a Boolean Value:'''\n",
    "\n",
    "def myFunction() :\n",
    "  return True\n",
    "\n",
    "print(myFunction())"
   ]
  },
  {
   "cell_type": "code",
   "execution_count": 41,
   "metadata": {
    "pycharm": {
     "name": "#%%\n"
    }
   },
   "outputs": [],
   "source": [
    "# You can execute code based on the Boolean answer of a function:"
   ]
  },
  {
   "cell_type": "code",
   "execution_count": 42,
   "metadata": {
    "pycharm": {
     "name": "#%%\n"
    }
   },
   "outputs": [
    {
     "name": "stdout",
     "output_type": "stream",
     "text": [
      "YES!\n"
     ]
    }
   ],
   "source": [
    "def myFunction() :\n",
    "  return True\n",
    "\n",
    "if myFunction():\n",
    "  print(\"YES!\")\n",
    "else:\n",
    "  print(\"NO!\")"
   ]
  },
  {
   "cell_type": "code",
   "execution_count": 43,
   "metadata": {
    "pycharm": {
     "name": "#%%\n"
    }
   },
   "outputs": [
    {
     "name": "stdout",
     "output_type": "stream",
     "text": [
      "True\n"
     ]
    }
   ],
   "source": [
    "'''Python also has many built-in functions that return a boolean value, like the isinstance()function, \n",
    "which can be used to determine if an object is of a certain data type:'''\n",
    "\n",
    "x = 200\n",
    "print(isinstance(x, int))"
   ]
  },
  {
   "cell_type": "markdown",
   "metadata": {
    "pycharm": {
     "name": "#%% md\n"
    }
   },
   "source": [
    "# Variables\n",
    "In other programming languages like C, C++, and Java, you will need to declare the type of variables but in Python you don’t need to do that. Just type in the variable and when values will be given to it, then it will automatically know whether the value given would be an int, float, or char or even a String.\n",
    "\n",
    "\n",
    "# Creating Variables\n",
    "Python has no command for declaring a variable.\n",
    "\n",
    "A variable is created the moment you first assign a value to it.\n",
    "\n",
    "# Variable Names\n",
    "1- A variable can have a short name (like x and y) or a more descriptive name (age, carname, total_volume). Rules for Python variables:\n",
    "2 -A variable name must start with a letter or the underscore character\n",
    "3 -A variable name cannot start with a number\n",
    "4 -A variable name can only contain alpha-numeric characters and underscores (A-z, 0-9, and _ )\n",
    "5 -Variable names are case-sensitive (age, Age and AGE are three different variables)\n",
    "6 -A variable name cannot be any of the Python keywords.\n"
   ]
  },
  {
   "cell_type": "code",
   "execution_count": 44,
   "metadata": {
    "pycharm": {
     "name": "#%%\n"
    }
   },
   "outputs": [],
   "source": [
    "# Variable Names \n",
    "myvar = \"John\"\n",
    "my_var = \"John\"\n",
    "_my_var = \"John\"\n",
    "myVar = \"John\"\n",
    "MYVAR = \"John\"\n",
    "myvar2 = \"John\""
   ]
  },
  {
   "cell_type": "markdown",
   "metadata": {
    "pycharm": {
     "name": "#%% md\n"
    }
   },
   "source": [
    " # Multi Words Variable Names\n",
    "Variable names with more than one word can be difficult to read.\n",
    "\n",
    "There are several techniques you can use to make them more readable:\n",
    "\n",
    "# Camel Case\n",
    "Each word, except the first, starts with a capital letter:\n",
    "myVariableName = \"John\"\n",
    "\n",
    "# Pascal Case\n",
    "Each word starts with a capital letter:\n",
    "\n",
    "#MyVariableName = \"John\"\n",
    "\n",
    "# Snake Case\n",
    "Each word is separated by an underscore character:\n",
    "\n",
    "my_variable_name = \"John\""
   ]
  },
  {
   "cell_type": "code",
   "execution_count": 45,
   "metadata": {
    "pycharm": {
     "name": "#%%\n"
    }
   },
   "outputs": [
    {
     "name": "stdout",
     "output_type": "stream",
     "text": [
      "Orange\n",
      "Banana\n",
      "Cherry\n"
     ]
    }
   ],
   "source": [
    "\"\"\"Assign Multiple Values\"\"\"\n",
    "\n",
    "# Python allows you to assign values to multiple variables in one line:\n",
    "\n",
    "# Example\n",
    "x, y, z = \"Orange\", \"Banana\", \"Cherry\"\n",
    "print(x)\n",
    "print(y)\n",
    "print(z)"
   ]
  },
  {
   "cell_type": "code",
   "execution_count": 46,
   "metadata": {
    "pycharm": {
     "name": "#%%\n"
    }
   },
   "outputs": [
    {
     "name": "stdout",
     "output_type": "stream",
     "text": [
      "apple\n",
      "banana\n",
      "cherry\n"
     ]
    }
   ],
   "source": [
    "\"\"\"Unpack a Collection\n",
    "If you have a collection of values in a list, tuple etc.\n",
    "Python allows you to extract the values into variables.\n",
    "This is called unpacking.\"\"\"\n",
    "\n",
    "fruits = [\"apple\", \"banana\", \"cherry\"]\n",
    "x, y, z = fruits\n",
    "print(x)\n",
    "print(y)\n",
    "print(z)"
   ]
  },
  {
   "cell_type": "code",
   "execution_count": 47,
   "metadata": {
    "pycharm": {
     "name": "#%%\n"
    }
   },
   "outputs": [
    {
     "name": "stdout",
     "output_type": "stream",
     "text": [
      "Python is awesome\n"
     ]
    }
   ],
   "source": [
    "\"\"\"Output Variables\n",
    "The Python print() function is often used to output variables.\"\"\"\n",
    "\n",
    "x = \"Python\"\n",
    "y = \"is\"\n",
    "z = \"awesome\"\n",
    "print(x, y, z)"
   ]
  },
  {
   "cell_type": "code",
   "execution_count": 48,
   "metadata": {
    "pycharm": {
     "name": "#%%\n"
    }
   },
   "outputs": [
    {
     "name": "stdout",
     "output_type": "stream",
     "text": [
      "Python is awesome\n"
     ]
    }
   ],
   "source": [
    "\"\"\"You can also use the + operator to output multiple variables:\"\"\"\n",
    "\n",
    "# Notice the space character after \"Python \" and \"is \", without them the result would be \"Pythonisawesome\".\n",
    "\n",
    "x = \"Python \"\n",
    "y = \"is \"\n",
    "z = \"awesome\"\n",
    "print(x + y + z)"
   ]
  },
  {
   "cell_type": "code",
   "execution_count": 49,
   "metadata": {
    "pycharm": {
     "name": "#%%\n"
    }
   },
   "outputs": [
    {
     "name": "stdout",
     "output_type": "stream",
     "text": [
      "Python is awesome\n"
     ]
    }
   ],
   "source": [
    "\"\"\"Global Variables\n",
    "Variables that are created outside of a function (as in all of the examples above) are known as global variables.\n",
    "\n",
    "Global variables can be used by everyone, both inside of functions and outside.\"\"\"\n",
    "\n",
    "x = \"awesome\" # Global Variable \n",
    "\n",
    "def myfunc():\n",
    "  print(\"Python is \" + x)\n",
    "\n",
    "myfunc()"
   ]
  },
  {
   "cell_type": "markdown",
   "metadata": {
    "pycharm": {
     "name": "#%% md\n"
    }
   },
   "source": [
    "Functions\n",
    "\n",
    "You can think of functions like a bunch of code that is intended to do a particular task in the whole Python script. Python used the keyword ‘def’ to define a function.\n",
    "Syntax:\n",
    "\n",
    "def function-name(arguments):\n",
    "            #function body"
   ]
  },
  {
   "cell_type": "code",
   "execution_count": 8,
   "metadata": {
    "pycharm": {
     "name": "#%%\n"
    }
   },
   "outputs": [
    {
     "name": "stdout",
     "output_type": "stream",
     "text": [
      "hello\n",
      "hello again\n",
      "hello\n",
      "hello again\n"
     ]
    }
   ],
   "source": [
    "# Python program to illustrate\n",
    "# functions\n",
    "def hello():\n",
    "    print(\"hello\")\n",
    "    print(\"hello again\")\n",
    "hello()\n",
    "  \n",
    "# calling function\n",
    "hello()"
   ]
  },
  {
   "cell_type": "code",
   "execution_count": 50,
   "metadata": {
    "pycharm": {
     "name": "#%%\n"
    }
   },
   "outputs": [
    {
     "name": "stdout",
     "output_type": "stream",
     "text": [
      "Python is fantastic\n",
      "Python is awesome\n"
     ]
    }
   ],
   "source": [
    "\"\"\"If you create a variable with the same name inside a function,\n",
    "this variable will be local, \n",
    "and can only be used inside the function. \n",
    "The global variable with the same name will remain as it was, \n",
    "\n",
    "global and with the original value.\"\"\"\n",
    "\n",
    "# Create a variable inside a function, with the same name as the global variable\n",
    "\n",
    "x = \"awesome\" # this is global variable outside the fucn\n",
    "\n",
    "def myfunc(): # myfunc opened here\n",
    "  x = \"fantastic\" # Local Variable whcih is inside the function\n",
    "  print(\"Python is \" + x)\n",
    "\n",
    "myfunc() # myfunc closed here\n",
    "\n",
    "print(\"Python is \" + x)"
   ]
  },
  {
   "cell_type": "code",
   "execution_count": 51,
   "metadata": {
    "pycharm": {
     "name": "#%%\n"
    }
   },
   "outputs": [
    {
     "name": "stdout",
     "output_type": "stream",
     "text": [
      "Python is fantastic\n"
     ]
    }
   ],
   "source": [
    "\"\"\"The global Keyword\n",
    "Normally, when you create a variable inside a function, that variable is local, \n",
    "and can only be used inside that function.\n",
    "\n",
    "To create a global variable inside a function, you can use the global keyword.\"\"\"\n",
    "\n",
    "# If you use the global keyword, the variable belongs to the global scope:\n",
    "\n",
    "def myfunc():\n",
    "  global x\n",
    "  x = \"fantastic\"\n",
    "\n",
    "myfunc()\n",
    "\n",
    "print(\"Python is \" + x)"
   ]
  },
  {
   "cell_type": "code",
   "execution_count": 52,
   "metadata": {
    "pycharm": {
     "name": "#%%\n"
    }
   },
   "outputs": [
    {
     "name": "stdout",
     "output_type": "stream",
     "text": [
      "Python is fantastic\n"
     ]
    }
   ],
   "source": [
    "'''Also, use the global keyword if you want to change a global variable inside a function.'''\n",
    "\n",
    "# To change the value of a global variable inside a function, refer to the variable by using the global keyword:\n",
    "\n",
    "x = \"awesome\"\n",
    "\n",
    "def myfunc():\n",
    "  global x\n",
    "  x = \"fantastic\"\n",
    "\n",
    "myfunc()\n",
    "\n",
    "print(\"Python is \" + x)"
   ]
  },
  {
   "cell_type": "markdown",
   "metadata": {
    "pycharm": {
     "name": "#%% md\n"
    }
   },
   "source": [
    "# Assignments and Homework"
   ]
  },
  {
   "cell_type": "code",
   "execution_count": 1,
   "metadata": {
    "pycharm": {
     "name": "#%%\n"
    }
   },
   "outputs": [
    {
     "name": "stdout",
     "output_type": "stream",
     "text": [
      "Hello !\n",
      "I am Python.\n",
      "Not a raptile but language\n"
     ]
    }
   ],
   "source": [
    "# Print the text \n",
    "print(\"Hello !\\nI am Python.\\nNot a raptile but language\")"
   ]
  },
  {
   "cell_type": "code",
   "execution_count": 5,
   "metadata": {
    "pycharm": {
     "name": "#%%\n"
    }
   },
   "outputs": [
    {
     "name": "stdout",
     "output_type": "stream",
     "text": [
      "11\n",
      "1 3 5 7 9 11\n"
     ]
    }
   ],
   "source": [
    "# Print first n odd numbers using while loop\n",
    "n =  int(input())\n",
    "i = 1\n",
    "while i<=n:\n",
    "    if i !=n:\n",
    "        print(i, end = \" \")\n",
    "    else:\n",
    "        print(i, end = \"\")\n",
    "    i+=2\n",
    "print()\n",
    "    "
   ]
  },
  {
   "cell_type": "code",
   "execution_count": 2,
   "metadata": {
    "pycharm": {
     "name": "#%%\n"
    }
   },
   "outputs": [
    {
     "name": "stdout",
     "output_type": "stream",
     "text": [
      "1 3 5 7 9"
     ]
    }
   ],
   "source": [
    "# Print first five odd numbers separated by space and no space after last number\n",
    "\n",
    "for i in range(1, 10, 2):\n",
    "    if i != 9:\n",
    "        print(i, end=' ')\n",
    "    else:\n",
    "        print(i, end='')"
   ]
  },
  {
   "cell_type": "code",
   "execution_count": 3,
   "metadata": {
    "pycharm": {
     "name": "#%%\n"
    }
   },
   "outputs": [
    {
     "name": "stdout",
     "output_type": "stream",
     "text": [
      "1 3 5 7 9"
     ]
    }
   ],
   "source": [
    "for i in range(1, 10, 2):\n",
    "     if (i == 9):\n",
    "         print(i, end = \"\")\n",
    "     else:\n",
    "         print(i, end = \" \")"
   ]
  },
  {
   "cell_type": "code",
   "execution_count": 6,
   "metadata": {
    "pycharm": {
     "name": "#%%\n"
    }
   },
   "outputs": [
    {
     "name": "stdout",
     "output_type": "stream",
     "text": [
      "0 2 4 6 8 "
     ]
    }
   ],
   "source": [
    "#Print first 5 even numbers i.e. 0, 2, 4, 6, 8. \n",
    "for i in range(0, 10, 2):\n",
    "     if (i == 9):\n",
    "         print(i, end = \"\")\n",
    "     else:\n",
    "         print(i, end = \" \")"
   ]
  }
 ],
 "metadata": {
  "kernelspec": {
   "display_name": "Python 3 (ipykernel)",
   "language": "python",
   "name": "python3"
  },
  "language_info": {
   "codemirror_mode": {
    "name": "ipython",
    "version": 3
   },
   "file_extension": ".py",
   "mimetype": "text/x-python",
   "name": "python",
   "nbconvert_exporter": "python",
   "pygments_lexer": "ipython3",
   "version": "3.10.10"
  },
  "vscode": {
   "interpreter": {
    "hash": "ec58c88a82a28542bb5c7ea69c2bbe9859d4ad14f37e74e606b730517604d2da"
   }
  }
 },
 "nbformat": 4,
 "nbformat_minor": 1
}