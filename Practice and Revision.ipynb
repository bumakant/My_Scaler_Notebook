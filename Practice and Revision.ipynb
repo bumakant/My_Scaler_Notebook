{
 "cells": [
  {
   "cell_type": "code",
   "execution_count": 3,
   "metadata": {},
   "outputs": [
    {
     "name": "stdout",
     "output_type": "stream",
     "text": [
      "Found the required character at position: 1\n"
     ]
    }
   ],
   "source": [
    "string = 'hello'\n",
    "char = 'e'\n",
    "for i in range(0, len(string)):\n",
    "    if string[i] == char:\n",
    "        print('Found the required character at position:', i)\n"
   ]
  },
  {
   "cell_type": "code",
   "execution_count": 4,
   "metadata": {},
   "outputs": [],
   "source": [
    "string = 'hello'\n",
    "char = 'e'\n",
    "for i in range(0, len(char)):\n",
    "    if string[i] == char:\n",
    "        print('Found the required character at position:', i)"
   ]
  },
  {
   "cell_type": "code",
   "execution_count": 5,
   "metadata": {},
   "outputs": [
    {
     "name": "stdout",
     "output_type": "stream",
     "text": [
      "Found the required character at position: 1\n"
     ]
    },
    {
     "ename": "IndexError",
     "evalue": "string index out of range",
     "output_type": "error",
     "traceback": [
      "\u001b[1;31m---------------------------------------------------------------------------\u001b[0m",
      "\u001b[1;31mIndexError\u001b[0m                                Traceback (most recent call last)",
      "Cell \u001b[1;32mIn[5], line 4\u001b[0m\n\u001b[0;32m      2\u001b[0m char \u001b[39m=\u001b[39m \u001b[39m'\u001b[39m\u001b[39me\u001b[39m\u001b[39m'\u001b[39m\n\u001b[0;32m      3\u001b[0m \u001b[39mfor\u001b[39;00m i \u001b[39min\u001b[39;00m \u001b[39mrange\u001b[39m(\u001b[39m0\u001b[39m, \u001b[39mlen\u001b[39m(string)\u001b[39m+\u001b[39m\u001b[39m1\u001b[39m):\n\u001b[1;32m----> 4\u001b[0m     \u001b[39mif\u001b[39;00m string[i] \u001b[39m==\u001b[39m char:\n\u001b[0;32m      5\u001b[0m         \u001b[39mprint\u001b[39m(\u001b[39m'\u001b[39m\u001b[39mFound the required character at position:\u001b[39m\u001b[39m'\u001b[39m, i)\n",
      "\u001b[1;31mIndexError\u001b[0m: string index out of range"
     ]
    }
   ],
   "source": [
    "string = 'hello'\n",
    "char = 'e'\n",
    "for i in range(0, len(string)+1):\n",
    "    if string[i] == char:\n",
    "        print('Found the required character at position:', i)"
   ]
  },
  {
   "cell_type": "code",
   "execution_count": 6,
   "metadata": {},
   "outputs": [
    {
     "name": "stdout",
     "output_type": "stream",
     "text": [
      "Found the required character at position: 1\n"
     ]
    }
   ],
   "source": [
    "string = 'hello'\n",
    "char = 'e'\n",
    "for i in range(0, len(char) + 1):\n",
    "    if string[i] == char:\n",
    "        print('Found the required character at position:', i)"
   ]
  },
  {
   "cell_type": "code",
   "execution_count": 10,
   "metadata": {},
   "outputs": [],
   "source": [
    "def bin_search(arr, key):\n",
    "  low = 0\n",
    "  high = len(arr) - 1\n",
    "  mid = 0\n",
    "  while low > high:              #blank1\n",
    "    mid = (high + low) // 2           #blank2\n",
    "    if arr[mid] < key:\n",
    "      low = mid + 1\n",
    "    elif arr[mid] > key:\n",
    "      high = mid - 1\n",
    "    else:\n",
    "      return mid\n",
    "  return \"Element not found\""
   ]
  }
 ],
 "metadata": {
  "kernelspec": {
   "display_name": "Python 3 (ipykernel)",
   "language": "python",
   "name": "python3"
  },
  "language_info": {
   "codemirror_mode": {
    "name": "ipython",
    "version": 3
   },
   "file_extension": ".py",
   "mimetype": "text/x-python",
   "name": "python",
   "nbconvert_exporter": "python",
   "pygments_lexer": "ipython3",
   "version": "3.10.9"
  }
 },
 "nbformat": 4,
 "nbformat_minor": 2
}
