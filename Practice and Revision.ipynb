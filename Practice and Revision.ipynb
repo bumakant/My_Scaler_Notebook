{
 "cells": [
  {
   "cell_type": "code",
   "execution_count": 7,
   "metadata": {},
   "outputs": [
    {
     "name": "stdout",
     "output_type": "stream",
     "text": [
      "I am Umakant,\n",
      "Iam from Tirora,\n",
      "I am one of the richest person in the city.\n"
     ]
    }
   ],
   "source": [
    "print(\"I am Umakant,\\nIam from Tirora,\\nI am one of the richest person in the city.\")"
   ]
  },
  {
   "cell_type": "code",
   "execution_count": null,
   "metadata": {},
   "outputs": [
    {
     "name": "stdout",
     "output_type": "stream",
     "text": [
      " 6\n"
     ]
    },
    {
     "name": "stdout",
     "output_type": "stream",
     "text": [
      "6\n",
      "the number is greater than 5\n"
     ]
    }
   ],
   "source": [
    "n  =  int(input())\n",
    "print(n)\n",
    "if n<=5:\n",
    "    print(\"The number is less than 5\")\n",
    "else:\n",
    "    print(\"the number is greater than 5\")"
   ]
  },
  {
   "cell_type": "code",
   "execution_count": 2,
   "metadata": {},
   "outputs": [
    {
     "name": "stdout",
     "output_type": "stream",
     "text": [
      "The number is beyond\n"
     ]
    }
   ],
   "source": [
    "print(\"The number is in the range\" if 0<= int(input())<50 else \"The number is beyond\")"
   ]
  }
 ],
 "metadata": {
  "kernelspec": {
   "display_name": "Python 3 (ipykernel)",
   "language": "python",
   "name": "python3"
  },
  "language_info": {
   "codemirror_mode": {
    "name": "ipython",
    "version": 3
   },
   "file_extension": ".py",
   "mimetype": "text/x-python",
   "name": "python",
   "nbconvert_exporter": "python",
   "pygments_lexer": "ipython3",
   "version": "3.10.8"
  }
 },
 "nbformat": 4,
 "nbformat_minor": 4
}
