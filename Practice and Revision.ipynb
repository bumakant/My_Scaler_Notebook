{
 "cells": [
  {
   "cell_type": "code",
   "execution_count": 1,
   "metadata": {},
   "outputs": [
    {
     "name": "stdout",
     "output_type": "stream",
     "text": [
      "Hello Umakant\n"
     ]
    }
   ],
   "source": [
    "print(\"Hello Umakant\")"
   ]
  },
  {
   "cell_type": "code",
   "execution_count": 5,
   "metadata": {},
   "outputs": [
    {
     "name": "stdout",
     "output_type": "stream",
     "text": [
      "Hello, Umakant, How are you?\n",
      "Where are you stying in Pune\n"
     ]
    }
   ],
   "source": [
    "print(\"Hello, Umakant, How are you?\\nWhere are you stying in Pune\")"
   ]
  },
  {
   "cell_type": "code",
   "execution_count": 9,
   "metadata": {},
   "outputs": [
    {
     "name": "stdout",
     "output_type": "stream",
     "text": [
      "150\n",
      "The number 150 doesn't lies in range.\n"
     ]
    }
   ],
   "source": [
    "# Check if the number lies in range\n",
    "num = int(input())\n",
    "if num in range (0, 100):\n",
    "    print(\"The number {} lies in range.\".format(num))\n",
    "else:\n",
    "    print(\"The number {} doesn't lies in range.\".format(num))"
   ]
  },
  {
   "cell_type": "code",
   "execution_count": 12,
   "metadata": {},
   "outputs": [
    {
     "name": "stdout",
     "output_type": "stream",
     "text": [
      "2\n",
      "12.56\n"
     ]
    }
   ],
   "source": [
    "def area_cirlce(radius):\n",
    "    return 3.14*radius**2\n",
    "\n",
    "radius = float(input())\n",
    "\n",
    "print(area_cirlce(radius))"
   ]
  },
  {
   "cell_type": "code",
   "execution_count": 16,
   "metadata": {},
   "outputs": [
    {
     "name": "stdout",
     "output_type": "stream",
     "text": [
      "True\n",
      "False\n",
      "True\n",
      "False\n"
     ]
    }
   ],
   "source": [
    "x = 5\n",
    "y = 10\n",
    "\n",
    "print(x>3 and y<17)\n",
    "print(x ==2 and y != 10)\n",
    "print(not(x>10))\n",
    "print(not(x<10))"
   ]
  },
  {
   "cell_type": "code",
   "execution_count": null,
   "metadata": {},
   "outputs": [],
   "source": []
  },
  {
   "cell_type": "code",
   "execution_count": null,
   "metadata": {},
   "outputs": [],
   "source": []
  },
  {
   "cell_type": "code",
   "execution_count": null,
   "metadata": {},
   "outputs": [],
   "source": []
  }
 ],
 "metadata": {
  "kernelspec": {
   "display_name": "Python 3 (ipykernel)",
   "language": "python",
   "name": "python3"
  },
  "language_info": {
   "codemirror_mode": {
    "name": "ipython",
    "version": 3
   },
   "file_extension": ".py",
   "mimetype": "text/x-python",
   "name": "python",
   "nbconvert_exporter": "python",
   "pygments_lexer": "ipython3",
   "version": "3.10.10"
  }
 },
 "nbformat": 4,
 "nbformat_minor": 2
}
