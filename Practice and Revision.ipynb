{
 "cells": [
  {
   "cell_type": "code",
   "execution_count": 3,
   "outputs": [
    {
     "name": "stdout",
     "output_type": "stream",
     "text": [
      "Hello\n",
      "Umakant\n",
      "You are the most versatile data scientist.\n",
      "Thank you for having us.\n"
     ]
    }
   ],
   "source": [
    "print(\"Hello\\nUmakant\")\n",
    "print(\"You are the most versatile data scientist.\\nThank you for having us.\")"
   ],
   "metadata": {
    "collapsed": false,
    "pycharm": {
     "name": "#%%\n"
    }
   }
  },
  {
   "cell_type": "code",
   "execution_count": 3,
   "outputs": [
    {
     "name": "stdout",
     "output_type": "stream",
     "text": [
      "14 2 5\n",
      "2.0\n"
     ]
    }
   ],
   "source": [
    "# to per form various operations\n",
    "x  =  int(input())\n",
    "y  =  int(input())\n",
    "z  =  int(input())\n",
    "print(x, y, z)\n",
    "a = x/y-z\n",
    "print(a)"
   ],
   "metadata": {
    "collapsed": false,
    "pycharm": {
     "name": "#%%\n"
    }
   }
  },
  {
   "cell_type": "code",
   "execution_count": 5,
   "outputs": [
    {
     "name": "stdout",
     "output_type": "stream",
     "text": [
      "15 is in range.\n"
     ]
    }
   ],
   "source": [
    "num =  int(input())\n",
    "if num  in range(0, 20):\n",
    "    print(num, \"is in range.\")\n",
    "else:\n",
    "    print(\"Out of league\")"
   ],
   "metadata": {
    "collapsed": false,
    "pycharm": {
     "name": "#%%\n"
    }
   }
  },
  {
   "cell_type": "code",
   "execution_count": 7,
   "outputs": [
    {
     "name": "stdout",
     "output_type": "stream",
     "text": [
      "Good Morning Umakant\n"
     ]
    }
   ],
   "source": [
    "name  =  input(\"Enter your name: \")\n",
    "print(\"Good Morning\", name)"
   ],
   "metadata": {
    "collapsed": false,
    "pycharm": {
     "name": "#%%\n"
    }
   }
  }
 ],
 "metadata": {
  "kernelspec": {
   "display_name": "Python 3 (ipykernel)",
   "language": "python",
   "name": "python3"
  },
  "language_info": {
   "codemirror_mode": {
    "name": "ipython",
    "version": 3
   },
   "file_extension": ".py",
   "mimetype": "text/x-python",
   "name": "python",
   "nbconvert_exporter": "python",
   "pygments_lexer": "ipython3",
   "version": "3.10.10"
  }
 },
 "nbformat": 4,
 "nbformat_minor": 2
}