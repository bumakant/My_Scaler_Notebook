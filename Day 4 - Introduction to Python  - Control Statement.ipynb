{
 "cells": [
  {
   "attachments": {},
   "cell_type": "markdown",
   "metadata": {
    "pycharm": {
     "name": "#%%\n"
    }
   },
   "source": [
    "'''\n",
    "https://www.geeksforgeeks.org/python-if-else/\n",
    "\n",
    "if statement\n",
    "The if statement is the most simple decision-making statement. \n",
    "It is used to decide whether a certain statement or block of statements will be executed or not.\n",
    "\n",
    "Syntax:\n",
    "if condition:\n",
    "   # Statements to execute if\n",
    "   # condition is true\n",
    "Here, the condition after evaluation will be either true or false.\n",
    "if the statement accepts boolean values –\n",
    "if the value is true then it will execute the block of statements below it otherwise not.\n",
    "\n",
    "As we know, python uses indentation to identify a block. \n",
    "So the block under an if statement will be identified as shown in the below example:  \n",
    "\n",
    "if condition:\n",
    "   statement1\n",
    "statement2\n",
    "\n",
    "# Here if the condition is true, if block \n",
    "# will consider only statement1 to be inside \n",
    "# its block.\n",
    "\n",
    "\n",
    "'''"
   ]
  },
  {
   "cell_type": "code",
   "execution_count": 1,
   "metadata": {
    "pycharm": {
     "name": "#%%\n"
    }
   },
   "outputs": [
    {
     "name": "stdout",
     "output_type": "stream",
     "text": [
      "I am Not in if\n"
     ]
    }
   ],
   "source": [
    "# python program to illustrate If statement\n",
    "\n",
    "i = 10\n",
    "\n",
    "if (i > 15):\n",
    "\tprint(\"10 is less than 15\")\n",
    "print(\"I am Not in if\")\n"
   ]
  },
  {
   "cell_type": "code",
   "execution_count": 2,
   "metadata": {
    "pycharm": {
     "name": "#%%\n"
    }
   },
   "outputs": [
    {
     "name": "stdout",
     "output_type": "stream",
     "text": [
      "i is greater than 15\n",
      "i'm in else Block\n",
      "i'm not in if and not in else Block\n"
     ]
    }
   ],
   "source": [
    "'''if-else statement\n",
    "The if statement alone tells us that if a condition is true \n",
    "it will execute a block of statements and if the condition is false it won’t.\n",
    "\n",
    "But if we want to do something else if the condition is false, \n",
    "we can use the else statement with if statement to execute a block of code when \n",
    "the if condition is false. \n",
    "\n",
    "Syntax: \n",
    "\n",
    "if (condition):\n",
    "    # Executes this block if\n",
    "    # condition is true\n",
    "else:\n",
    "    # Executes this block if\n",
    "    # condition is false\n",
    "    \n",
    "    \n",
    "   '''\n",
    "\n",
    "# python program to illustrate If else statement\n",
    "#!/usr/bin/python\n",
    "\n",
    "i = 20\n",
    "if (i < 15):\n",
    "\tprint(\"i is smaller than 15\")\n",
    "\tprint(\"i'm in if Block\")\n",
    "else:\n",
    "\tprint(\"i is greater than 15\")\n",
    "\tprint(\"i'm in else Block\")\n",
    "print(\"i'm not in if and not in else Block\")\n"
   ]
  },
  {
   "attachments": {},
   "cell_type": "markdown",
   "metadata": {
    "collapsed": true,
    "pycharm": {
     "name": "#%% md\n"
    }
   },
   "source": [
    "Python If ... Else\n",
    "Python Conditions and If statements\n",
    "\n",
    "Python supports the usual logical conditions from mathematics:\n",
    "\n",
    "    Equals: a == b\n",
    "    Not Equals: a != b\n",
    "    Less than: a < b\n",
    "    Less than or equal to: a <= b\n",
    "    Greater than: a > b\n",
    "    Greater than or equal to: a >= b\n",
    "\n",
    "These conditions can be used in several ways, most commonly in \"if statements\" and loops.\n",
    "\n",
    "An \"if statement\" is written by using the if keyword."
   ]
  },
  {
   "cell_type": "code",
   "execution_count": 1,
   "metadata": {
    "pycharm": {
     "name": "#%%\n"
    }
   },
   "outputs": [
    {
     "name": "stdout",
     "output_type": "stream",
     "text": [
      "[16, 3, 18, 18]\n"
     ]
    }
   ],
   "source": [
    "# Explicit function\n",
    "def digitSum(n): # =we have defined a function here\n",
    "\tdsum = 0= # taken initial sum as zero\n",
    "\tfor ele in str(n): # using for loop\n",
    "\t\tdsum += int(ele) # increment \n",
    "\treturn dsum\n",
    " # ele stands for element \n",
    "\n",
    "# Initializing list\n",
    "List = [367, 111, 562, 945, 6726, 873]\n",
    "\n",
    "# Using the function on odd elements of the list\n",
    "newList = [digitSum(i) for i in List if i & 1]\n",
    "\n",
    "# Displaying new list\n",
    "print(newList)\n"
   ]
  },
  {
   "cell_type": "code",
   "execution_count": 1,
   "metadata": {},
   "outputs": [
    {
     "name": "stdout",
     "output_type": "stream",
     "text": [
      "[12, 15, 9, 15, 21, 23, 18]\n"
     ]
    }
   ],
   "source": [
    "def digitSum(n):\n",
    "    dsum = 0\n",
    "    for ele in str(n):\n",
    "        dsum += int(ele)\n",
    "    return dsum\n",
    "\n",
    "# initilizaed list \n",
    "list = [345, 564, 234, 546, 678, 977, 567]\n",
    "\n",
    "# Using the function on all elements of the list\n",
    "newlist  = [digitSum(i) for i in list if i]\n",
    "\n",
    "print(newlist)"
   ]
  },
  {
   "cell_type": "code",
   "execution_count": 2,
   "metadata": {
    "pycharm": {
     "name": "#%%\n"
    }
   },
   "outputs": [
    {
     "name": "stdout",
     "output_type": "stream",
     "text": [
      "i is smaller than 15\n",
      "i is smaller than 12 too\n"
     ]
    }
   ],
   "source": [
    "'''\n",
    "nested-if statement\n",
    "A nested if is an if statement that is the target of another if statement.\n",
    "Nested if statements mean an if statement inside another if statement. \n",
    "Yes, Python allows us to nest if statements within if statements.\n",
    "a   i.e, we can place an if statement inside another if statement.\n",
    "\n",
    "Syntax: \n",
    "\n",
    "if (condition1):\n",
    "   # Executes when condition1 is true\n",
    "   if (condition2): \n",
    "      # Executes when condition2 is true\n",
    "   # if Block is end here\n",
    "# if Block is end her\n",
    "\n",
    "'''\n",
    "\n",
    "#Example of Python Nested if statement\n",
    "\n",
    "# python program to illustrate nested If statement\n",
    "#!/usr/bin/python\n",
    "i = 10\n",
    "if (i == 10):\n",
    "\t\n",
    "\t# First if statement\n",
    "\tif (i < 15):\n",
    "\t\tprint(\"i is smaller than 15\")\n",
    "\t\t\n",
    "\t# Nested - if statement\n",
    "\t# Will only be executed if statement above\n",
    "\t# it is true\n",
    "\tif (i < 12):\n",
    "\t\tprint(\"i is smaller than 12 too\")\n",
    "\telse:\n",
    "\t\tprint(\"i is greater than 15\")\n"
   ]
  },
  {
   "cell_type": "code",
   "execution_count": 3,
   "metadata": {
    "pycharm": {
     "name": "#%%\n"
    }
   },
   "outputs": [
    {
     "name": "stdout",
     "output_type": "stream",
     "text": [
      "i is 20\n"
     ]
    }
   ],
   "source": [
    "'''if-elif-else ladder\n",
    "Here, a user can decide among multiple options. The if statements are executed from the top down. \n",
    "As soon as one of the conditions controlling the if is true, \n",
    "the statement associated with that if is executed, and the rest of the ladder is bypassed.\n",
    " If none of the conditions is true, then the final else statement will be executed.\n",
    "\n",
    "Syntax: \n",
    "\n",
    "if (condition):\n",
    "    statement\n",
    "elif (condition):\n",
    "    statement\n",
    ".\n",
    ".\n",
    "else:\n",
    "    statement\n",
    "\n",
    "'''\n",
    "# Python program to illustrate if-elif-else ladder\n",
    "#!/usr/bin/python\n",
    "\n",
    "i = 20\n",
    "if (i == 10):\n",
    "\tprint(\"i is 10\")\n",
    "elif (i == 15):\n",
    "\tprint(\"i is 15\")\n",
    "elif (i == 20):\n",
    "\tprint(\"i is 20\")\n",
    "else:\n",
    "\tprint(\"i is not present\")\n"
   ]
  },
  {
   "cell_type": "code",
   "execution_count": 7,
   "metadata": {
    "pycharm": {
     "name": "#%%\n"
    }
   },
   "outputs": [
    {
     "name": "stdout",
     "output_type": "stream",
     "text": [
      "a is greater than b. a: 65 b: 45\n"
     ]
    }
   ],
   "source": [
    "a = int(input())\n",
    "b = int(input())\n",
    "if a > b:\n",
    "    print(\"a is greater than b.\", \"a:\", a, \"b:\", b)\n",
    "else:\n",
    "    print(\"b is greater than a.\", \"a:\", a, \"b:\", b)"
   ]
  },
  {
   "attachments": {},
   "cell_type": "markdown",
   "metadata": {
    "pycharm": {
     "name": "#%% md\n"
    }
   },
   "source": [
    "\n",
    "Indentation\n",
    "\n",
    "Python relies on indentation (whitespace at the beginning of a line) to define scope in the code.\n",
    "Other programming languages often use curly-brackets for this purpose."
   ]
  },
  {
   "cell_type": "code",
   "execution_count": 11,
   "metadata": {
    "pycharm": {
     "name": "#%%\n"
    }
   },
   "outputs": [
    {
     "name": "stdout",
     "output_type": "stream",
     "text": [
      "32.0 56.0\n",
      "n1 is smaller than n2\n",
      "Done\n"
     ]
    }
   ],
   "source": [
    "# Example\n",
    "n1 = float(input())\n",
    "n2 = float(input())\n",
    "print(n1, n2)\n",
    "if n1 > n2:\n",
    "    print(\"n1 is greater than n2\")\n",
    "elif n1 == n2:\n",
    "    print(\"n1 is equal to n2\")\n",
    "elif n1 < n2:\n",
    "    print(\"n1 is smaller than n2\")\n",
    "\n",
    "print(\"Done\")"
   ]
  },
  {
   "cell_type": "code",
   "execution_count": 2,
   "metadata": {
    "pycharm": {
     "name": "#%%\n"
    }
   },
   "outputs": [
    {
     "name": "stdout",
     "output_type": "stream",
     "text": [
      "ujb123 abcd!@#\n",
      "You have successfully logged in...\n"
     ]
    }
   ],
   "source": [
    "login_id = str(input(\"Please enter your login ID:\", ))\n",
    "password = str(input(\"Please enter your password:\", ))\n",
    "print(login_id, password)\n",
    "saved_login_id = \"ujb123\"\n",
    "saved_password = \"abcd!@#\"\n",
    "if login_id == saved_login_id and password ==saved_password:\n",
    "    print(\"You have successfully logged in...\")\n",
    "elif login_id == saved_login_id and password != saved_password:\n",
    "    print(\"Please provide correct password\")\n",
    "elif login_id != saved_login_id and password == saved_password:\n",
    "    print(\"Please provide correct login ID\")"
   ]
  },
  {
   "cell_type": "code",
   "execution_count": 1,
   "metadata": {
    "pycharm": {
     "name": "#%%\n"
    }
   },
   "outputs": [
    {
     "name": "stdout",
     "output_type": "stream",
     "text": [
      "Congratulations! You are eligible.\n",
      "height of candidate 168\n"
     ]
    }
   ],
   "source": [
    "# eligibility of pilot to be recruited in indian air force  -  control system 1\n",
    "candidate_height = int(input())\n",
    "if 162 <= candidate_height <= 185:\n",
    "    print(\"Congratulations! You are eligible.\")\n",
    "    print(\"height of candidate\",  candidate_height )\n",
    "else:\n",
    "    print(\"You are not qualified for air-force\")\n",
    "    print(\"height of candidate\",  candidate_height )"
   ]
  },
  {
   "cell_type": "code",
   "execution_count": 6,
   "metadata": {
    "pycharm": {
     "name": "#%%\n"
    }
   },
   "outputs": [
    {
     "name": "stdout",
     "output_type": "stream",
     "text": [
      "Year: 1998\n",
      "The year is non leap year.\n"
     ]
    }
   ],
   "source": [
    "'''\n",
    "The year can be evenly divided by 4, is a leap year, unless:\n",
    "The year can be evenly divided by 100, it is NOT a leap year, unless:\n",
    "The year is also evenly divisible by 400. Then it is a leap year.\n",
    "\n",
    "'''\n",
    "\n",
    "\n",
    "#Take user input\n",
    "y = int(input(\"Enter year:\"))\n",
    "#print user input\n",
    "print(\"Year:\", y)\n",
    "\n",
    "# define the condition for leap year\n",
    "if y % 4 == 0 and y % 100 != 0 or y% 400 == 0:\n",
    "    print(\"The year\", y,  \"is leap year.\")\n",
    "else:\n",
    "    print(\"The year is non leap year.\")"
   ]
  },
  {
   "cell_type": "code",
   "execution_count": 34,
   "metadata": {
    "pycharm": {
     "name": "#%%\n"
    }
   },
   "outputs": [
    {
     "name": "stdout",
     "output_type": "stream",
     "text": [
      "False\n"
     ]
    }
   ],
   "source": [
    "def is_leap(year):\n",
    "    leap = False\n",
    "\n",
    "    # Write your logic here\n",
    "    if year%400==0 :\n",
    "        leap = True\n",
    "    elif year%4 == 0 and year%100 != 0:\n",
    "        leap = True\n",
    "    return leap\n",
    "\n",
    "year = int(input())\n",
    "print(is_leap(year))"
   ]
  },
  {
   "cell_type": "code",
   "execution_count": null,
   "metadata": {
    "pycharm": {
     "name": "#%%\n"
    }
   },
   "outputs": [],
   "source": [
    "# to identify the yar was lead year or not  -  Most Important program in python  -  control system 1\n",
    "#Leap year\n",
    "year = int(input())\n",
    "if year % 4 == 0: # The yar will be leap\n",
    "    if year % 100 == 0: # The yar will be leap\n",
    "        if year % 400 == 0: # The yar will be leap\n",
    "            print(\"Leap year\")\n",
    "        else:\n",
    "            print(\"Not a leap year\") # There are multiple if are used , it is called nested if\n",
    "    else:\n",
    "        print(\"Leap year\")\n",
    "else:\n",
    "    print(\"Not a leap year\")\n",
    "print(\"The yar was  = \", year)"
   ]
  },
  {
   "cell_type": "code",
   "execution_count": null,
   "metadata": {
    "pycharm": {
     "name": "#%%\n"
    }
   },
   "outputs": [],
   "source": [
    "# leap year check using elif -  control system 1\n",
    "year=int(input(\"Please enter year: \"))\n",
    "if year % 4 == 0 and year % 100 != 0:\n",
    "    print(year, \"is a Leap year.\")\n",
    "elif year % 100 ==0:\n",
    "    print(year, \"is not a Leap Year.\")\n",
    "elif year % 400 ==0:\n",
    "    print(year, \"is a Leap Year.\")\n",
    "else:\n",
    "    print(year, \"is not a Leap Year.\")"
   ]
  },
  {
   "cell_type": "code",
   "execution_count": 36,
   "metadata": {
    "pycharm": {
     "name": "#%%\n"
    }
   },
   "outputs": [
    {
     "name": "stdout",
     "output_type": "stream",
     "text": [
      "False\n"
     ]
    }
   ],
   "source": [
    "score1 = int(input())\n",
    "score2 = int(input())\n",
    "score3 = int(input())\n",
    "score4 = int(input())\n",
    "# Use if to check whether sum of score1 and score2\n",
    "# is greater than score3 and score4\n",
    "if score1 + score2 > score3 + score4:\n",
    "    print('True')\n",
    "else:\n",
    "    print('False')"
   ]
  },
  {
   "cell_type": "code",
   "execution_count": null,
   "metadata": {
    "pycharm": {
     "name": "#%%\n"
    }
   },
   "outputs": [],
   "source": []
  },
  {
   "cell_type": "code",
   "execution_count": 40,
   "metadata": {
    "pycharm": {
     "name": "#%%\n"
    }
   },
   "outputs": [
    {
     "name": "stdout",
     "output_type": "stream",
     "text": [
      "You can't ride the roller coaster.\n"
     ]
    }
   ],
   "source": [
    "age = int(input())\n",
    "if 13 <= age <= 45:\n",
    "    print(\"You can ride the roller coaster!\")\n",
    "else:\n",
    "    print(\"You can't ride the roller coaster.\")"
   ]
  },
  {
   "cell_type": "code",
   "execution_count": null,
   "metadata": {
    "collapsed": false,
    "pycharm": {
     "name": "#%%\n"
    }
   },
   "outputs": [],
   "source": [
    "'''\n",
    "In Python, the .format() method is used to format strings.\n",
    "It provides a way to insert values into a string,\n",
    "where the values are represented by placeholders in the string.\n",
    "'''\n",
    "name = \"John\"\n",
    "age = 30\n",
    "height = 6.2\n",
    "\n",
    "print(\"My name is {}, I am {} years old, and I am {} feet tall.\".format(name, age, height))\n",
    "\n"
   ]
  },
  {
   "cell_type": "code",
   "execution_count": null,
   "metadata": {
    "collapsed": false,
    "pycharm": {
     "name": "#%%\n"
    }
   },
   "outputs": [],
   "source": [
    "# Assignments and Homework"
   ]
  },
  {
   "cell_type": "code",
   "execution_count": 1,
   "metadata": {
    "pycharm": {
     "name": "#%%\n"
    }
   },
   "outputs": [
    {
     "name": "stdout",
     "output_type": "stream",
     "text": [
      "56\n",
      "45\n",
      "65\n",
      "75\n",
      "False\n"
     ]
    }
   ],
   "source": [
    "'''\n",
    "You have been given a dataset for marks of 2 subjects, scored by students of classes ClassA and ClassB. \n",
    "You now want to compare the performances of class A and class B by finding out the average performance of the classes.\n",
    "Write a program to find if class A performed better. \n",
    "Print True is Class A is strictly better else return False.\n",
    "'''\n",
    "\n",
    "subA1 = int(input())\n",
    "subA2 = int(input())\n",
    "subB1 = int(input())\n",
    "subB2 = int(input())\n",
    "avg1  = ((subA1+subA2)/2)\n",
    "avg2  = ((subB1+subB2)/2)\n",
    "print(avg1>avg2)"
   ]
  },
  {
   "cell_type": "code",
   "execution_count": 6,
   "metadata": {
    "pycharm": {
     "name": "#%%\n"
    }
   },
   "outputs": [
    {
     "name": "stdout",
     "output_type": "stream",
     "text": [
      "5\n",
      "6\n",
      "6\n"
     ]
    }
   ],
   "source": [
    "# Max of two\n",
    "a = int(input())\n",
    "b = int(input())\n",
    "\n",
    "max = a if a>b else b\n",
    "print(max)"
   ]
  },
  {
   "cell_type": "code",
   "execution_count": 2,
   "metadata": {
    "pycharm": {
     "name": "#%%\n"
    }
   },
   "outputs": [
    {
     "name": "stdout",
     "output_type": "stream",
     "text": [
      "The maximum of the two numbers is: 26.0\n"
     ]
    }
   ],
   "source": [
    "# Get the two numbers from the user\n",
    "num1 = float(input(\"Enter the first number: \"))\n",
    "num2 = float(input(\"Enter the second number: \"))\n",
    "\n",
    "# Print out the maximum of the two numbers\n",
    "print(\"The maximum of the two numbers is:\", max(num1, num2))"
   ]
  },
  {
   "cell_type": "code",
   "execution_count": 2,
   "metadata": {
    "collapsed": false,
    "pycharm": {
     "name": "#%%\n"
    }
   },
   "outputs": [
    {
     "ename": "NameError",
     "evalue": "name 'a' is not defined",
     "output_type": "error",
     "traceback": [
      "\u001b[1;31m---------------------------------------------------------------------------\u001b[0m",
      "\u001b[1;31mNameError\u001b[0m                                 Traceback (most recent call last)",
      "Cell \u001b[1;32mIn[2], line 1\u001b[0m\n\u001b[1;32m----> 1\u001b[0m \u001b[38;5;28;01mif\u001b[39;00m \u001b[43ma\u001b[49m\u001b[38;5;241m>\u001b[39m\u001b[38;5;241m=\u001b[39m\u001b[38;5;241m2\u001b[39m:\n\u001b[0;32m      2\u001b[0m       \u001b[38;5;28mprint\u001b[39m(\u001b[38;5;124m\"\u001b[39m\u001b[38;5;124mTRUE\u001b[39m\u001b[38;5;124m\"\u001b[39m)\n",
      "\u001b[1;31mNameError\u001b[0m: name 'a' is not defined"
     ]
    }
   ],
   "source": [
    "if a>=2:\n",
    "      print(\"TRUE\")"
   ]
  },
  {
   "cell_type": "code",
   "execution_count": 1,
   "metadata": {
    "collapsed": false,
    "pycharm": {
     "name": "#%%\n"
    }
   },
   "outputs": [
    {
     "name": "stdout",
     "output_type": "stream",
     "text": [
      "1\n"
     ]
    }
   ],
   "source": [
    "# Angles Of Valid Triangle?\n",
    "\n",
    "a = int(input())\n",
    "b = int(input())\n",
    "c = int(input())\n",
    "if (a+b+c==180):\n",
    " \tprint(\"1\")\n",
    "else:\n",
    "\tprint(\"0\")"
   ]
  },
  {
   "cell_type": "code",
   "execution_count": null,
   "metadata": {
    "collapsed": false,
    "pycharm": {
     "name": "#%%\n"
    }
   },
   "outputs": [],
   "source": [
    "# Get the three angles from the user\n",
    "angle1 = int(input(\"Enter the first angle (in degrees): \"))\n",
    "angle2 = int(input(\"Enter the second angle (in degrees): \"))\n",
    "angle3 = int(input(\"Enter the third angle (in degrees): \"))\n",
    "\n",
    "# Check if the triangle is valid\n",
    "if (angle1 + angle2 + angle3) == 180 and angle1 > 0 and angle2 > 0 and angle3 > 0:\n",
    "    print(\"The triangle is valid\")\n",
    "else:\n",
    "    print(\"The triangle is not valid\")"
   ]
  }
 ],
 "metadata": {
  "kernelspec": {
   "display_name": "Python 3 (ipykernel)",
   "language": "python",
   "name": "python3"
  },
  "language_info": {
   "codemirror_mode": {
    "name": "ipython",
    "version": 3
   },
   "file_extension": ".py",
   "mimetype": "text/x-python",
   "name": "python",
   "nbconvert_exporter": "python",
   "pygments_lexer": "ipython3",
   "version": "3.10.9"
  }
 },
 "nbformat": 4,
 "nbformat_minor": 1
}
