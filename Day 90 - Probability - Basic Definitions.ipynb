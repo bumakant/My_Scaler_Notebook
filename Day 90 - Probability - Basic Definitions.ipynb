{
 "cells": [
  {
   "cell_type": "markdown",
   "metadata": {},
   "source": [
    "NOTE:\n",
    "\n",
    "*   The below simulation(s) are for illustration purposes ONLY.\n",
    "*   Being able to understand the code here is not NECESSARY (from the point of view of the session-1 of Probability).\n",
    "*   DO NOT worry if you do not understand the logic of the code!\n"
   ]
  },
  {
   "cell_type": "code",
   "execution_count": 2,
   "metadata": {},
   "outputs": [],
   "source": [
    "#importing necessary libraries\n",
    "import numpy as np\n",
    "import seaborn as sns"
   ]
  },
  {
   "cell_type": "markdown",
   "metadata": {},
   "source": [
    "#Game_1 \n",
    "\n",
    "Each player gets 1 chance to toss a coin\n",
    "\n",
    "The player wins a prize if they get a \"Heads\""
   ]
  },
  {
   "cell_type": "code",
   "execution_count": 3,
   "metadata": {},
   "outputs": [
    {
     "name": "stdout",
     "output_type": "stream",
     "text": [
      "1\n"
     ]
    }
   ],
   "source": [
    "#Coin toss Game with 1 turn\n",
    "\"\"\"\n",
    "Let 1 represent an outcome of \"Heads\" in a coin toss.\n",
    "Let 0 represent an outcome of \"Tails\" in a coin toss.\n",
    "\n",
    "Number of heads == Number of '1's observed\n",
    "\"\"\"\n",
    "print(np.random.choice([1,0])) #either 1 or 0 randomly generated"
   ]
  },
  {
   "cell_type": "code",
   "execution_count": 5,
   "metadata": {},
   "outputs": [
    {
     "name": "stdout",
     "output_type": "stream",
     "text": [
      "[1 0 0 1 0]\n"
     ]
    }
   ],
   "source": [
    "#Let's simulate 5 players playing this game\n",
    "\n",
    "print(np.random.choice([1,0],size=5))\n",
    "\n",
    "#each value shows the outcome of the toss for a given player\n",
    "#Any player with a 1 (Heads) has won the game; the others have lost"
   ]
  },
  {
   "cell_type": "code",
   "execution_count": 10,
   "metadata": {},
   "outputs": [
    {
     "data": {
      "text/plain": [
       "<Axes: ylabel='count'>"
      ]
     },
     "execution_count": 10,
     "metadata": {},
     "output_type": "execute_result"
    },
    {
     "data": {
      "image/png": "[encoded data removed]",
      "text/plain": [
       "<Figure size 640x480 with 1 Axes>"
      ]
     },
     "metadata": {},
     "output_type": "display_data"
    }
   ],
   "source": [
    "#Imagine 10_000_000 (1 crore) people play this game\n",
    "\n",
    "n = 10_000_000 #number of people playing\n",
    "\n",
    "#Simulating outcomes for the n players\n",
    "outcomes = np.random.choice([1,0], size=n)\n",
    "\n",
    "#plotting counts of Heads (1) vs Tails(0) on a graph\n",
    "sns.countplot(x=outcomes)\n",
    "\n",
    "#In the plot below,\n",
    "#The \"Blue\" players lost; and the \"Orange\"players won"
   ]
  },
  {
   "cell_type": "code",
   "execution_count": 11,
   "metadata": {},
   "outputs": [
    {
     "data": {
      "text/plain": [
       "5000223"
      ]
     },
     "execution_count": 11,
     "metadata": {},
     "output_type": "execute_result"
    }
   ],
   "source": [
    "#number of people out of 1 crore, who won a prize in the first game (1 coin tosses) is\n",
    "\n",
    "outcomes[outcomes == 1].size #filtering only those people who got outcome == \"Heads\""
   ]
  },
  {
   "cell_type": "code",
   "execution_count": 12,
   "metadata": {},
   "outputs": [
    {
     "data": {
      "text/plain": [
       "0.5000223"
      ]
     },
     "execution_count": 12,
     "metadata": {},
     "output_type": "execute_result"
    }
   ],
   "source": [
    "#Fraction of trials in which Heads was seen in the above experiment\n",
    "#WARNING: Run this code block ONLY after running the above 2 blocks (to get correct result)!\n",
    "\n",
    "outcomes[outcomes == 1].size / n"
   ]
  },
  {
   "cell_type": "markdown",
   "metadata": {},
   "source": [
    "Game 2\n",
    "\n",
    "\n",
    "Each player gets 3 chances to toss a coin.\n",
    "\n",
    "The player wins if s/he gets at least one \"Heads\"\n"
   ]
  },
  {
   "cell_type": "code",
   "execution_count": 18,
   "metadata": {},
   "outputs": [
    {
     "name": "stdout",
     "output_type": "stream",
     "text": [
      "Outcomes of 3 coin tosses of each of the 5 persons:\n",
      " [[0 0 0]\n",
      " [1 1 1]\n",
      " [0 1 0]\n",
      " [1 1 1]\n",
      " [0 0 0]]\n",
      "\n",
      "\n",
      "Number of heads in outcome of each person:\n",
      " [0 3 1 3 0]\n"
     ]
    }
   ],
   "source": [
    "#Imagine 5 people play this game-2\n",
    "#And each person get x tosses\n",
    "\n",
    "n = 5 #number of people playing\n",
    "x = 3 #number of tosses per person\n",
    "\n",
    "outcomes_2 = np.random.choice([1,0], size=[n,x])\n",
    "\n",
    "print(\"Outcomes of 3 coin tosses of each of the 5 persons:\\n\",outcomes_2)\n",
    "print(\"\\n\\nNumber of heads in outcome of each person:\\n\",np.sum(outcomes_2,axis=1))"
   ]
  },
  {
   "cell_type": "code",
   "execution_count": 19,
   "metadata": {},
   "outputs": [
    {
     "data": {
      "text/plain": [
       "<Axes: ylabel='count'>"
      ]
     },
     "execution_count": 19,
     "metadata": {},
     "output_type": "execute_result"
    },
    {
     "data": {
      "image/png": "[encoded data removed]",
      "text/plain": [
       "<Figure size 640x480 with 1 Axes>"
      ]
     },
     "metadata": {},
     "output_type": "display_data"
    }
   ],
   "source": [
    "#Game 2: Each person gets 3 tosses. Win a prize if they get at least one \"Heads\"\n",
    "\n",
    "#Imagine 10_000_000 people play this game\n",
    "#But each person get x tosses\n",
    "\n",
    "n = 10_000_000 #number of people playing\n",
    "x = 3 #number of tosses per person\n",
    "\n",
    "outcomes_game2 = np.random.choice([1,0], size=[n,x])\n",
    "no_of_heads_per_person = outcomes_game2.sum(axis=1)\n",
    "\n",
    "#plotting counts of no_of_heads_per_person on a graph\n",
    "sns.countplot(x=no_of_heads_per_person)"
   ]
  },
  {
   "cell_type": "code",
   "execution_count": 20,
   "metadata": {},
   "outputs": [
    {
     "data": {
      "text/plain": [
       "8749288"
      ]
     },
     "execution_count": 20,
     "metadata": {},
     "output_type": "execute_result"
    }
   ],
   "source": [
    "#number of people out of 1 crore, who won a prize in the second game (3 coin tosses) is\n",
    "no_of_heads_per_person[no_of_heads_per_person>0].size"
   ]
  },
  {
   "cell_type": "code",
   "execution_count": 21,
   "metadata": {},
   "outputs": [
    {
     "data": {
      "text/plain": [
       "0.8749288"
      ]
     },
     "execution_count": 21,
     "metadata": {},
     "output_type": "execute_result"
    }
   ],
   "source": [
    "#Fraction of trials in which n(Heads) > 0 was seen in the above experiment\n",
    "#WARNING: Run this code block ONLY after running the above 2 blocks (to get correct result)!\n",
    "\n",
    "#Fraction of trials in which Heads was seen in the above experiment\n",
    "#WARNING: Run this code block ONLY after running the above 2 blocks (to get correct result)!\n",
    "\n",
    "no_of_heads_per_person[no_of_heads_per_person>0].size / n"
   ]
  },
  {
   "cell_type": "markdown",
   "metadata": {},
   "source": [
    "Extra Experiments\n",
    "Repeating the single coin experiment 100 million (10 crore) times"
   ]
  },
  {
   "cell_type": "code",
   "execution_count": 3,
   "metadata": {},
   "outputs": [
    {
     "ename": "",
     "evalue": "",
     "output_type": "error",
     "traceback": [
      "\u001b[1;31mThe Kernel crashed while executing code in the the current cell or a previous cell. Please review the code in the cell(s) to identify a possible cause of the failure. Click <a href='https://aka.ms/vscodeJupyterKernelCrash'>here</a> for more info. View Jupyter <a href='command:jupyter.viewOutput'>log</a> for further details."
     ]
    }
   ],
   "source": [
    "#Unbiased coin\n",
    "#Imagine 100_000_000 people play this game\n",
    "\n",
    "n = 100_000_000 #number of people playing\n",
    "\n",
    "#Simulating outcomes for the n players\n",
    "outcomes = np.random.choice([1,0], size=n)\n",
    "\n",
    "#plotting counts of Heads (1) vs Tails(0) on a graph\n",
    "sns.countplot(x=outcomes)\n",
    "\n",
    "#In the plot below,\n",
    "#The \"Blue\" players lost; and the \"Orange\"players won"
   ]
  },
  {
   "cell_type": "code",
   "execution_count": null,
   "metadata": {},
   "outputs": [],
   "source": []
  },
  {
   "cell_type": "code",
   "execution_count": null,
   "metadata": {},
   "outputs": [],
   "source": []
  }
 ],
 "metadata": {
  "kernelspec": {
   "display_name": "Python 3",
   "language": "python",
   "name": "python3"
  },
  "language_info": {
   "codemirror_mode": {
    "name": "ipython",
    "version": 3
   },
   "file_extension": ".py",
   "mimetype": "text/x-python",
   "name": "python",
   "nbconvert_exporter": "python",
   "pygments_lexer": "ipython3",
   "version": "3.10.8"
  }
 },
 "nbformat": 4,
 "nbformat_minor": 2
}
