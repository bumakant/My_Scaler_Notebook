{
 "cells": [
  {
   "cell_type": "code",
   "execution_count": 5,
   "metadata": {
    "collapsed": true,
    "pycharm": {
     "name": "#%%\n"
    }
   },
   "outputs": [
    {
     "name": "stdout",
     "output_type": "stream",
     "text": [
      "1 3 5 7 9 11 "
     ]
    }
   ],
   "source": [
    "# to print odd number using while loop\n",
    "n = int(input()) # taking user input\n",
    "i = 0 # starting point\n",
    "while i <= n: # loop\n",
    "    if i % 2 == 1:\n",
    "        print(i, end=\" \") # execution command\n",
    "    i += 1 # increment"
   ]
  },
  {
   "cell_type": "code",
   "execution_count": 6,
   "metadata": {
    "pycharm": {
     "name": "#%%\n"
    }
   },
   "outputs": [
    {
     "name": "stdout",
     "output_type": "stream",
     "text": [
      "1 3 5 7 9 11 "
     ]
    }
   ],
   "source": [
    "# to print odd number using while loop without if condition\n",
    "n = int(input())\n",
    "i = 1\n",
    "while i <= n:\n",
    "    print(i, end=\" \")\n",
    "    i += 2"
   ]
  },
  {
   "cell_type": "code",
   "execution_count": 8,
   "metadata": {
    "pycharm": {
     "name": "#%%\n"
    }
   },
   "outputs": [
    {
     "name": "stdout",
     "output_type": "stream",
     "text": [
      "10,7,4,1,"
     ]
    }
   ],
   "source": [
    "# print 10, 7, 4, 1,\n",
    "for i in range(10, -1, -3):\n",
    "    print(i, end=\",\")"
   ]
  },
  {
   "cell_type": "code",
   "execution_count": 11,
   "metadata": {
    "pycharm": {
     "name": "#%%\n"
    }
   },
   "outputs": [
    {
     "name": "stdout",
     "output_type": "stream",
     "text": [
      "10,7,4,1 "
     ]
    }
   ],
   "source": [
    "for i in range(10, -1, -3):\n",
    "    if i == 1:\n",
    "        print(i, end=\" \")\n",
    "    else:\n",
    "        print(i, end=\",\")"
   ]
  },
  {
   "cell_type": "code",
   "execution_count": 14,
   "metadata": {
    "pycharm": {
     "name": "#%%\n"
    }
   },
   "outputs": [
    {
     "name": "stdout",
     "output_type": "stream",
     "text": [
      "1, 3, 5, 7, 9, 11 "
     ]
    }
   ],
   "source": [
    "i = 1\n",
    "while i <= 11:\n",
    "    if i == 11:\n",
    "        print(i, end=\" \") # end with empty space\n",
    "    else:\n",
    "        print(i, end=\", \") # comma and space\n",
    "    i += 2"
   ]
  },
  {
   "cell_type": "code",
   "execution_count": 19,
   "metadata": {
    "pycharm": {
     "name": "#%%\n"
    }
   },
   "outputs": [
    {
     "name": "stdout",
     "output_type": "stream",
     "text": [
      "1 3 6 10 15 21 "
     ]
    }
   ],
   "source": [
    " # print 1, 3, 6, 10, 15, 21\n",
    "i = 1\n",
    "j = 2 # second variable to jump the number than i\n",
    "while i <= 21:\n",
    "    print(i, end=\" \")\n",
    "    i += j\n",
    "    j += 1"
   ]
  },
  {
   "cell_type": "code",
   "execution_count": 20,
   "metadata": {
    "pycharm": {
     "name": "#%%\n"
    }
   },
   "outputs": [
    {
     "name": "stdout",
     "output_type": "stream",
     "text": [
      "1 3 5 7 9 11 "
     ]
    }
   ],
   "source": [
    "# Quizz\n",
    "i = 1\n",
    "step = 2\n",
    "while i <= 11:\n",
    "    print(i, end=\" \")\n",
    "    i += step"
   ]
  },
  {
   "cell_type": "markdown",
   "metadata": {
    "pycharm": {
     "name": "#%% md\n"
    }
   },
   "source": [
    "# Python Program to Find the Factors of a Number\n",
    "\n",
    "The factor of any number is a whole number which exactly divides the number into a whole number without leaving any remainder.\n",
    "\n",
    "For example, 3 is a factor of 9 because 3 divides 9 evenly leaving no remainder.\n",
    "Problem\n",
    "\n",
    "Create a Python program to find all the factors of a number.\n",
    "Algorithm\n",
    "\n",
    "Step 1:  Take a number\n",
    "\n",
    "Step 2: Loop over every number from 1 to the given number\n",
    "\n",
    "Step 3: If the loop iterator evenly divides  the provided number i.e. number % i == 0 print it."
   ]
  },
  {
   "cell_type": "code",
   "execution_count": 22,
   "metadata": {
    "pycharm": {
     "name": "#%%\n"
    }
   },
   "outputs": [
    {
     "name": "stdout",
     "output_type": "stream",
     "text": [
      "The factors of 69 are,\n",
      "1 3 23 69 "
     ]
    }
   ],
   "source": [
    "number = 69\n",
    "\n",
    "print(\"The factors of {} are,\".format(number))\n",
    "\n",
    "for i in range(1,number+1):\n",
    "    if number % i == 0:\n",
    "        print(i, end=\" \")"
   ]
  },
  {
   "cell_type": "code",
   "execution_count": 26,
   "metadata": {
    "pycharm": {
     "name": "#%%\n"
    }
   },
   "outputs": [
    {
     "name": "stdout",
     "output_type": "stream",
     "text": [
      "The factors of 100 are,\n",
      "1, 2, 4, 5, 10, 20, 25, 50, 100, "
     ]
    }
   ],
   "source": [
    "# Print factors of a user-provided number\n",
    "\n",
    "number = int(input(\"Enter a number \"))\n",
    "print(\"The factors of {} are,\".format(number))\n",
    "\n",
    "for i in range(1,number+1):\n",
    "    if number % i == 0:\n",
    "        print(i, end=\", \")"
   ]
  },
  {
   "cell_type": "code",
   "execution_count": 9,
   "metadata": {
    "pycharm": {
     "name": "#%%\n"
    }
   },
   "outputs": [
    {
     "name": "stdout",
     "output_type": "stream",
     "text": [
      " The count of factor for: 26\n",
      "1 2 13 26 \n",
      "The count of factor is 4\n"
     ]
    }
   ],
   "source": [
    "# count of Factors\n",
    "n =  int(input())\n",
    "print(\" The count of factor for:\", n)\n",
    "c = 0\n",
    "for i in range (1, n+1):\n",
    "    if n % i == 0:\n",
    "        print(i, end=\" \")\n",
    "        c += 1\n",
    "print(\"\\nThe count of factor is\", c)\n"
   ]
  },
  {
   "cell_type": "markdown",
   "metadata": {
    "pycharm": {
     "name": "#%% md\n"
    }
   },
   "source": [
    "n = int(input())\n",
    "c = 0\n",
    "for i in range(1, 1+n):\n",
    "    if n % i ==0:\n",
    "        #print(i, end=\" \")\n",
    "        c += 1\n",
    "print(c)"
   ]
  },
  {
   "cell_type": "code",
   "execution_count": null,
   "metadata": {
    "pycharm": {
     "name": "#%%\n"
    }
   },
   "outputs": [],
   "source": []
  },
  {
   "cell_type": "markdown",
   "metadata": {
    "pycharm": {
     "name": "#%% md\n"
    }
   },
   "source": [
    "# Python Program to Check Prime Number using While Loop\n",
    "\n",
    "What is Prime Number ?\n",
    "\n",
    "Prime numbers are natural numbers (positive integers) that are greater than 1 and have no positive integer divisors other than 1 and themselves.\n",
    "\n",
    "For example, the first few prime numbers are: 2, 3, 5, 7, 11, 13, 17, 19, 23, and 29.\n",
    "\n",
    "You can use the following test to determine if a number is prime:\n",
    "\n",
    "    If the number is less than 2, it is not prime.\n",
    "\n",
    "    If the number is 2 or 3, it is prime.\n",
    "\n",
    "    Otherwise, check if the number is divisible by any integer between 2 and the square root of the number.\n",
    "     If it is not divisible by any of these integers, it is prime. Otherwise, it is composite."
   ]
  },
  {
   "cell_type": "markdown",
   "metadata": {
    "pycharm": {
     "name": "#%% md\n"
    }
   },
   "source": [
    "How to write Prime number Program in Python?\n",
    "\n",
    "    Prime number is a number that is greater than 1 and divided by 1 or itself.\n",
    "    In other words, prime numbers can’t be divided by other numbers than itself or 1.\n",
    "    For example- 2, 3, 5, 7, 11, 13, 17, 19, 23…. are the prime numbers.\n",
    "    Let’s see the prime number program in Python.\n",
    "\n",
    "In this Python program, we will take an input from the user and check whether the number is prime or not."
   ]
  },
  {
   "cell_type": "code",
   "execution_count": 36,
   "metadata": {
    "pycharm": {
     "name": "#%%\n"
    }
   },
   "outputs": [
    {
     "name": "stdout",
     "output_type": "stream",
     "text": [
      " The number is  236\n",
      "The entered number is composite\n"
     ]
    }
   ],
   "source": [
    "# take user input\n",
    "n =  int(input())\n",
    "print(\" The number is \", n)\n",
    "f = 0\n",
    "i = 2\n",
    "while i <= n/ 2:\n",
    "    if n % i ==0:\n",
    "        f = 1\n",
    "        break\n",
    "    i = i+1\n",
    "if f==0:\n",
    "    print(\"The enter number is prime\")\n",
    "else:\n",
    "    print(\"The entered number is composite\")"
   ]
  },
  {
   "cell_type": "code",
   "execution_count": 43,
   "metadata": {
    "pycharm": {
     "name": "#%%\n"
    }
   },
   "outputs": [
    {
     "name": "stdout",
     "output_type": "stream",
     "text": [
      "25\n",
      "The entered number is composite\n"
     ]
    }
   ],
   "source": [
    "n = int(input())\n",
    "print(n)\n",
    "c = 0\n",
    "for i in range(1, n+1):\n",
    "    if n % i == 0:\n",
    "        c += 1\n",
    "\n",
    "# 1 and n => factors\n",
    "if c == 2:\n",
    "    print(\"The enter number is prime\")\n",
    "else:\n",
    "    print(\"The entered number is composite\")"
   ]
  },
  {
   "cell_type": "markdown",
   "metadata": {
    "pycharm": {
     "name": "#%% md\n"
    }
   },
   "source": [
    "In this code, we use a for loop to iterate over all numbers between 2 and 100. For each number (num), we use another for loop to check if it's prime.\n",
    "\n",
    "To check if a number is prime, we divide it by every number between 2 and itself (excluding itself), and we check if any of these divisions have a remainder of 0. If a division has no remainder, then num is not prime, and we set the is_prime variable to False and break out of the loop.\n",
    "\n",
    "If the is_prime variable is still True after the loop, then we know that num is prime, so we print it.\n",
    "\n",
    "This code will print all prime numbers between 2 and 100. You can adjust the range of the for loop to print prime numbers in a different range."
   ]
  },
  {
   "cell_type": "code",
   "execution_count": 1,
   "metadata": {
    "pycharm": {
     "name": "#%%\n"
    }
   },
   "outputs": [
    {
     "name": "stdout",
     "output_type": "stream",
     "text": [
      "2\n",
      "3\n",
      "5\n"
     ]
    }
   ],
   "source": [
    "n = int(input())\n",
    "for num in range(2, n+1):\n",
    "    # check if num is prime\n",
    "    is_prime = True\n",
    "    for i in range(2, num):\n",
    "        if num % i == 0:\n",
    "            is_prime = False\n",
    "            break\n",
    "    # print num if it's prime\n",
    "    if is_prime:\n",
    "        print(num) \n"
   ]
  },
  {
   "cell_type": "code",
   "execution_count": 17,
   "metadata": {
    "pycharm": {
     "name": "#%%\n"
    }
   },
   "outputs": [
    {
     "name": "stdout",
     "output_type": "stream",
     "text": [
      "Please, Enter the Lowest Range Value: 14\n",
      "Please, Enter the Upper Range Value: 25\n",
      "The Prime Numbers in the range are: \n",
      "17\n",
      "19\n",
      "23\n"
     ]
    }
   ],
   "source": [
    "# First, we will take the input:  \n",
    "lower_value = int(input (\"Please, Enter the Lowest Range Value: \"))  \n",
    "upper_value = int(input (\"Please, Enter the Upper Range Value: \"))  \n",
    "      \n",
    "print (\"The Prime Numbers in the range are: \")  \n",
    "for number in range (lower_value, upper_value + 1):  \n",
    "    if number > 1:  \n",
    "        for i in range (2, number):  \n",
    "            if (number % i) == 0:  \n",
    "                    break  \n",
    "        else:  \n",
    "            print (number)"
   ]
  },
  {
   "cell_type": "code",
   "execution_count": null,
   "metadata": {
    "pycharm": {
     "is_executing": true,
     "name": "#%%\n"
    }
   },
   "outputs": [],
   "source": [
    "# function to check if a number is prime or not\n",
    "def is_prime(num):\n",
    "    if num <= 1:\n",
    "        return False\n",
    "    for i in range(2, int(num**0.5) + 1):\n",
    "        if num % i == 0:\n",
    "            return False\n",
    "    return True\n",
    "\n",
    "# print all prime numbers between 1 and 100\n",
    "for i in range(1, 101):\n",
    "    if is_prime(i):\n",
    "        print(i)\n"
   ]
  },
  {
   "cell_type": "code",
   "execution_count": 44,
   "metadata": {
    "pycharm": {
     "name": "#%%\n"
    }
   },
   "outputs": [
    {
     "name": "stdout",
     "output_type": "stream",
     "text": [
      "2\n",
      "3\n",
      "5\n",
      "7\n"
     ]
    }
   ],
   "source": [
    "# function to check if a number is prime or not\n",
    "def is_prime(num):\n",
    "    if num <= 1:\n",
    "        return False\n",
    "    for i in range(2, int(num**0.5) + 1):\n",
    "        if num % i == 0:\n",
    "            return False\n",
    "    return True\n",
    "\n",
    "# print all prime numbers between 1 and n\n",
    "n = int(input(\"Enter a number: \"))\n",
    "for i in range(2, n+1):\n",
    "    is_i_prime = True\n",
    "    for j in range(2, i):\n",
    "        if i % j == 0:\n",
    "            is_i_prime = False\n",
    "            break\n",
    "    if is_i_prime:\n",
    "        print(i)\n",
    "\n",
    "\n",
    "\n"
   ]
  },
  {
   "cell_type": "code",
   "execution_count": 45,
   "metadata": {
    "pycharm": {
     "name": "#%%\n"
    }
   },
   "outputs": [
    {
     "name": "stdout",
     "output_type": "stream",
     "text": [
      "2\n",
      "3\n",
      "5\n",
      "7\n",
      "11\n",
      "13\n"
     ]
    }
   ],
   "source": [
    "n = int(input(\"Enter a number: \"))\n",
    "for i in range(2, n+1):\n",
    "    is_i_prime = True\n",
    "    for j in range(2, i):\n",
    "        if i % j == 0:\n",
    "            is_i_prime = False\n",
    "            break\n",
    "    if is_i_prime:\n",
    "        print(i)"
   ]
  },
  {
   "cell_type": "markdown",
   "metadata": {
    "pycharm": {
     "name": "#%% md\n"
    }
   },
   "source": [
    "Python math.log() Method\n",
    "\n",
    "Definition and Usage\n",
    "\n",
    "The math.log() method returns the natural logarithm of a number, or the logarithm of number to base.\n",
    "\n",
    "Syntax\n",
    "math.log(x, base)"
   ]
  },
  {
   "cell_type": "markdown",
   "metadata": {
    "pycharm": {
     "name": "#%% md\n"
    }
   },
   "source": [
    "Parameter \tDescription\n",
    "x \t        Required. Specifies the value to calculate the logarithm for. If the value is 0 or a negative number, it returns a ValueError.          If the value is not a number, it returns a TypeError\n",
    "\n",
    "\n",
    "base \t    Optional. The logarithmic base to use. Default is 'e'"
   ]
  },
  {
   "cell_type": "markdown",
   "metadata": {
    "pycharm": {
     "name": "#%% md\n"
    }
   },
   "source": [
    "Technical Details\n",
    "Return Value: \t        A float value, representing the natural logarithm of a number, or the logarithm of number to base\n",
    "Python Version: \t    Changed in version 2.3\n",
    "Change Log: \t        The base parameter was added\n"
   ]
  },
  {
   "cell_type": "markdown",
   "metadata": {
    "pycharm": {
     "name": "#%% md\n"
    }
   },
   "source": [
    "def log(x: SupportsFloat, base: SupportsFloat = ...)\n",
    "log(x, [base=math.e]) # retun the logarithm of x to the given base.\n",
    "\n",
    "if the base not specified, return the natural logarithm (base e) of x."
   ]
  },
  {
   "cell_type": "markdown",
   "metadata": {
    "pycharm": {
     "name": "#%% md\n"
    }
   },
   "source": [
    "math.log10(__x)\n",
    "math.log(x, base)\n",
    "math.log2(__x)\n",
    "math.log1p(__x)"
   ]
  },
  {
   "cell_type": "code",
   "execution_count": 50,
   "metadata": {
    "pycharm": {
     "name": "#%%\n"
    }
   },
   "outputs": [
    {
     "data": {
      "text/plain": [
       "9.0"
      ]
     },
     "execution_count": 50,
     "metadata": {},
     "output_type": "execute_result"
    }
   ],
   "source": [
    "import math\n",
    "# math.log(value, base)\n",
    "math.log(36*36, 6)"
   ]
  },
  {
   "cell_type": "code",
   "execution_count": 51,
   "metadata": {
    "pycharm": {
     "name": "#%%\n"
    }
   },
   "outputs": [
    {
     "data": {
      "text/plain": [
       "2.0"
      ]
     },
     "execution_count": 51,
     "metadata": {},
     "output_type": "execute_result"
    }
   ],
   "source": [
    "math.log(36, 6)"
   ]
  },
  {
   "cell_type": "code",
   "execution_count": 52,
   "metadata": {
    "pycharm": {
     "name": "#%%\n"
    }
   },
   "outputs": [
    {
     "data": {
      "text/plain": [
       "9.0"
      ]
     },
     "execution_count": 52,
     "metadata": {},
     "output_type": "execute_result"
    }
   ],
   "source": [
    "math.log(512, 2)"
   ]
  },
  {
   "cell_type": "code",
   "execution_count": 1,
   "metadata": {
    "pycharm": {
     "name": "#%%\n"
    }
   },
   "outputs": [
    {
     "ename": "NameError",
     "evalue": "name 'math' is not defined",
     "output_type": "error",
     "traceback": [
      "\u001B[1;31m---------------------------------------------------------------------------\u001B[0m",
      "\u001B[1;31mNameError\u001B[0m                                 Traceback (most recent call last)",
      "Cell \u001B[1;32mIn[1], line 1\u001B[0m\n\u001B[1;32m----> 1\u001B[0m \u001B[43mmath\u001B[49m\u001B[38;5;241m.\u001B[39mlog10(\u001B[38;5;241m144\u001B[39m)\n",
      "\u001B[1;31mNameError\u001B[0m: name 'math' is not defined"
     ]
    }
   ],
   "source": [
    "math.log10(144)"
   ]
  },
  {
   "cell_type": "code",
   "execution_count": 58,
   "metadata": {
    "pycharm": {
     "name": "#%%\n"
    }
   },
   "outputs": [
    {
     "data": {
      "text/plain": [
       "6.240275845170769"
      ]
     },
     "execution_count": 58,
     "metadata": {},
     "output_type": "execute_result"
    }
   ],
   "source": [
    "\n",
    "math.log1p(512)"
   ]
  },
  {
   "cell_type": "markdown",
   "metadata": {
    "pycharm": {
     "name": "#%% md\n"
    }
   },
   "source": [
    "Python Program to find the Quotient and Remainder of two numbers"
   ]
  },
  {
   "cell_type": "markdown",
   "metadata": {
    "pycharm": {
     "name": "#%% md\n"
    }
   },
   "source": [
    "Method 1: Naive approach\n",
    "\n",
    "The naive approach is to find the quotient using the double division (//) operator and remainder using the modulus (%) operator."
   ]
  },
  {
   "cell_type": "code",
   "execution_count": 1,
   "metadata": {
    "pycharm": {
     "name": "#%%\n"
    }
   },
   "outputs": [
    {
     "name": "stdout",
     "output_type": "stream",
     "text": [
      "Quotient:  3\n",
      "Remainder 1\n",
      "Quotient:  19\n",
      "Remainder 4\n"
     ]
    }
   ],
   "source": [
    "# Python program to find the\n",
    "# quotient and remainder\n",
    "\n",
    "def find(n, m):\n",
    "\n",
    "    # for quotient\n",
    "    q = n//m\n",
    "    print(\"Quotient: \", q)\n",
    "\n",
    "    # for remainder\n",
    "    r = n%m\n",
    "    print(\"Remainder\", r)\n",
    "\n",
    "# Driver Code\n",
    "find(10, 3)\n",
    "find(99, 5)"
   ]
  },
  {
   "cell_type": "code",
   "execution_count": 65,
   "metadata": {
    "pycharm": {
     "name": "#%%\n"
    }
   },
   "outputs": [
    {
     "name": "stdout",
     "output_type": "stream",
     "text": [
      "Quotient: 3\n",
      "Remainder: 1\n"
     ]
    }
   ],
   "source": [
    "num = int(input())\n",
    "div = int(input())\n",
    "\n",
    "quotient = 0\n",
    "while num >= div:\n",
    "    num -= div\n",
    "    quotient += 1\n",
    "print(\"Quotient:\", quotient)\n",
    "print(\"Remainder:\", num)"
   ]
  },
  {
   "cell_type": "markdown",
   "metadata": {
    "pycharm": {
     "name": "#%% md\n"
    }
   },
   "source": [
    "# conver binary to decimal\n",
    "\n",
    "https://www.geeksforgeeks.org/binary-number-system-definition-conversion-examples/"
   ]
  },
  {
   "cell_type": "code",
   "execution_count": 69,
   "metadata": {
    "pycharm": {
     "name": "#%%\n"
    }
   },
   "outputs": [
    {
     "name": "stdout",
     "output_type": "stream",
     "text": [
      "1\n"
     ]
    }
   ],
   "source": [
    "n =  int(input()) # user input\n",
    "c = 0 # count at inituially zero\n",
    "while n>0: # while loop\n",
    "    dig = n % 10 # checking if the number is real\n",
    "    if dig == 1:\n",
    "        c += 1 # increment\n",
    "    n = n//10\n",
    "print(c)"
   ]
  },
  {
   "cell_type": "code",
   "execution_count": 18,
   "metadata": {
    "pycharm": {
     "name": "#%%\n"
    }
   },
   "outputs": [
    {
     "name": "stdout",
     "output_type": "stream",
     "text": [
      "89\n"
     ]
    }
   ],
   "source": [
    "number = input()\n",
    "dec_number = int(number,2)\n",
    "print(dec_number)\\]'"
   ]
  },
  {
   "cell_type": "code",
   "execution_count": 88,
   "metadata": {
    "pycharm": {
     "name": "#%%\n"
    }
   },
   "outputs": [
    {
     "name": "stdout",
     "output_type": "stream",
     "text": [
      "digit: 1\n",
      "power: 1\n",
      "\n",
      "digit: 1\n",
      "power: 2\n",
      "\n",
      "digit: 0\n",
      "power: 4\n",
      "\n",
      "digit: 1\n",
      "power: 8\n",
      "\n",
      "11\n"
     ]
    }
   ],
   "source": [
    "# convert binary to decimal\n",
    "n =  int(input())\n",
    "ans = 0\n",
    "i = 0\n",
    "while n > 0:\n",
    "    dig = n % 10\n",
    "    print('digit:', dig)\n",
    "    val = dig *(2**i)\n",
    "    print('power:', 2**i)\n",
    "    i += 1\n",
    "    print()\n",
    "    ans += val\n",
    "    n = n // 10\n",
    "print(ans)"
   ]
  },
  {
   "cell_type": "code",
   "execution_count": 91,
   "metadata": {
    "pycharm": {
     "name": "#%%\n"
    }
   },
   "outputs": [
    {
     "name": "stdout",
     "output_type": "stream",
     "text": [
      "10011\n",
      "1 2 0 0 16 \n",
      "19\n"
     ]
    }
   ],
   "source": [
    "n =  int(input())\n",
    "print(n)\n",
    "ans = 0\n",
    "i = 0\n",
    "while n > 0:\n",
    "    dig = n % 10\n",
    "    val = dig *(2**i)\n",
    "    i += 1\n",
    "    ans += val\n",
    "    print(val, end=\" \")\n",
    "    n = n // 10\n",
    "print()\n",
    "print(ans)"
   ]
  },
  {
   "cell_type": "code",
   "execution_count": 92,
   "metadata": {
    "pycharm": {
     "name": "#%%\n"
    }
   },
   "outputs": [
    {
     "name": "stdout",
     "output_type": "stream",
     "text": [
      "2\n",
      "6\n",
      "Output: 6\n",
      "9\n",
      "Output: 9\n"
     ]
    }
   ],
   "source": [
    "# take T inputs \n",
    "T =  int(input())\n",
    "i =  1\n",
    "while i <= T: # i =  T\n",
    "    n = int(input())\n",
    "    print(\"Output:\", n)\n",
    "    i += 1"
   ]
  },
  {
   "cell_type": "code",
   "execution_count": 8,
   "metadata": {
    "pycharm": {
     "name": "#%%\n"
    }
   },
   "outputs": [
    {
     "name": "stdout",
     "output_type": "stream",
     "text": [
      "The input number: 15\n",
      "Revers: 5 1 "
     ]
    }
   ],
   "source": [
    "# Revers the number\n",
    "T =  int(input())\n",
    "i =  1\n",
    "while i <= T: # i =  T\n",
    "    n = int(input())\n",
    "    print('The input number:', n)\n",
    "    i += 1\n",
    "    print(\"Revers:\", end=\" \")\n",
    "    i += 1\n",
    "    while n > 0:\n",
    "        dig = n % 10\n",
    "        print(dig, end=\" \")\n",
    "        n = n // 10\n",
    "        "
   ]
  },
  {
   "cell_type": "code",
   "execution_count": null,
   "metadata": {
    "pycharm": {
     "name": "#%%\n"
    }
   },
   "outputs": [],
   "source": [
    "# Take multiple input (T) and print the sum of digits in each number\n",
    "T =  int(input())\n",
    "i = 0\n",
    "while i <= T:\n",
    "    n = int"
   ]
  },
  {
   "cell_type": "code",
   "execution_count": 2,
   "metadata": {
    "pycharm": {
     "name": "#%%\n"
    }
   },
   "outputs": [
    {
     "name": "stdout",
     "output_type": "stream",
     "text": [
      "no\n",
      "no\n",
      "no\n",
      "no\n",
      "no\n",
      "no\n",
      "no\n",
      "no\n",
      "no\n",
      "no\n",
      "no\n",
      "no\n",
      "no\n",
      "no\n",
      "no\n",
      "no\n"
     ]
    }
   ],
   "source": [
    "# Doubt\n",
    "T = int(input()) # taking input for number of cases\n",
    "for i in range(T):\n",
    "    num =int(input()) # taking input for each case\n",
    "    total = 0\n",
    "    is_perfect = \"no\" # since no number is perfect during initialization\n",
    "    for j in range(1,num): # looping from 1 to num-1(excluding the number itself)\n",
    "\n",
    "        total += j # adding each jth element to get criteria #1 of perfect number\n",
    "\n",
    "        if num % j == 0 and total == num:\n",
    "            is_perfect  = \"Yes\"\n",
    "            break\n",
    "        print(is_perfect)"
   ]
  },
  {
   "cell_type": "code",
   "execution_count": 8,
   "metadata": {
    "pycharm": {
     "name": "#%%\n"
    }
   },
   "outputs": [
    {
     "name": "stdout",
     "output_type": "stream",
     "text": [
      "No\n",
      "No\n"
     ]
    }
   ],
   "source": [
    "n = int(input()) # number of test input\n",
    "while n>0:\n",
    "    n = n - 1\n",
    "    m = int(input()) # number input to check the number is perfect number or not-\n",
    "    s = 0 # initializing variable sum = 0\n",
    "    i = 2\n",
    "    while i * i < m:\n",
    "        if m % i == 0:\n",
    "            s = s + i + m/i\n",
    "        i =i + 1\n",
    "    if s + 1 == m:\n",
    "        print(\"Yes\")\n",
    "    else:\n",
    "        print(\"No\")"
   ]
  },
  {
   "cell_type": "code",
   "execution_count": null,
   "metadata": {
    "pycharm": {
     "name": "#%%\n"
    }
   },
   "outputs": [],
   "source": [
    "# # take input for number of test cases\n",
    "T = int(input(\"Enter the number of test cases: \"))"
   ]
  },
  {
   "cell_type": "markdown",
   "metadata": {
    "pycharm": {
     "name": "#%% md\n"
    }
   },
   "source": [
    "# Assignment and Homework "
   ]
  },
  {
   "cell_type": "code",
   "execution_count": null,
   "metadata": {
    "pycharm": {
     "name": "#%%\n"
    }
   },
   "outputs": [],
   "source": [
    "'''Write a program to input an integer T which represents the number of test cases.\n",
    "For each test case input two integers A and B in two different lines. \n",
    "For each pair of A and B print the HCF of the given two numbers.\n",
    "'''\n",
    "\n",
    "# take input for number of test cases\n",
    "T = int(input(\"Enter the number of test cases: \"))\n",
    "\n",
    "# loop for each test case\n",
    "for i in range(T):\n",
    "    # take input for two integers A and B\n",
    "    A = int(input(\"Enter the first integer: \"))\n",
    "    B = int(input(\"Enter the second integer: \"))\n",
    "\n",
    "    # find the HCF of A and B\n",
    "    hcf = 0\n",
    "    for j in range(1, min(A, B) + 1):\n",
    "        if A % j == 0 and B % j == 0:\n",
    "            hcf = j\n",
    "\n",
    "    # print the result\n",
    "    print(\"The HCF of\", A, \"and\", B, \"is\", hcf)\n"
   ]
  },
  {
   "cell_type": "code",
   "execution_count": 1,
   "metadata": {
    "pycharm": {
     "name": "#%%\n"
    }
   },
   "outputs": [
    {
     "name": "stdout",
     "output_type": "stream",
     "text": [
      "15\n",
      "12\n"
     ]
    }
   ],
   "source": [
    "# to find HCF\n",
    "\n",
    "t  =  int(input())\n",
    "\n",
    "for i in range(t):\n",
    "    a =  int(input())\n",
    "    b =  int(input())\n",
    "\n",
    "    hcf = 0\n",
    "    for j in range(1, min(a,b)+1):\n",
    "        if a % j ==0 and b % j ==0:\n",
    "            hcf = j\n",
    "    print(hcf)"
   ]
  },
  {
   "cell_type": "code",
   "execution_count": 2,
   "outputs": [
    {
     "name": "stdout",
     "output_type": "stream",
     "text": [
      "6\n",
      "9\n"
     ]
    }
   ],
   "source": [
    "'''Write a program to input an integer T and then for each test case input two integers A and B in two different lines and then print T lines containing Least Common Multiple (LCM) of two given 2 numbers A and B.'''\n",
    "\n",
    "# Taking the number of test cases as input\n",
    "T = int(input())\n",
    "\n",
    "# Looping through each test case\n",
    "for i in range(T):\n",
    "    # Taking two integers as input\n",
    "    A = int(input())\n",
    "    B = int(input())\n",
    "\n",
    "    # Calculating the LCM of A and B\n",
    "    max_num = max(A,B)\n",
    "    lcm = max_num\n",
    "    while (lcm % A != 0) or (lcm % B != 0):\n",
    "        lcm += max_num\n",
    "\n",
    "    # Printing the LCM of A and B\n",
    "    print(lcm)\n"
   ],
   "metadata": {
    "collapsed": false,
    "pycharm": {
     "name": "#%%\n"
    }
   }
  },
  {
   "cell_type": "code",
   "execution_count": 3,
   "outputs": [
    {
     "name": "stdout",
     "output_type": "stream",
     "text": [
      "3\n"
     ]
    }
   ],
   "source": [
    "i=2\n",
    "if i==2:\n",
    "    i+=1\n",
    "for j in range(i):\n",
    "    pass\n",
    "    break\n",
    "    i+=1\n",
    "print(i)"
   ],
   "metadata": {
    "collapsed": false,
    "pycharm": {
     "name": "#%%\n"
    }
   }
  },
  {
   "cell_type": "code",
   "execution_count": 4,
   "outputs": [
    {
     "name": "stdout",
     "output_type": "stream",
     "text": [
      "Exec "
     ]
    }
   ],
   "source": [
    "n=8\n",
    "while n>=0:\n",
    "   n -= 2\n",
    "   if n%2==0:\n",
    "       continue\n",
    "   print(n, end=\" \")\n",
    "else:\n",
    "   print(\"Exec\", end=\" \")"
   ],
   "metadata": {
    "collapsed": false,
    "pycharm": {
     "name": "#%%\n"
    }
   }
  },
  {
   "cell_type": "code",
   "execution_count": 5,
   "outputs": [
    {
     "name": "stdout",
     "output_type": "stream",
     "text": [
      "a a c\n"
     ]
    }
   ],
   "source": [
    "for i in range(1):\n",
    "    for j in range(2):\n",
    "        for k in range(1):\n",
    "            print(\"a\", end=\" \")\n",
    "        print(end=\"\")\n",
    "    print(\"c\")"
   ],
   "metadata": {
    "collapsed": false,
    "pycharm": {
     "name": "#%%\n"
    }
   }
  },
  {
   "cell_type": "code",
   "execution_count": null,
   "metadata": {
    "pycharm": {
     "name": "#%%\n"
    }
   },
   "outputs": [],
   "source": [
    "# Take an integer A as input, determine whether it is palindromic or not.\n",
    "\n",
    "# take input integer from user\n",
    "num = int(input(\"Enter an integer: \"))\n",
    "\n",
    "# convert integer to string and reverse it\n",
    "num_str = str(num)\n",
    "num_str_rev = num_str[::-1]\n",
    "\n",
    "# check if the string is equal to its reverse\n",
    "if num_str == num_str_rev:\n",
    "    print(num, \"is a palindromic number\")\n",
    "else:\n",
    "    print(num, \"is not a palindromic number\")"
   ]
  },
  {
   "cell_type": "markdown",
   "metadata": {
    "pycharm": {
     "name": "#%% md\n"
    }
   },
   "source": [
    "In above code, we take input for the number of test cases T using the input() function. We then use a loop to repeat the process of taking input for two integers A and B and printing their HCF T number of times.\n",
    "\n",
    "For each test case, we take input for two integers A and B using the input() function. We then find their HCF by looping through all numbers from 1 to the minimum of A and B, and checking if each number is a factor of both A and B. We keep track of the maximum such number found as hcf.\n",
    "\n",
    "Finally, we print the result using the print() function."
   ]
  },
  {
   "cell_type": "code",
   "execution_count": null,
   "metadata": {
    "pycharm": {
     "name": "#%%\n"
    }
   },
   "outputs": [],
   "source": [
    "num =  int(input())\n",
    "\n",
    "num_str  = str(num)\n",
    "num_str_rev = num_str[::-1]\n",
    "\n",
    "if num_str == num_str_rev:\n",
    "    print(\"Yes\")\n",
    "else:\n",
    "    print(\"No\")"
   ]
  },
  {
   "cell_type": "code",
   "execution_count": null,
   "metadata": {
    "pycharm": {
     "name": "#%%\n"
    }
   },
   "outputs": [],
   "source": [
    "# write a code to print all the Armstrong Numbers between 1 to N. (N inclusive) without defining function\n",
    "\n",
    "# take input for N\n",
    "N = int(input(\"Enter the value of N: \"))\n",
    "\n",
    "# loop through numbers from 1 to N and check if they are Armstrong numbers\n",
    "for num in range(1, N+1):\n",
    "    # find the number of digits in num\n",
    "    num_digits = len(str(num))\n",
    "    \n",
    "    # calculate the sum of the cubes of its digits\n",
    "    sum = 0\n",
    "    for digit in str(num):\n",
    "        sum += int(digit) ** num_digits\n",
    "    \n",
    "    # check if num is an Armstrong number and print it if it is\n",
    "    if sum == num:\n",
    "        print(num)\n"
   ]
  },
  {
   "cell_type": "code",
   "execution_count": 2,
   "metadata": {
    "pycharm": {
     "name": "#%%\n"
    }
   },
   "outputs": [
    {
     "name": "stdout",
     "output_type": "stream",
     "text": [
      "349\n",
      "1\n",
      "2\n",
      "3\n",
      "4\n",
      "5\n",
      "6\n",
      "7\n",
      "8\n",
      "9\n",
      "153\n"
     ]
    }
   ],
   "source": [
    "n =  int(input())\n",
    "\n",
    "for num in range(1, n+1):\n",
    "    num_digits = len(str(num))\n",
    "\n",
    "    totalsum  = 0\n",
    "\n",
    "    for digit in str(num):\n",
    "        sum += int(digit)**num_digits\n",
    "\n",
    "        if sum==num:\n",
    "            print(num)"
   ]
  },
  {
   "cell_type": "markdown",
   "metadata": {
    "pycharm": {
     "name": "#%% md\n"
    }
   },
   "source": [
    "In above code, we first take input for N using the input() function. We then loop through all numbers from 1 to N using a for loop, and for each number num, we check if it is an Armstrong number by finding the sum of the cubes of its digits.\n",
    "\n",
    "To find the sum of the cubes of the digits of num, we first find the number of digits in num using the len() function. We then loop through each digit in num by converting it to a string and using a for loop. For each digit, we convert it to an integer using the int() function and raise it to the power of the number of digits using the ** operator. We then add this value to sum.\n",
    "\n",
    "Finally, we check if sum is equal to num. If it is, we print num using the print() function."
   ]
  },
  {
   "cell_type": "code",
   "execution_count": null,
   "outputs": [],
   "source": [
    "N = int(input())\n",
    "\n",
    "for i in range(1, N+1):\n",
    "    for j in range(1, i+1):\n",
    "        print(\"*\", end=\"\")\n",
    "    print()"
   ],
   "metadata": {
    "collapsed": false,
    "pycharm": {
     "name": "#%%\n"
    }
   }
  },
  {
   "cell_type": "code",
   "execution_count": null,
   "outputs": [],
   "source": [
    "N = int(input())\n",
    "\n",
    "for i in range(1, N+1):\n",
    "    for j in range(1, i+1):\n",
    "        print(j, end=\" \")\n",
    "    print()"
   ],
   "metadata": {
    "collapsed": false,
    "pycharm": {
     "name": "#%%\n"
    }
   }
  },
  {
   "cell_type": "code",
   "execution_count": null,
   "outputs": [],
   "source": [
    "N = int(input())\n",
    "\n",
    "for i in range(1, N+1):\n",
    "    for j in range(1, i+1):\n",
    "        if j == i:\n",
    "            print(j, end='')\n",
    "        else:\n",
    "            print(j, end=' ')\n",
    "    print()"
   ],
   "metadata": {
    "collapsed": false,
    "pycharm": {
     "name": "#%%\n"
    }
   }
  },
  {
   "cell_type": "code",
   "execution_count": 7,
   "outputs": [
    {
     "name": "stdout",
     "output_type": "stream",
     "text": [
      "* * * *\n",
      "* * * *\n",
      "* * * *\n",
      "* * * *\n"
     ]
    }
   ],
   "source": [
    "N = int(input())\n",
    "\n",
    "for i in range(1, N+1):\n",
    "    for j in range(1, N+1):\n",
    "        if j == N:\n",
    "            print(\"*\", end='')\n",
    "        else:\n",
    "            print(\"* \", end='')\n",
    "    print()\n"
   ],
   "metadata": {
    "collapsed": false,
    "pycharm": {
     "name": "#%%\n"
    }
   }
  },
  {
   "cell_type": "code",
   "execution_count": null,
   "outputs": [],
   "source": [],
   "metadata": {
    "collapsed": false,
    "pycharm": {
     "name": "#%%\n"
    }
   }
  },
  {
   "cell_type": "code",
   "execution_count": 8,
   "outputs": [
    {
     "name": "stdout",
     "output_type": "stream",
     "text": [
      "*     *\n",
      "*     *\n",
      "*     *\n",
      "*     *\n"
     ]
    }
   ],
   "source": [
    "n = int(input())\n",
    "\n",
    "for i in range(1, N+1):\n",
    "    print(\"*\", end=\"\")\n",
    "    print(\" \"*n, end=\"\")\n",
    "    print(\"*\")"
   ],
   "metadata": {
    "collapsed": false,
    "pycharm": {
     "name": "#%%\n"
    }
   }
  },
  {
   "cell_type": "code",
   "execution_count": 9,
   "outputs": [
    {
     "name": "stdout",
     "output_type": "stream",
     "text": [
      "* *\n",
      "* *\n",
      "* *\n"
     ]
    }
   ],
   "source": [
    "N = int(input())\n",
    "\n",
    "for i in range(N):\n",
    "    print(\"*\" + \" \"*(N-2) + \"*\", end=\"\\n\")\n"
   ],
   "metadata": {
    "collapsed": false,
    "pycharm": {
     "name": "#%%\n"
    }
   }
  },
  {
   "cell_type": "code",
   "execution_count": 10,
   "outputs": [
    {
     "ename": "SyntaxError",
     "evalue": "invalid decimal literal (2304021863.py, line 1)",
     "output_type": "error",
     "traceback": [
      "\u001B[1;36m  Cell \u001B[1;32mIn[10], line 1\u001B[1;36m\u001B[0m\n\u001B[1;33m    def 1f(num):\u001B[0m\n\u001B[1;37m        ^\u001B[0m\n\u001B[1;31mSyntaxError\u001B[0m\u001B[1;31m:\u001B[0m invalid decimal literal\n"
     ]
    }
   ],
   "source": [
    "def 1f(num):\n",
    "  return num + 55\n",
    "1f(5)\n",
    "print(num)"
   ],
   "metadata": {
    "collapsed": false,
    "pycharm": {
     "name": "#%%\n"
    }
   }
  },
  {
   "cell_type": "code",
   "execution_count": 11,
   "outputs": [
    {
     "name": "stdout",
     "output_type": "stream",
     "text": [
      "68.0\n"
     ]
    }
   ],
   "source": [
    "def convert(t):\n",
    "    return t*9/5 + 32\n",
    "\n",
    "print(convert(20))"
   ],
   "metadata": {
    "collapsed": false,
    "pycharm": {
     "name": "#%%\n"
    }
   }
  },
  {
   "cell_type": "code",
   "execution_count": null,
   "outputs": [],
   "source": [],
   "metadata": {
    "collapsed": false,
    "pycharm": {
     "name": "#%%\n"
    }
   }
  },
  {
   "cell_type": "markdown",
   "metadata": {
    "pycharm": {
     "name": "#%% md\n"
    }
   },
   "source": []
  }
 ],
 "metadata": {
  "kernelspec": {
   "display_name": "Python 3 (ipykernel)",
   "language": "python",
   "name": "python3"
  },
  "language_info": {
   "codemirror_mode": {
    "name": "ipython",
    "version": 3
   },
   "file_extension": ".py",
   "mimetype": "text/x-python",
   "name": "python",
   "nbconvert_exporter": "python",
   "pygments_lexer": "ipython3",
   "version": "3.10.10"
  }
 },
 "nbformat": 4,
 "nbformat_minor": 1
}