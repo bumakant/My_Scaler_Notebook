{
 "cells": [
  {
   "cell_type": "code",
   "execution_count": null,
   "metadata": {},
   "outputs": [],
   "source": [
    "https://www.geeksforgeeks.org/tuples-in-python/"
   ]
  },
  {
   "cell_type": "code",
   "execution_count": null,
   "metadata": {},
   "outputs": [],
   "source": [
    "'''Tuples in Python\n",
    "\n",
    "Python Tuple is a collection of objects separated by commas. \n",
    "In some ways, a tuple is similar to a list in terms of indexing, nested objects, \n",
    "and repetition but a tuple is immutable, unlike lists which are mutable.\n",
    "\n",
    "'''\n",
    "\n",
    "var = (\"I\", \"am\", \"Quantitative Analyst\")\n",
    "print(var)"
   ]
  },
  {
   "cell_type": "code",
   "execution_count": 8,
   "metadata": {},
   "outputs": [
    {
     "name": "stdout",
     "output_type": "stream",
     "text": [
      "Initial Tuples: ['Mercury', 'Venus', 'Earth', 'Mars', 'Jupiter', 'Saturn', 'Uranus', 'Neptune']\n",
      "Modified Tuple: ['Mercury', 'Venus', 'MotherEarth', 'Mars', 'Jupiter', 'Saturn', 'Uranus', 'Neptune']\n"
     ]
    }
   ],
   "source": [
    "planets = [ 'Mercury', 'Venus', 'Earth', 'Mars', 'Jupiter', 'Saturn', 'Uranus', 'Neptune']\n",
    "print('Initial Tuples:', planets)\n",
    "planets[2] = 'MotherEarth'\n",
    "\n",
    "print('Modified Tuple:', planets)"
   ]
  },
  {
   "cell_type": "code",
   "execution_count": 11,
   "metadata": {},
   "outputs": [
    {
     "ename": "TypeError",
     "evalue": "'tuple' object does not support item assignment",
     "output_type": "error",
     "traceback": [
      "\u001b[1;31m---------------------------------------------------------------------------\u001b[0m",
      "\u001b[1;31mTypeError\u001b[0m                                 Traceback (most recent call last)",
      "Cell \u001b[1;32mIn[11], line 4\u001b[0m\n\u001b[0;32m      1\u001b[0m \u001b[39m'''TypeError: 'tuple' object does not support item assignment'''\u001b[39;00m\n\u001b[0;32m      3\u001b[0m t \u001b[39m=\u001b[39m (\u001b[39m'\u001b[39m\u001b[39mMercury\u001b[39m\u001b[39m'\u001b[39m, \u001b[39m'\u001b[39m\u001b[39mVenus\u001b[39m\u001b[39m'\u001b[39m, \u001b[39m'\u001b[39m\u001b[39mEarth\u001b[39m\u001b[39m'\u001b[39m, \u001b[39m'\u001b[39m\u001b[39mMars\u001b[39m\u001b[39m'\u001b[39m)\n\u001b[1;32m----> 4\u001b[0m t[\u001b[39m2\u001b[39;49m] \u001b[39m=\u001b[39m \u001b[39m'\u001b[39m\u001b[39mNeptue\u001b[39m\u001b[39m'\u001b[39m\n",
      "\u001b[1;31mTypeError\u001b[0m: 'tuple' object does not support item assignment"
     ]
    }
   ],
   "source": [
    "'''TypeError: 'tuple' object does not support item assignment'''\n",
    "\n",
    "t = ('Mercury', 'Venus', 'Earth', 'Mars')\n",
    "t[2] = 'Neptue'"
   ]
  },
  {
   "cell_type": "code",
   "execution_count": 12,
   "metadata": {},
   "outputs": [
    {
     "name": "stdout",
     "output_type": "stream",
     "text": [
      "(1, 2, 4, 'Geek')\n"
     ]
    },
    {
     "data": {
      "text/plain": [
       "'Here, in the above snipper we are considering a variable called values which holds a tuple which consists of either int or str , \\nthe ‘…’ means that the tuple will hold more than one int or str\\n\\nNote: In case your generating a tuple with a single element, make sure to add a comma after the element. '"
      ]
     },
     "execution_count": 12,
     "metadata": {},
     "output_type": "execute_result"
    }
   ],
   "source": [
    "'''A new way of creating Python Tuples in Python 3.11 –'''\n",
    "\n",
    "values : tuple[int | str, ...] = (1,2,4,\"Geek\")\n",
    " \n",
    "print(values)\n",
    "\n",
    "'''Here, in the above snipper we are considering a variable called values which holds a tuple which consists of either int or str , \n",
    "the ‘…’ means that the tuple will hold more than one int or str\n",
    "\n",
    "Note: In case your generating a tuple with a single element, make sure to add a comma after the element. '''"
   ]
  },
  {
   "cell_type": "code",
   "execution_count": 14,
   "metadata": {},
   "outputs": [
    {
     "data": {
      "text/plain": [
       "int"
      ]
     },
     "execution_count": 14,
     "metadata": {},
     "output_type": "execute_result"
    }
   ],
   "source": [
    "t = ('Umakant')\n",
    "type(t)\n"
   ]
  },
  {
   "cell_type": "code",
   "execution_count": 17,
   "metadata": {},
   "outputs": [
    {
     "data": {
      "text/plain": [
       "tuple"
      ]
     },
     "execution_count": 17,
     "metadata": {},
     "output_type": "execute_result"
    }
   ],
   "source": [
    "t = ('I am ', \"Umakant\")\n",
    "type(t)"
   ]
  },
  {
   "cell_type": "code",
   "execution_count": 15,
   "metadata": {},
   "outputs": [
    {
     "data": {
      "text/plain": [
       "int"
      ]
     },
     "execution_count": 15,
     "metadata": {},
     "output_type": "execute_result"
    }
   ],
   "source": [
    "s = (1+2+3)\n",
    "type(s)"
   ]
  },
  {
   "cell_type": "code",
   "execution_count": 16,
   "metadata": {},
   "outputs": [
    {
     "data": {
      "text/plain": [
       "tuple"
      ]
     },
     "execution_count": 16,
     "metadata": {},
     "output_type": "execute_result"
    }
   ],
   "source": [
    "var = (\"I\", \"am\", \"Quantitative Analyst\")\n",
    "type(var)"
   ]
  },
  {
   "cell_type": "code",
   "execution_count": 19,
   "metadata": {},
   "outputs": [
    {
     "name": "stdout",
     "output_type": "stream",
     "text": [
      "<class 'tuple'>\n"
     ]
    }
   ],
   "source": [
    "# Quizz 2\n",
    "print(type((1, 2, 3)))"
   ]
  },
  {
   "cell_type": "code",
   "execution_count": 22,
   "metadata": {},
   "outputs": [
    {
     "name": "stdout",
     "output_type": "stream",
     "text": [
      "6\n"
     ]
    }
   ],
   "source": [
    "T1 = (1) # int\n",
    "T2  = (3, 4) # tuple\n",
    "T1 += 5\n",
    "print(T1) # soubt output will be 6, tuple will not be executed \n"
   ]
  },
  {
   "cell_type": "code",
   "execution_count": 24,
   "metadata": {},
   "outputs": [
    {
     "name": "stdout",
     "output_type": "stream",
     "text": [
      "(1, 3, 5, 7, 9)\n"
     ]
    }
   ],
   "source": [
    "t = tuple(range(1, 10, 2)) # step size is 2 so output will be\n",
    "\n",
    "\n",
    "\\ 1, 3, 5, 7, 9. \n",
    "print(t)"
   ]
  },
  {
   "cell_type": "code",
   "execution_count": 75,
   "metadata": {},
   "outputs": [
    {
     "ename": "TypeError",
     "evalue": "'tuple' object does not support item assignment",
     "output_type": "error",
     "traceback": [
      "\u001b[1;31m---------------------------------------------------------------------------\u001b[0m",
      "\u001b[1;31mTypeError\u001b[0m                                 Traceback (most recent call last)",
      "Cell \u001b[1;32mIn[75], line 6\u001b[0m\n\u001b[0;32m      3\u001b[0m \u001b[39m# code to test that tuples are immutable\u001b[39;00m\n\u001b[0;32m      5\u001b[0m tuple1 \u001b[39m=\u001b[39m (\u001b[39m0\u001b[39m, \u001b[39m1\u001b[39m, \u001b[39m2\u001b[39m, \u001b[39m3\u001b[39m)\n\u001b[1;32m----> 6\u001b[0m tuple1[\u001b[39m0\u001b[39;49m] \u001b[39m=\u001b[39m \u001b[39m4\u001b[39m\n\u001b[0;32m      7\u001b[0m \u001b[39mprint\u001b[39m(tuple1)\n",
      "\u001b[1;31mTypeError\u001b[0m: 'tuple' object does not support item assignment"
     ]
    }
   ],
   "source": [
    "'''\n",
    "Immutable Python Tuples\n",
    "# 'tuple' object does not support item assignment\n",
    "\n",
    "'''\n",
    "\n",
    "# code to test that tuples are immutable\n",
    " \n",
    "tuple1 = (0, 1, 2, 3)\n",
    "tuple1[0] = 4\n",
    "print(tuple1)"
   ]
  },
  {
   "cell_type": "code",
   "execution_count": 26,
   "metadata": {},
   "outputs": [
    {
     "ename": "AttributeError",
     "evalue": "'tuple' object has no attribute 'append'",
     "output_type": "error",
     "traceback": [
      "\u001b[1;31m---------------------------------------------------------------------------\u001b[0m",
      "\u001b[1;31mAttributeError\u001b[0m                            Traceback (most recent call last)",
      "Cell \u001b[1;32mIn[26], line 4\u001b[0m\n\u001b[0;32m      1\u001b[0m \u001b[39m''''tuple' object has no attribute 'append'''\u001b[39;00m\n\u001b[0;32m      3\u001b[0m t \u001b[39m=\u001b[39m (\u001b[39m'\u001b[39m\u001b[39mMercury\u001b[39m\u001b[39m'\u001b[39m, \u001b[39m'\u001b[39m\u001b[39mVenus\u001b[39m\u001b[39m'\u001b[39m, \u001b[39m'\u001b[39m\u001b[39mEarth\u001b[39m\u001b[39m'\u001b[39m, \u001b[39m'\u001b[39m\u001b[39mMars\u001b[39m\u001b[39m'\u001b[39m)\n\u001b[1;32m----> 4\u001b[0m t\u001b[39m.\u001b[39;49mappend(\u001b[39m\"\u001b[39m\u001b[39mPluto\u001b[39m\u001b[39m\"\u001b[39m)\n",
      "\u001b[1;31mAttributeError\u001b[0m: 'tuple' object has no attribute 'append'"
     ]
    }
   ],
   "source": [
    "''''tuple' object has no attribute 'append'''\n",
    "\n",
    "t = ('Mercury', 'Venus', 'Earth', 'Mars')\n",
    "t.append(\"Pluto\")"
   ]
  },
  {
   "cell_type": "code",
   "execution_count": 27,
   "metadata": {},
   "outputs": [
    {
     "name": "stdout",
     "output_type": "stream",
     "text": [
      "(1, 2, 3, 4, 5)\n"
     ]
    }
   ],
   "source": [
    "'''Convert list to tuple '''\n",
    "\n",
    "'''In Python, you can convert a list into a tuple by simply calling \n",
    "the tuple() function and passing the list as an argument.\n",
    "Here's an example:'''\n",
    "\n",
    "my_list = [1, 2, 3, 4, 5]\n",
    "my_tuple = tuple(my_list)\n",
    "print(my_tuple)"
   ]
  },
  {
   "cell_type": "code",
   "execution_count": 30,
   "metadata": {},
   "outputs": [
    {
     "name": "stdout",
     "output_type": "stream",
     "text": [
      "('apple', 'banana', 'cherry')\n"
     ]
    }
   ],
   "source": [
    "'''In both examples, we simply created a list and then used the tuple() function to convert it into a tuple. \n",
    "The resulting tuples have the same elements as the original lists, \n",
    "but they are now immutable (i.e., their values cannot be changed).'''\n",
    "\n",
    "my_list = ['apple', 'banana', 'cherry']\n",
    "my_tuple = tuple(my_list)\n",
    "print(my_tuple)\n",
    "\n"
   ]
  },
  {
   "cell_type": "code",
   "execution_count": 32,
   "metadata": {},
   "outputs": [
    {
     "name": "stdout",
     "output_type": "stream",
     "text": [
      "('A', 'u', 't', 'o', 'b', 'i', 'o', 'g', 'r', 'a', 'p', 'h', 'y', ' ', 'o', 'f', ' ', 'M', 'a', 'h', 'a', 't', 'm', 'a', ' ', 'G', 'a', 'n', 'd', 'h', 'i')\n"
     ]
    }
   ],
   "source": [
    "tpl = tuple(\"Autobiography of Mahatma Gandhi\")\n",
    "print(tpl)"
   ]
  },
  {
   "cell_type": "code",
   "execution_count": 33,
   "metadata": {},
   "outputs": [
    {
     "data": {
      "text/plain": [
       "('h', 'e', 'l', 'l', 'o', ' ', 'w', 'o', 'r', 'l', 'd')"
      ]
     },
     "execution_count": 33,
     "metadata": {},
     "output_type": "execute_result"
    }
   ],
   "source": [
    "# Quizz\n",
    "tuple('hello world')"
   ]
  },
  {
   "cell_type": "code",
   "execution_count": 36,
   "metadata": {},
   "outputs": [
    {
     "ename": "TypeError",
     "evalue": "tuple expected at most 1 argument, got 2",
     "output_type": "error",
     "traceback": [
      "\u001b[1;31m---------------------------------------------------------------------------\u001b[0m",
      "\u001b[1;31mTypeError\u001b[0m                                 Traceback (most recent call last)",
      "Cell \u001b[1;32mIn[36], line 2\u001b[0m\n\u001b[0;32m      1\u001b[0m \u001b[39m'''tuple expected at most 1 argument, got 2'''\u001b[39;00m\n\u001b[1;32m----> 2\u001b[0m \u001b[39mtuple\u001b[39;49m(\u001b[39m'\u001b[39;49m\u001b[39mInterstellar\u001b[39;49m\u001b[39m'\u001b[39;49m,\u001b[39m'\u001b[39;49m\u001b[39mTopgun Mavrick\u001b[39;49m\u001b[39m'\u001b[39;49m)\n",
      "\u001b[1;31mTypeError\u001b[0m: tuple expected at most 1 argument, got 2"
     ]
    }
   ],
   "source": [
    "'''tuple expected at most 1 argument, got 2'''\n",
    "tuple('Interstellar','Topgun Mavrick')\n"
   ]
  },
  {
   "cell_type": "code",
   "execution_count": 37,
   "metadata": {},
   "outputs": [
    {
     "name": "stdout",
     "output_type": "stream",
     "text": [
      "Value in Var[0] =  Umakant\n",
      "Value in Var[1] =  is\n",
      "Value in Var[2] =  generous\n",
      "Value in Var[3] =  person.\n"
     ]
    }
   ],
   "source": [
    "'''Accessing Values in Python Tuples\n",
    "Method 1: Using Positive Index\n",
    "Using square brackets we can get the values from tuples in Python.'''\n",
    "\n",
    "var = (\"Umakant\", \"is\", \"generous\", \"person.\")\n",
    " \n",
    "print(\"Value in Var[0] = \", var[0])\n",
    "print(\"Value in Var[1] = \", var[1])\n",
    "print(\"Value in Var[2] = \", var[2])\n",
    "print(\"Value in Var[3] = \", var[3])"
   ]
  },
  {
   "cell_type": "code",
   "execution_count": null,
   "metadata": {},
   "outputs": [],
   "source": [
    "'''TypeError                                 Traceback (most recent call last)\n",
    "Cell In[41], line 3\n",
    "      1 n  =  int(input())\n",
    "      2 tuple = ('Sun', 'Mercury', 'Venus', 'Earth', 'Mars', 'Jupiter', 'Saturn', 'Uranus', 'Neptune', 'Pluto')\n",
    "----> 3 print('position in planet:', tuple(n)) # her we have used () instead of []\n",
    "\n",
    "TypeError: 'tuple' object is not callable'''\n",
    "\n",
    "n  =  int(input())\n",
    "tuple = ('Sun', 'Mercury', 'Venus', 'Earth', 'Mars', 'Jupiter', 'Saturn', 'Uranus', 'Neptune', 'Pluto')\n",
    "print('position in planet:', tuple(n))\n",
    "\n"
   ]
  },
  {
   "cell_type": "code",
   "execution_count": 40,
   "metadata": {},
   "outputs": [
    {
     "name": "stdout",
     "output_type": "stream",
     "text": [
      "position in planet: Uranus\n"
     ]
    }
   ],
   "source": [
    "n  =  int(input())\n",
    "tuple = ('Sun', 'Mercury', 'Venus', 'Earth', 'Mars', 'Jupiter', 'Saturn', 'Uranus', 'Neptune', 'Pluto')\n",
    "print('position in planet:', tuple[n])"
   ]
  },
  {
   "cell_type": "code",
   "execution_count": 45,
   "metadata": {},
   "outputs": [
    {
     "name": "stdout",
     "output_type": "stream",
     "text": [
      "Value in Var[-4] =  Umakant\n",
      "Value in Var[-3] =  is\n",
      "Value in Var[-2] =  generous\n",
      "Value in Var[-1] =  person.\n"
     ]
    }
   ],
   "source": [
    "'''Method 2: Using Negative Index.\n",
    "In the above methods, we use the positive index to access the value in Python, \n",
    "and here we will use -ve index within [].'''\n",
    "\n",
    "var = (\"Umakant\", \"is\", \"generous\", \"person.\")\n",
    " \n",
    "print(\"Value in Var[-4] = \", var[-4])\n",
    "print(\"Value in Var[-3] = \", var[-3])\n",
    "print(\"Value in Var[-2] = \", var[-2])\n",
    "print(\"Value in Var[-1] = \", var[-1])"
   ]
  },
  {
   "cell_type": "code",
   "execution_count": 47,
   "metadata": {},
   "outputs": [
    {
     "name": "stdout",
     "output_type": "stream",
     "text": [
      "position in planet: Pluto\n"
     ]
    }
   ],
   "source": [
    "n  =  int(input())\n",
    "#           0       1          2        3       4         5         6           7      8         9\n",
    "tuple = ('Sun', 'Mercury', 'Venus', 'Earth', 'Mars', 'Jupiter', 'Saturn', 'Uranus', 'Neptune', 'Pluto')\n",
    "#         -10      -9       -8        -7      -6        -5        -4         -3        -2       -1 \n",
    "print('position in planet:', tuple[n])"
   ]
  },
  {
   "cell_type": "code",
   "execution_count": 48,
   "metadata": {},
   "outputs": [
    {
     "name": "stdout",
     "output_type": "stream",
     "text": [
      "(1, 2, 3)\n",
      "(3, 2, 1, 0)\n",
      "(2, 3)\n"
     ]
    }
   ],
   "source": [
    "''' Slicing Python Tuples'''\n",
    "\n",
    "# code to test slicing\n",
    " \n",
    "tuple1 = (0 ,1, 2, 3)\n",
    "print(tuple1[1:])\n",
    "print(tuple1[::-1]) # inversing\n",
    "print(tuple1[2:4])"
   ]
  },
  {
   "cell_type": "code",
   "execution_count": 74,
   "metadata": {},
   "outputs": [
    {
     "name": "stdout",
     "output_type": "stream",
     "text": [
      "('Pluto',)\n",
      "('Jupiter', 'Saturn', 'Uranus', 'Neptune')\n",
      "('Sun', 'Jupiter')\n",
      "('Pluto', 'Neptune', 'Uranus', 'Saturn', 'Jupiter', 'Mars', 'Earth', 'Venus', 'Mercury', 'Sun')\n"
     ]
    }
   ],
   "source": [
    "#           0       1          2        3       4         5         6           7      8         9\n",
    "tuple = ('Sun', 'Mercury', 'Venus', 'Earth', 'Mars', 'Jupiter', 'Saturn', 'Uranus', 'Neptune', 'Pluto')\n",
    "#         -10      -9       -8        -7      -6        -5        -4         -3        -2       -1 \n",
    "\n",
    "print(tuple[-1:])\n",
    "print(tuple[-5:-1])\n",
    "print(tuple[0::5]) # fromn sun to Jupiter\n",
    "print(tuple[::-1]) # this is how we rever the tuple "
   ]
  },
  {
   "cell_type": "code",
   "execution_count": 76,
   "metadata": {},
   "outputs": [
    {
     "name": "stdout",
     "output_type": "stream",
     "text": [
      "<class 'tuple'>\n"
     ]
    }
   ],
   "source": [
    "''' Finding Length of a Tuple'''\n",
    "\n",
    "# Code for deleting a tuple\n",
    " \n",
    "#           0       1          2        3       4         5         6           7      8         9\n",
    "tuple = ('Sun', 'Mercury', 'Venus', 'Earth', 'Mars', 'Jupiter', 'Saturn', 'Uranus', 'Neptune', 'Pluto')\n",
    "#         -10      -9       -8        -7      -6        -5        -4         -3        -2       -1 \n",
    "del tuple\n",
    "print(tuple)"
   ]
  },
  {
   "cell_type": "code",
   "execution_count": 78,
   "metadata": {},
   "outputs": [
    {
     "name": "stdout",
     "output_type": "stream",
     "text": [
      "('python', 'python', 'python')\n"
     ]
    }
   ],
   "source": [
    "''' Repetition Python Tuples'''\n",
    "\n",
    "# Code to create a tuple with repetition\n",
    " \n",
    "tuple3 = ('python',)*3\n",
    "print(tuple3)"
   ]
  },
  {
   "cell_type": "code",
   "execution_count": 77,
   "metadata": {},
   "outputs": [
    {
     "name": "stdout",
     "output_type": "stream",
     "text": [
      "(0, 1, 2, 3, 'python', 'geek')\n"
     ]
    }
   ],
   "source": [
    "'''Concatenation of Python Tuples\n",
    "To concatenate the Python tuple we will use plus operators(+).'''\n",
    "\n",
    "# Code for concatenating 2 tuples\n",
    " \n",
    "tuple1 = (0, 1, 2, 3)\n",
    "tuple2 = ('python', 'geek')\n",
    " \n",
    "# Concatenating above two\n",
    "print(tuple1 + tuple2)"
   ]
  },
  {
   "cell_type": "code",
   "execution_count": null,
   "metadata": {},
   "outputs": [],
   "source": [
    "l"
   ]
  },
  {
   "cell_type": "code",
   "execution_count": null,
   "metadata": {},
   "outputs": [],
   "source": [
    "# https://www.geeksforgeeks.org/python-count-tuples-occurrence-in-list-of-tuples/?ref=rp\n",
    "\n",
    "'''count of element in tuple'''"
   ]
  },
  {
   "cell_type": "code",
   "execution_count": 83,
   "metadata": {},
   "outputs": [
    {
     "name": "stdout",
     "output_type": "stream",
     "text": [
      "['flower', 'elephant', 'apple', 'guitar', 'dog', 'igloo', 'carrot', 'jacket']\n"
     ]
    }
   ],
   "source": [
    "'''This code defines a list of things, and then uses the random module to generate a random integer\n",
    " between 1 and 10 to determine the length of the list, and then uses the random.sample() function \n",
    " to randomly select elements from the things list without replacement to create a new list of the specified length.\n",
    "\n",
    "You can run this code multiple times to see different random lists of things with different lengths.'''\n",
    "\n",
    "import random\n",
    "\n",
    "# Define a list of things\n",
    "things = ['apple', 'banana', 'carrot', 'dog', 'elephant', 'flower', 'guitar', 'house', 'igloo', 'jacket']\n",
    "\n",
    "# Generate a random list of things with a random length between 1 and 10\n",
    "length = random.randint(1, 10)\n",
    "my_list = random.sample(things, length)\n",
    "\n",
    "# Print the list\n",
    "print(my_list)"
   ]
  },
  {
   "cell_type": "code",
   "execution_count": 86,
   "metadata": {},
   "outputs": [
    {
     "ename": "NameError",
     "evalue": "name 'target' is not defined",
     "output_type": "error",
     "traceback": [
      "\u001b[1;31m---------------------------------------------------------------------------\u001b[0m",
      "\u001b[1;31mNameError\u001b[0m                                 Traceback (most recent call last)",
      "Cell \u001b[1;32mIn[86], line 3\u001b[0m\n\u001b[0;32m      1\u001b[0m tup \u001b[39m=\u001b[39m (\u001b[39m'\u001b[39m\u001b[39mflower\u001b[39m\u001b[39m'\u001b[39m, \u001b[39m'\u001b[39m\u001b[39melephant\u001b[39m\u001b[39m'\u001b[39m, \u001b[39m'\u001b[39m\u001b[39mapple\u001b[39m\u001b[39m'\u001b[39m, \u001b[39m'\u001b[39m\u001b[39mguitar\u001b[39m\u001b[39m'\u001b[39m, \u001b[39m'\u001b[39m\u001b[39mdog\u001b[39m\u001b[39m'\u001b[39m, \u001b[39m'\u001b[39m\u001b[39migloo\u001b[39m\u001b[39m'\u001b[39m, \u001b[39m'\u001b[39m\u001b[39mcarrot\u001b[39m\u001b[39m'\u001b[39m, \u001b[39m'\u001b[39m\u001b[39mjacket\u001b[39m\u001b[39m'\u001b[39m)\n\u001b[0;32m      2\u001b[0m \u001b[39mfor\u001b[39;00m i \u001b[39min\u001b[39;00m t:\n\u001b[1;32m----> 3\u001b[0m     \u001b[39mif\u001b[39;00m i \u001b[39m==\u001b[39m target:\n\u001b[0;32m      4\u001b[0m         count \u001b[39m+\u001b[39m\u001b[39m=\u001b[39m \u001b[39m1\u001b[39m\n\u001b[0;32m      5\u001b[0m \u001b[39mprint\u001b[39m(count)\n",
      "\u001b[1;31mNameError\u001b[0m: name 'target' is not defined"
     ]
    }
   ],
   "source": [
    "tup = ('flower', 'elephant', 'apple', 'guitar', 'dog', 'igloo', 'carrot', 'jacket')\n",
    "for i in t:\n",
    "    if i == target:\n",
    "        count += 1\n",
    "print(count)"
   ]
  },
  {
   "cell_type": "code",
   "execution_count": 85,
   "metadata": {},
   "outputs": [
    {
     "name": "stdout",
     "output_type": "stream",
     "text": [
      "(3, 6, 3)\n"
     ]
    }
   ],
   "source": [
    "t=(3, 4, 6, 7, 3)\n",
    "print(t[::2])"
   ]
  },
  {
   "attachments": {},
   "cell_type": "markdown",
   "metadata": {},
   "source": []
  }
 ],
 "metadata": {
  "kernelspec": {
   "display_name": "venv",
   "language": "python",
   "name": "python3"
  },
  "language_info": {
   "codemirror_mode": {
    "name": "ipython",
    "version": 3
   },
   "file_extension": ".py",
   "mimetype": "text/x-python",
   "name": "python",
   "nbconvert_exporter": "python",
   "pygments_lexer": "ipython3",
   "version": "3.10.7"
  },
  "orig_nbformat": 4
 },
 "nbformat": 4,
 "nbformat_minor": 2
}
