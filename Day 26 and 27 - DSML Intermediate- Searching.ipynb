{
 "cells": [
  {
   "cell_type": "code",
   "execution_count": null,
   "metadata": {
    "collapsed": true,
    "pycharm": {
     "name": "#%%\n"
    }
   },
   "outputs": [],
   "source": [
    "# https://www.geeksforgeeks.org/searching-algorithms/#algo"
   ]
  },
  {
   "cell_type": "code",
   "execution_count": 1,
   "outputs": [
    {
     "name": "stdout",
     "output_type": "stream",
     "text": [
      "[5, 10, 15, 20, 25, 30, 35, 40, 45, 50]\n"
     ]
    }
   ],
   "source": [
    "n = int(input())\n",
    "multiple = []\n",
    "\n",
    "for i in range(1, 11):\n",
    "    multiple.append((n*i))\n",
    "\n",
    "print(multiple)"
   ],
   "metadata": {
    "collapsed": false,
    "pycharm": {
     "name": "#%%\n"
    }
   }
  },
  {
   "cell_type": "code",
   "execution_count": null,
   "outputs": [],
   "source": [
    "list = [5, 10, 15, 20, 25, 30, 35, 40, 45, 50]"
   ],
   "metadata": {
    "collapsed": false,
    "pycharm": {
     "name": "#%%\n"
    }
   }
  },
  {
   "cell_type": "code",
   "execution_count": null,
   "outputs": [],
   "source": [],
   "metadata": {
    "collapsed": false,
    "pycharm": {
     "name": "#%%\n"
    }
   }
  },
  {
   "cell_type": "code",
   "execution_count": 2,
   "outputs": [
    {
     "name": "stdout",
     "output_type": "stream",
     "text": [
      "It took 7 steps to reach 1.\n"
     ]
    }
   ],
   "source": [
    "'''Here's how the code works:\n",
    "\n",
    "    It prompts the user to enter a number.\n",
    "    It initializes a variable called steps to 0 to keep track of the number of steps taken.\n",
    "    It enters a while loop that runs as long as the number is greater than 1.\n",
    "    Inside the while loop, it divides the number by 2 and updates its value.\n",
    "    It also increments the steps variable by 1 after each division.\n",
    "    Once the number is 1 or less, the while loop terminates and the program prints the number of steps taken to reach 1.\n",
    "\n",
    "    '''\n",
    "\n",
    "number = int(input(\"Enter a number:\")) # user input\n",
    "steps = 0 # count of step at initial\n",
    "\n",
    "while number >1: # using while loop\n",
    "    number  =  number /2\n",
    "\n",
    "    steps += 1 # increment\n",
    "\n",
    "print(\"It took\", steps, \"steps to reach 1.\")"
   ],
   "metadata": {
    "collapsed": false,
    "pycharm": {
     "name": "#%%\n"
    }
   }
  },
  {
   "cell_type": "code",
   "execution_count": 7,
   "outputs": [
    {
     "name": "stdout",
     "output_type": "stream",
     "text": [
      "14\n",
      "7.0\n",
      "3.5\n",
      "1.75\n",
      "It took 4 steps to reach 1.\n"
     ]
    }
   ],
   "source": [
    "'''\n",
    "Here's how the code works:\n",
    "\n",
    "    It prompts the user to enter a number.\n",
    "    It initializes a variable called steps to 0 to keep track of the number of steps taken.\n",
    "    It enters a while loop that runs as long as the number is greater than 1.\n",
    "    Inside the while loop, it prints out the current value of number.\n",
    "    It then divides the number by 2 and updates its value.\n",
    "    It also increments the steps variable by 1 after each division.\n",
    "    Once the number is 1 or less, the while loop terminates and the program prints the number of steps taken to reach 1.\n",
    "\n",
    "'''\n",
    "\n",
    "number =  int(input(\"Enter a number: \")) # user input\n",
    "steps = 0 # count of step at initial\n",
    "\n",
    "while number >1:\n",
    "    print(number)\n",
    "    number = number/2\n",
    "\n",
    "    steps+=1\n",
    "\n",
    "print(\"It took\", steps, \"steps to reach 1.\")"
   ],
   "metadata": {
    "collapsed": false,
    "pycharm": {
     "name": "#%%\n"
    }
   }
  },
  {
   "cell_type": "code",
   "execution_count": 6,
   "outputs": [
    {
     "name": "stdout",
     "output_type": "stream",
     "text": [
      "log2 =  29.897352853986263\n"
     ]
    }
   ],
   "source": [
    "import math\n",
    "\n",
    "n =  int(input())\n",
    "print(\"log2 = \", math.log2(n))"
   ],
   "metadata": {
    "collapsed": false,
    "pycharm": {
     "name": "#%%\n"
    }
   }
  },
  {
   "cell_type": "code",
   "execution_count": null,
   "outputs": [],
   "source": [
    "'''\n",
    "Sorting is the process of arranging a collection of elements in a specific order.\n",
    "In Python, we can sort a list or tuple of elements using the built-in sorted() function or by calling the sort() method on a list object.\n",
    "Both functions take an iterable as input and return a sorted iterable.\n",
    "\n",
    "Here are some examples of how to use sorting in Python:\n",
    "\n",
    "'''\n",
    "\n",
    "# https://www.geeksforgeeks.org/sorting-algorithms-in-python/"
   ],
   "metadata": {
    "collapsed": false,
    "pycharm": {
     "name": "#%%\n"
    }
   }
  },
  {
   "cell_type": "code",
   "execution_count": 8,
   "outputs": [
    {
     "name": "stdout",
     "output_type": "stream",
     "text": [
      "[1, 1, 2, 3, 3, 4, 5, 5, 5, 6, 9]\n"
     ]
    }
   ],
   "source": [
    "# Example 1: Sorting a list of integers using the sorted() function\n",
    "\n",
    "numbers = [3, 1, 4, 1, 5, 9, 2, 6, 5, 3, 5]\n",
    "sorted_numbers = sorted(numbers)\n",
    "print(sorted_numbers)"
   ],
   "metadata": {
    "collapsed": false,
    "pycharm": {
     "name": "#%%\n"
    }
   }
  },
  {
   "cell_type": "code",
   "execution_count": null,
   "outputs": [],
   "source": [
    "# Example 2: Sorting a list of strings using the sort() method\n",
    "\n",
    "fruits = ['banana', 'apple', 'orange', 'mango', 'kiwi']\n",
    "fruits.sort()\n",
    "print(fruits)"
   ],
   "metadata": {
    "collapsed": false,
    "pycharm": {
     "name": "#%%\n"
    }
   }
  },
  {
   "cell_type": "code",
   "execution_count": 9,
   "outputs": [
    {
     "name": "stdout",
     "output_type": "stream",
     "text": [
      "[('David', 18), ('Bob', 19), ('Charlie', 21), ('Alice', 22)]\n"
     ]
    }
   ],
   "source": [
    "# Example 3: Sorting a list of tuples based on a specific element using the sorted() function\n",
    "\n",
    "'''\n",
    "In this example, we sorted the list of tuples based on the second element of each tuple (i.e., the age of each student) using the key argument of the sorted() function.\n",
    "We passed a lambda function that extracts the second element of each tuple (x[1]) as the sorting key.\n",
    "'''\n",
    "\n",
    "students = [('Alice', 22), ('Bob', 19), ('Charlie', 21), ('David', 18)]\n",
    "sorted_students = sorted(students, key=lambda x: x[1])\n",
    "print(sorted_students)"
   ],
   "metadata": {
    "collapsed": false,
    "pycharm": {
     "name": "#%%\n"
    }
   }
  },
  {
   "cell_type": "code",
   "execution_count": 10,
   "outputs": [
    {
     "name": "stdout",
     "output_type": "stream",
     "text": [
      "['a', 'b', 'c']\n"
     ]
    }
   ],
   "source": [
    "# Example 4: Sorting a dictionary based on its keys using the sorted() function\n",
    "\n",
    "d = {'b': 2, 'a': 1, 'c': 3}\n",
    "sorted_keys = sorted(d.keys())\n",
    "print(sorted_keys)"
   ],
   "metadata": {
    "collapsed": false,
    "pycharm": {
     "name": "#%%\n"
    }
   }
  },
  {
   "cell_type": "code",
   "execution_count": 13,
   "outputs": [],
   "source": [
    "# quizzes\n",
    "N = 2\n",
    "i = 1\n",
    "while i*i <= N:\n",
    "    i += 1"
   ],
   "metadata": {
    "collapsed": false,
    "pycharm": {
     "name": "#%%\n"
    }
   }
  },
  {
   "cell_type": "code",
   "execution_count": null,
   "outputs": [],
   "source": [
    "# How many iterations will be there in this loop (no of times the loop runs) ?\n",
    "\n",
    "s = 0\n",
    "for i in range(0, 101):\n",
    "    s = s + i\n",
    "\n",
    "    #ANS  = 101"
   ],
   "metadata": {
    "collapsed": false,
    "pycharm": {
     "name": "#%%\n"
    }
   }
  },
  {
   "cell_type": "code",
   "execution_count": null,
   "outputs": [],
   "source": [
    "# How many iterations will be there in this loop (no of times the loop runs) ?\n",
    "\n",
    "s = 0\n",
    "for i in range(1, N+1):\n",
    "    s = s + i\n",
    "\n",
    "    #Ans = N"
   ],
   "metadata": {
    "collapsed": false,
    "pycharm": {
     "name": "#%%\n"
    }
   }
  },
  {
   "cell_type": "code",
   "execution_count": null,
   "outputs": [],
   "source": [
    "# How many iterations will be there in this loop (no of times the loop runs) ?\n",
    "\n",
    "i = 1\n",
    "while i*i <= N:\n",
    "    i += 1\n",
    "\n",
    "    #Ans = Square root of N"
   ],
   "metadata": {
    "collapsed": false,
    "pycharm": {
     "name": "#%%\n"
    }
   }
  },
  {
   "cell_type": "code",
   "execution_count": null,
   "outputs": [],
   "source": [
    "# How many iterations will be there in this loop (no of times the loop runs) ?\n",
    "\n",
    "i = 0\n",
    "for i in range(1, 11):\n",
    "  for j in range(1, N + 1):\n",
    "    i += 1\n",
    "\n",
    "    #Ans = 10*N"
   ],
   "metadata": {
    "collapsed": false,
    "pycharm": {
     "name": "#%%\n"
    }
   }
  },
  {
   "cell_type": "code",
   "execution_count": null,
   "outputs": [],
   "source": [
    "How many iterations will be there in this loop (no of times the loop runs) ?\n",
    "\n",
    "ans = 0\n",
    "for i in range(1, N+1):\n",
    "  for j in range(1, 6):\n",
    "    ans += 1\n",
    "\n",
    "    # Ans = 5*N"
   ],
   "metadata": {
    "collapsed": false,
    "pycharm": {
     "name": "#%%\n"
    }
   }
  }
 ],
 "metadata": {
  "kernelspec": {
   "display_name": "Python 3",
   "language": "python",
   "name": "python3"
  },
  "language_info": {
   "codemirror_mode": {
    "name": "ipython",
    "version": 2
   },
   "file_extension": ".py",
   "mimetype": "text/x-python",
   "name": "python",
   "nbconvert_exporter": "python",
   "pygments_lexer": "ipython2",
   "version": "2.7.6"
  }
 },
 "nbformat": 4,
 "nbformat_minor": 0
}