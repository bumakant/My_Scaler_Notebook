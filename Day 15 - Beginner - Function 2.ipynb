{
 "cells": [
  {
   "cell_type": "markdown",
   "metadata": {
    "pycharm": {
     "name": "#%% md\n"
    }
   },
   "source": [
    "reeborg's world -  reborg.ca\n",
    "\n",
    "\n",
    "https://www.programiz.com/python-programming/function\n",
    "\n",
    "\n",
    "https://pynative.com/python-functions/"
   ]
  },
  {
   "cell_type": "code",
   "execution_count": 4,
   "metadata": {
    "pycharm": {
     "name": "#%%\n"
    }
   },
   "outputs": [],
   "source": [
    "def func():\n",
    "    print(\"Hello\")\n",
    "    print(\"Umakant\")"
   ]
  },
  {
   "cell_type": "code",
   "execution_count": 5,
   "metadata": {
    "pycharm": {
     "name": "#%%\n"
    }
   },
   "outputs": [
    {
     "name": "stdout",
     "output_type": "stream",
     "text": [
      "Hello\n",
      "Umakant\n"
     ]
    }
   ],
   "source": [
    "func()"
   ]
  },
  {
   "cell_type": "code",
   "execution_count": null,
   "metadata": {
    "pycharm": {
     "name": "#%%\n"
    }
   },
   "outputs": [],
   "source": [
    "# problem 1 -  write a function to greet the user"
   ]
  },
  {
   "cell_type": "code",
   "execution_count": 7,
   "metadata": {
    "pycharm": {
     "name": "#%%\n"
    }
   },
   "outputs": [],
   "source": [
    "def greet():\n",
    "    print(\" Hello Umakant,  how are you feeling today ?\")\n",
    "    print(\" Isn't it a great weather in\")\n",
    "greet()"
   ]
  },
  {
   "cell_type": "code",
   "execution_count": null,
   "metadata": {
    "pycharm": {
     "name": "#%%\n"
    }
   },
   "outputs": [],
   "source": []
  },
  {
   "cell_type": "code",
   "execution_count": 18,
   "metadata": {
    "pycharm": {
     "name": "#%%\n"
    }
   },
   "outputs": [
    {
     "name": "stdout",
     "output_type": "stream",
     "text": [
      " Hello Umakant how are you feeling today ?\n",
      " Isn't it a great weather in Pune ?\n"
     ]
    }
   ],
   "source": [
    "def greet(name, location): # name is parameter\n",
    "    print(\" Hello\", name,   \"how are you feeling today ?\")\n",
    "    print(\" Isn't it a great weather in\", location, \"?\")\n",
    "\n",
    "\n",
    "greet(\"Umakant\", \"Pune\") # actual values or arguments, it act as input to a function "
   ]
  },
  {
   "cell_type": "markdown",
   "metadata": {},
   "source": [
    "## format method\n",
    "\n",
    "Python String format() Method\n",
    "\n",
    "Insert the price inside the placeholder,\n",
    " the price should be in fixed point, two-decimal format:"
   ]
  },
  {
   "cell_type": "code",
   "execution_count": 82,
   "outputs": [
    {
     "name": "stdout",
     "output_type": "stream",
     "text": [
      "For only 49.00 dollars!\n"
     ]
    }
   ],
   "source": [
    "txt = \"For only {price:.2f} dollars!\"\n",
    "print(txt.format(price = 49))"
   ],
   "metadata": {
    "collapsed": false,
    "pycharm": {
     "name": "#%%\n"
    }
   }
  },
  {
   "cell_type": "markdown",
   "source": [
    "Definition and Usage\n",
    "\n",
    "The format() method formats the specified value(s) and insert them inside the string's placeholder.\n",
    "\n",
    "The placeholder is defined using curly brackets: {}. Read more about the placeholders in the Placeholder section below.\n",
    "\n",
    "The format() method returns the formatted string.\n",
    "\n",
    "string.format(value1, value2...)\n",
    "\n",
    "Parameter Values\n",
    "Parameter \t                        Description\n",
    "value1, value2... \tRequired.       One or more values that should be formatted and inserted in the string.\n",
    "\n",
    "                                      The values are either a list of values separated by commas,\n",
    "                                      a key=value list, or a combination of both.\n",
    "\n",
    "                                    The values can be of any data type.\n",
    "\n",
    "https://www.w3schools.com/python/ref_string_format.asp"
   ],
   "metadata": {
    "collapsed": false,
    "pycharm": {
     "name": "#%% md\n"
    }
   }
  },
  {
   "cell_type": "code",
   "execution_count": 25,
   "metadata": {},
   "outputs": [
    {
     "name": "stdout",
     "output_type": "stream",
     "text": [
      " Hello Umakant how are you doing in Pune ?\n",
      " Isn't it a great weather in Pune ?\n"
     ]
    }
   ],
   "source": [
    "def greet(name, location): # name is parameter\n",
    "    print(\" Hello {} how are you doing in {} ?\" .format(name, location)) # .foarmat function\n",
    "    print(\" Isn't it a great weather in\", location, \"?\")\n",
    "\n",
    "\n",
    "greet(\"Umakant\", \"Pune\") # actual values or arguments, it act as input to a function "
   ]
  },
  {
   "cell_type": "code",
   "execution_count": 27,
   "metadata": {},
   "outputs": [
    {
     "name": "stdout",
     "output_type": "stream",
     "text": [
      "Hi Nowhere how are you doing?\n",
      "isn't is a noce weather in Krishan ?\n"
     ]
    }
   ],
   "source": [
    "def greet(name, location):\n",
    "    #string formatting\n",
    "    #print(\"Hi\", name, \"how are you doing ?\")\n",
    "    print(\"Hi {} how are you doing?\" .format(name))\n",
    "    print(\"isn't is a noce weather in {} ?\" .format(location))\n",
    "greet(\"Nowhere\", \"Krishan\")"
   ]
  },
  {
   "cell_type": "code",
   "execution_count": 31,
   "metadata": {},
   "outputs": [
    {
     "name": "stdout",
     "output_type": "stream",
     "text": [
      "Hi Krishan how are you doing?\n",
      "isn't is a noce weather in Nowhere ?\n"
     ]
    }
   ],
   "source": [
    "def greet(name, location):\n",
    "    \"\"\"in this code, we have asign paramter to arguments as shown in last ine of the code\n",
    "    \"\"\"\n",
    "    #string formatting\n",
    "    #print(\"Hi\", name, \"how are you doing ?\")\n",
    "    print(\"Hi {} how are you doing?\" .format(name))\n",
    "    print(\"isn't is a noce weather in {} ?\" .format(location))\n",
    "greet(location = \"Nowhere\", name = \"Krishan\")\n"
   ]
  },
  {
   "cell_type": "code",
   "execution_count": 34,
   "metadata": {},
   "outputs": [
    {
     "name": "stdout",
     "output_type": "stream",
     "text": [
      "First value is 3\n",
      "Senond value is 5\n",
      "Third value is 7\n",
      "5.0\n"
     ]
    }
   ],
   "source": [
    "# quizz\n",
    "def f(a, b, c):\n",
    "    print('First value is {}' .format(a))\n",
    "    print('Senond value is {}' .format(b))\n",
    "    print('Third value is {}' .format(c))\n",
    "    print((a+b+c)/3)\n",
    "f(3, 5, 7)\n"
   ]
  },
  {
   "cell_type": "code",
   "execution_count": 36,
   "metadata": {},
   "outputs": [
    {
     "name": "stdout",
     "output_type": "stream",
     "text": [
      "First value is 1\n",
      "Senond value is 2\n",
      "Third value is 8\n",
      "The result is: -20\n"
     ]
    }
   ],
   "source": [
    "def f(a, b, c):\n",
    "    print('First value is {}' .format(a))\n",
    "    print('Senond value is {}' .format(b))\n",
    "    print('Third value is {}' .format(c))\n",
    "    print('The result is: {}'. format(2*a + b-3*c))\n",
    "f(1, 2, 8)"
   ]
  },
  {
   "cell_type": "markdown",
   "metadata": {},
   "source": [
    "# Mixing of Positional Argument and Keyword Argument "
   ]
  },
  {
   "cell_type": "code",
   "execution_count": 48,
   "metadata": {},
   "outputs": [
    {
     "name": "stdout",
     "output_type": "stream",
     "text": [
      "First value is 5\n",
      "Senond value is 5\n",
      "Third value is 3\n",
      "The result is: 6\n"
     ]
    }
   ],
   "source": [
    "def f(a, b, c):\n",
    "    print('First value is {}' .format(a))\n",
    "    print('Senond value is {}' .format(b))\n",
    "    print('Third value is {}' .format(c))\n",
    "    print('The result is: {}'. format(2*a + b-3*c))\n",
    "f(5, 5, c = 3)"
   ]
  },
  {
   "cell_type": "code",
   "execution_count": 49,
   "metadata": {},
   "outputs": [
    {
     "name": "stdout",
     "output_type": "stream",
     "text": [
      "First value is 5\n",
      "Senond value is 5\n",
      "Third value is 3\n",
      "The result is: 6\n"
     ]
    }
   ],
   "source": [
    "def f(a, b, c):\n",
    "    print('First value is {}' .format(a))\n",
    "    print('Senond value is {}' .format(b))\n",
    "    print('Third value is {}' .format(c))\n",
    "    print('The result is: {}'. format(2*a + b-3*c))\n",
    "f(5, b = 5, c = 3)"
   ]
  },
  {
   "cell_type": "markdown",
   "metadata": {},
   "source": [
    "# Rule 1: Positional Argument can't appear after the keyword argument"
   ]
  },
  {
   "cell_type": "code",
   "execution_count": 52,
   "metadata": {},
   "outputs": [
    {
     "name": "stdout",
     "output_type": "stream",
     "text": [
      "9\n"
     ]
    }
   ],
   "source": [
    "# Quizz 3\n",
    "def power (number, exponent):\n",
    "    return number**exponent\n",
    "print(power(3, 2))"
   ]
  },
  {
   "cell_type": "code",
   "execution_count": 54,
   "metadata": {},
   "outputs": [
    {
     "data": {
      "text/plain": "9"
     },
     "execution_count": 54,
     "metadata": {},
     "output_type": "execute_result"
    }
   ],
   "source": [
    "def power(number, exponent):\n",
    "    return number**exponent\n",
    "power(exponent=2, number=3)"
   ]
  },
  {
   "cell_type": "code",
   "execution_count": 55,
   "metadata": {},
   "outputs": [
    {
     "data": {
      "text/plain": "90"
     },
     "execution_count": 55,
     "metadata": {},
     "output_type": "execute_result"
    }
   ],
   "source": [
    "def sum(a, b):\n",
    "    \"\"\" in this code only last line output will be show\n",
    "        despite every line will be executed as show in code visualization\n",
    "      \"\"\"\n",
    "    return a+b\n",
    "sum(10, 20)\n",
    "sum(20, 30)\n",
    "sum(40, 50)"
   ]
  },
  {
   "cell_type": "code",
   "execution_count": 56,
   "outputs": [
    {
     "name": "stdout",
     "output_type": "stream",
     "text": [
      "30\n",
      "50\n",
      "90\n"
     ]
    }
   ],
   "source": [
    "def sum(a, b):\n",
    "    \"\"\" to print output of every line, the code will be as followes\n",
    "      \"\"\"\n",
    "    return a+b\n",
    "print(sum(10, 20))\n",
    "print(sum(20, 30))\n",
    "print(sum(40, 50))"
   ],
   "metadata": {
    "collapsed": false,
    "pycharm": {
     "name": "#%%\n"
    }
   }
  },
  {
   "cell_type": "code",
   "execution_count": 59,
   "outputs": [
    {
     "name": "stdout",
     "output_type": "stream",
     "text": [
      "Hi Umakant how are you doing?\n",
      "isn't is a nice weather in Newyork ?\n"
     ]
    }
   ],
   "source": [
    "def greet(name, location = \"Pune\"):\n",
    "    \"\"\"in this code, we have assign parameter to arguments as shown in last ine of the code\n",
    "    \"\"\"\n",
    "    #string formatting\n",
    "    #print(\"Hi\", name, \"how are you doing ?\")\n",
    "    print(\"Hi {} how are you doing?\" .format(name))\n",
    "    print(\"isn't is a nice weather in {} ?\" .format(location))\n",
    "greet(\"Umakant\", 'Newyork')"
   ],
   "metadata": {
    "collapsed": false,
    "pycharm": {
     "name": "#%%\n"
    }
   }
  },
  {
   "cell_type": "code",
   "execution_count": 60,
   "outputs": [
    {
     "data": {
      "text/plain": "27"
     },
     "execution_count": 60,
     "metadata": {},
     "output_type": "execute_result"
    }
   ],
   "source": [
    "# quizz\n",
    "def power(x, e = 1):\n",
    "    return x ** e\n",
    "power (3, 3)"
   ],
   "metadata": {
    "collapsed": false,
    "pycharm": {
     "name": "#%%\n"
    }
   }
  },
  {
   "cell_type": "code",
   "execution_count": 64,
   "outputs": [
    {
     "name": "stdout",
     "output_type": "stream",
     "text": [
      "5 / 30 / 2022\n"
     ]
    }
   ],
   "source": [
    "# quizz\n",
    "def print_date(d, m,  y, style = 0): # as th e style is zero the output will be in American format\n",
    "    if style == 0: #American\n",
    "        print(m, '/', d, '/', y)\n",
    "    elif style == 1: # European\n",
    "        print(d, '/', m, '/', y)\n",
    "    else:\n",
    "        print('Invalid Style')\n",
    "print_date(30, 5, 2022)\n"
   ],
   "metadata": {
    "collapsed": false,
    "pycharm": {
     "name": "#%%\n"
    }
   }
  },
  {
   "cell_type": "code",
   "execution_count": 66,
   "outputs": [
    {
     "name": "stdout",
     "output_type": "stream",
     "text": [
      "1 / 30 / 2022\n"
     ]
    }
   ],
   "source": [
    "def print_date(d =1, m =1,  y =2022, s = 0): # as th e style is zero the output will be in American format\n",
    "    if s == 0: #American\n",
    "        print(m, '/', d, '/', y)\n",
    "    elif s == 1: # European\n",
    "        print(d, '/', m, '/', y)\n",
    "    else:\n",
    "        print('Invalid Style')\n",
    "print_date(d = 30, y =  2022)"
   ],
   "metadata": {
    "collapsed": false,
    "pycharm": {
     "name": "#%%\n"
    }
   }
  },
  {
   "cell_type": "code",
   "execution_count": 67,
   "outputs": [
    {
     "name": "stdout",
     "output_type": "stream",
     "text": [
      "30 / 1 / 2022\n"
     ]
    }
   ],
   "source": [
    "def print_date(d =1, m =1,  y =2022, s = 1): # as th e style is zero the output will be in American format\n",
    "    if s == 0: #American\n",
    "        print(m, '/', d, '/', y)\n",
    "    elif s == 1: # European\n",
    "        print(d, '/', m, '/', y)\n",
    "    else:\n",
    "        print('Invalid Style')\n",
    "print_date(d = 30, y =  2022)"
   ],
   "metadata": {
    "collapsed": false,
    "pycharm": {
     "name": "#%%\n"
    }
   }
  },
  {
   "cell_type": "code",
   "execution_count": 69,
   "outputs": [
    {
     "ename": "SyntaxError",
     "evalue": "non-default argument follows default argument (2997814907.py, line 1)",
     "output_type": "error",
     "traceback": [
      "\u001B[1;36m  Cell \u001B[1;32mIn[69], line 1\u001B[1;36m\u001B[0m\n\u001B[1;33m    def total(a = 1, b):\u001B[0m\n\u001B[1;37m                     ^\u001B[0m\n\u001B[1;31mSyntaxError\u001B[0m\u001B[1;31m:\u001B[0m non-default argument follows default argument\n"
     ]
    }
   ],
   "source": [
    "def total(a = 1, b):\n",
    "    return a+ b"
   ],
   "metadata": {
    "collapsed": false,
    "pycharm": {
     "name": "#%%\n"
    }
   }
  },
  {
   "cell_type": "markdown",
   "source": [
    "# Default Arguments"
   ],
   "metadata": {
    "collapsed": false,
    "pycharm": {
     "name": "#%% md\n"
    }
   }
  },
  {
   "cell_type": "markdown",
   "source": [
    "# Rule 1: Positional Argument can't appear after the keyword argument\n",
    "# Rule 2: Non Default argument cannot follow default arguments"
   ],
   "metadata": {
    "collapsed": false,
    "pycharm": {
     "name": "#%% md\n"
    }
   }
  },
  {
   "cell_type": "code",
   "execution_count": 72,
   "outputs": [
    {
     "data": {
      "text/plain": "4"
     },
     "execution_count": 72,
     "metadata": {},
     "output_type": "execute_result"
    }
   ],
   "source": [
    "def total(a = 1, b =3):\n",
    "    return a+ b\n",
    "total()"
   ],
   "metadata": {
    "collapsed": false,
    "pycharm": {
     "name": "#%%\n"
    }
   }
  },
  {
   "cell_type": "code",
   "execution_count": 73,
   "outputs": [
    {
     "data": {
      "text/plain": "7"
     },
     "execution_count": 73,
     "metadata": {},
     "output_type": "execute_result"
    }
   ],
   "source": [
    "def f(a, b, c, d, e = 1, f =2):\n",
    "    return a + b + c + d  - e -f\n",
    "f(1, 2, 3 , 4)"
   ],
   "metadata": {
    "collapsed": false,
    "pycharm": {
     "name": "#%%\n"
    }
   }
  },
  {
   "cell_type": "code",
   "execution_count": 74,
   "outputs": [
    {
     "ename": "SyntaxError",
     "evalue": "non-default argument follows default argument (2727264890.py, line 1)",
     "output_type": "error",
     "traceback": [
      "\u001B[1;36m  Cell \u001B[1;32mIn[74], line 1\u001B[1;36m\u001B[0m\n\u001B[1;33m    def f(a, b, c, d, e = 1, f ):\u001B[0m\n\u001B[1;37m                             ^\u001B[0m\n\u001B[1;31mSyntaxError\u001B[0m\u001B[1;31m:\u001B[0m non-default argument follows default argument\n"
     ]
    }
   ],
   "source": [
    "def f(a, b, c, d, e = 1, f ):\n",
    "    return a + b + c + d  - e -f\n",
    "f(1, 2, 3 , 4)"
   ],
   "metadata": {
    "collapsed": false,
    "pycharm": {
     "name": "#%%\n"
    }
   }
  },
  {
   "cell_type": "code",
   "execution_count": null,
   "outputs": [],
   "source": [
    "# Scope of Variable"
   ],
   "metadata": {
    "collapsed": false,
    "pycharm": {
     "name": "#%%\n"
    }
   }
  },
  {
   "cell_type": "code",
   "execution_count": 75,
   "outputs": [
    {
     "name": "stdout",
     "output_type": "stream",
     "text": [
      "20\n"
     ]
    }
   ],
   "source": [
    "x =  20\n",
    "def foo():\n",
    "    print(x)\n",
    "foo()"
   ],
   "metadata": {
    "collapsed": false,
    "pycharm": {
     "name": "#%%\n"
    }
   }
  },
  {
   "cell_type": "code",
   "execution_count": 76,
   "outputs": [
    {
     "name": "stdout",
     "output_type": "stream",
     "text": [
      "10\n",
      "20\n"
     ]
    }
   ],
   "source": [
    "x = 20 # global Variable\n",
    "def foo():\n",
    "    x = 10 # local Variable\n",
    "    print(x)\n",
    "foo()\n",
    "print(x)"
   ],
   "metadata": {
    "collapsed": false,
    "pycharm": {
     "name": "#%%\n"
    }
   }
  },
  {
   "cell_type": "code",
   "execution_count": 77,
   "outputs": [
    {
     "name": "stdout",
     "output_type": "stream",
     "text": [
      "2\n"
     ]
    }
   ],
   "source": [
    "# What does the following code print ?\n",
    "cc = 2\n",
    "if False:\n",
    "    cc = 66\n",
    "def f():\n",
    "    if True:\n",
    "        cc =40\n",
    "f()\n",
    "print(cc)"
   ],
   "metadata": {
    "collapsed": false,
    "pycharm": {
     "name": "#%%\n"
    }
   }
  },
  {
   "cell_type": "code",
   "execution_count": 78,
   "outputs": [
    {
     "name": "stdout",
     "output_type": "stream",
     "text": [
      "66\n"
     ]
    }
   ],
   "source": [
    "# What does the following code print ?\n",
    "cc = 2\n",
    "if True:\n",
    "    cc = 66\n",
    "def f():\n",
    "    if True:\n",
    "        cc =40\n",
    "f()\n",
    "print(cc)"
   ],
   "metadata": {
    "collapsed": false,
    "pycharm": {
     "name": "#%%\n"
    }
   }
  },
  {
   "cell_type": "code",
   "execution_count": 80,
   "outputs": [
    {
     "name": "stdout",
     "output_type": "stream",
     "text": [
      "Hello\n",
      "10\n"
     ]
    },
    {
     "ename": "NameError",
     "evalue": "name 'b' is not defined",
     "output_type": "error",
     "traceback": [
      "\u001B[1;31m---------------------------------------------------------------------------\u001B[0m",
      "\u001B[1;31mNameError\u001B[0m                                 Traceback (most recent call last)",
      "Cell \u001B[1;32mIn[80], line 7\u001B[0m\n\u001B[0;32m      5\u001B[0m f()\n\u001B[0;32m      6\u001B[0m \u001B[38;5;28mprint\u001B[39m(a)\n\u001B[1;32m----> 7\u001B[0m \u001B[38;5;28mprint\u001B[39m(\u001B[43mb\u001B[49m)\n",
      "\u001B[1;31mNameError\u001B[0m: name 'b' is not defined"
     ]
    }
   ],
   "source": [
    "a = 10\n",
    "def f():\n",
    "    print(\"Hello\")\n",
    "    b = 20 # there is no command to execute the code\n",
    "f()\n",
    "print(a)\n",
    "print(b)"
   ],
   "metadata": {
    "collapsed": false,
    "pycharm": {
     "name": "#%%\n"
    }
   }
  },
  {
   "cell_type": "code",
   "execution_count": 81,
   "outputs": [
    {
     "name": "stdout",
     "output_type": "stream",
     "text": [
      "10\n",
      "10\n"
     ]
    }
   ],
   "source": [
    "#Global Keyword\n",
    "x =  20\n",
    "def foo():\n",
    "    global x # the value of x will be 10 as we have set global variable\n",
    "    x = 10\n",
    "    print(x)\n",
    "foo()\n",
    "print(x)"
   ],
   "metadata": {
    "collapsed": false,
    "pycharm": {
     "name": "#%%\n"
    }
   }
  },
  {
   "cell_type": "code",
   "execution_count": 85,
   "outputs": [
    {
     "name": "stdout",
     "output_type": "stream",
     "text": [
      "1 2 3 4 5 6 7 8 9 10 \n"
     ]
    }
   ],
   "source": [
    "def sequence(n):\n",
    "    for i in range(1, n+1):\n",
    "        print(i, end=\" \")\n",
    "    print()\n",
    "    for j in range(n, 0):\n",
    "        print(j, end=' ')\n",
    "sequence(10)"
   ],
   "metadata": {
    "collapsed": false,
    "pycharm": {
     "name": "#%%\n"
    }
   }
  },
  {
   "cell_type": "code",
   "execution_count": 86,
   "outputs": [
    {
     "name": "stdout",
     "output_type": "stream",
     "text": [
      "1 2 3 4 5 6 7 8 9 10 \n",
      "10 9 8 7 6 5 4 3 2 1 "
     ]
    }
   ],
   "source": [
    "def sequence(n):\n",
    "    for i in range(1, n + 1):\n",
    "        print(i, end=\" \")\n",
    "    print()\n",
    "    for j in range(n, 0, -1):\n",
    "        print(j, end=' ')\n",
    "sequence(10)"
   ],
   "metadata": {
    "collapsed": false,
    "pycharm": {
     "name": "#%%\n"
    }
   }
  }
 ],
 "metadata": {
  "kernelspec": {
   "display_name": "Python 3 (ipykernel)",
   "language": "python",
   "name": "python3"
  },
  "language_info": {
   "codemirror_mode": {
    "name": "ipython",
    "version": 3
   },
   "file_extension": ".py",
   "mimetype": "text/x-python",
   "name": "python",
   "nbconvert_exporter": "python",
   "pygments_lexer": "ipython3",
   "version": "3.10.7"
  }
 },
 "nbformat": 4,
 "nbformat_minor": 1
}