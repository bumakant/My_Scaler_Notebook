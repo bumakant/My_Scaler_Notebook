{
 "cells": [
  {
   "attachments": {},
   "cell_type": "markdown",
   "metadata": {
    "collapsed": true,
    "pycharm": {
     "name": "#%% md\n"
    }
   },
   "source": [
    "Python For loop is used for sequential traversal i.e. it is used for iterating over an iterable like String, Tuple, List, Set or Dictionary.\n",
    "\n",
    "In Python, there is no C style for loop, i.e., for (i=0; i<n; i++).\n",
    "There is “for” loop which is similar to each loop in other languages. \n",
    "Let us learn how to use for in loop for sequential traversals\n",
    "\n",
    "Note: In Python, for loops only implements the collection-based iteration.\n",
    "\n",
    "For Loops Syntax\n",
    "for var in iterable:\n",
    "    # statements"
   ]
  },
  {
   "cell_type": "code",
   "execution_count": 1,
   "metadata": {
    "pycharm": {
     "name": "#%%\n"
    }
   },
   "outputs": [
    {
     "name": "stdout",
     "output_type": "stream",
     "text": [
      "apple\n",
      "banana\n",
      "cherry\n"
     ]
    }
   ],
   "source": [
    "fruits = [\"apple\", \"banana\", \"cherry\"]\n",
    "for x in fruits:\n",
    "  print(x)"
   ]
  },
  {
   "cell_type": "markdown",
   "metadata": {
    "pycharm": {
     "name": "#%% md\n"
    }
   },
   "source": [
    "The for loop does not require an indexing variable to set beforehand."
   ]
  },
  {
   "cell_type": "code",
   "execution_count": 3,
   "metadata": {
    "pycharm": {
     "name": "#%%\n"
    }
   },
   "outputs": [
    {
     "name": "stdout",
     "output_type": "stream",
     "text": [
      "b a n a n a "
     ]
    }
   ],
   "source": [
    "for x in \"banana\":\n",
    "  print(x, end=\" \")"
   ]
  },
  {
   "cell_type": "markdown",
   "metadata": {
    "pycharm": {
     "name": "#%% md\n"
    }
   },
   "source": [
    "The break Statement\n",
    "\n",
    "With the break statement we can stop the loop before it has looped through all the items:\n",
    "Example\n"
   ]
  },
  {
   "cell_type": "code",
   "execution_count": 4,
   "metadata": {
    "pycharm": {
     "name": "#%%\n"
    }
   },
   "outputs": [
    {
     "name": "stdout",
     "output_type": "stream",
     "text": [
      "apple\n",
      "banana\n"
     ]
    }
   ],
   "source": [
    "# Exit the loop when x is \"banana\":\n",
    "fruits = [\"apple\", \"banana\", \"cherry\"]\n",
    "for x in fruits:\n",
    "  print(x)\n",
    "  if x == \"banana\": # here when x = banana, the code will be end\n",
    "    break"
   ]
  },
  {
   "cell_type": "code",
   "execution_count": 1,
   "metadata": {
    "pycharm": {
     "name": "#%%\n"
    }
   },
   "outputs": [
    {
     "name": "stdout",
     "output_type": "stream",
     "text": [
      "Dictionary Iteration\n",
      "xyz  123\n",
      "abc  345\n"
     ]
    }
   ],
   "source": [
    "# Using For Loops in Python Dictionary\n",
    "\n",
    "# Iterating over dictionary\n",
    "print(\"Dictionary Iteration\")\n",
    "d = dict()\n",
    "d['xyz'] = 123\n",
    "d['abc'] = 345\n",
    "for i in d:\n",
    "\tprint(\"% s % d\" % (i, d[i]))\n"
   ]
  },
  {
   "cell_type": "markdown",
   "metadata": {
    "pycharm": {
     "name": "#%% md\n"
    }
   },
   "source": [
    "The range() Function\n",
    "To loop through a set of code a specified number of times, we can use the range() function,\n",
    "\n",
    "The range() function returns a sequence of numbers, starting from 0 by default, and increments by 1 (by default), and ends at a specified number."
   ]
  },
  {
   "cell_type": "code",
   "execution_count": 7,
   "metadata": {
    "pycharm": {
     "name": "#%%\n"
    }
   },
   "outputs": [
    {
     "name": "stdout",
     "output_type": "stream",
     "text": [
      "0 1 2 3 4 5 "
     ]
    }
   ],
   "source": [
    "# Using the range() function:\n",
    "for x in range(6):\n",
    "  print(x, end=\" \")"
   ]
  },
  {
   "attachments": {},
   "cell_type": "markdown",
   "metadata": {
    "pycharm": {
     "name": "#%% md\n"
    }
   },
   "source": [
    "# Note that range(6) is not the values of 0 to 6, but the values 0 to 5.\n",
    "\n",
    "The range() function defaults to 0 as a starting value,\n",
    "however it is possible to specify the starting value by adding a parameter: range(2, 6), \n",
    "which means values from 2 to 6 (but not including 6):\n"
   ]
  },
  {
   "cell_type": "code",
   "execution_count": 18,
   "metadata": {
    "pycharm": {
     "name": "#%%\n"
    }
   },
   "outputs": [
    {
     "name": "stdout",
     "output_type": "stream",
     "text": [
      "2\n",
      "3\n",
      "4\n",
      "5\n"
     ]
    }
   ],
   "source": [
    " for x in range(2, 6):\n",
    "  print(x)"
   ]
  },
  {
   "cell_type": "code",
   "execution_count": 12,
   "metadata": {
    "pycharm": {
     "name": "#%%\n"
    }
   },
   "outputs": [
    {
     "name": "stdout",
     "output_type": "stream",
     "text": [
      "0 1 2 3 4 5 6 "
     ]
    }
   ],
   "source": [
    "# above program in while loop\n",
    "n = 6\n",
    "i = 0\n",
    "while i<=n:\n",
    "  print(i, end=\" \")\n",
    "  i += 1"
   ]
  },
  {
   "cell_type": "code",
   "execution_count": 14,
   "metadata": {
    "pycharm": {
     "name": "#%%\n"
    }
   },
   "outputs": [
    {
     "data": {
      "text/plain": [
       "[1, 2, 3, 4, 5, 6, 7, 8, 9]"
      ]
     },
     "execution_count": 14,
     "metadata": {},
     "output_type": "execute_result"
    }
   ],
   "source": [
    "list(range(1, 10)) # 10 - 1 = 9"
   ]
  },
  {
   "cell_type": "code",
   "execution_count": 17,
   "metadata": {
    "pycharm": {
     "name": "#%%\n"
    }
   },
   "outputs": [
    {
     "data": {
      "text/plain": [
       "[0, 1, 2, 3]"
      ]
     },
     "execution_count": 17,
     "metadata": {},
     "output_type": "execute_result"
    }
   ],
   "source": [
    "list(range(4)) # 4 - 1 = 3, Starting from zero"
   ]
  },
  {
   "cell_type": "code",
   "execution_count": 19,
   "metadata": {
    "pycharm": {
     "name": "#%%\n"
    }
   },
   "outputs": [
    {
     "name": "stdout",
     "output_type": "stream",
     "text": [
      "[7]\n"
     ]
    }
   ],
   "source": [
    "# quizzes\n",
    "print(list(range(7,8)))"
   ]
  },
  {
   "cell_type": "code",
   "execution_count": 23,
   "metadata": {
    "pycharm": {
     "name": "#%%\n"
    }
   },
   "outputs": [
    {
     "name": "stdout",
     "output_type": "stream",
     "text": [
      "[0, 2, 4, 6, 8, 10, 12, 14, 16, 18, 20, 22, 24, 26, 28]\n",
      "[1, 3, 5, 7, 9, 11, 13, 15, 17, 19, 21, 23, 25, 27]\n"
     ]
    }
   ],
   "source": [
    "# to generate even or odd numbers\n",
    "# range(a, b, j)\n",
    "#range(start point, end point, jump)\n",
    "print(list(range(0, 29, 2))) # even numbers\n",
    "print(list(range(1, 29, 2))) #odd numbers"
   ]
  },
  {
   "cell_type": "markdown",
   "metadata": {
    "pycharm": {
     "name": "#%% md\n"
    }
   },
   "source": [
    "The range() function defaults to increment the sequence by 1, however it is possible to specify the increment value by adding a third parameter: range(2, 30, 3):\n",
    "\n",
    "#Increment the sequence with 3 (default is 1):\n"
   ]
  },
  {
   "cell_type": "code",
   "execution_count": 25,
   "metadata": {
    "pycharm": {
     "name": "#%%\n"
    }
   },
   "outputs": [
    {
     "name": "stdout",
     "output_type": "stream",
     "text": [
      "2 5 8 11 14 17 20 23 26 29 "
     ]
    }
   ],
   "source": [
    "#Increment the sequence with 3 (default is 1):\n",
    "for x in range(2, 30, 3):\n",
    "  print(x, end=\" \")"
   ]
  },
  {
   "cell_type": "code",
   "execution_count": 32,
   "metadata": {
    "pycharm": {
     "name": "#%%\n"
    }
   },
   "outputs": [
    {
     "data": {
      "text/plain": [
       "[0, 2, 4, 6, 8, 10, 12, 14]"
      ]
     },
     "execution_count": 32,
     "metadata": {},
     "output_type": "execute_result"
    }
   ],
   "source": [
    "# range with 3 inputs\n",
    "list(range(0, 15, 2))"
   ]
  },
  {
   "cell_type": "code",
   "execution_count": 33,
   "metadata": {
    "pycharm": {
     "name": "#%%\n"
    }
   },
   "outputs": [
    {
     "data": {
      "text/plain": [
       "[1, 7, 13, 19]"
      ]
     },
     "execution_count": 33,
     "metadata": {},
     "output_type": "execute_result"
    }
   ],
   "source": [
    "# range with 3 inputs\n",
    "list(range(1, 23, 6))"
   ]
  },
  {
   "cell_type": "code",
   "execution_count": 34,
   "metadata": {
    "pycharm": {
     "name": "#%%\n"
    }
   },
   "outputs": [
    {
     "data": {
      "text/plain": [
       "[1, 2, 3, 4, 5, 6, 7, 8, 9, 10]"
      ]
     },
     "execution_count": 34,
     "metadata": {},
     "output_type": "execute_result"
    }
   ],
   "source": [
    "list(range(1,11, 1))"
   ]
  },
  {
   "cell_type": "markdown",
   "metadata": {
    "pycharm": {
     "name": "#%% md\n"
    }
   },
   "source": [
    "Else in For Loop\n",
    "\n",
    "The else keyword in a for loop specifies a block of code to be executed when the loop is finished:\n",
    "\n",
    "# Print all numbers from 0 to 5, and print a message when the loop has ended:"
   ]
  },
  {
   "cell_type": "code",
   "execution_count": 29,
   "metadata": {
    "pycharm": {
     "name": "#%%\n"
    }
   },
   "outputs": [
    {
     "name": "stdout",
     "output_type": "stream",
     "text": [
      "0 1 2 3 4 5  = Finally finished!\n"
     ]
    }
   ],
   "source": [
    "for x in range(6):\n",
    "  print(x,  end=\" \")\n",
    "else:\n",
    "  print(\" = Finally finished!\")"
   ]
  },
  {
   "cell_type": "code",
   "execution_count": 35,
   "metadata": {
    "pycharm": {
     "name": "#%%\n"
    }
   },
   "outputs": [
    {
     "data": {
      "text/plain": [
       "[]"
      ]
     },
     "execution_count": 35,
     "metadata": {},
     "output_type": "execute_result"
    }
   ],
   "source": [
    "list(range(5, 1)) # it doesn't creat anything"
   ]
  },
  {
   "cell_type": "code",
   "execution_count": 43,
   "metadata": {
    "pycharm": {
     "name": "#%%\n"
    }
   },
   "outputs": [
    {
     "data": {
      "text/plain": [
       "[5, 4, 3, 2, 1]"
      ]
     },
     "execution_count": 43,
     "metadata": {},
     "output_type": "execute_result"
    }
   ],
   "source": [
    "list(range(5, 0, -1))"
   ]
  },
  {
   "cell_type": "code",
   "execution_count": 45,
   "metadata": {
    "pycharm": {
     "name": "#%%\n"
    }
   },
   "outputs": [
    {
     "data": {
      "text/plain": [
       "[10, 9, 8, 7, 6, 5, 4, 3, 2, 1, 0]"
      ]
     },
     "execution_count": 45,
     "metadata": {},
     "output_type": "execute_result"
    }
   ],
   "source": [
    "list(range(10, -1, -1))"
   ]
  },
  {
   "cell_type": "code",
   "execution_count": 62,
   "metadata": {
    "pycharm": {
     "name": "#%%\n"
    }
   },
   "outputs": [
    {
     "name": "stdout",
     "output_type": "stream",
     "text": [
      "Starting number is: 1 \n",
      "The ending number is: 6\n",
      "1 3 5 \n",
      "The sum of odd numbers is: 9\n"
     ]
    }
   ],
   "source": [
    "# sum of odd numbers using for loop\n",
    "n = int(input()) # let's take it as starting range\n",
    "p = int(input()) # let's take it as ending range\n",
    "i = 0\n",
    "sum_of_odds = 0\n",
    "print(\"Starting number is:\", n, \"\\nThe ending number is:\", p)\n",
    "for i in range(n, p):\n",
    "  if i % 2 != 0:\n",
    "    sum_of_odds += i\n",
    "    print(i, end=\" \")\n",
    "\n",
    "print(\"\\nThe sum of odd numbers is:\", sum_of_odds)"
   ]
  },
  {
   "cell_type": "code",
   "execution_count": 63,
   "metadata": {
    "pycharm": {
     "name": "#%%\n"
    }
   },
   "outputs": [
    {
     "name": "stdout",
     "output_type": "stream",
     "text": [
      "Starting number is: 1 \n",
      "The ending number is: 9\n",
      "2 4 6 8 \n",
      "The sum of odd numbers is: 20\n"
     ]
    }
   ],
   "source": [
    "# sum of even numbers using for loop\n",
    "n = int(input()) # let's take it as starting range\n",
    "p = int(input()) # let's take it as ending range\n",
    "i = 0\n",
    "sum_of_odds = 0\n",
    "print(\"Starting number is:\", n, \"\\nThe ending number is:\", p)\n",
    "for i in range(n, p):\n",
    "  if i % 2 ==0:\n",
    "    sum_of_odds += i\n",
    "    print(i, end=\" \")\n",
    "\n",
    "print(\"\\nThe sum of odd numbers is:\", sum_of_odds)"
   ]
  },
  {
   "cell_type": "code",
   "execution_count": 95,
   "metadata": {
    "pycharm": {
     "name": "#%%\n"
    }
   },
   "outputs": [
    {
     "name": "stdout",
     "output_type": "stream",
     "text": [
      "2 4 6 8 10 \n",
      " 30\n"
     ]
    }
   ],
   "source": [
    "# other ways\n",
    "n = int(input())\n",
    "sum_of_odds = 0\n",
    "i  = 0\n",
    "for i in range (1, n+1):\n",
    "  if i % 2 == 0:\n",
    "    sum_of_odds += i\n",
    "    print(i, end=\" \")\n",
    "print( \"\\n\",  sum_of_odds)\n"
   ]
  },
  {
   "cell_type": "code",
   "execution_count": 87,
   "metadata": {
    "pycharm": {
     "name": "#%%\n"
    }
   },
   "outputs": [
    {
     "name": "stdout",
     "output_type": "stream",
     "text": [
      "1 3 5 \n",
      " 9\n"
     ]
    }
   ],
   "source": [
    "n = int(input())\n",
    "sum_of_even = 0\n",
    "i  = 0\n",
    "for i in range (1, n+1):\n",
    "  if i % 2 == 1:\n",
    "    sum_of_even += i\n",
    "    print(i, end=\" \")\n",
    "print( \"\\n\",  sum_of_even)"
   ]
  },
  {
   "cell_type": "code",
   "execution_count": 97,
   "metadata": {
    "pycharm": {
     "name": "#%%\n"
    }
   },
   "outputs": [
    {
     "name": "stdout",
     "output_type": "stream",
     "text": [
      "2 4 6 8 10 12 Sum: 42\n"
     ]
    }
   ],
   "source": [
    "# even Number Sum\n",
    "n = int(input())\n",
    "i = 0\n",
    "s = 0\n",
    "for i in range(2, n+1, 2):\n",
    "  print(i, end=\" \")\n",
    "  s += i\n",
    "print(\"Sum:\",s)\n"
   ]
  },
  {
   "cell_type": "code",
   "execution_count": 101,
   "metadata": {
    "pycharm": {
     "name": "#%%\n"
    }
   },
   "outputs": [
    {
     "name": "stdout",
     "output_type": "stream",
     "text": [
      "1 3 5 7 9 11 \n",
      "Sum: 36\n"
     ]
    }
   ],
   "source": [
    "# even Number Sum\n",
    "n = int(input())\n",
    "i = 0\n",
    "s = 0\n",
    "for i in range(1, n+1, 2):\n",
    "  print(i, end=\" \")\n",
    "  s += i\n",
    "print(\"\\nSum:\",s)"
   ]
  },
  {
   "cell_type": "markdown",
   "metadata": {
    "pycharm": {
     "name": "#%% md\n"
    }
   },
   "source": [
    "# let's try arithmetically\n",
    "# Formula  : n(n+1))"
   ]
  },
  {
   "cell_type": "code",
   "execution_count": 102,
   "metadata": {
    "pycharm": {
     "name": "#%%\n"
    }
   },
   "outputs": [
    {
     "name": "stdout",
     "output_type": "stream",
     "text": [
      "1 2 3 4 5 "
     ]
    }
   ],
   "source": [
    "# this is way to print numbers in forward\n",
    "n = int(input())\n",
    "for i in range(1, n+1):\n",
    "        print(i, end=\" \")"
   ]
  },
  {
   "cell_type": "code",
   "execution_count": 103,
   "metadata": {
    "pycharm": {
     "name": "#%%\n"
    }
   },
   "outputs": [
    {
     "name": "stdout",
     "output_type": "stream",
     "text": [
      "10 9 8 7 6 5 4 3 2 1 "
     ]
    }
   ],
   "source": [
    "# to print numbers in reverse order\n",
    "n =  int(input())\n",
    "for i in range(1, n+1):\n",
    "    print(n+1-i, end=\" \") # observer this term"
   ]
  },
  {
   "cell_type": "code",
   "execution_count": 105,
   "metadata": {
    "pycharm": {
     "name": "#%%\n"
    }
   },
   "outputs": [
    {
     "name": "stdout",
     "output_type": "stream",
     "text": [
      "5 4 3 2 1 "
     ]
    }
   ],
   "source": [
    "# to print numbers in reverse order\n",
    "n =  int(input())\n",
    "for i in range(1, n + 1):\n",
    "    print(n - i + 1, end=\" \") # observer this term"
   ]
  },
  {
   "cell_type": "code",
   "execution_count": null,
   "metadata": {
    "pycharm": {
     "name": "#%%\n"
    }
   },
   "outputs": [],
   "source": [
    "# to print sum and count of digit in python"
   ]
  },
  {
   "cell_type": "markdown",
   "metadata": {
    "pycharm": {
     "name": "#%% md\n"
    }
   },
   "source": [
    "In this code, we first take user input as a string and initialize the sum and count variables to 0.\n",
    "\n",
    "We then loop through each character in the input string and check if it is a digit using the isdigit() method.\n",
    "\n",
    "If it is a digit, we add it to the sum and increment the count of digits.\n",
    "\n",
    "Finally, we print the sum and count of digits using the print() function."
   ]
  },
  {
   "cell_type": "code",
   "execution_count": 119,
   "metadata": {
    "pycharm": {
     "name": "#%%\n"
    }
   },
   "outputs": [
    {
     "name": "stdout",
     "output_type": "stream",
     "text": [
      "The number is  65\n",
      "Sum of Digits: 11\n",
      "Count of Digits: 2\n"
     ]
    }
   ],
   "source": [
    "# Take input from user\n",
    "num = (input(\"Enter a number: \"))\n",
    "print(\"The number is \",num)\n",
    "\n",
    "# initialize sum and count to 0\n",
    "sum = 0\n",
    "count = 0\n",
    "for digit in num:\n",
    "     if digit.isdigit():  # Check if the character is a digit\n",
    "         sum += int(digit) # Add the digit to the sum\n",
    "         count += 1  # Increment the count of digits\n",
    "print(\"Sum of Digits:\", sum)\n",
    "print(\"Count of Digits:\", count)"
   ]
  },
  {
   "cell_type": "code",
   "execution_count": 110,
   "metadata": {
    "pycharm": {
     "name": "#%%\n"
    }
   },
   "outputs": [
    {
     "name": "stdout",
     "output_type": "stream",
     "text": [
      "Sum of digits: 11\n",
      "Count of digits: 2\n"
     ]
    }
   ],
   "source": [
    "# Take user input\n",
    "num = input(\"Enter a number: \")\n",
    "\n",
    "# Initialize sum and count to 0\n",
    "sum = 0\n",
    "count = 0\n",
    "\n",
    "# Loop through each character in the input string\n",
    "for digit in num:\n",
    "    if digit.isdigit():  # Check if the character is a digit\n",
    "        sum += int(digit)  # Add the digit to the sum\n",
    "        count += 1  # Increment the count of digits\n",
    "\n",
    "# Print the sum and count of digits\n",
    "print(\"Sum of digits:\", sum)\n",
    "print(\"Count of digits:\", count)"
   ]
  },
  {
   "cell_type": "code",
   "execution_count": 141,
   "metadata": {
    "pycharm": {
     "name": "#%%\n"
    }
   },
   "outputs": [
    {
     "name": "stdout",
     "output_type": "stream",
     "text": [
      "65674984\n",
      "Count of digits: 8\n"
     ]
    }
   ],
   "source": [
    "# Count of digits\n",
    "num = input(\"Enter a number: \")\n",
    "print(num)\n",
    "count = 0\n",
    "for digit in num:\n",
    "    if digit.isdigit():\n",
    "        count += 1\n",
    "print(\"Count of digits:\", count)"
   ]
  },
  {
   "cell_type": "code",
   "execution_count": 27,
   "metadata": {
    "pycharm": {
     "name": "#%%\n"
    }
   },
   "outputs": [
    {
     "name": "stdout",
     "output_type": "stream",
     "text": [
      "123\n",
      "3 2 1 "
     ]
    }
   ],
   "source": [
    "# to print revers of number using while loop\n",
    "n = int(input())\n",
    "print(n)\n",
    "while n > 0:\n",
    "    d = n % 10\n",
    "    print(d, end=\" \")\n",
    "    n = n//10"
   ]
  },
  {
   "cell_type": "markdown",
   "metadata": {
    "pycharm": {
     "name": "#%% md\n"
    }
   },
   "source": [
    "In this code, we start by setting num to the number we want to print in reverse. Then we use a while loop to iterate over the digits of the number, one at a time.\n",
    "\n",
    "Inside the loop, we use the modulus operator (%) to get the last digit of the number (digit). We print this digit using the print() function, and we use the end parameter to tell Python to not add a newline character after each digit.\n",
    "\n",
    "After printing the digit, we use integer division (//) to remove the last digit from num. This way, when we go back to the top of the loop, we'll be working with the next-to-last digit of the number.\n",
    "\n",
    "We keep iterating in this way until num becomes 0, at which point we've printed all the digits in reverse order.\n"
   ]
  },
  {
   "cell_type": "code",
   "execution_count": null,
   "metadata": {
    "pycharm": {
     "name": "#%%\n"
    }
   },
   "outputs": [],
   "source": [
    "num = 1234\n",
    "for digit in str(num)[::-1]:\n",
    "    print(digit, end='')"
   ]
  },
  {
   "cell_type": "markdown",
   "metadata": {
    "pycharm": {
     "name": "#%% md\n"
    }
   },
   "source": [
    "In this code, we first convert the number num to a string using the str() function. We then use slicing with the [::1] syntax to reverse the string, giving us a new string with the digits of num in reverse order.\n",
    "\n",
    "We then use a for loop to iterate over each character in the reversed string. For each character (which is a digit), we print it using the print() function, and we use the end parameter to tell Python to not add a newline character after each digit.\n",
    "\n",
    "This way, we print all the digits of num in reverse order."
   ]
  },
  {
   "cell_type": "code",
   "execution_count": 1,
   "metadata": {
    "pycharm": {
     "name": "#%%\n"
    }
   },
   "outputs": [
    {
     "name": "stdout",
     "output_type": "stream",
     "text": [
      "4321"
     ]
    }
   ],
   "source": [
    "num = 1234\n",
    "while num > 0:\n",
    "    digit = num % 10\n",
    "    print(digit, end='')\n",
    "    num //= 10"
   ]
  },
  {
   "cell_type": "code",
   "execution_count": 31,
   "metadata": {
    "pycharm": {
     "name": "#%%\n"
    }
   },
   "outputs": [
    {
     "name": "stdout",
     "output_type": "stream",
     "text": [
      "6564\n",
      "4656\n",
      "This code converts the number num to a string using the str() function, then uses slicing with the [::-1] syntax to reverse the string, and finally prints the reversed string.\n"
     ]
    }
   ],
   "source": [
    "# To print a number in reverse order, you can use the following Python code:\n",
    "\n",
    "num = input()\n",
    "print(num)\n",
    "reverse_num = str(num)[::-1]\n",
    "print(reverse_num)"
   ]
  },
  {
   "cell_type": "markdown",
   "metadata": {
    "pycharm": {
     "name": "#%% md\n"
    }
   },
   "source": [
    "print(\"This code converts the number num to a string using the str() function, then uses slicing with the [::-1] syntax to reverse the string, and finally prints the reversed string.\")"
   ]
  },
  {
   "cell_type": "code",
   "execution_count": 34,
   "metadata": {
    "pycharm": {
     "name": "#%%\n"
    }
   },
   "outputs": [
    {
     "name": "stdout",
     "output_type": "stream",
     "text": [
      "fadsklUZ\n"
     ]
    }
   ],
   "source": [
    "# To print a word in reverse order, you can use the following Python code:\n",
    "\n",
    "\n",
    "word = input()\n",
    "reverse_word = word[::-1]\n",
    "print(reverse_word)"
   ]
  },
  {
   "cell_type": "markdown",
   "metadata": {
    "pycharm": {
     "name": "#%% md\n"
    }
   },
   "source": [
    "The pass Statement\n",
    "\n",
    "for loops cannot be empty, but if you for some reason have a for loop with no content, put in the pass statement to avoid getting an error."
   ]
  },
  {
   "cell_type": "code",
   "execution_count": 121,
   "metadata": {
    "pycharm": {
     "name": "#%%\n"
    }
   },
   "outputs": [],
   "source": [
    "for x in [0, 1, 2]:\n",
    "  pass\n",
    "# having an empty for loop like this, would raise an error without the pass statement\n"
   ]
  },
  {
   "cell_type": "code",
   "execution_count": 138,
   "metadata": {
    "pycharm": {
     "name": "#%%\n"
    }
   },
   "outputs": [
    {
     "name": "stdout",
     "output_type": "stream",
     "text": [
      "1 2 4 8 16 32 64 128 256 512 "
     ]
    }
   ],
   "source": [
    "# Quizzess\n",
    "max_ = int(input())\n",
    "i = 1\n",
    "while i <= 2**max_:\n",
    "    print(i, end=\" \")\n",
    "    i *= 2"
   ]
  },
  {
   "cell_type": "code",
   "execution_count": 139,
   "metadata": {
    "pycharm": {
     "name": "#%%\n"
    }
   },
   "outputs": [
    {
     "name": "stdout",
     "output_type": "stream",
     "text": [
      "1 2 4 8 16 32 64 128 256 512 "
     ]
    }
   ],
   "source": [
    "max_ = int(input())\n",
    "for i in range(max_ + 1):\n",
    "    print(2**i, end=\" \")"
   ]
  },
  {
   "cell_type": "markdown",
   "metadata": {
    "pycharm": {
     "name": "#%% md\n"
    }
   },
   "source": [
    "# Assignment\n",
    "Q1. find x in loop\n",
    "What will be the value of x at the end of each iteration in the given program if executed?"
   ]
  },
  {
   "cell_type": "code",
   "execution_count": 143,
   "metadata": {
    "pycharm": {
     "name": "#%%\n"
    }
   },
   "outputs": [],
   "source": [
    "x = 2\n",
    "for i in range(0, 4):\n",
    "    if x%2:\n",
    "       x = x*2\n",
    "    else:\n",
    "       x = x+1"
   ]
  },
  {
   "cell_type": "markdown",
   "metadata": {
    "pycharm": {
     "name": "#%% md\n"
    }
   },
   "source": [
    "The correct answer is: 3 -> 6 -> 7 -> 14\n",
    "\n",
    "Explanation:\n",
    "Initially x = 2\n",
    "Loop will run 4 times:\n",
    "\n",
    "    In the first iteration, x%2 = 0, so x = x+1 that makes x = 3.\n",
    "    In the second iteration, x%2 = 1, so x = 6.\n",
    "    In the third iteration, x%2=0, so x=7.\n",
    "    In the fourth iteration, x%2=1, So x = 14"
   ]
  },
  {
   "cell_type": "code",
   "execution_count": 144,
   "metadata": {
    "pycharm": {
     "name": "#%%\n"
    }
   },
   "outputs": [
    {
     "name": "stdout",
     "output_type": "stream",
     "text": [
      "-6 -7 -8 -9 "
     ]
    }
   ],
   "source": [
    "for i in range(-6, -10, -1):\n",
    "     print(i, end =\" \")"
   ]
  },
  {
   "cell_type": "markdown",
   "metadata": {
    "pycharm": {
     "name": "#%% md\n"
    }
   },
   "source": [
    "Q6. Summation Game\n",
    "\n",
    "Problem Description\n",
    "Write a program to find sum all Natural numbers from 1 to N where you have to take N as input from user\n",
    "\n",
    "Problem Constraints\n",
    "1 <= N <= 1000\n",
    "\n",
    "Input Format\n",
    "A single line representing N\n",
    "\n",
    "Output Format\n",
    "A single integer showing sum of all Natural numbers from 1 to N\n",
    "\n",
    "\n",
    "Example Input\n",
    "Input 1:\n",
    "5\n",
    "\n",
    "Input 2:\n",
    "10\n",
    "\n",
    "Example Output\n",
    "Output 1:\n",
    "15\n",
    "\n",
    "Output 2:\n",
    "55"
   ]
  },
  {
   "cell_type": "code",
   "execution_count": 152,
   "metadata": {
    "pycharm": {
     "name": "#%%\n"
    }
   },
   "outputs": [
    {
     "name": "stdout",
     "output_type": "stream",
     "text": [
      "78\n"
     ]
    }
   ],
   "source": [
    "n = int(input())\n",
    "sum = (n*(n+1))//2\n",
    "print(sum)"
   ]
  },
  {
   "cell_type": "code",
   "execution_count": null,
   "metadata": {
    "pycharm": {
     "name": "#%%\n"
    }
   },
   "outputs": [],
   "source": [
    "# to print number in revers order\n"
   ]
  },
  {
   "cell_type": "code",
   "execution_count": 22,
   "metadata": {
    "pycharm": {
     "name": "#%%\n"
    }
   },
   "outputs": [
    {
     "name": "stdout",
     "output_type": "stream",
     "text": [
      "To print revers number using for loop\n",
      "15 14 13 12 11 10 9 "
     ]
    }
   ],
   "source": [
    "print(\"To print revers number using for loop\")\n",
    "start_num = int(input())\n",
    "end_num = int(input())\n",
    "num = 0\n",
    "for num in range(end_num, start_num-1, -1):\n",
    "    print(num, end=\" \")\n"
   ]
  },
  {
   "cell_type": "code",
   "execution_count": 21,
   "metadata": {
    "pycharm": {
     "name": "#%%\n"
    }
   },
   "outputs": [
    {
     "name": "stdout",
     "output_type": "stream",
     "text": [
      "To print revers number using while loop\n",
      "14 13 12 11 10 9 8 7 6 5 4 3 "
     ]
    }
   ],
   "source": [
    "print(\"To print revers number using while loop\")\n",
    "start_num = int(input())\n",
    "end_num = int(input())\n",
    "num =end_num\n",
    "while num >= start_num:\n",
    "    print(num, end=\" \")\n",
    "    num -= 1"
   ]
  },
  {
   "cell_type": "code",
   "execution_count": 37,
   "metadata": {
    "pycharm": {
     "name": "#%%\n"
    }
   },
   "outputs": [
    {
     "name": "stdout",
     "output_type": "stream",
     "text": [
      "654456\n",
      "6 5 4 4 5 6 \n",
      "\n",
      "The count of digit: 6\n"
     ]
    }
   ],
   "source": [
    "# to print digit in revers with count\n",
    "c = 0 # initializing the input\n",
    "n = int(input()) # Taking user input\n",
    "print(n) # printing input\n",
    "while n>0:\n",
    "    d = n % 10 # this is to check digit is real or not\n",
    "    print(d, end=\" \") # Print in revers order\n",
    "    n = n//10\n",
    "    c += 1\n",
    "print(\"\\n\")\n",
    "print(\"The count of digit:\", c)"
   ]
  },
  {
   "cell_type": "code",
   "execution_count": 42,
   "metadata": {
    "pycharm": {
     "name": "#%%\n"
    }
   },
   "outputs": [
    {
     "name": "stdout",
     "output_type": "stream",
     "text": [
      "1 4 9 16 25 36 49 64 "
     ]
    }
   ],
   "source": [
    "# doubt\n",
    "# to print square\n",
    "n = int(input())\n",
    "i = 1\n",
    "res = 1\n",
    "while i<n:\n",
    "    res = i*i\n",
    "    if (res<=n): # before printing, check if it is <= n\n",
    "        print(res, end=\" \")\n",
    "    i += 1"
   ]
  }
 ],
 "metadata": {
  "kernelspec": {
   "display_name": "Python 3 (ipykernel)",
   "language": "python",
   "name": "python3"
  },
  "language_info": {
   "codemirror_mode": {
    "name": "ipython",
    "version": 3
   },
   "file_extension": ".py",
   "mimetype": "text/x-python",
   "name": "python",
   "nbconvert_exporter": "python",
   "pygments_lexer": "ipython3",
   "version": "3.10.7"
  }
 },
 "nbformat": 4,
 "nbformat_minor": 1
}