{
 "cells": [
  {
   "cell_type": "code",
   "execution_count": null,
   "metadata": {
    "collapsed": true
   },
   "outputs": [],
   "source": [
    "## Function 1"
   ]
  },
  {
   "attachments": {},
   "cell_type": "markdown",
   "metadata": {
    "pycharm": {
     "name": "#%% md\n"
    }
   },
   "source": [
    "# Real world Problem"
   ]
  },
  {
   "cell_type": "code",
   "execution_count": 25,
   "metadata": {
    "pycharm": {
     "name": "#%%\n"
    }
   },
   "outputs": [],
   "source": [
    "total_ratings = 10\n",
    "current_rating = 4.5\n",
    "current_stud_rating = 5"
   ]
  },
  {
   "cell_type": "code",
   "execution_count": 26,
   "metadata": {},
   "outputs": [
    {
     "name": "stdout",
     "output_type": "stream",
     "text": [
      "4.545454545454546\n"
     ]
    }
   ],
   "source": [
    "sum_of_ratings = current_rating*total_ratings\n",
    "current_rating = (sum_of_ratings + current_stud_rating) /(total_ratings + 1)\n",
    "print(current_rating)"
   ]
  },
  {
   "cell_type": "code",
   "execution_count": 27,
   "metadata": {
    "pycharm": {
     "name": "#%%\n"
    }
   },
   "outputs": [
    {
     "name": "stdout",
     "output_type": "stream",
     "text": [
      "4.500000000000001\n"
     ]
    }
   ],
   "source": [
    "total_ratings += 1\n",
    "current_stud_rating = 4\n",
    "sum_of_ratings = current_rating* total_ratings\n",
    "current_rating = (sum_of_ratings + current_stud_rating)/(total_ratings + 1)\n",
    "print(current_rating)"
   ]
  },
  {
   "cell_type": "code",
   "execution_count": 60,
   "metadata": {},
   "outputs": [],
   "source": [
    "def update_rating(total_rating, current_rating, current_stud_rating):\n",
    "    '''Find the rating of the class\n",
    "    total_rating:\n",
    "    current_rating:\n",
    "    '''\n",
    "    sum_of_ratings = current_rating * total_ratings\n",
    "    current_rating = (sum_of_ratings + current_stud_rating)/(total_ratings + 1)\n",
    "    \n",
    "    return current_rating\n"
   ]
  },
  {
   "cell_type": "code",
   "execution_count": 31,
   "metadata": {},
   "outputs": [
    {
     "name": "stdout",
     "output_type": "stream",
     "text": [
      "4.545454545454546\n"
     ]
    }
   ],
   "source": [
    "total_ratings = 10\n",
    "current_rating = 4.5\n",
    "current_stud_rating = 5\n",
    "current_rating = update_rating(total_ratings, current_rating, current_stud_rating)\n",
    "print(current_rating)"
   ]
  },
  {
   "cell_type": "code",
   "execution_count": 32,
   "metadata": {
    "collapsed": false,
    "pycharm": {
     "name": "#%%\n"
    }
   },
   "outputs": [
    {
     "name": "stdout",
     "output_type": "stream",
     "text": [
      "4.500000000000001\n"
     ]
    }
   ],
   "source": [
    "total_ratings += 1\n",
    "current_stud_rating = 4\n",
    "current_rating = update_rating(total_ratings, current_rating, current_stud_rating)\n",
    "print(current_rating)"
   ]
  },
  {
   "cell_type": "code",
   "execution_count": 37,
   "metadata": {
    "collapsed": false,
    "pycharm": {
     "name": "#%%\n"
    }
   },
   "outputs": [
    {
     "name": "stdout",
     "output_type": "stream",
     "text": [
      "30\n"
     ]
    }
   ],
   "source": [
    "# write a function to add two numbers\n",
    "def add(a, b):\n",
    "    \"\"\"Function is to add two numbers\n",
    "    \"\"\"\n",
    "    return a+b\n",
    "res =add(10, 20)\n",
    "print(res) #res = result"
   ]
  },
  {
   "cell_type": "code",
   "execution_count": 46,
   "metadata": {
    "collapsed": false,
    "pycharm": {
     "name": "#%%\n"
    }
   },
   "outputs": [
    {
     "name": "stdout",
     "output_type": "stream",
     "text": [
      "60\n",
      "None\n"
     ]
    }
   ],
   "source": [
    "def add(a, b):\n",
    "    \"\"\" addition of two numbers \"\"\"\n",
    "    print(a+b)\n",
    "res = add(10, 50)\n",
    "print(res)"
   ]
  },
  {
   "attachments": {},
   "cell_type": "markdown",
   "metadata": {
    "collapsed": false,
    "pycharm": {
     "name": "#%% md\n"
    }
   },
   "source": [
    "## return statement\n",
    "The return  statement"
   ]
  },
  {
   "cell_type": "code",
   "execution_count": 47,
   "metadata": {
    "collapsed": false,
    "pycharm": {
     "name": "#%%\n"
    }
   },
   "outputs": [
    {
     "name": "stdout",
     "output_type": "stream",
     "text": [
      "Foo\n",
      "1\n"
     ]
    }
   ],
   "source": [
    "# example\n",
    "\n",
    "def foo_bar():\n",
    "    # inside the fucntion\n",
    "    print(\"Foo\")\n",
    "    return 1\n",
    "    print(\"Bar\")\n",
    "res = foo_bar()\n",
    "print(res)"
   ]
  },
  {
   "cell_type": "code",
   "execution_count": 48,
   "metadata": {
    "collapsed": false,
    "pycharm": {
     "name": "#%%\n"
    }
   },
   "outputs": [
    {
     "name": "stdout",
     "output_type": "stream",
     "text": [
      "34\n"
     ]
    }
   ],
   "source": [
    "def square(x):\n",
    "    return x*x\n",
    "a = square(3)\n",
    "b = square(5)\n",
    "print(a+b)"
   ]
  },
  {
   "cell_type": "code",
   "execution_count": 50,
   "metadata": {
    "collapsed": false,
    "pycharm": {
     "name": "#%%\n"
    }
   },
   "outputs": [
    {
     "name": "stdout",
     "output_type": "stream",
     "text": [
      "14  is maximum\n"
     ]
    }
   ],
   "source": [
    "def print_max(a, b):\n",
    "    if a > b:\n",
    "        print(a, ' is maximum')\n",
    "    elif a == b:\n",
    "        print(a, ' is equal to be ', b)\n",
    "    else:\n",
    "        print(b, ' is maximum')\n",
    "print_max(14, 7)"
   ]
  },
  {
   "cell_type": "code",
   "execution_count": 51,
   "metadata": {
    "collapsed": false,
    "pycharm": {
     "name": "#%%\n"
    }
   },
   "outputs": [
    {
     "name": "stdout",
     "output_type": "stream",
     "text": [
      "Even\n"
     ]
    }
   ],
   "source": [
    "def check(a):\n",
    "    print(\"Even\" if a % 2 == 0 else \"Odd\")\n",
    "check(12)"
   ]
  },
  {
   "cell_type": "code",
   "execution_count": 54,
   "metadata": {
    "collapsed": false,
    "pycharm": {
     "name": "#%%\n"
    }
   },
   "outputs": [
    {
     "data": {
      "text/plain": [
       "65.56"
      ]
     },
     "execution_count": 54,
     "metadata": {},
     "output_type": "execute_result"
    }
   ],
   "source": [
    "\"\"\"write a function to convert the input temperature Fahrenheit scale to celsius scale using formula, round the result in 2 decimal places\n",
    "\"\"\"\n",
    "\n",
    "def fahrenheit_to_celsius(fahrenheit):\n",
    "    celsius = (fahrenheit-32) * 5/9\n",
    "    return round(celsius, 2)\n",
    " # round(celsius, 2) this will round of the float to desired decimal places\n",
    "n = float(input())\n",
    "fahrenheit_to_celsius(n)\n",
    "\n",
    "\n",
    "\"\"\"The function uses the formula (°F - 32) * 5/9 = °C to convert from Fahrenheit to Celsius.\n",
    "The round() function is used to round the result to two decimal places.\"\"\"\n"
   ]
  },
  {
   "cell_type": "code",
   "execution_count": 59,
   "metadata": {
    "collapsed": false,
    "pycharm": {
     "name": "#%%\n"
    }
   },
   "outputs": [
    {
     "name": "stdout",
     "output_type": "stream",
     "text": [
      "0 1 1 2 3 5 8 13 21 "
     ]
    },
    {
     "data": {
      "text/plain": [
       "'The function uses a for loop to print out the first n terms of the Fibonacci sequence. It starts by initializing the first two terms (a = 0 and b = 1), and then calculates the next term by adding a and b. Finally, it updates the values of a and b for the next iteration. The print() function is used to print out each term on a new line.'"
      ]
     },
     "execution_count": 59,
     "metadata": {},
     "output_type": "execute_result"
    }
   ],
   "source": [
    "\"\"\"explain Fibonacci series and write function to print Fibonacci series up to n terms\n",
    "\n",
    "The Fibonacci series is a sequence of numbers in which each number is the sum of the two preceding numbers.\n",
    " The series starts with 0 and 1, and then each subsequent number is the sum of the two preceding numbers.\n",
    "  The first few numbers in the Fibonacci sequence are:\n",
    "\n",
    "0, 1, 1, 2, 3, 5, 8, 13, 21, 34, 55, 89, ...\n",
    "\n",
    "The Fibonacci sequence has many interesting properties and is often found in nature and in mathematical patterns.\n",
    "\n",
    "Here's an example function in Python that prints out the Fibonacci sequence up to n terms:\"\"\"\n",
    "\n",
    "\n",
    "def fibonacci(n):\n",
    "    # Initialize the first two terms\n",
    "    a, b = 0, 1\n",
    "    # Print the first n terms\n",
    "    for i in range(n):\n",
    "        print(a, end=' ')\n",
    "        # Calculate the next term\n",
    "        a, b = b, a + b\n",
    "\n",
    "\n",
    "n = int(input())\n",
    "fibonacci(n)\n",
    "\n",
    "\"\"\"The function uses a for loop to print out the first n terms of the Fibonacci sequence.\n",
    "\n",
    "It starts by initializing the first two terms (a = 0 and b = 1), and then calculates the next term by adding a and b.\n",
    "\n",
    "Finally, it updates the values of a and b for the next iteration.\n",
    "\n",
    "The print() function is used to print out each term on a new line.\"\"\""
   ]
  },
  {
   "cell_type": "code",
   "execution_count": 38,
   "metadata": {
    "collapsed": false,
    "pycharm": {
     "name": "#%%\n"
    }
   },
   "outputs": [
    {
     "name": "stdout",
     "output_type": "stream",
     "text": [
      "31.0\n"
     ]
    }
   ],
   "source": [
    "res = add(10.5, 20.5)\n",
    "print(res)"
   ]
  },
  {
   "cell_type": "code",
   "execution_count": 40,
   "metadata": {
    "collapsed": false,
    "pycharm": {
     "name": "#%%\n"
    }
   },
   "outputs": [
    {
     "name": "stdout",
     "output_type": "stream",
     "text": [
      "Hello Umakant\n"
     ]
    }
   ],
   "source": [
    "res = add(\"Hello\", \" Umakant\")\n",
    "print(res)"
   ]
  },
  {
   "cell_type": "code",
   "execution_count": 41,
   "metadata": {
    "collapsed": false,
    "pycharm": {
     "name": "#%%\n"
    }
   },
   "outputs": [],
   "source": [
    "# Quizzes\n",
    "def add_2_nums_with_return(n1, n2):\n",
    "    return n1+n2\n",
    "y = add_2_nums_with_return(5, 6)\n",
    "# the output will be none because we have not used any print command"
   ]
  },
  {
   "cell_type": "code",
   "execution_count": 43,
   "metadata": {
    "collapsed": false,
    "pycharm": {
     "name": "#%%\n"
    }
   },
   "outputs": [
    {
     "name": "stdout",
     "output_type": "stream",
     "text": [
      "12\n",
      "15.3\n",
      "-3\n"
     ]
    }
   ],
   "source": [
    "def add_2_number(n1, n2):\n",
    "    return n1 +n2\n",
    "print(add_2_number(5, 7))\n",
    "print(add_2_number(5.7, 9.6))\n",
    "print(add_2_number(-1, -2))"
   ]
  },
  {
   "attachments": {},
   "cell_type": "markdown",
   "metadata": {
    "collapsed": false,
    "pycharm": {
     "name": "#%% md\n"
    }
   },
   "source": [
    "## Printing inside the function"
   ]
  },
  {
   "cell_type": "code",
   "execution_count": 44,
   "metadata": {
    "collapsed": false,
    "pycharm": {
     "name": "#%%\n"
    }
   },
   "outputs": [
    {
     "name": "stdout",
     "output_type": "stream",
     "text": [
      "8\n"
     ]
    }
   ],
   "source": [
    "def add_2_number(n1, n2):\n",
    "    print(n1 + n2)\n",
    "add_2_number(5, 3)\n"
   ]
  },
  {
   "cell_type": "code",
   "execution_count": 13,
   "metadata": {
    "pycharm": {
     "name": "#%%\n"
    }
   },
   "outputs": [
    {
     "name": "stdout",
     "output_type": "stream",
     "text": [
      "3\n",
      "19\n"
     ]
    }
   ],
   "source": [
    "n =  int(input())\n",
    "x = n\n",
    "fx = x*x+2*x+4\n",
    "print(fx)"
   ]
  },
  {
   "attachments": {},
   "cell_type": "markdown",
   "metadata": {},
   "source": [
    "# How to write fucntion ?\n"
   ]
  },
  {
   "cell_type": "code",
   "execution_count": null,
   "metadata": {},
   "outputs": [],
   "source": [
    "def funtion_name(): # in brackets, there will be parameters and parameters are optionals \n",
    "    \"\"\"\n",
    "     doc string\n",
    "    \"\"\"\n",
    "    statement"
   ]
  },
  {
   "cell_type": "code",
   "execution_count": 14,
   "metadata": {},
   "outputs": [
    {
     "name": "stdout",
     "output_type": "stream",
     "text": [
      "Help on built-in function abs in module builtins:\n",
      "\n",
      "abs(x, /)\n",
      "    Return the absolute value of the argument.\n",
      "\n"
     ]
    }
   ],
   "source": [
    "help(abs)"
   ]
  },
  {
   "cell_type": "code",
   "execution_count": null,
   "metadata": {},
   "outputs": [],
   "source": []
  },
  {
   "attachments": {},
   "cell_type": "markdown",
   "metadata": {
    "pycharm": {
     "name": "#%% md\n"
    }
   },
   "source": [
    "Creating a Python Function\n",
    "\n",
    "We can create a  Python function using the def keyword."
   ]
  },
  {
   "cell_type": "code",
   "execution_count": null,
   "metadata": {
    "pycharm": {
     "name": "#%%\n"
    }
   },
   "outputs": [],
   "source": [
    "# A simple Python function\n",
    "\n",
    "def fun():\n",
    "  print(\"Welcome to GFG\")"
   ]
  },
  {
   "attachments": {},
   "cell_type": "markdown",
   "metadata": {
    "pycharm": {
     "name": "#%% md\n"
    }
   },
   "source": [
    "Calling a  Python Function\n",
    "\n",
    "After creating a function we can call it by using the name of the function followed by parenthesis containing parameters of that particular function."
   ]
  },
  {
   "cell_type": "code",
   "execution_count": null,
   "metadata": {
    "pycharm": {
     "name": "#%%\n"
    }
   },
   "outputs": [],
   "source": [
    "# A simple Python function\n",
    "def fun():\n",
    "    print(\"Welcome to GFG\")\n",
    "\n",
    "\n",
    "# Driver code to call a function\n",
    "fun()"
   ]
  },
  {
   "attachments": {},
   "cell_type": "markdown",
   "metadata": {
    "pycharm": {
     "name": "#%% md\n"
    }
   },
   "source": [
    "Defining and calling a function with parameters\n",
    "\n",
    "If you have experience in C/C++ or Java then you must be thinking about the return type of the function and data type of arguments.\n",
    " That is possible in Python as well (specifically for Python 3.5 and above).\n",
    "\n",
    "Syntax: Python Function with parameters\n",
    "\n",
    " def function_name(parameter: data_type) -> return_type:\n",
    "    \"\"\"Docstring\"\"\"\n",
    "    # body of the function\n",
    "    return expression\n",
    "\n",
    "The following example uses arguments that you will learn later in this article, so you can come back on it again if not understood.\n",
    "It is defined here for people with prior experience in languages like C/C++ or Java."
   ]
  },
  {
   "cell_type": "code",
   "execution_count": 1,
   "metadata": {
    "pycharm": {
     "name": "#%%\n"
    }
   },
   "outputs": [
    {
     "name": "stdout",
     "output_type": "stream",
     "text": [
      "The addition of 5 and 15 results 20.\n"
     ]
    }
   ],
   "source": [
    "def add(num1: int, num2: int) -> int:\n",
    "    \"\"\"Add two numbers\"\"\"\n",
    "    num3 = num1 + num2\n",
    "\n",
    "    return num3\n",
    "\n",
    "# Driver code\n",
    "num1, num2 = 5, 15\n",
    "ans = add(num1, num2)\n",
    "print(f\"The addition of {num1} and {num2} results {ans}.\")"
   ]
  },
  {
   "cell_type": "code",
   "execution_count": 2,
   "metadata": {
    "pycharm": {
     "name": "#%%\n"
    }
   },
   "outputs": [],
   "source": [
    "#write a fucntion to convert celcius to farhenhit\n",
    "\n",
    "def celcius_farhen(celcius):\n",
    "    temp_f = 0\n",
    "#formula  =  Farhenhith = ((9/5)*Celcius+32)\n",
    "# F = ((9/5)*C+32)\n",
    "    temp_f = ((9/5)*Celcius+32)\n",
    "\n",
    "    return round (temp, 2)\n",
    "    \n",
    "if __name__=='main': \n",
    "    t = int(input())\n",
    "    for i in range(1, t+1):\n",
    "        temp = float(input())\n",
    "        r = celcius_farhen(temp)\n",
    "        print(r, end = \"\")\n"
   ]
  },
  {
   "cell_type": "code",
   "execution_count": 3,
   "metadata": {},
   "outputs": [
    {
     "name": "stdout",
     "output_type": "stream",
     "text": [
      "89.6\n",
      "95.0\n"
     ]
    }
   ],
   "source": [
    "def celsius_to_fahrenheit(celsius):\n",
    "    # Formula: Fahrenheit = ((9/5) * Celsius + 32)\n",
    "    fahrenheit = ((9/5) * celsius) + 32\n",
    "    return round(fahrenheit, 2)\n",
    "\n",
    "if __name__ == '__main__':\n",
    "    t = int(input(\"Enter the number of temperatures: \"))\n",
    "    for i in range(1, t+1):\n",
    "        temp = float(input(\"Enter temperature in Celsius: \"))\n",
    "        result = celsius_to_fahrenheit(temp)\n",
    "        print(result)"
   ]
  },
  {
   "cell_type": "code",
   "execution_count": null,
   "metadata": {},
   "outputs": [],
   "source": [
    "\n",
    "def celsius_farhen(Celsius):\n",
    "    ans = 0\n",
    "    # YOUR CODE GOES HERE\n",
    "    ans=((9/5)*Celsius+32)\n",
    "\n",
    "    return round(ans,2)\n",
    "\n",
    "if __name__=='main':\n",
    "    t=int(input())\n",
    "    for i in range(1,t+1):\n",
    "        temp=float(input())\n",
    "        r=celsius_farhen(temp)\n",
    "        print(r,end='')"
   ]
  },
  {
   "cell_type": "code",
   "execution_count": 9,
   "metadata": {},
   "outputs": [],
   "source": [
    "def celsius_farhen(Celsius) :\n",
    "    Fahrenheit = ((9/5)*Celsius) + 32\n",
    "    ans = round(Fahrenheit ,2)\n",
    "    return ans\n"
   ]
  },
  {
   "cell_type": "code",
   "execution_count": 8,
   "metadata": {},
   "outputs": [],
   "source": [
    "def celsius_to_fahrenheit(celsius):\n",
    "    ans = 0\n",
    "    # Conversion formula: Fahrenheit = (Celsius * 9/5) + 32\n",
    "    convert = (celsius * 9/5) + 32\n",
    "    ans = convert\n",
    "    return round(ans, 2)\n"
   ]
  },
  {
   "cell_type": "code",
   "execution_count": null,
   "metadata": {},
   "outputs": [],
   "source": [
    "'''\n",
    "Given an integer n, write a program to print the sum of squares of first n natural numbers in integer format.\n",
    "\n",
    "Note1:\n",
    "\n",
    "The formula for the sum of squares of first n natural numbers is: n(n+1)(2n+1)/6\n",
    "\n",
    "Note2:\n",
    "\n",
    "You need not take input in this problem, only implement the function provided.\n",
    "\n",
    "Problem Constraints:\n",
    "\n",
    "1 <= N <= 100\n",
    "\n",
    "Input Format:\n",
    "\n",
    "The first line indicates the number of test cases.\n",
    "For each testcase there will be a single line of input with an integer representing n for that testcase.\n",
    "\n",
    "Output Format:\n",
    "\n",
    "Sum of squares of n natural numbers in integer format\n",
    "\n",
    "'''\n",
    "\n",
    "\n",
    "def sum_squares(n):\n",
    "    ans = 0\n",
    "    ''' input: Given Integer n\n",
    "        output: Return ans as the sum of squares in integer format.'''\n",
    "\n",
    "    # Calculate the sum of squares\n",
    "    for i in range(1, n + 1):\n",
    "        ans += i * i\n",
    "\n",
    "    return ans"
   ]
  },
  {
   "cell_type": "code",
   "execution_count": null,
   "metadata": {},
   "outputs": [],
   "source": [
    "def circle_area(r):\n",
    "    ans=0\n",
    "    pi = 3.14159\n",
    "    radius = pi * (r**2)\n",
    "    ans = round(radius,2)\n",
    "    return ans"
   ]
  },
  {
   "cell_type": "code",
   "execution_count": null,
   "metadata": {},
   "outputs": [],
   "source": [
    "def sum_squares(n):\n",
    "    ans = 0\n",
    "    ''' input: Given Integer n\n",
    "        output: Return ans as the sum of squares in integer format.'''\n",
    "\n",
    "    # Calculate the sum of squares\n",
    "    for i in range(1, n + 1):\n",
    "        ans += i * i\n",
    "\n",
    "    return ans"
   ]
  },
  {
   "cell_type": "code",
   "execution_count": 10,
   "metadata": {},
   "outputs": [
    {
     "name": "stdout",
     "output_type": "stream",
     "text": [
      "1 2 3 4 5 6 7 8 9 10 11 12 \n",
      "12 11 10 9 8 7 6 5 4 3 2 1 \n",
      "1 2 3 4 5 6 7 8 9 10 11 12 13 \n",
      "13 12 11 10 9 8 7 6 5 4 3 2 1 \n",
      "1 2 3 4 5 \n",
      "5 4 3 2 1 \n",
      "1 2 3 4 5 6 7 8 \n",
      "8 7 6 5 4 3 2 1 \n",
      "1 2 3 4 5 6 7 8 9 \n",
      "9 8 7 6 5 4 3 2 1 \n"
     ]
    }
   ],
   "source": [
    "def sequence(n):\n",
    "    '''input: n = A single integer for the range where n is inclusive\n",
    "       output: First Print from 1 to N and a new line. Then print from N to 1 on the same line.'''\n",
    "   \n",
    "    # Print numbers from 1 to N\n",
    "    for i in range(1, n + 1):\n",
    "        print(i, end=' ')\n",
    "    print()  # Print a new line\n",
    "    \n",
    "    # Print numbers from N to 1\n",
    "    for k in range(n, 0, -1):\n",
    "        print(k, end=' ')\n",
    "\n",
    "if __name__ == '__main__':\n",
    "    t = int(input(\"Enter the number of test cases: \"))\n",
    "    for i in range(1, t + 1):\n",
    "        n = int(input(\"Enter the value of N: \"))\n",
    "        sequence(n)\n",
    "        print()  # Print a new line after each test case\n"
   ]
  },
  {
   "cell_type": "code",
   "execution_count": 16,
   "metadata": {},
   "outputs": [
    {
     "name": "stdout",
     "output_type": "stream",
     "text": [
      "1 2 3 4 5 6 7 8 9 10 11 12 \n",
      "12 11 10 9 8 7 6 5 4 3 2 1 \n",
      "1 2 3 4 5 \n",
      "5 4 3 2 1 \n"
     ]
    }
   ],
   "source": [
    "def sequence(n):\n",
    "    '''input: n = A single integer for the range where n is inclusive\n",
    "       output: First Print from 1 to N and new line Print from N to 1'''\n",
    "    \n",
    "    # YOUR CODE GOES HERE\n",
    "    for i in range(1, n + 1):\n",
    "        print(i, end=' ')\n",
    "    print()  # Print a new line\n",
    "    \n",
    "    # Print numbers from N to 1\n",
    "    for k in range(n, 0, -1):\n",
    "        print(k, end=' ')\n",
    "\n",
    "if __name__ == '__main__':\n",
    "    t = int(input())\n",
    "    for i in range(1, t + 1):\n",
    "        n = int(input())\n",
    "        sequence(n)\n",
    "        print()\n"
   ]
  },
  {
   "cell_type": "code",
   "execution_count": 19,
   "metadata": {},
   "outputs": [
    {
     "name": "stdout",
     "output_type": "stream",
     "text": [
      "1 2 3 \n",
      "3 2 1 \n",
      "\n"
     ]
    }
   ],
   "source": [
    "def sequence(n):\n",
    "    # Loop from 1 to n\n",
    "    for i in range(1,n+1):\n",
    "        print(i,end=' ')\n",
    "    print('\\n')\n",
    "    # Loop from 0 to n-1 and print n-j\n",
    "    for j in range(0,n):\n",
    "        print(n-j,end=' ')\n",
    "\n",
    "\n"
   ]
  }
 ],
 "metadata": {
  "kernelspec": {
   "display_name": "Python 3 (ipykernel)",
   "language": "python",
   "name": "python3"
  },
  "language_info": {
   "codemirror_mode": {
    "name": "ipython",
    "version": 3
   },
   "file_extension": ".py",
   "mimetype": "text/x-python",
   "name": "python",
   "nbconvert_exporter": "python",
   "pygments_lexer": "ipython3",
   "version": "3.10.9"
  }
 },
 "nbformat": 4,
 "nbformat_minor": 1
}
