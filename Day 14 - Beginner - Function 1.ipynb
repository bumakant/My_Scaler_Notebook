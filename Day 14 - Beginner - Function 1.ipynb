{
 "cells": [
  {
   "cell_type": "code",
   "execution_count": null,
   "metadata": {
    "collapsed": true
   },
   "outputs": [],
   "source": [
    "## Function 1"
   ]
  },
  {
   "cell_type": "markdown",
   "metadata": {
    "pycharm": {
     "name": "#%% md\n"
    }
   },
   "source": [
    "# Real world Problem"
   ]
  },
  {
   "cell_type": "code",
   "execution_count": 25,
   "metadata": {
    "pycharm": {
     "name": "#%%\n"
    }
   },
   "outputs": [],
   "source": [
    "total_ratings = 10\n",
    "current_rating = 4.5\n",
    "current_stud_rating = 5"
   ]
  },
  {
   "cell_type": "code",
   "execution_count": 26,
   "metadata": {},
   "outputs": [
    {
     "name": "stdout",
     "output_type": "stream",
     "text": [
      "4.545454545454546\n"
     ]
    }
   ],
   "source": [
    "sum_of_ratings = current_rating*total_ratings\n",
    "current_rating = (sum_of_ratings + current_stud_rating) /(total_ratings + 1)\n",
    "print(current_rating)"
   ]
  },
  {
   "cell_type": "code",
   "execution_count": 27,
   "metadata": {
    "pycharm": {
     "name": "#%%\n"
    }
   },
   "outputs": [
    {
     "name": "stdout",
     "output_type": "stream",
     "text": [
      "4.500000000000001\n"
     ]
    }
   ],
   "source": [
    "total_ratings += 1\n",
    "current_stud_rating = 4\n",
    "sum_of_ratings = current_rating* total_ratings\n",
    "current_rating = (sum_of_ratings + current_stud_rating)/(total_ratings + 1)\n",
    "print(current_rating)"
   ]
  },
  {
   "cell_type": "code",
   "execution_count": 60,
   "metadata": {},
   "outputs": [],
   "source": [
    "def update_rating(total_rating, current_rating, current_stud_rating):\n",
    "    '''Find the rating of the class\n",
    "    total_rating:\n",
    "    current_rating:\n",
    "    '''\n",
    "    sum_of_ratings = current_rating * total_ratings\n",
    "    current_rating = (sum_of_ratings + current_stud_rating)/(total_ratings + 1)\n",
    "    \n",
    "    return current_rating\n"
   ]
  },
  {
   "cell_type": "code",
   "execution_count": 31,
   "metadata": {},
   "outputs": [
    {
     "name": "stdout",
     "output_type": "stream",
     "text": [
      "4.545454545454546\n"
     ]
    }
   ],
   "source": [
    "total_ratings = 10\n",
    "current_rating = 4.5\n",
    "current_stud_rating = 5\n",
    "current_rating = update_rating(total_ratings, current_rating, current_stud_rating)\n",
    "print(current_rating)"
   ]
  },
  {
   "cell_type": "code",
   "execution_count": 32,
   "outputs": [
    {
     "name": "stdout",
     "output_type": "stream",
     "text": [
      "4.500000000000001\n"
     ]
    }
   ],
   "source": [
    "total_ratings += 1\n",
    "current_stud_rating = 4\n",
    "current_rating = update_rating(total_ratings, current_rating, current_stud_rating)\n",
    "print(current_rating)"
   ],
   "metadata": {
    "collapsed": false,
    "pycharm": {
     "name": "#%%\n"
    }
   }
  },
  {
   "cell_type": "code",
   "execution_count": 37,
   "outputs": [
    {
     "name": "stdout",
     "output_type": "stream",
     "text": [
      "30\n"
     ]
    }
   ],
   "source": [
    "# write a function to add two numbers\n",
    "def add(a, b):\n",
    "    \"\"\"Function is to add two numbers\n",
    "    \"\"\"\n",
    "    return a+b\n",
    "res =add(10, 20)\n",
    "print(res) #res = result"
   ],
   "metadata": {
    "collapsed": false,
    "pycharm": {
     "name": "#%%\n"
    }
   }
  },
  {
   "cell_type": "code",
   "execution_count": 46,
   "outputs": [
    {
     "name": "stdout",
     "output_type": "stream",
     "text": [
      "60\n",
      "None\n"
     ]
    }
   ],
   "source": [
    "def add(a, b):\n",
    "    \"\"\" addition of two numbers \"\"\"\n",
    "    print(a+b)\n",
    "res = add(10, 50)\n",
    "print(res)"
   ],
   "metadata": {
    "collapsed": false,
    "pycharm": {
     "name": "#%%\n"
    }
   }
  },
  {
   "cell_type": "markdown",
   "source": [
    "## return statement\n",
    "The return  statement"
   ],
   "metadata": {
    "collapsed": false,
    "pycharm": {
     "name": "#%% md\n"
    }
   }
  },
  {
   "cell_type": "code",
   "execution_count": 47,
   "outputs": [
    {
     "name": "stdout",
     "output_type": "stream",
     "text": [
      "Foo\n",
      "1\n"
     ]
    }
   ],
   "source": [
    "# example\n",
    "\n",
    "def foo_bar():\n",
    "    # inside the fucntion\n",
    "    print(\"Foo\")\n",
    "    return 1\n",
    "    print(\"Bar\")\n",
    "res = foo_bar()\n",
    "print(res)"
   ],
   "metadata": {
    "collapsed": false,
    "pycharm": {
     "name": "#%%\n"
    }
   }
  },
  {
   "cell_type": "code",
   "execution_count": 48,
   "outputs": [
    {
     "name": "stdout",
     "output_type": "stream",
     "text": [
      "34\n"
     ]
    }
   ],
   "source": [
    "def square(x):\n",
    "    return x*x\n",
    "a = square(3)\n",
    "b = square(5)\n",
    "print(a+b)"
   ],
   "metadata": {
    "collapsed": false,
    "pycharm": {
     "name": "#%%\n"
    }
   }
  },
  {
   "cell_type": "code",
   "execution_count": 50,
   "outputs": [
    {
     "name": "stdout",
     "output_type": "stream",
     "text": [
      "14  is maximum\n"
     ]
    }
   ],
   "source": [
    "def print_max(a, b):\n",
    "    if a > b:\n",
    "        print(a, ' is maximum')\n",
    "    elif a == b:\n",
    "        print(a, ' is equal to be ', b)\n",
    "    else:\n",
    "        print(b, ' is maximum')\n",
    "print_max(14, 7)"
   ],
   "metadata": {
    "collapsed": false,
    "pycharm": {
     "name": "#%%\n"
    }
   }
  },
  {
   "cell_type": "code",
   "execution_count": 51,
   "outputs": [
    {
     "name": "stdout",
     "output_type": "stream",
     "text": [
      "Even\n"
     ]
    }
   ],
   "source": [
    "def check(a):\n",
    "    print(\"Even\" if a % 2 == 0 else \"Odd\")\n",
    "check(12)"
   ],
   "metadata": {
    "collapsed": false,
    "pycharm": {
     "name": "#%%\n"
    }
   }
  },
  {
   "cell_type": "code",
   "execution_count": 54,
   "outputs": [
    {
     "data": {
      "text/plain": "65.56"
     },
     "execution_count": 54,
     "metadata": {},
     "output_type": "execute_result"
    }
   ],
   "source": [
    "\"\"\"write a function to convert the input temperature Fahrenheit scale to celsius scale using formula, round the result in 2 decimal places\n",
    "\"\"\"\n",
    "\n",
    "def fahrenheit_to_celsius(fahrenheit):\n",
    "    celsius = (fahrenheit-32) * 5/9\n",
    "    return round(celsius, 2)\n",
    " # round(celsius, 2) this will round of the float to desired decimal places\n",
    "n = float(input())\n",
    "fahrenheit_to_celsius(n)\n",
    "\n",
    "\n",
    "\"\"\"The function uses the formula (°F - 32) * 5/9 = °C to convert from Fahrenheit to Celsius.\n",
    "The round() function is used to round the result to two decimal places.\"\"\"\n"
   ],
   "metadata": {
    "collapsed": false,
    "pycharm": {
     "name": "#%%\n"
    }
   }
  },
  {
   "cell_type": "code",
   "execution_count": 59,
   "outputs": [
    {
     "name": "stdout",
     "output_type": "stream",
     "text": [
      "0 1 1 2 3 5 8 13 21 "
     ]
    },
    {
     "data": {
      "text/plain": "'The function uses a for loop to print out the first n terms of the Fibonacci sequence. It starts by initializing the first two terms (a = 0 and b = 1), and then calculates the next term by adding a and b. Finally, it updates the values of a and b for the next iteration. The print() function is used to print out each term on a new line.'"
     },
     "execution_count": 59,
     "metadata": {},
     "output_type": "execute_result"
    }
   ],
   "source": [
    "\"\"\"explain Fibonacci series and write function to print Fibonacci series up to n terms\n",
    "\n",
    "The Fibonacci series is a sequence of numbers in which each number is the sum of the two preceding numbers.\n",
    " The series starts with 0 and 1, and then each subsequent number is the sum of the two preceding numbers.\n",
    "  The first few numbers in the Fibonacci sequence are:\n",
    "\n",
    "0, 1, 1, 2, 3, 5, 8, 13, 21, 34, 55, 89, ...\n",
    "\n",
    "The Fibonacci sequence has many interesting properties and is often found in nature and in mathematical patterns.\n",
    "\n",
    "Here's an example function in Python that prints out the Fibonacci sequence up to n terms:\"\"\"\n",
    "\n",
    "\n",
    "def fibonacci(n):\n",
    "    # Initialize the first two terms\n",
    "    a, b = 0, 1\n",
    "    # Print the first n terms\n",
    "    for i in range(n):\n",
    "        print(a, end=' ')\n",
    "        # Calculate the next term\n",
    "        a, b = b, a + b\n",
    "\n",
    "\n",
    "n = int(input())\n",
    "fibonacci(n)\n",
    "\n",
    "\"\"\"The function uses a for loop to print out the first n terms of the Fibonacci sequence.\n",
    "\n",
    "It starts by initializing the first two terms (a = 0 and b = 1), and then calculates the next term by adding a and b.\n",
    "\n",
    "Finally, it updates the values of a and b for the next iteration.\n",
    "\n",
    "The print() function is used to print out each term on a new line.\"\"\""
   ],
   "metadata": {
    "collapsed": false,
    "pycharm": {
     "name": "#%%\n"
    }
   }
  },
  {
   "cell_type": "code",
   "execution_count": 38,
   "outputs": [
    {
     "name": "stdout",
     "output_type": "stream",
     "text": [
      "31.0\n"
     ]
    }
   ],
   "source": [
    "res = add(10.5, 20.5)\n",
    "print(res)"
   ],
   "metadata": {
    "collapsed": false,
    "pycharm": {
     "name": "#%%\n"
    }
   }
  },
  {
   "cell_type": "code",
   "execution_count": 40,
   "outputs": [
    {
     "name": "stdout",
     "output_type": "stream",
     "text": [
      "Hello Umakant\n"
     ]
    }
   ],
   "source": [
    "res = add(\"Hello\", \" Umakant\")\n",
    "print(res)"
   ],
   "metadata": {
    "collapsed": false,
    "pycharm": {
     "name": "#%%\n"
    }
   }
  },
  {
   "cell_type": "code",
   "execution_count": 41,
   "outputs": [],
   "source": [
    "# Quizzes\n",
    "def add_2_nums_with_return(n1, n2):\n",
    "    return n1+n2\n",
    "y = add_2_nums_with_return(5, 6)\n",
    "# the output will be none because we have not used any print command"
   ],
   "metadata": {
    "collapsed": false,
    "pycharm": {
     "name": "#%%\n"
    }
   }
  },
  {
   "cell_type": "code",
   "execution_count": 43,
   "outputs": [
    {
     "name": "stdout",
     "output_type": "stream",
     "text": [
      "12\n",
      "15.3\n",
      "-3\n"
     ]
    }
   ],
   "source": [
    "def add_2_number(n1, n2):\n",
    "    return n1 +n2\n",
    "print(add_2_number(5, 7))\n",
    "print(add_2_number(5.7, 9.6))\n",
    "print(add_2_number(-1, -2))"
   ],
   "metadata": {
    "collapsed": false,
    "pycharm": {
     "name": "#%%\n"
    }
   }
  },
  {
   "cell_type": "markdown",
   "source": [
    "## Printing inside the function"
   ],
   "metadata": {
    "collapsed": false,
    "pycharm": {
     "name": "#%% md\n"
    }
   }
  },
  {
   "cell_type": "code",
   "execution_count": 44,
   "outputs": [
    {
     "name": "stdout",
     "output_type": "stream",
     "text": [
      "8\n"
     ]
    }
   ],
   "source": [
    "def add_2_number(n1, n2):\n",
    "    print(n1 + n2)\n",
    "add_2_number(5, 3)\n"
   ],
   "metadata": {
    "collapsed": false,
    "pycharm": {
     "name": "#%%\n"
    }
   }
  },
  {
   "cell_type": "code",
   "execution_count": 13,
   "metadata": {
    "pycharm": {
     "name": "#%%\n"
    }
   },
   "outputs": [
    {
     "name": "stdout",
     "output_type": "stream",
     "text": [
      "3\n",
      "19\n"
     ]
    }
   ],
   "source": [
    "n =  int(input())\n",
    "x = n\n",
    "fx = x*x+2*x+4\n",
    "print(fx)"
   ]
  },
  {
   "cell_type": "markdown",
   "metadata": {},
   "source": [
    "# How to write fucntion ?\n"
   ]
  },
  {
   "cell_type": "code",
   "execution_count": null,
   "metadata": {},
   "outputs": [],
   "source": [
    "def funtion_name(): # in brackets, there will be parameters and parameters are optionals \n",
    "    \"\"\"\n",
    "     doc string\n",
    "    \"\"\"\n",
    "    statement"
   ]
  },
  {
   "cell_type": "code",
   "execution_count": 14,
   "metadata": {},
   "outputs": [
    {
     "name": "stdout",
     "output_type": "stream",
     "text": [
      "Help on built-in function abs in module builtins:\n",
      "\n",
      "abs(x, /)\n",
      "    Return the absolute value of the argument.\n",
      "\n"
     ]
    }
   ],
   "source": [
    "help(abs)"
   ]
  },
  {
   "cell_type": "code",
   "execution_count": null,
   "metadata": {},
   "outputs": [],
   "source": []
  },
  {
   "cell_type": "markdown",
   "metadata": {
    "pycharm": {
     "name": "#%% md\n"
    }
   },
   "source": [
    "Creating a Python Function\n",
    "\n",
    "We can create a  Python function using the def keyword."
   ]
  },
  {
   "cell_type": "code",
   "execution_count": null,
   "metadata": {
    "pycharm": {
     "name": "#%%\n"
    }
   },
   "outputs": [],
   "source": [
    "# A simple Python function\n",
    "\n",
    "def fun():\n",
    "  print(\"Welcome to GFG\")"
   ]
  },
  {
   "cell_type": "markdown",
   "metadata": {
    "pycharm": {
     "name": "#%% md\n"
    }
   },
   "source": [
    "Calling a  Python Function\n",
    "\n",
    "After creating a function we can call it by using the name of the function followed by parenthesis containing parameters of that particular function."
   ]
  },
  {
   "cell_type": "code",
   "execution_count": null,
   "metadata": {
    "pycharm": {
     "name": "#%%\n"
    }
   },
   "outputs": [],
   "source": [
    "# A simple Python function\n",
    "def fun():\n",
    "    print(\"Welcome to GFG\")\n",
    "\n",
    "\n",
    "# Driver code to call a function\n",
    "fun()"
   ]
  },
  {
   "cell_type": "markdown",
   "metadata": {
    "pycharm": {
     "name": "#%% md\n"
    }
   },
   "source": [
    "Defining and calling a function with parameters\n",
    "\n",
    "If you have experience in C/C++ or Java then you must be thinking about the return type of the function and data type of arguments.\n",
    " That is possible in Python as well (specifically for Python 3.5 and above).\n",
    "\n",
    "Syntax: Python Function with parameters\n",
    "\n",
    " def function_name(parameter: data_type) -> return_type:\n",
    "    \"\"\"Docstring\"\"\"\n",
    "    # body of the function\n",
    "    return expression\n",
    "\n",
    "The following example uses arguments that you will learn later in this article, so you can come back on it again if not understood.\n",
    "It is defined here for people with prior experience in languages like C/C++ or Java."
   ]
  },
  {
   "cell_type": "code",
   "execution_count": 1,
   "metadata": {
    "pycharm": {
     "name": "#%%\n"
    }
   },
   "outputs": [
    {
     "name": "stdout",
     "output_type": "stream",
     "text": [
      "The addition of 5 and 15 results 20.\n"
     ]
    }
   ],
   "source": [
    "def add(num1: int, num2: int) -> int:\n",
    "    \"\"\"Add two numbers\"\"\"\n",
    "    num3 = num1 + num2\n",
    "\n",
    "    return num3\n",
    "\n",
    "# Driver code\n",
    "num1, num2 = 5, 15\n",
    "ans = add(num1, num2)\n",
    "print(f\"The addition of {num1} and {num2} results {ans}.\")"
   ]
  },
  {
   "cell_type": "code",
   "execution_count": null,
   "metadata": {
    "pycharm": {
     "name": "#%%\n"
    }
   },
   "outputs": [],
   "source": []
  }
 ],
 "metadata": {
  "kernelspec": {
   "display_name": "Python 3 (ipykernel)",
   "language": "python",
   "name": "python3"
  },
  "language_info": {
   "codemirror_mode": {
    "name": "ipython",
    "version": 3
   },
   "file_extension": ".py",
   "mimetype": "text/x-python",
   "name": "python",
   "nbconvert_exporter": "python",
   "pygments_lexer": "ipython3",
   "version": "3.10.7"
  }
 },
 "nbformat": 4,
 "nbformat_minor": 1
}