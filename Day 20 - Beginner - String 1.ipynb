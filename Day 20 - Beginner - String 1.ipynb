{
 "cells": [
  {
   "attachments": {},
   "cell_type": "markdown",
   "metadata": {},
   "source": [
    "#  https://www.geeksforgeeks.org/python-string/\n",
    "\n",
    "# String\n",
    "\n",
    "A string is a data structure in Python that represents a sequence of characters. \n",
    "It is an immutable data type, meaning that once you have created a string, you cannot change it. Strings are used widely in many different applications, such as storing and manipulating text data, representing names, addresses, and other types of data that can be represented as text.\n",
    "\n",
    "\n",
    "Python does not have a character data type, a single character is simply a string with a length of 1. Square brackets can be used to access elements of the string.\n",
    "\n"
   ]
  },
  {
   "cell_type": "code",
   "execution_count": 1,
   "metadata": {},
   "outputs": [
    {
     "name": "stdout",
     "output_type": "stream",
     "text": [
      "String with the use of Single Quotes: \n",
      "Welcome to the Geeks World\n",
      "\n",
      "String with the use of Double Quotes: \n",
      "I'm a Geek\n",
      "\n",
      "String with the use of Triple Quotes: \n",
      "I'm a Geek and I live in a world of \"Geeks\"\n",
      "\n",
      "Creating a multiline String: \n",
      "Geeks\n",
      "            For\n",
      "            Life\n"
     ]
    }
   ],
   "source": [
    "\n",
    "\"\"\"Creating a String in Python\n",
    "Strings in Python can be created using single quotes or double quotes or even triple quotes. \"\"\"\n",
    "\n",
    "# Python Program for\n",
    "# Creation of String\n",
    " \n",
    "# Creating a String\n",
    "# with single Quotes\n",
    "String1 = 'Welcome to the Geeks World'\n",
    "print(\"String with the use of Single Quotes: \")\n",
    "print(String1)\n",
    " \n",
    "# Creating a String\n",
    "# with double Quotes\n",
    "String1 = \"I'm a Geek\"\n",
    "print(\"\\nString with the use of Double Quotes: \")\n",
    "print(String1)\n",
    " \n",
    "# Creating a String\n",
    "# with triple Quotes\n",
    "String1 = '''I'm a Geek and I live in a world of \"Geeks\"'''\n",
    "print(\"\\nString with the use of Triple Quotes: \")\n",
    "print(String1)\n",
    " \n",
    "# Creating String with triple\n",
    "# Quotes allows multiple lines\n",
    "String1 = '''Geeks\n",
    "            For\n",
    "            Life'''\n",
    "print(\"\\nCreating a multiline String: \")\n",
    "print(String1)"
   ]
  },
  {
   "cell_type": "code",
   "execution_count": 3,
   "metadata": {},
   "outputs": [
    {
     "name": "stdout",
     "output_type": "stream",
     "text": [
      "False\n"
     ]
    }
   ],
   "source": [
    "print(100 == \"100\")"
   ]
  },
  {
   "cell_type": "code",
   "execution_count": 15,
   "metadata": {},
   "outputs": [
    {
     "name": "stdout",
     "output_type": "stream",
     "text": [
      "Umakant\n",
      "is cool\n",
      "Umakant's wealth\n",
      "Umakant \t is rich\n"
     ]
    }
   ],
   "source": [
    "print('Umakant\\nis cool')\n",
    "print('Umakant\\'s wealth')\n",
    "print('Umakant \\t is rich')"
   ]
  },
  {
   "cell_type": "code",
   "execution_count": 20,
   "metadata": {},
   "outputs": [
    {
     "data": {
      "text/plain": [
       "97"
      ]
     },
     "execution_count": 20,
     "metadata": {},
     "output_type": "execute_result"
    }
   ],
   "source": [
    "ord(\"a\")  # ord() takes exactly one argument \n"
   ]
  },
  {
   "cell_type": "code",
   "execution_count": 22,
   "metadata": {},
   "outputs": [
    {
     "data": {
      "text/plain": [
       "129315"
      ]
     },
     "execution_count": 22,
     "metadata": {},
     "output_type": "execute_result"
    }
   ],
   "source": [
    "ord('🤣')"
   ]
  },
  {
   "cell_type": "code",
   "execution_count": 23,
   "metadata": {},
   "outputs": [
    {
     "data": {
      "text/plain": [
       "128525"
      ]
     },
     "execution_count": 23,
     "metadata": {},
     "output_type": "execute_result"
    }
   ],
   "source": [
    "ord('😍')"
   ]
  },
  {
   "cell_type": "code",
   "execution_count": 19,
   "metadata": {},
   "outputs": [
    {
     "data": {
      "text/plain": [
       "38"
      ]
     },
     "execution_count": 19,
     "metadata": {},
     "output_type": "execute_result"
    }
   ],
   "source": [
    "ord(\"&\")\n"
   ]
  },
  {
   "cell_type": "code",
   "execution_count": 18,
   "metadata": {},
   "outputs": [
    {
     "data": {
      "text/plain": [
       "37"
      ]
     },
     "execution_count": 18,
     "metadata": {},
     "output_type": "execute_result"
    }
   ],
   "source": [
    "ord(\"%\")\n"
   ]
  },
  {
   "cell_type": "code",
   "execution_count": 24,
   "metadata": {},
   "outputs": [
    {
     "name": "stdout",
     "output_type": "stream",
     "text": [
      "U\n",
      "m\n",
      "a\n",
      "k\n",
      "a\n",
      "n\n",
      "t\n"
     ]
    }
   ],
   "source": [
    "# Take a string as input and print all charecter in new line \n",
    "\n",
    "'''Certainly! Here's an example Python program that takes a string as input and prints each character on a new line:'''\n",
    "\n",
    "# take input from the user\n",
    "string = input(\"Enter a string: \")\n",
    "\n",
    "# print each character on a new line\n",
    "for char in string:\n",
    "    print(char)\n"
   ]
  },
  {
   "cell_type": "markdown",
   "metadata": {},
   "source": [
    "In this program, we use the input() function to get a string input from the user. We then use a for loop to iterate through each character in the string, and print each character on a new line using the print() function.\n",
    "\n",
    "You can try running this program and entering any string input to see the output."
   ]
  },
  {
   "cell_type": "code",
   "execution_count": 25,
   "metadata": {},
   "outputs": [
    {
     "name": "stdout",
     "output_type": "stream",
     "text": [
      "U\n",
      "m\n",
      "a\n",
      "k\n",
      "a\n",
      "n\n",
      "t\n"
     ]
    }
   ],
   "source": [
    "# Problem 1 \n",
    "my_name = input()\n",
    "for i in my_name:\n",
    "    print(i)"
   ]
  },
  {
   "cell_type": "code",
   "execution_count": 26,
   "metadata": {},
   "outputs": [
    {
     "data": {
      "text/plain": [
       "'U'"
      ]
     },
     "execution_count": 26,
     "metadata": {},
     "output_type": "execute_result"
    }
   ],
   "source": [
    "my_name[0]"
   ]
  },
  {
   "cell_type": "code",
   "execution_count": 27,
   "metadata": {},
   "outputs": [
    {
     "data": {
      "text/plain": [
       "'k'"
      ]
     },
     "execution_count": 27,
     "metadata": {},
     "output_type": "execute_result"
    }
   ],
   "source": [
    "my_name[3]"
   ]
  },
  {
   "cell_type": "code",
   "execution_count": 30,
   "metadata": {},
   "outputs": [
    {
     "name": "stdout",
     "output_type": "stream",
     "text": [
      "18\n"
     ]
    }
   ],
   "source": [
    "city  =\"Mumbai\"\n",
    "print(len(city*3))"
   ]
  },
  {
   "attachments": {},
   "cell_type": "markdown",
   "metadata": {},
   "source": [
    "\n",
    "\n"
   ]
  },
  {
   "cell_type": "code",
   "execution_count": 44,
   "metadata": {},
   "outputs": [
    {
     "name": "stdout",
     "output_type": "stream",
     "text": [
      "Initial String: \n",
      "GeeksForGeeks\n",
      "\n",
      "Slicing characters from 3-12: \n",
      "ksForGeek\n",
      "\n",
      "Slicing characters between 3rd and 2nd last character: \n",
      "ksForGee\n"
     ]
    }
   ],
   "source": [
    "'''String Slicing\n",
    "To access a range of characters in the String, \n",
    "the method of slicing is used. \n",
    "Slicing in a String is done by using a Slicing operator (colon). '''\n",
    "\n",
    "\n",
    "# Python Program to\n",
    "# demonstrate String slicing\n",
    " \n",
    "# Creating a String\n",
    "String1 = \"GeeksForGeeks\"\n",
    "print(\"Initial String: \")\n",
    "print(String1)\n",
    " \n",
    "# Printing 3rd to 12th character\n",
    "print(\"\\nSlicing characters from 3-12: \")\n",
    "print(String1[3:12])\n",
    " \n",
    "# Printing characters between\n",
    "# 3rd and 2nd last character\n",
    "print(\"\\nSlicing characters between \" +\n",
    "      \"3rd and 2nd last character: \")\n",
    "print(String1[3:-2])"
   ]
  },
  {
   "cell_type": "code",
   "execution_count": 43,
   "metadata": {},
   "outputs": [
    {
     "name": "stdout",
     "output_type": "stream",
     "text": [
      "Intital String\n",
      "IamUmakant\n",
      "Um\n"
     ]
    }
   ],
   "source": [
    "String2 = \"IamUmakant\"\n",
    "print(\"Intital String\")\n",
    "print(String2)\n",
    "# print(String2[1:3])\n"
   ]
  },
  {
   "cell_type": "code",
   "execution_count": 49,
   "metadata": {},
   "outputs": [
    {
     "data": {
      "text/plain": [
       "'Umakant'"
      ]
     },
     "execution_count": 49,
     "metadata": {},
     "output_type": "execute_result"
    }
   ],
   "source": [
    "# totaal charecter in string is 18\n",
    "string3 = \"My Name is Umakant\"\n",
    "string3[:11] # positve slicing\n"
   ]
  },
  {
   "cell_type": "code",
   "execution_count": 48,
   "metadata": {},
   "outputs": [
    {
     "data": {
      "text/plain": [
       "'Umakant'"
      ]
     },
     "execution_count": 48,
     "metadata": {},
     "output_type": "execute_result"
    }
   ],
   "source": [
    "string3[-7:] # negative slicing"
   ]
  },
  {
   "cell_type": "code",
   "execution_count": 51,
   "metadata": {},
   "outputs": [
    {
     "data": {
      "text/plain": [
       "'My Name is'"
      ]
     },
     "execution_count": 51,
     "metadata": {},
     "output_type": "execute_result"
    }
   ],
   "source": [
    "string3[0:10:1]"
   ]
  },
  {
   "cell_type": "code",
   "execution_count": 54,
   "metadata": {},
   "outputs": [
    {
     "data": {
      "text/plain": [
       "'tnakamU si emaN yM'"
      ]
     },
     "execution_count": 54,
     "metadata": {},
     "output_type": "execute_result"
    }
   ],
   "source": [
    "string3[::-1] # we reverse the string"
   ]
  },
  {
   "cell_type": "code",
   "execution_count": 55,
   "metadata": {},
   "outputs": [
    {
     "data": {
      "text/plain": [
       "'NITIN'"
      ]
     },
     "execution_count": 55,
     "metadata": {},
     "output_type": "execute_result"
    }
   ],
   "source": [
    "# Palindrom String\n",
    "\n",
    "string4 = \"NITIN\"\n",
    "string4[::1]"
   ]
  },
  {
   "cell_type": "code",
   "execution_count": null,
   "metadata": {},
   "outputs": [],
   "source": [
    "\"\"\"\"In this code, we first convert the input string to lowercase and remove all non-alphanumeric characters using the isalnum() method. \n",
    "We then compare the resulting string with its reverse using Python's slicing syntax [::] and return True if they are equal. \n",
    "The slicing syntax [::] creates a new string with all characters from the original string, but in reverse order.\"\"\"\n",
    "\n",
    "\n",
    "def is_palindrome(s):\n",
    "    \"\"\"\n",
    "    This function takes a string as input and returns True if the string is a palindrome,\n",
    "    and False otherwise.\n",
    "    \"\"\"\n",
    "    s = s.lower()  # Convert the string to lowercase to make the comparison case-insensitive.\n",
    "    s = ''.join(c for c in s if c.isalnum())  # Remove all non-alphanumeric characters from the string.\n",
    "    return s == s[::-1]  # Compare the string with its reverse and return True if they are equal.\n",
    "\n",
    "# Example usage:\n",
    "s1 = \"A man, a plan, a canal: Panama\"\n",
    "print(is_palindrome(s1))  # True\n",
    "\n",
    "s2 = \"race a car\"\n",
    "print(is_palindrome(s2))  # False"
   ]
  },
  {
   "cell_type": "code",
   "execution_count": null,
   "metadata": {},
   "outputs": [],
   "source": [
    "# function which return reverse of a string\n",
    "  \n",
    "def isPalindrome(s):\n",
    "    return s == s[::-1]\n",
    "  \n",
    "  \n",
    "# Driver code\n",
    "s = \"malayalam\"\n",
    "ans = isPalindrome(s)\n",
    "  \n",
    "if ans:\n",
    "    print(\"Yes\")\n",
    "else:\n",
    "    print(\"No\")"
   ]
  },
  {
   "cell_type": "code",
   "execution_count": 56,
   "metadata": {},
   "outputs": [
    {
     "name": "stdout",
     "output_type": "stream",
     "text": [
      "is palindrome\n"
     ]
    }
   ],
   "source": [
    "user_string = str(input())\n",
    "if user_string ==user_string[::-1]:\n",
    "    print(\"is palindrome\")\n",
    "else:\n",
    "    print(\"not palindrome\")\n"
   ]
  },
  {
   "attachments": {},
   "cell_type": "markdown",
   "metadata": {},
   "source": [
    "# Deleting/Updating from a String\n",
    "In Python, the Updation or deletion of characters from a String is not allowed.\n",
    "This will cause an error because item assignment or item deletion from a String is not supported.\n",
    "Although deletion of the entire String is possible with the use of a built-in del keyword. \n",
    "This is because Strings are immutable, hence elements of a String cannot be changed once it has been assigned. \n",
    "Only new strings can be reassigned to the same name. "
   ]
  },
  {
   "cell_type": "code",
   "execution_count": 58,
   "metadata": {},
   "outputs": [
    {
     "name": "stdout",
     "output_type": "stream",
     "text": [
      "Initial String: \n",
      "Hello, I'm a Geek\n",
      "\n",
      "Updating character at 2nd Index: \n",
      "Heplo, I'm a Geek\n",
      "Heplo, I'm a Geek\n"
     ]
    }
   ],
   "source": [
    "# Python Program to Update\n",
    "# character of a String\n",
    " \n",
    "String1 = \"Hello, I'm a Geek\"\n",
    "print(\"Initial String: \")\n",
    "print(String1)\n",
    " \n",
    "# Updating a character of the String\n",
    "## As python strings are immutable, they don't support item updation directly\n",
    "### there are following two ways\n",
    "#1\n",
    "list1 = list(String1)\n",
    "list1[2] = 'p'\n",
    "String2 = ''.join(list1)\n",
    "print(\"\\nUpdating character at 2nd Index: \")\n",
    "print(String2)\n",
    " \n",
    "#2\n",
    "String3 = String1[0:2] + 'p' + String1[3:]\n",
    "print(String3)"
   ]
  },
  {
   "cell_type": "code",
   "execution_count": 63,
   "metadata": {},
   "outputs": [
    {
     "name": "stdout",
     "output_type": "stream",
     "text": [
      "Initial String:\n",
      "My Name is Umakant\n",
      "Updated string is: \n",
      "Your name is Umakant\n"
     ]
    }
   ],
   "source": [
    "string3 = \"My Name is Umakant\"\n",
    "print(\"Initial String:\")\n",
    "print(string3)\n",
    "\n",
    "# to update the charecter or word, first convert to list \n",
    "\n",
    "list1 = list(string3)\n",
    "list1[0:11] = \"Your name is \"\n",
    "string4 = ''.join(list1)\n",
    "print(\"Updated string is: \")\n",
    "print(string4)\n",
    "\n"
   ]
  },
  {
   "cell_type": "code",
   "execution_count": 72,
   "metadata": {},
   "outputs": [
    {
     "name": "stdout",
     "output_type": "stream",
     "text": [
      "Initial String:\n",
      "My name is Umakant\n",
      "Updated string is:\n",
      "Your name is Umakant\n"
     ]
    }
   ],
   "source": [
    "# Another way \n",
    "string3 = \"My name is Umakant\"\n",
    "print(\"Initial String:\")\n",
    "print(string3)\n",
    "\n",
    "string4 =  \"Your name is \" + string3[11:]\n",
    "print(\"Updated string is:\")\n",
    "print(string4)"
   ]
  },
  {
   "cell_type": "code",
   "execution_count": 78,
   "metadata": {},
   "outputs": [
    {
     "name": "stdout",
     "output_type": "stream",
     "text": [
      "t\n"
     ]
    }
   ],
   "source": [
    "l = [\"umakant\", \"Bopche\"]\n",
    "print(l[0][-1])"
   ]
  },
  {
   "cell_type": "code",
   "execution_count": 82,
   "metadata": {},
   "outputs": [
    {
     "name": "stdout",
     "output_type": "stream",
     "text": [
      "48\n"
     ]
    }
   ],
   "source": [
    "name = input()\n",
    "for i in name:\n",
    "    print(ord(i))"
   ]
  },
  {
   "cell_type": "code",
   "execution_count": 83,
   "metadata": {},
   "outputs": [
    {
     "data": {
      "text/plain": [
       "'abracadabra'"
      ]
     },
     "execution_count": 83,
     "metadata": {},
     "output_type": "execute_result"
    }
   ],
   "source": [
    "# Quizz\n",
    "def mystery(s):\n",
    "    i = len(s)//2\n",
    "    a = s[:i]\n",
    "    b = s[i:]\n",
    "    return a+b\n",
    "mystery(\"abracadabra\")"
   ]
  },
  {
   "cell_type": "code",
   "execution_count": 105,
   "metadata": {},
   "outputs": [
    {
     "name": "stdout",
     "output_type": "stream",
     "text": [
      "2\n"
     ]
    }
   ],
   "source": [
    "'''Python program to count upper and lower case characters without using inbuilt functions'''\n",
    "# https://www.geeksforgeeks.org/python-program-count-upper-lower-case-characters-without-using-inbuilt-functions/\n",
    "\n",
    "\n"
   ]
  },
  {
   "cell_type": "code",
   "execution_count": null,
   "metadata": {},
   "outputs": [],
   "source": [
    "string_name = input()\n",
    "count = 0\n",
    "for i in string_name:\n",
    "    if ord(i)>=65 and ord(i)<=90:\n",
    "        count += 1\n",
    "print(count)"
   ]
  },
  {
   "cell_type": "code",
   "execution_count": 107,
   "metadata": {},
   "outputs": [
    {
     "name": "stdout",
     "output_type": "stream",
     "text": [
      "2\n"
     ]
    }
   ],
   "source": [
    "string_name = input()\n",
    "count = 0\n",
    "for i in string_name:\n",
    "    if i>=\"A\" and i<=\"Z\":\n",
    "        count += 1\n",
    "print(count)"
   ]
  },
  {
   "cell_type": "code",
   "execution_count": 109,
   "metadata": {},
   "outputs": [
    {
     "name": "stdout",
     "output_type": "stream",
     "text": [
      "1 6\n"
     ]
    }
   ],
   "source": [
    "string_name = input()\n",
    "upper_count = 0\n",
    "lower_count = 0\n",
    "for i in string_name:\n",
    "    if i>=\"A\" and i<=\"Z\":\n",
    "        upper_count += 1\n",
    "    elif i>=\"a\" and i<=\"z\":\n",
    "        lower_count += 1\n",
    "\n",
    "print(upper_count, lower_count)"
   ]
  },
  {
   "cell_type": "code",
   "execution_count": 111,
   "metadata": {},
   "outputs": [
    {
     "name": "stdout",
     "output_type": "stream",
     "text": [
      "I am UMAKANT\n",
      "Uppercase count: 8\n",
      "Lowercase count: 2\n"
     ]
    }
   ],
   "source": [
    "'''Here's a Python code to count the number of uppercase and lowercase letters in a given string using the .isupper() method:'''\n",
    "\n",
    "def count_upper_lower(s):\n",
    "    \"\"\"\n",
    "    This function takes a string as input and returns a tuple with the count of uppercase\n",
    "    and lowercase letters in the string, respectively.\n",
    "    \"\"\"\n",
    "    upper_count = sum(1 for c in s if c.isupper())\n",
    "    lower_count = sum(1 for c in s if c.islower())\n",
    "    return (upper_count, lower_count)\n",
    "\n",
    "# Example usage:\n",
    "s = input()\n",
    "print(s)\n",
    "upper, lower = count_upper_lower(s)\n",
    "print(\"Uppercase count:\", upper)  \n",
    "print(\"Lowercase count:\", lower)  "
   ]
  },
  {
   "cell_type": "code",
   "execution_count": null,
   "metadata": {},
   "outputs": [],
   "source": [
    "'''In this code, we define a function count_upper_lower() that takes \n",
    "a string as input and initializes two counters upper_count and lower_count to 0. \n",
    "We then iterate over each character c in the string and use the isupper() \n",
    "and islower() methods to check if the character is uppercase or lowercase, respectively. \n",
    "If the character is uppercase, we increment the upper_count counter, \n",
    "and if it is lowercase, we increment the lower_count counter.\n",
    "\n",
    "\n",
    "Finally, we return a tuple containing the counts of uppercase and lowercase letters, respectively. \n",
    "In the example usage, we call the function with a sample string and print the results.'''\n",
    "\n",
    "def count_upper_lower(s):\n",
    "    \"\"\"\n",
    "    This function takes a string as input and returns a tuple with the count of uppercase\n",
    "    and lowercase letters in the string, respectively.\n",
    "    \"\"\"\n",
    "    upper_count = 0\n",
    "    lower_count = 0\n",
    "    for c in s:\n",
    "        if c.isupper():\n",
    "            upper_count += 1\n",
    "        elif c.islower():\n",
    "            lower_count += 1\n",
    "    return (upper_count, lower_count)\n",
    "\n",
    "# Example usage:\n",
    "s = \"The Quick Brown Fox Jumps Over The Lazy Dog\"\n",
    "upper, lower = count_upper_lower(s)\n",
    "print(\"Uppercase count:\", upper)  # 8\n",
    "print(\"Lowercase count:\", lower)  # 24"
   ]
  },
  {
   "cell_type": "code",
   "execution_count": 112,
   "metadata": {},
   "outputs": [
    {
     "data": {
      "text/plain": [
       "False"
      ]
     },
     "execution_count": 112,
     "metadata": {},
     "output_type": "execute_result"
    }
   ],
   "source": [
    "# Quizz\n",
    "def mystery(s):\n",
    "    i = len(s)//2\n",
    "    a = s[:i]\n",
    "    b =s[i:]\n",
    "    return a[0].isupper()\n",
    "mystery(\"abracadabra\")"
   ]
  },
  {
   "cell_type": "code",
   "execution_count": null,
   "metadata": {},
   "outputs": [],
   "source": [
    "# Quizz\n",
    "def mystery(s):\n",
    "    i = len(s)//2\n",
    "    a = s[:i]\n",
    "    b =s[i:]\n",
    "    return a[0].isupper()\n",
    "mystery(\"abracadabra\")"
   ]
  },
  {
   "cell_type": "code",
   "execution_count": 113,
   "metadata": {},
   "outputs": [
    {
     "data": {
      "text/plain": [
       "True"
      ]
     },
     "execution_count": 113,
     "metadata": {},
     "output_type": "execute_result"
    }
   ],
   "source": [
    "# Quizz\n",
    "def mystery(s):\n",
    "    i = len(s)//2\n",
    "    a = s[:i]\n",
    "    b =s[i:]\n",
    "    return a[0].islower()\n",
    "mystery(\"abracadabra\")"
   ]
  },
  {
   "cell_type": "code",
   "execution_count": 115,
   "metadata": {},
   "outputs": [
    {
     "data": {
      "text/plain": [
       "'ABRACadabra'"
      ]
     },
     "execution_count": 115,
     "metadata": {},
     "output_type": "execute_result"
    }
   ],
   "source": [
    "# Quizz\n",
    "def mystery(s):\n",
    "    i = len(s)//2\n",
    "    a = s[:i]\n",
    "    b =s[i:]\n",
    "    return a.upper() + b.lower()\n",
    "mystery(\"abracadabra\")"
   ]
  },
  {
   "cell_type": "code",
   "execution_count": 116,
   "metadata": {},
   "outputs": [
    {
     "data": {
      "text/plain": [
       "'ABRACADABRA'"
      ]
     },
     "execution_count": 116,
     "metadata": {},
     "output_type": "execute_result"
    }
   ],
   "source": [
    "# Quizz\n",
    "def mystery(s):\n",
    "    i = len(s)//2\n",
    "    a = s[:i]\n",
    "    b =s[i:]\n",
    "    return a.upper() + b.upper()\n",
    "mystery(\"abracadabra\")"
   ]
  },
  {
   "cell_type": "code",
   "execution_count": 122,
   "metadata": {},
   "outputs": [
    {
     "name": "stdout",
     "output_type": "stream",
     "text": [
      "0\n",
      "1\n",
      "1\n",
      "2\n",
      "3\n",
      "5\n",
      "8\n"
     ]
    }
   ],
   "source": [
    "def fibbbonaci(n):\n",
    "    i = 3\n",
    "    x = 0\n",
    "    y = 1\n",
    "    print(x)\n",
    "    print(y)\n",
    "    while i<n:\n",
    "        f = x+y\n",
    "        x = y\n",
    "        y = f\n",
    "        print (f)\n",
    "        i +=1\n",
    "fibbbonaci(8)"
   ]
  },
  {
   "cell_type": "code",
   "execution_count": 123,
   "metadata": {},
   "outputs": [
    {
     "data": {
      "text/plain": [
       "3"
      ]
     },
     "execution_count": 123,
     "metadata": {},
     "output_type": "execute_result"
    }
   ],
   "source": [
    "lst = [2, 5, 6, 7, 3, 4, 5, 2,3 ,4, 8, 9, 7, 6, 5, 4]\n",
    "lst.count(5)"
   ]
  },
  {
   "cell_type": "code",
   "execution_count": 128,
   "metadata": {},
   "outputs": [
    {
     "name": "stdout",
     "output_type": "stream",
     "text": [
      "[3, 2, 1, 0]\n"
     ]
    }
   ],
   "source": [
    "a = [3, 0, 1, 2]\n",
    "for i in range(len(a)):\n",
    "    b =a[i]\n",
    "    c = i\n",
    "    i = b\n",
    "    a[i]= c\n",
    "print(a)"
   ]
  }
 ],
 "metadata": {
  "kernelspec": {
   "display_name": "venv",
   "language": "python",
   "name": "python3"
  },
  "language_info": {
   "codemirror_mode": {
    "name": "ipython",
    "version": 3
   },
   "file_extension": ".py",
   "mimetype": "text/x-python",
   "name": "python",
   "nbconvert_exporter": "python",
   "pygments_lexer": "ipython3",
   "version": "3.10.7"
  },
  "orig_nbformat": 4
 },
 "nbformat": 4,
 "nbformat_minor": 2
}
