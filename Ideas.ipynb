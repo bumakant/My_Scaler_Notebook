{
 "cells": [
  {
   "cell_type": "code",
   "execution_count": 3,
   "metadata": {
    "collapsed": true
   },
   "outputs": [
    {
     "name": "stdout",
     "output_type": "stream",
     "text": [
      "one hundred ninety eight\n"
     ]
    }
   ],
   "source": [
    "def int_to_words(num):\n",
    "    # Define lists of words for ones, tens, hundreds and thousands places\n",
    "    ones = ['','one','two','three','four','five','six','seven','eight','nine']\n",
    "    tens = ['','ten','twenty','thirty','forty','fifty','sixty','seventy','eighty','ninety']\n",
    "    hundreds = ['','one hundred','two hundred','three hundred','four hundred','five hundred',\n",
    "                'six hundred','seven hundred','eight hundred','nine hundred']\n",
    "    thousands = ['','one thousand','two thousand','three thousand','four thousand','five thousand',\n",
    "                 'six thousand','seven thousand','eight thousand','nine thousand']\n",
    "\n",
    "    # Handle special case for zero\n",
    "    if num == 0:\n",
    "        return 'zero'\n",
    "\n",
    "    # Split the number into thousands, hundreds, tens and ones\n",
    "    thousands_place = num // 1000\n",
    "    num %= 1000\n",
    "    hundreds_place = num // 100\n",
    "    num %= 100\n",
    "    tens_place = num // 10\n",
    "    num %= 10\n",
    "    ones_place = num\n",
    "\n",
    "    # Convert each place value into words\n",
    "    result = ''\n",
    "    if thousands_place > 0:\n",
    "        result += thousands[thousands_place] + ' '\n",
    "    if hundreds_place > 0:\n",
    "        result += hundreds[hundreds_place] + ' '\n",
    "    if tens_place > 0:\n",
    "        if tens_place == 1 and ones_place > 0:\n",
    "            result += ones[10 + ones_place] + ' '\n",
    "        else:\n",
    "            result += tens[tens_place] + ' '\n",
    "    if ones_place > 0 and tens_place != 1:\n",
    "        result += ones[ones_place] + ' '\n",
    "\n",
    "    return result.strip() # Remove trailing whitespace\n",
    "\n",
    "\n",
    "# Test the function\n",
    "print(int_to_words(int(input())))\n",
    "\n"
   ]
  },
  {
   "cell_type": "code",
   "execution_count": null,
   "metadata": {},
   "outputs": [],
   "source": [
    "n =  int(input())\n",
    "\n",
    "for num in range(1, n+1):\n",
    "    if num > 1:\n",
    "        for i in range(2, int(num**(0.5)+1)):\n",
    "            if num % i ==0:\n",
    "                break\n",
    "        else:\n",
    "            print(num)"
   ]
  },
  {
   "cell_type": "code",
   "execution_count": 8,
   "metadata": {},
   "outputs": [],
   "source": [
    "A = int(input())\n",
    "\n",
    "for num in range(1, A+1):\n",
    "    divisor = [i for i in range(1, num) if num % i ==0]\n",
    "    if sum(divisor) ==num:\n",
    "        print(num)"
   ]
  },
  {
   "cell_type": "code",
   "execution_count": 2,
   "metadata": {},
   "outputs": [
    {
     "name": "stdout",
     "output_type": "stream",
     "text": [
      "random string: 0, 8, 9, 6, 4, 2, 1, 3, 6, 5\n"
     ]
    }
   ],
   "source": [
    "'''In Python, you can use the random module to generate a random string.\n",
    "\n",
    "Here's an example code snippet that demonstrates how to print a random string in Python:'''\n",
    "\n",
    "'''In Python, you can use the random module to generate a random string.\n",
    "\n",
    "Here's an example code snippet that demonstrates how to print a random string in Python:\n",
    "\n",
    "lua\n",
    "Copy code\n",
    "import random\n",
    "import string\n",
    "\n",
    "# Define the length of the random string\n",
    "length = 10\n",
    "\n",
    "# Generate a random string\n",
    "random_string = ''.join(random.choices(string.ascii_lowercase + string.digits, k=length))\n",
    "\n",
    "# Print the random string\n",
    "print(\"Random string:\", random_string)\n",
    "In this example, we import the random module and the string module. \n",
    "The string module provides constants containing lowercase and uppercase letters, digits, and punctuation characters.\n",
    "\n",
    "We define the length of the random string as length = 10. \n",
    "You can change the value of length to generate a random string of a different length.\n",
    "\n",
    "We generate a random string using the random.choices() function, \n",
    "which takes two parameters: a sequence of characters to choose from and the number of characters to choose. \n",
    "In this case, we use string.ascii_lowercase + string.digits as the sequence of characters, \n",
    "which includes all lowercase letters and digits.\n",
    "\n",
    "Finally, we join the randomly chosen characters into a string using the join() method, \n",
    "and print the random string using the print() function.'''\n",
    "\n",
    "import random\n",
    "import string\n",
    "# define length of string \n",
    "length  =  10\n",
    " \n",
    "# Generate random string \n",
    "random_string = ', '.join(random.choices(string.digits, k=length))\n",
    "\n",
    "# print the random string \n",
    "print(\"random string:\", random_string)"
   ]
  },
  {
   "cell_type": "code",
   "execution_count": 4,
   "metadata": {},
   "outputs": [
    {
     "name": "stdout",
     "output_type": "stream",
     "text": [
      "False\n"
     ]
    }
   ],
   "source": [
    "# quizz\n",
    "\n",
    "print(\"Sa\" in \"satish\")"
   ]
  },
  {
   "cell_type": "code",
   "execution_count": null,
   "metadata": {},
   "outputs": [],
   "source": [
    "'''In this example, we use the input() function to take user input as a string. \n",
    "Then we use the split() method to split the string into a list of strings, \n",
    "which we convert to a set of integers using the map() function and the int() constructor.\n",
    "\n",
    "Finally, we print the set using the print() function.'''\n",
    "\n",
    "s = {int(x) for x in input(\"Enter comma-separated values: \").split(\",\")}\n",
    "print(s)"
   ]
  },
  {
   "cell_type": "code",
   "execution_count": null,
   "metadata": {},
   "outputs": [],
   "source": [
    "def unvisitedLeaves(N, leaves, frogs):\n",
    "    visited = [False] * leaves\n",
    "    for frog in frogs:\n",
    "        for i in range(frog-1, leaves, frog):\n",
    "            visited[i] = True\n",
    "    return visited.count(False)\n",
    "\n",
    "N = 3\n",
    "leaves = 4\n",
    "frogs = [3, 2, 4]\n",
    "print(unvisitedLeaves(N, leaves, frogs))"
   ]
  }
 ],
 "metadata": {
  "kernelspec": {
   "display_name": "Python 3",
   "language": "python",
   "name": "python3"
  },
  "language_info": {
   "codemirror_mode": {
    "name": "ipython",
    "version": 3
   },
   "file_extension": ".py",
   "mimetype": "text/x-python",
   "name": "python",
   "nbconvert_exporter": "python",
   "pygments_lexer": "ipython3",
   "version": "3.10.7"
  }
 },
 "nbformat": 4,
 "nbformat_minor": 0
}
