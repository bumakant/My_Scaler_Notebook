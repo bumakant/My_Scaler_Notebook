{
 "cells": [
  {
   "attachments": {},
   "cell_type": "markdown",
   "metadata": {},
   "source": [
    "Formatting of Strings\n",
    "Strings in Python can be formatted with the use of format() method which is a very versatile and powerful tool for formatting Strings. \n",
    "Format method in String contains curly braces {} as placeholders which can hold arguments according to position or keyword to specify the order.\n"
   ]
  },
  {
   "cell_type": "code",
   "execution_count": 2,
   "metadata": {},
   "outputs": [
    {
     "name": "stdout",
     "output_type": "stream",
     "text": [
      "Print String in default order: \n",
      "Geeks For Life\n",
      "\n",
      "Print String in Positional order: \n",
      "For Geeks Life\n",
      "\n",
      "Print String in order of Keywords: \n",
      "Life For Geeks\n"
     ]
    }
   ],
   "source": [
    "# Python Program for\n",
    "# Formatting of Strings\n",
    "\n",
    "# Default order\n",
    "String1 = \"{} {} {}\".format('Geeks', 'For', 'Life')\n",
    "print(\"Print String in default order: \")\n",
    "print(String1)\n",
    "\n",
    "# Positional Formatting\n",
    "String1 = \"{1} {0} {2}\".format('Geeks', 'For', 'Life')\n",
    "print(\"\\nPrint String in Positional order: \")\n",
    "print(String1)\n",
    "\n",
    "# Keyword Formatting\n",
    "String1 = \"{l} {f} {g}\".format(g='Geeks', f='For', l='Life')\n",
    "print(\"\\nPrint String in order of Keywords: \")\n",
    "print(String1)\n"
   ]
  },
  {
   "cell_type": "code",
   "execution_count": 7,
   "metadata": {},
   "outputs": [
    {
     "name": "stdout",
     "output_type": "stream",
     "text": [
      "Yello Hello\n"
     ]
    }
   ],
   "source": [
    "a = \"Hello\"\n",
    "b = a\n",
    "a = \"Yello\"\n",
    "print(a, b)"
   ]
  },
  {
   "cell_type": "code",
   "execution_count": 12,
   "metadata": {},
   "outputs": [
    {
     "name": "stdout",
     "output_type": "stream",
     "text": [
      "29\n"
     ]
    },
    {
     "data": {
      "text/plain": [
       "'Switch off'"
      ]
     },
     "execution_count": 12,
     "metadata": {},
     "output_type": "execute_result"
    }
   ],
   "source": [
    "s = \"Alexa, Switch off the lights.\"\n",
    "print(len(s))\n",
    "s[7:17]"
   ]
  },
  {
   "cell_type": "code",
   "execution_count": 13,
   "metadata": {},
   "outputs": [
    {
     "name": "stdout",
     "output_type": "stream",
     "text": [
      "*\n",
      "**\n",
      "***\n",
      "****\n",
      "*****\n"
     ]
    }
   ],
   "source": [
    "# Define a string variable to use as the pattern\n",
    "pattern = \"*\"\n",
    "\n",
    "# Define the number of rows in the pattern\n",
    "num_rows = 5\n",
    "\n",
    "# Loop through the rows and print the pattern\n",
    "for i in range(num_rows):\n",
    "    print(pattern * (i+1))"
   ]
  },
  {
   "cell_type": "code",
   "execution_count": 16,
   "metadata": {},
   "outputs": [
    {
     "name": "stdout",
     "output_type": "stream",
     "text": [
      "* * * * * \n",
      "* * * * * \n",
      "* * * * * \n",
      "* * * * * \n",
      "* * * * * \n"
     ]
    }
   ],
   "source": [
    "for i in range(5):\n",
    "    for j in range(5):\n",
    "        print(\"*\", end=' ')\n",
    "    print()"
   ]
  },
  {
   "cell_type": "code",
   "execution_count": 17,
   "metadata": {},
   "outputs": [
    {
     "name": "stdout",
     "output_type": "stream",
     "text": [
      "* * * * * \n",
      "* * * * * \n",
      "* * * * * \n",
      "* * * * * \n",
      "* * * * * \n"
     ]
    }
   ],
   "source": [
    "# Define a string variable to use as the pattern\n",
    "pattern = \"* \"\n",
    "\n",
    "# Define the number of rows and columns in the pattern\n",
    "num_rows = 5\n",
    "num_cols = 5\n",
    "\n",
    "# Loop through the rows and print the pattern for each row\n",
    "for i in range(num_rows):\n",
    "    print(pattern * num_cols)\n"
   ]
  },
  {
   "cell_type": "code",
   "execution_count": 33,
   "metadata": {},
   "outputs": [
    {
     "name": "stdout",
     "output_type": "stream",
     "text": [
      "# # # # # \n",
      "# # # # # \n",
      "# # # # # \n",
      "# # # # # \n",
      "# # # # # \n"
     ]
    }
   ],
   "source": [
    "for i in range(5):\n",
    "    print('# ' *5)\n",
    "    "
   ]
  },
  {
   "cell_type": "code",
   "execution_count": 40,
   "metadata": {},
   "outputs": [
    {
     "name": "stdout",
     "output_type": "stream",
     "text": [
      "My Name is Umakant and I am 29 year old.\n"
     ]
    }
   ],
   "source": [
    "name = str(input())\n",
    "age = str(input())\n",
    "print(\"My Name is \" + name + \" and I am \" + age + \" year old.\")"
   ]
  },
  {
   "cell_type": "code",
   "execution_count": 41,
   "metadata": {},
   "outputs": [
    {
     "name": "stdout",
     "output_type": "stream",
     "text": [
      "My Name is Umakant and I am 29 year old.\n"
     ]
    }
   ],
   "source": [
    "name = str(input())\n",
    "age = int(input())\n",
    "print(\"My Name is \" + name + \" and I am \" + str(age) + \" year old.\")"
   ]
  },
  {
   "cell_type": "code",
   "execution_count": 44,
   "metadata": {},
   "outputs": [
    {
     "name": "stdout",
     "output_type": "stream",
     "text": [
      "Namste, my name is Umakant . my age is 28 years old\n"
     ]
    }
   ],
   "source": [
    "name = str(input())\n",
    "age = int(input())\n",
    "print(\"Namste, my name is {}. my age is {} years old\".format(name, str(age)))"
   ]
  },
  {
   "cell_type": "code",
   "execution_count": 47,
   "metadata": {},
   "outputs": [
    {
     "name": "stdout",
     "output_type": "stream",
     "text": [
      "Hey, my name is {Umakant}, and my age is {28}\n",
      "Hey, my name is Umakant , and my age is 28\n"
     ]
    }
   ],
   "source": [
    "# f-String\n",
    "print(\"Hey, my name is {Umakant}, and my age is {28}\")\n",
    "print(f\"Hey, my name is {name}, and my age is {str(age)}\") # f string with variables \n"
   ]
  },
  {
   "cell_type": "code",
   "execution_count": 85,
   "metadata": {},
   "outputs": [
    {
     "name": "stdout",
     "output_type": "stream",
     "text": [
      "I want 3 pieces of item 567 for 49.95 dollars.\n"
     ]
    }
   ],
   "source": [
    "quantity = 3\n",
    "itemno = 567\n",
    "price = 49.95\n",
    "myorder = \"I want {} pieces of item {} for {} dollars.\"\n",
    "print(myorder.format(quantity, itemno, price))"
   ]
  },
  {
   "cell_type": "code",
   "execution_count": 49,
   "metadata": {},
   "outputs": [
    {
     "name": "stdout",
     "output_type": "stream",
     "text": [
      "Hello, I am Umakant from Tirora.\n",
      "32\n"
     ]
    }
   ],
   "source": [
    "string_name = str(input())\n",
    "print(string_name)\n",
    "print(len(string_name))"
   ]
  },
  {
   "cell_type": "code",
   "execution_count": 60,
   "metadata": {},
   "outputs": [
    {
     "name": "stdout",
     "output_type": "stream",
     "text": [
      "I am Umakant.\n",
      "13\n"
     ]
    }
   ],
   "source": [
    "\n",
    "def get_lenth(s):\n",
    "    string = input(\"Enter a string: \")\n",
    "    print(string)\n",
    "    return len(string)\n",
    "print(get_lenth(string))\n"
   ]
  },
  {
   "cell_type": "code",
   "execution_count": 66,
   "metadata": {},
   "outputs": [
    {
     "name": "stdout",
     "output_type": "stream",
     "text": [
      "I am Umkant, I work at UBS.\n",
      "27\n"
     ]
    }
   ],
   "source": [
    "def string_length(s):\n",
    "    string = input(\"Enter a string: \")\n",
    "    print(string)\n",
    "    return len(string)\n",
    "print(string_length(string))"
   ]
  },
  {
   "cell_type": "code",
   "execution_count": 69,
   "metadata": {},
   "outputs": [
    {
     "name": "stdout",
     "output_type": "stream",
     "text": [
      "I am Umakant.\n",
      "13\n"
     ]
    }
   ],
   "source": [
    "def get_length(s):\n",
    "    count = 0\n",
    "        \n",
    "    for i in s:\n",
    "        count += 1\n",
    "    return count\n",
    "string = input()\n",
    "print(string)\n",
    "print(get_length(string))"
   ]
  },
  {
   "cell_type": "code",
   "execution_count": 73,
   "metadata": {},
   "outputs": [
    {
     "name": "stdout",
     "output_type": "stream",
     "text": [
      "I am Umaknat, I work at UBS.\n",
      "6\n"
     ]
    }
   ],
   "source": [
    "string = input()\n",
    "print(string)\n",
    "count = 0\n",
    "for i in string:\n",
    "    if i.isupper():\n",
    "        count += 1\n",
    "print(count)"
   ]
  },
  {
   "cell_type": "code",
   "execution_count": 74,
   "metadata": {},
   "outputs": [
    {
     "name": "stdout",
     "output_type": "stream",
     "text": [
      "hi, I am Umaknat, I work at UBS.\n",
      "The upper case in string 6\n",
      "The lower case in string 16\n"
     ]
    }
   ],
   "source": [
    "string = input()\n",
    "print(string)\n",
    "up_case = 0\n",
    "low_case = 0\n",
    "for i in string:\n",
    "    if i.isupper():\n",
    "        up_case += 1\n",
    "    if i.islower():\n",
    "        low_case += 1\n",
    "print('The upper case in string', up_case)\n",
    "print('The lower case in string', low_case)"
   ]
  },
  {
   "cell_type": "code",
   "execution_count": 81,
   "metadata": {},
   "outputs": [
    {
     "name": "stdout",
     "output_type": "stream",
     "text": [
      "Interstellar\n",
      "True\n"
     ]
    }
   ],
   "source": [
    "string_name = str(input())\n",
    "print(string_name)\n",
    "print(string_name[0].lower() ==\"i\")"
   ]
  },
  {
   "cell_type": "code",
   "execution_count": 84,
   "metadata": {},
   "outputs": [
    {
     "name": "stdout",
     "output_type": "stream",
     "text": [
      "Interstellar\n"
     ]
    },
    {
     "data": {
      "text/plain": [
       "True"
      ]
     },
     "execution_count": 84,
     "metadata": {},
     "output_type": "execute_result"
    }
   ],
   "source": [
    "string_name = str(input())\n",
    "print(string_name)\n",
    "string_name[0]\n",
    "string_name.startswith(\"I\")"
   ]
  },
  {
   "cell_type": "code",
   "execution_count": 87,
   "metadata": {},
   "outputs": [
    {
     "name": "stdout",
     "output_type": "stream",
     "text": [
      "Alexa, Switch Off The Lights.\n"
     ]
    }
   ],
   "source": [
    "s = \"Alexa, Switch off the lights.\"\n",
    "print(s.title()) # this willl make 1st letter of word capital"
   ]
  },
  {
   "cell_type": "code",
   "execution_count": null,
   "metadata": {},
   "outputs": [],
   "source": [
    "s = {int(x) for x in input(\"Enter comma-separated values: \").split(\",\")}\n",
    "print(s)"
   ]
  },
  {
   "cell_type": "code",
   "execution_count": 89,
   "metadata": {},
   "outputs": [
    {
     "name": "stdout",
     "output_type": "stream",
     "text": [
      "The set you entered is: {1, 2, 3, 4}\n"
     ]
    }
   ],
   "source": [
    "# Take user input for a set of integers\n",
    "s = set(map(int, input(\"Enter the set of integers: \").split()))\n",
    "\n",
    "# Print the set\n",
    "print(\"The set you entered is:\", s)"
   ]
  },
  {
   "cell_type": "code",
   "execution_count": 103,
   "metadata": {},
   "outputs": [
    {
     "data": {
      "text/plain": [
       "6"
      ]
     },
     "execution_count": 103,
     "metadata": {},
     "output_type": "execute_result"
    }
   ],
   "source": [
    "lst = [0, 8, 9, 6, 4, 2, 1, 3, 6, 5]\n",
    "lst.index(1)"
   ]
  },
  {
   "cell_type": "code",
   "execution_count": 106,
   "metadata": {},
   "outputs": [
    {
     "name": "stdout",
     "output_type": "stream",
     "text": [
      "True\n"
     ]
    }
   ],
   "source": [
    "# quizz\n",
    "\n",
    "print(\"Sa\" in \"Satish\")"
   ]
  },
  {
   "cell_type": "code",
   "execution_count": 105,
   "metadata": {},
   "outputs": [
    {
     "name": "stdout",
     "output_type": "stream",
     "text": [
      "abcabcabc\n"
     ]
    }
   ],
   "source": [
    "'''# Problem 1\n",
    "Write a code for a python function expan(x) that takes a list of string, \n",
    "concatenates them and return the resulting string repeate 3 times \n",
    "\n",
    "Exaple 1:\n",
    "input:['string1', 'string2']\n",
    "\n",
    "output :string1string2string1string2string1string2\n",
    "\n",
    "Example 2\n",
    "input:['a', 'b', 'c']\n",
    "output:abcabcabc'''\n",
    "\n",
    "l = ['a', 'b','c',]\n",
    "s = ''\n",
    "for i in  l:\n",
    "    s = s+i\n",
    "print(s*3)"
   ]
  },
  {
   "cell_type": "code",
   "execution_count": 110,
   "metadata": {},
   "outputs": [
    {
     "name": "stdout",
     "output_type": "stream",
     "text": [
      "['10', '20', '30', '40', '50']\n"
     ]
    }
   ],
   "source": [
    "s = \"10 20 30 40 50\"\n",
    "l = s.split()\n",
    "print(l)"
   ]
  },
  {
   "cell_type": "code",
   "execution_count": 112,
   "metadata": {},
   "outputs": [
    {
     "data": {
      "text/plain": [
       "'10,20,30,40,50'"
      ]
     },
     "execution_count": 112,
     "metadata": {},
     "output_type": "execute_result"
    }
   ],
   "source": [
    "','.join(l)"
   ]
  },
  {
   "cell_type": "code",
   "execution_count": 113,
   "metadata": {},
   "outputs": [
    {
     "name": "stdout",
     "output_type": "stream",
     "text": [
      "string1Umakantstring2\n"
     ]
    }
   ],
   "source": [
    "# Quizz\n",
    "n = ['string1', 'string2',]\n",
    "print('Umakant'.join(n))"
   ]
  },
  {
   "cell_type": "code",
   "execution_count": 114,
   "metadata": {},
   "outputs": [
    {
     "name": "stdout",
     "output_type": "stream",
     "text": [
      "string1Umakantstring2Umakantstring3\n"
     ]
    }
   ],
   "source": [
    "# Quizz\n",
    "n = ['string1', 'string2', 'string3']\n",
    "print('Umakant'.join(n))"
   ]
  },
  {
   "cell_type": "code",
   "execution_count": 116,
   "metadata": {},
   "outputs": [
    {
     "name": "stdout",
     "output_type": "stream",
     "text": [
      "False\n",
      "True\n"
     ]
    }
   ],
   "source": [
    "# .isdigits \n",
    "print('2a'.isdigit())\n",
    "print('100'.isdigit())"
   ]
  },
  {
   "cell_type": "code",
   "execution_count": 117,
   "metadata": {},
   "outputs": [
    {
     "name": "stdout",
     "output_type": "stream",
     "text": [
      "3\n"
     ]
    }
   ],
   "source": [
    "# count digit in string\n",
    "s = \"Umakant007\"\n",
    "count = 0\n",
    "for i in s:\n",
    "    if i.isdigit():\n",
    "        count += 1\n",
    "print(count)"
   ]
  },
  {
   "cell_type": "code",
   "execution_count": 124,
   "metadata": {},
   "outputs": [
    {
     "name": "stdout",
     "output_type": "stream",
     "text": [
      "ub\n"
     ]
    }
   ],
   "source": [
    "# convert upper to lower without using inbult method \n",
    "s = str(input())\n",
    "res = ''\n",
    "for i in s:\n",
    "    if i>=\"A\" and i<=\"Z\":\n",
    "        res = res + chr(ord(i) + 32)\n",
    "print(res)"
   ]
  },
  {
   "cell_type": "code",
   "execution_count": 125,
   "metadata": {},
   "outputs": [
    {
     "name": "stdout",
     "output_type": "stream",
     "text": [
      "umakant bopche\n"
     ]
    }
   ],
   "source": [
    "'''# convert upper to lower without using inbult method '''\n",
    "s = str(input())\n",
    "res = ''\n",
    "for i in s:\n",
    "    if i>=\"A\" and i<=\"Z\":\n",
    "        res = res + chr(ord(i) + 32)\n",
    "    else:\n",
    "        res += i\n",
    "print(res)"
   ]
  },
  {
   "cell_type": "code",
   "execution_count": 107,
   "metadata": {},
   "outputs": [
    {
     "name": "stdout",
     "output_type": "stream",
     "text": [
      "random string: 3, 6, 6, 3, 8, 4, 6, 5, 0, 5\n"
     ]
    }
   ],
   "source": [
    "random_string = ', '.join(random.choices(string.digits, k=length))\n",
    "print(\"random string:\", random_string)"
   ]
  },
  {
   "cell_type": "code",
   "execution_count": 128,
   "metadata": {},
   "outputs": [
    {
     "name": "stdout",
     "output_type": "stream",
     "text": [
      "[20, 30, 40, 50, 60, 10, 20, 30]\n"
     ]
    }
   ],
   "source": [
    "# doubt \n",
    "L = [10, 20, 30, 40, 50, 60]\n",
    "L = L[1:10] + L[:3]\n",
    "print(L)"
   ]
  },
  {
   "cell_type": "code",
   "execution_count": 133,
   "metadata": {},
   "outputs": [
    {
     "name": "stdout",
     "output_type": "stream",
     "text": [
      "3\n",
      "3\n",
      "3\n",
      "3\n",
      "3\n",
      "3\n",
      "3\n",
      "3\n",
      "3\n"
     ]
    }
   ],
   "source": [
    "# doubt\n",
    "lst = [1, 10, 12, 13, 17, 13, 8]\n",
    "for i in range(-1, -10, -1):\n",
    "    print(lst.index(13))"
   ]
  },
  {
   "cell_type": "code",
   "execution_count": 134,
   "metadata": {},
   "outputs": [
    {
     "name": "stdout",
     "output_type": "stream",
     "text": [
      "-2\n"
     ]
    }
   ],
   "source": [
    "# clarification on douibt\n",
    "lst = [1, 10, 12, 13, 17, 13, 8]\n",
    "for i in range(-1, -10, -1):\n",
    "    if lst[i] == 13:\n",
    "        print(i)\n",
    "        break"
   ]
  },
  {
   "cell_type": "code",
   "execution_count": 137,
   "metadata": {},
   "outputs": [
    {
     "data": {
      "text/plain": [
       "'10*20*30'"
      ]
     },
     "execution_count": 137,
     "metadata": {},
     "output_type": "execute_result"
    }
   ],
   "source": [
    "# .join doubt \n",
    "l = ['10', '20', '30']\n",
    "'*'.join(l)\n",
    "# \" \".join(l)\n"
   ]
  }
 ],
 "metadata": {
  "kernelspec": {
   "display_name": "venv",
   "language": "python",
   "name": "python3"
  },
  "language_info": {
   "codemirror_mode": {
    "name": "ipython",
    "version": 3
   },
   "file_extension": ".py",
   "mimetype": "text/x-python",
   "name": "python",
   "nbconvert_exporter": "python",
   "pygments_lexer": "ipython3",
   "version": "3.10.7"
  },
  "orig_nbformat": 4
 },
 "nbformat": 4,
 "nbformat_minor": 2
}
