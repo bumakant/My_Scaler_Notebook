{
 "cells": [
  {
   "cell_type": "code",
   "execution_count": null,
   "metadata": {
    "pycharm": {
     "is_executing": true,
     "name": "#%%\n"
    }
   },
   "outputs": [],
   "source": [
    "print(\"10+10\")\n",
    "print(\"Hello ! \\nHow are you ?\")"
   ]
  },
  {
   "cell_type": "markdown",
   "metadata": {
    "pycharm": {
     "name": "#%% md\n"
    }
   },
   "source": [
    "# Mutable vs Immutable Objects in Python\n",
    "\n",
    "Every variable in python holds an instance of an object. There are two types of objects in python i.e. Mutable and Immutable objects. Whenever an object is instantiated, it is assigned a unique object id. The type of the object is defined at the runtime and it can’t be changed afterwards. However, it’s state can be changed if it is a mutable object.\n",
    "\n",
    "To summarise the difference, mutable objects can change their state or contents and immutable objects can’t change their state or content.\n",
    "\n",
    "Immutable Objects : These are of in-built types like int, float, bool, string, unicode, tuple. In simple words, an immutable object can’t be changed after it is created.\n"
   ]
  },
  {
   "cell_type": "code",
   "execution_count": null,
   "metadata": {
    "pycharm": {
     "name": "#%%\n",
     "is_executing": true
    }
   },
   "outputs": [],
   "source": [
    "#python code to test that tuples are immutable\n",
    "\n",
    "# error -  'tuple' object does not support item assignment\n",
    "\n",
    "tuple1 = (0, 1, 2, 3)\n",
    "tuple1[0] = 4\n",
    "print(tuple1)"
   ]
  },
  {
   "cell_type": "code",
   "execution_count": null,
   "metadata": {
    "pycharm": {
     "is_executing": true,
     "name": "#%%\n"
    }
   },
   "outputs": [],
   "source": [
    "#python code to test that strings are immutable\n",
    "# error = 'str' object does not support item assignment\n",
    "\n",
    "message = \"Welocme to GeeksforGeeks\"\n",
    "message[0] = \"p\"\n",
    "print(message)"
   ]
  },
  {
   "cell_type": "markdown",
   "metadata": {
    "pycharm": {
     "name": "#%% md\n"
    }
   },
   "source": [
    "# Mutable Objects : These are of type list, dict, set .\n",
    "# Custom classes are generally mutable.\n",
    "\n"
   ]
  },
  {
   "cell_type": "code",
   "execution_count": null,
   "metadata": {
    "pycharm": {
     "is_executing": true,
     "name": "#%%\n"
    }
   },
   "outputs": [],
   "source": [
    "# python code to test that lists are mutable \n",
    "color = [\"Red\", \"Green\", \"Blue\"]\n",
    "color[2] = \"Orange\"\n",
    "print(color)"
   ]
  },
  {
   "cell_type": "markdown",
   "metadata": {
    "pycharm": {
     "name": "#%% md\n"
    }
   },
   "source": [
    "Conclusion\n",
    "\n",
    "Mutable and immutable objects are handled differently in python. Immutable objects are quicker to access and are expensive to change because it involves the creation of a copy. Whereas mutable objects are easy to change.\n",
    "    \n",
    "Use of mutable objects is recommended when there is a need to change the size or content of the object.\n",
    "    \n",
    "    \n",
    "Exception : However, there is an exception in immutability as well. We know that tuple in python is immutable. But the tuple consists of a sequence of names with unchangeable bindings to objects.\n",
    "    Consider a tuple\n",
    "\n",
    "     tup = ([3, 4, 5], 'myname') \n",
    "\n",
    "The tuple consists of a string and a list. Strings are immutable so we can’t change its value. But the contents of the list can change. The tuple itself isn’t mutable but contain items that are mutable."
   ]
  },
  {
   "cell_type": "markdown",
   "metadata": {
    "pycharm": {
     "name": "#%% md\n"
    }
   },
   "source": [
    "Python isinstance() function returns True if the object is specified types, and it will not match then return False.\n",
    "\n",
    "Syntax: \n",
    "\n",
    "isinstance(obj, class)\n",
    "\n",
    "Parameters : \n",
    "\n",
    "    obj : The object that need to be checked as a part of class or not.\n",
    "    class : class/type/tuple of class or type, against which object is needed to be checked.\n",
    "\n",
    "Returns : True, if object belongs to the given class/type if single class is passed or any of the class/type if tuple of class/type is passed, else returns False. Raises\n",
    "\n",
    "TypeError: if anything other than mentioned valid class type. "
   ]
  },
  {
   "cell_type": "code",
   "execution_count": 18,
   "metadata": {
    "pycharm": {
     "name": "#%%\n"
    }
   },
   "outputs": [
    {
     "name": "stdout",
     "output_type": "stream",
     "text": [
      "is test_int integer ?:True\n",
      "is test_int string ?:True\n",
      "is test_list integer ?:True\n",
      "is test_list list ?:True\n",
      "Is test_int integer or list or string ? :True\n"
     ]
    }
   ],
   "source": [
    "# Python 3 code to demonstrate working of isinstance() with native types\n",
    "\n",
    "# initializing native types\n",
    "test_int = 5\n",
    "test_list = [1, 2, 3]\n",
    "\n",
    "print(\"is test_int integer ?:\" +str(isinstance(test_int, int)))\n",
    "print(\"is test_int string ?:\" +str(isinstance(test_int, int)))\n",
    "print(\"is test_list integer ?:\" +str(isinstance(test_int, int)))\n",
    "print(\"is test_list list ?:\" +str(isinstance(test_int, int)))\n",
    "\n",
    "print(\"Is test_int integer or list or string ? :\" + str(isinstance(test_int,(int, list, str))))"
   ]
  },
  {
   "cell_type": "code",
   "execution_count": 19,
   "metadata": {
    "pycharm": {
     "name": "#%%\n"
    }
   },
   "outputs": [
    {
     "name": "stdout",
     "output_type": "stream",
     "text": [
      "Is test_list list? : True\n"
     ]
    }
   ],
   "source": [
    "test_list = [1, 2, 3]\n",
    "print (\"Is test_list list? : \" + str(isinstance(test_list, list)))"
   ]
  },
  {
   "cell_type": "code",
   "execution_count": 20,
   "metadata": {
    "pycharm": {
     "name": "#%%\n"
    }
   },
   "outputs": [
    {
     "name": "stdout",
     "output_type": "stream",
     "text": [
      "Is test_str string? : True\n"
     ]
    }
   ],
   "source": [
    "test_str = \"GeeksforGeeks\"\n",
    "print (\"Is test_str string? : \" + str(isinstance(test_str, str)))"
   ]
  },
  {
   "cell_type": "code",
   "execution_count": 21,
   "metadata": {
    "pycharm": {
     "name": "#%%\n"
    }
   },
   "outputs": [
    {
     "name": "stdout",
     "output_type": "stream",
     "text": [
      "Is test_str dictionary? : True\n"
     ]
    }
   ],
   "source": [
    "test_dict = {\"apple\" : 1, \"Ball\" : 2 }\n",
    "print (\"Is test_str dictionary? : \" + str(isinstance(test_dict, dict)))"
   ]
  },
  {
   "cell_type": "code",
   "execution_count": 13,
   "metadata": {
    "pycharm": {
     "name": "#%%\n"
    }
   },
   "outputs": [
    {
     "data": {
      "text/plain": [
       "False"
      ]
     },
     "execution_count": 13,
     "metadata": {},
     "output_type": "execute_result"
    }
   ],
   "source": [
    "isinstance(\"Str\", int)"
   ]
  },
  {
   "cell_type": "code",
   "execution_count": 14,
   "metadata": {
    "pycharm": {
     "name": "#%%\n"
    }
   },
   "outputs": [
    {
     "data": {
      "text/plain": [
       "True"
      ]
     },
     "execution_count": 14,
     "metadata": {},
     "output_type": "execute_result"
    }
   ],
   "source": [
    "isinstance(\"Str\", str)"
   ]
  },
  {
   "cell_type": "code",
   "execution_count": 15,
   "metadata": {
    "pycharm": {
     "name": "#%%\n"
    }
   },
   "outputs": [
    {
     "data": {
      "text/plain": [
       "True"
      ]
     },
     "execution_count": 15,
     "metadata": {},
     "output_type": "execute_result"
    }
   ],
   "source": [
    "isinstance(10.5, float)"
   ]
  },
  {
   "cell_type": "code",
   "execution_count": 16,
   "metadata": {
    "pycharm": {
     "name": "#%%\n"
    }
   },
   "outputs": [
    {
     "data": {
      "text/plain": [
       "True"
      ]
     },
     "execution_count": 16,
     "metadata": {},
     "output_type": "execute_result"
    }
   ],
   "source": [
    "isinstance(print, object)"
   ]
  },
  {
   "cell_type": "markdown",
   "metadata": {
    "pycharm": {
     "name": "#%% md\n"
    }
   },
   "source": [
    "# Operator \n",
    "https://www.geeksforgeeks.org/python-operators/"
   ]
  },
  {
   "cell_type": "markdown",
   "metadata": {
    "pycharm": {
     "name": "#%% md\n"
    }
   },
   "source": [
    "Division Operators\n",
    "\n",
    "Division Operators allow you to divide two numbers and return a quotient, i.e., the first number or number at the left is divided by the second number or number at the right and returns the quotient. \n",
    "\n",
    "There are two types of division operators: \n",
    "\n",
    "    Float division\n",
    "    Floor division\n",
    "\n"
   ]
  },
  {
   "cell_type": "code",
   "execution_count": 26,
   "metadata": {
    "pycharm": {
     "name": "#%%\n"
    }
   },
   "outputs": [
    {
     "name": "stdout",
     "output_type": "stream",
     "text": [
      "2.5\n",
      "3.0\n",
      "-6.666666666666667\n",
      "10.0\n"
     ]
    }
   ],
   "source": [
    "# python code to demonstrate the use of \"/\"\n",
    "\n",
    "'''Float division\n",
    "The quotient returned by this operator is always a float number, no matter if two numbers are integers. \n",
    "'''\n",
    "# For example:\n",
    "\n",
    "print(5/2)\n",
    "print(9/3)\n",
    "print(-20/3)\n",
    "print(20.0/2)"
   ]
  },
  {
   "cell_type": "code",
   "execution_count": 24,
   "metadata": {
    "pycharm": {
     "name": "#%%\n"
    }
   },
   "outputs": [
    {
     "name": "stdout",
     "output_type": "stream",
     "text": [
      "3\n",
      "-3\n",
      "2.0\n",
      "-3.0\n"
     ]
    }
   ],
   "source": [
    "'''Integer division( Floor division)\n",
    "\n",
    "The quotient returned by this operator is dependent on the argument being passed. \n",
    "If any of the numbers is float, it returns output in float. \n",
    "It is also known as Floor division because, if any number is negative, then the output will be floored. \n",
    "'''\n",
    "# For example:\n",
    "\n",
    "# python program to demonstrate the use of \"//\"\n",
    "print(10//3)\n",
    "print (-5//2)\n",
    "print (5.0//2)\n",
    "print (-5.0//2)"
   ]
  },
  {
   "cell_type": "markdown",
   "metadata": {
    "pycharm": {
     "name": "#%% md\n"
    }
   },
   "source": [
    "Precedence of Arithmetic Operators in Python\n",
    "\n",
    "The precedence of Arithmetic Operators in python is as follows:\n",
    "\n",
    "    P – Parentheses\n",
    "    E – Exponentiation\n",
    "    M – Multiplication (Multiplication and division have the same precedence)\n",
    "    D – Division\n",
    "    A – Addition (Addition and subtraction have the same precedence)\n",
    "    S – Subtraction"
   ]
  },
  {
   "cell_type": "markdown",
   "metadata": {
    "pycharm": {
     "name": "#%% md\n"
    }
   },
   "source": [
    "# Identifier \n",
    " https://www.geeksforgeeks.org/python-keywords-and-identifiers/\n",
    " \n",
    " Rules for Keywords in Python\n",
    "\n",
    "    Python keywords cannot be used as identifiers.\n",
    "    All the keywords in python should be in lowercase except True and False.\n",
    "    \n",
    "    \n",
    "Rules for Naming Python Identifiers\n",
    "\n",
    "    It cannot be a reserved python keyword.\n",
    "    It should not contain white space.\n",
    "    It can be a combination of A-Z, a-z, 0-9, or underscore.\n",
    "    It should start with an alphabet character or an underscore ( _ ).\n",
    "    It should not contain any special character other than an underscore ( _ )."
   ]
  },
  {
   "cell_type": "code",
   "execution_count": 1,
   "metadata": {
    "pycharm": {
     "name": "#%%\n"
    }
   },
   "outputs": [
    {
     "name": "stdout",
     "output_type": "stream",
     "text": [
      "Examples of True, False, and, or, not keywords\n",
      "False\n",
      "True\n",
      "True\n"
     ]
    }
   ],
   "source": [
    "# Example of and, or, not, True, False keywords.\n",
    "print(\"Examples of True, False, and, or, not keywords\")\n",
    "\n",
    "# compare two operands using 'and' operator\n",
    "print(True and False)\n",
    "\n",
    "# compare two operands using 'or' operator\n",
    "print(True or False)\n",
    "\n",
    "# use of not operator\n",
    "print(not False)"
   ]
  },
  {
   "cell_type": "code",
   "execution_count": 3,
   "metadata": {
    "pycharm": {
     "name": "#%%\n"
    }
   },
   "outputs": [
    {
     "name": "stdout",
     "output_type": "stream",
     "text": [
      "1\n",
      "2\n",
      "3\n",
      "4\n",
      "5\n"
     ]
    }
   ],
   "source": [
    "# Example of a break, continue keywords and identifier.\n",
    "for i in range(1, 11):\n",
    "#print the value of 1\n",
    "    print(i)\n",
    "\n",
    "#check the value of i is less than 5\n",
    "#if i less than 5 then continue loop\n",
    "\n",
    "    if i<5:\n",
    "        continue\n",
    "    \n",
    "# if i greater than 5 then break loop \n",
    "    else:\n",
    "        break"
   ]
  },
  {
   "cell_type": "code",
   "execution_count": 5,
   "metadata": {
    "pycharm": {
     "name": "#%%\n"
    }
   },
   "outputs": [
    {
     "data": {
      "text/plain": [
       "'AbcXyz'"
      ]
     },
     "execution_count": 5,
     "metadata": {},
     "output_type": "execute_result"
    }
   ],
   "source": [
    "\"Abc\"+\"Xyz\""
   ]
  },
  {
   "cell_type": "code",
   "execution_count": 8,
   "metadata": {
    "pycharm": {
     "name": "#%%\n"
    }
   },
   "outputs": [
    {
     "data": {
      "text/plain": [
       "True"
      ]
     },
     "execution_count": 8,
     "metadata": {},
     "output_type": "execute_result"
    }
   ],
   "source": [
    "a = 5\n",
    "b = 5\n",
    "id(a) == id(b)"
   ]
  },
  {
   "cell_type": "code",
   "execution_count": 10,
   "metadata": {
    "pycharm": {
     "name": "#%%\n"
    }
   },
   "outputs": [
    {
     "data": {
      "text/plain": [
       "False"
      ]
     },
     "execution_count": 10,
     "metadata": {},
     "output_type": "execute_result"
    }
   ],
   "source": [
    "a = 1000\n",
    "b = 1000\n",
    "id(a) == id(b)"
   ]
  },
  {
   "cell_type": "markdown",
   "metadata": {
    "pycharm": {
     "name": "#%% md\n"
    }
   },
   "source": [
    "# Control Flow "
   ]
  },
  {
   "cell_type": "code",
   "execution_count": 11,
   "metadata": {
    "pycharm": {
     "name": "#%%\n"
    }
   },
   "outputs": [
    {
     "name": "stdout",
     "output_type": "stream",
     "text": [
      "I am Umaknat\n",
      "Completed the beginner Module\n"
     ]
    }
   ],
   "source": [
    "if True:\n",
    "    print(\"I am Umaknat\")\n",
    "    print('Completed the beginner Module')"
   ]
  },
  {
   "cell_type": "code",
   "execution_count": 12,
   "metadata": {
    "pycharm": {
     "name": "#%%\n"
    }
   },
   "outputs": [
    {
     "name": "stdout",
     "output_type": "stream",
     "text": [
      "1\n",
      "2\n"
     ]
    }
   ],
   "source": [
    "a = 60\n",
    "if a >50:\n",
    "    print(\"1\")\n",
    "if a>40:\n",
    "    print(\"2\")"
   ]
  }
 ],
 "metadata": {
  "kernelspec": {
   "display_name": "Python 3 (ipykernel)",
   "language": "python",
   "name": "python3"
  },
  "language_info": {
   "codemirror_mode": {
    "name": "ipython",
    "version": 3
   },
   "file_extension": ".py",
   "mimetype": "text/x-python",
   "name": "python",
   "nbconvert_exporter": "python",
   "pygments_lexer": "ipython3",
   "version": "3.10.9"
  }
 },
 "nbformat": 4,
 "nbformat_minor": 2
}