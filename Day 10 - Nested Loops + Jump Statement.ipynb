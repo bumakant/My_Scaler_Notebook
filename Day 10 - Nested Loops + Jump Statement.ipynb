{
 "cells": [
  {
   "cell_type": "markdown",
   "metadata": {
    "collapsed": true,
    "pycharm": {
     "name": "#%% md\n"
    }
   },
   "source": [
    "Python Nested Loops\n",
    "Loops Inside Loops\n",
    "\n",
    "A nested loop is a loop inside a loop.\n",
    "\n",
    "The \"inner loop\" will be executed one time for each iteration of the \"outer loop\":"
   ]
  },
  {
   "cell_type": "code",
   "execution_count": null,
   "metadata": {
    "pycharm": {
     "name": "#%%\n"
    }
   },
   "outputs": [],
   "source": [
    "adj = [\"red\", \"big\", \"tasty\"]\n",
    "fruits = [\"apple\", \"banana\", \"cherry\"]\n",
    "\n",
    "for x in adj:\n",
    "  for y in fruits:\n",
    "    print(x, y)"
   ]
  },
  {
   "cell_type": "code",
   "execution_count": 5,
   "metadata": {
    "pycharm": {
     "name": "#%%\n"
    }
   },
   "outputs": [
    {
     "name": "stdout",
     "output_type": "stream",
     "text": [
      "*****"
     ]
    }
   ],
   "source": [
    "# to print number of \"*\"\n",
    "n =  int(input())\n",
    "for i in range(0, n):\n",
    "    print(\"*\", end=\"\")"
   ]
  },
  {
   "cell_type": "code",
   "execution_count": 7,
   "metadata": {
    "pycharm": {
     "name": "#%%\n"
    }
   },
   "outputs": [
    {
     "name": "stdout",
     "output_type": "stream",
     "text": [
      "* * * \n",
      "* * * \n",
      "* * * "
     ]
    }
   ],
   "source": [
    "# to print * in 3*3 matrix\n",
    "for i in range(3):\n",
    "    print(\"*\", end=\" \")\n",
    "print()\n",
    "for i in range(3):\n",
    "    print(\"*\", end=\" \")\n",
    "print()\n",
    "for i in range(3):\n",
    "    print(\"*\", end=\" \")"
   ]
  },
  {
   "cell_type": "code",
   "execution_count": 12,
   "metadata": {
    "pycharm": {
     "name": "#%%\n"
    }
   },
   "outputs": [
    {
     "name": "stdout",
     "output_type": "stream",
     "text": [
      "* * * \n",
      "* * * \n",
      "* * * \n"
     ]
    }
   ],
   "source": [
    "for i in range(3):\n",
    "    for j in range(3):\n",
    "        print(\"*\", end=\" \")\n",
    "    print()"
   ]
  },
  {
   "cell_type": "code",
   "execution_count": 13,
   "metadata": {
    "pycharm": {
     "name": "#%%\n"
    }
   },
   "outputs": [
    {
     "name": "stdout",
     "output_type": "stream",
     "text": [
      "* * * * * \n",
      "* * * * * \n",
      "* * * * * \n",
      "* * * * * \n",
      "* * * * * \n"
     ]
    }
   ],
   "source": [
    "n =  int(input())\n",
    "for i in range(n):\n",
    "    for j in range(n):\n",
    "        print(\"*\", end=\" \")\n",
    "    print()"
   ]
  },
  {
   "cell_type": "code",
   "execution_count": 23,
   "metadata": {
    "pycharm": {
     "name": "#%%\n"
    }
   },
   "outputs": [
    {
     "name": "stdout",
     "output_type": "stream",
     "text": [
      "* * * * * \n",
      "* * * * * \n",
      "* * * * * \n",
      "* * * * * \n",
      "* * * * * \n",
      "* * * * * \n"
     ]
    }
   ],
   "source": [
    "n = int(input())\n",
    "m = int(input())\n",
    "for i in range(n):\n",
    "    for i in range(m):\n",
    "        print('*', end=' ')\n",
    "    print()"
   ]
  },
  {
   "cell_type": "markdown",
   "metadata": {
    "pycharm": {
     "name": "#%% md\n"
    }
   },
   "source": [
    "# Iteration Protocol\n",
    "\n",
    "In Python, iteration is the process of accessing each item in a collection of data (such as a list, tuple, or dictionary) and performing a certain operation on each item.\n",
    "The iteration protocol is a set of rules that describe how an object must behave in order to be iterable.\n",
    "\n",
    "The iteration protocol in Python involves two key components: iterables and iterators.\n",
    "An iterable is an object that can be iterated over, such as a list, tuple, or string.\n",
    "An iterator is an object that produces the next value in the iteration sequence.\n",
    "\n",
    "To make an object iterable, it must define the __iter__() method, which returns an iterator object.\n",
    "The iterator object, in turn, must define the __next__() method, which returns the next item in the sequence.\n",
    "\n",
    "Here's an example of how the iteration protocol works in Python:\n",
    "\n",
    "In this example, we first create a list my_list containing five integers.\n",
    "We then create an iterator object my_iterator by calling the iter() function on my_list.\n",
    "\n",
    "We then loop over the iterator using a while loop and the next() function, which retrieves the next item in the iteration sequence. This loop continues until the StopIteration exception is raised, indicating that there are no more items in the sequence.\n",
    "\n",
    "In each iteration of the loop, we print the current item using the print() function. The output of this code would be:\n",
    "1\n",
    "2\n",
    "3\n",
    "4\n",
    "5\n",
    "\n",
    "This example demonstrates the basic mechanics of the iteration protocol in Python. By defining iterables and iterators, we can easily loop over collections of data and perform operations on each item."
   ]
  },
  {
   "cell_type": "code",
   "execution_count": 24,
   "metadata": {
    "pycharm": {
     "name": "#%%\n"
    }
   },
   "outputs": [
    {
     "name": "stdout",
     "output_type": "stream",
     "text": [
      "1\n",
      "2\n",
      "3\n",
      "4\n",
      "5\n"
     ]
    }
   ],
   "source": [
    "my_list = [1, 2, 3, 4, 5]\n",
    "my_iterator = iter(my_list)\n",
    "\n",
    "# loop over the iterator to print each item\n",
    "while True:\n",
    "    try:\n",
    "        item = next(my_iterator)\n",
    "        print(item)\n",
    "    except StopIteration:\n",
    "        break"
   ]
  },
  {
   "cell_type": "code",
   "execution_count": 28,
   "metadata": {
    "pycharm": {
     "name": "#%%\n"
    }
   },
   "outputs": [
    {
     "data": {
      "text/plain": [
       "0"
      ]
     },
     "execution_count": 28,
     "metadata": {},
     "output_type": "execute_result"
    }
   ],
   "source": [
    "i = iter(range(2))\n",
    "next(i)"
   ]
  },
  {
   "cell_type": "code",
   "execution_count": 26,
   "metadata": {
    "pycharm": {
     "name": "#%%\n"
    }
   },
   "outputs": [
    {
     "data": {
      "text/plain": [
       "1"
      ]
     },
     "execution_count": 26,
     "metadata": {},
     "output_type": "execute_result"
    }
   ],
   "source": [
    "next(i)"
   ]
  },
  {
   "cell_type": "code",
   "execution_count": 27,
   "metadata": {
    "pycharm": {
     "name": "#%%\n"
    }
   },
   "outputs": [
    {
     "data": {
      "text/plain": [
       "2"
      ]
     },
     "execution_count": 27,
     "metadata": {},
     "output_type": "execute_result"
    }
   ],
   "source": [
    "next(i)"
   ]
  },
  {
   "cell_type": "code",
   "execution_count": 30,
   "metadata": {
    "pycharm": {
     "name": "#%%\n"
    }
   },
   "outputs": [
    {
     "ename": "StopIteration",
     "evalue": "",
     "output_type": "error",
     "traceback": [
      "\u001b[1;31m---------------------------------------------------------------------------\u001b[0m",
      "\u001b[1;31mStopIteration\u001b[0m                             Traceback (most recent call last)",
      "Cell \u001b[1;32mIn[30], line 1\u001b[0m\n\u001b[1;32m----> 1\u001b[0m \u001b[38;5;28;43mnext\u001b[39;49m\u001b[43m(\u001b[49m\u001b[43mi\u001b[49m\u001b[43m)\u001b[49m\n",
      "\u001b[1;31mStopIteration\u001b[0m: "
     ]
    }
   ],
   "source": [
    "next(i)"
   ]
  },
  {
   "cell_type": "code",
   "execution_count": 31,
   "metadata": {
    "pycharm": {
     "name": "#%%\n"
    }
   },
   "outputs": [
    {
     "name": "stdout",
     "output_type": "stream",
     "text": [
      "0\n",
      "5\n"
     ]
    }
   ],
   "source": [
    "i =  iter(range(7))\n",
    "print(next(i)*3)\n",
    "print(next(i)*5)"
   ]
  },
  {
   "cell_type": "code",
   "execution_count": 32,
   "metadata": {
    "pycharm": {
     "name": "#%%\n"
    }
   },
   "outputs": [
    {
     "name": "stdout",
     "output_type": "stream",
     "text": [
      "6\n"
     ]
    }
   ],
   "source": [
    "i = iter(range(1, 7, 5))\n",
    "res = next(i)\n",
    "res = next(i)\n",
    "print(res)"
   ]
  },
  {
   "cell_type": "markdown",
   "metadata": {
    "pycharm": {
     "name": "#%% md\n"
    }
   },
   "source": [
    "Python Program to Calculate HCF (GCD) & LCM\n",
    "This python program calculates Highest Common Factor (HCF) & Lowest Common Multiple (LCM) of two numbers given by user.\n",
    "HCF is also known as Greatest Common Divisor (GCD).\n",
    "\n",
    "Highest Common Factor (HCF): The greatest common factor to any two or more than two integer numbers is known as HCF of these numbers.\n",
    "For example, HCF of 12 and 18 is 6. Also try: Calculate HCF Online\n",
    "\n",
    "Lowest Common Multiple (LCM): The smallest or lowest common multiple of any two or more than two integer numbers is termed as LCM.\n",
    " For example, LCM of 12 and 18 is 36. Also try: Calculate LCM online\n",
    "\n",
    "https://codescracker.com/python/program/python-program-find-hcf-lcm.htm"
   ]
  },
  {
   "cell_type": "markdown",
   "metadata": {
    "pycharm": {
     "name": "#%% md\n"
    }
   },
   "source": [
    "Find HCF (GCD) of Two Numbers\n",
    "\n",
    "This program is created to find and print the value of HCF or GCD of two numbers entered by user at run-time:\n"
   ]
  },
  {
   "cell_type": "code",
   "execution_count": 36,
   "metadata": {
    "pycharm": {
     "name": "#%%\n"
    }
   },
   "outputs": [
    {
     "name": "stdout",
     "output_type": "stream",
     "text": [
      "Enter Two Numbers: \n",
      "HCF (15, 25) =  5\n"
     ]
    }
   ],
   "source": [
    "\n",
    "print(\"Enter Two Numbers: \", end=\"\")\n",
    "no = int(input())\n",
    "nt = int(input())\n",
    "\n",
    "if no>nt:\n",
    "    hcf = no\n",
    "else:\n",
    "    hcf = nt\n",
    "\n",
    "while True:\n",
    "    if no%hcf==0 and nt%hcf==0:\n",
    "        break\n",
    "    else:\n",
    "        hcf = hcf - 1\n",
    "\n",
    "print(\"\\nHCF (\" + str(no) + \", \" + str(nt) + \") = \", hcf)\n",
    "\n"
   ]
  },
  {
   "cell_type": "markdown",
   "metadata": {
    "pycharm": {
     "name": "#%% md\n"
    }
   },
   "source": [
    "Find LCM and HCF using Formula\n",
    "\n",
    "This program uses formula to find and print LCM and HCF both in a single program:\n"
   ]
  },
  {
   "cell_type": "code",
   "execution_count": 33,
   "metadata": {
    "pycharm": {
     "name": "#%%\n"
    }
   },
   "outputs": [
    {
     "name": "stdout",
     "output_type": "stream",
     "text": [
      "Enter Two Numbers: \n",
      "LCM (15, 25) =  75\n",
      "HCF (15, 25) =  5\n"
     ]
    }
   ],
   "source": [
    "\n",
    "print(\"Enter Two Numbers: \", end=\"\")\n",
    "no = int(input())\n",
    "nt = int(input())\n",
    "\n",
    "a = no\n",
    "b = nt\n",
    "while b!=0:\n",
    "    temp = b\n",
    "    b = a%b\n",
    "    a = temp\n",
    "\n",
    "hcf = a\n",
    "lcm = int((no*nt)/hcf)\n",
    "\n",
    "print(\"\\nLCM (\" + str(no) + \", \" + str(nt) + \") = \", lcm)\n",
    "print(\"HCF (\" + str(no) + \", \" + str(nt) + \") = \", hcf)\n",
    "\n"
   ]
  },
  {
   "cell_type": "code",
   "execution_count": 38,
   "metadata": {
    "pycharm": {
     "name": "#%%\n"
    }
   },
   "outputs": [
    {
     "name": "stdout",
     "output_type": "stream",
     "text": [
      "HCF or GCD of 21 and 30 is 3\n",
      "LCM of 21 and 30 is 210\n"
     ]
    }
   ],
   "source": [
    "\n",
    "# Python program to find hcf (gcd) & lcm\n",
    "\n",
    "# Defining function to calculate hcf\n",
    "def find_gcd(a,b):\n",
    "    gcd = 1\n",
    "    for i in range(1,a+1):\n",
    "        if a%i==0 and b%i==0:\n",
    "           gcd = i\n",
    "    return gcd\n",
    "\n",
    "# Reading numbers from user\n",
    "first = int(input('Enter first number: '))\n",
    "second = int(input('Enter second number: '))\n",
    "\n",
    "# Function call & displaying output HCF (GCD)\n",
    "print('HCF or GCD of %d and %d is %d' %(first, second, find_gcd(first, second)))\n",
    "\n",
    "# Calculating LCM\n",
    "lcm = first * second / find_gcd(first, second)\n",
    "print('LCM of %d and %d is %d' %(first, second, lcm))\n"
   ]
  },
  {
   "cell_type": "markdown",
   "metadata": {
    "pycharm": {
     "name": "#%% md\n"
    }
   },
   "source": [
    "GCD of co prime number is always 1"
   ]
  },
  {
   "cell_type": "code",
   "execution_count": 41,
   "metadata": {
    "pycharm": {
     "name": "#%%\n"
    }
   },
   "outputs": [
    {
     "name": "stdout",
     "output_type": "stream",
     "text": [
      "The numbers are: 25 and 45\n",
      "5\n"
     ]
    }
   ],
   "source": [
    "a =  int(input())\n",
    "b =  int(input())\n",
    "print('The numbers are:', a, \"and\", b)\n",
    "x = min(a, b)\n",
    "for i in range(x, 0, -1):\n",
    "    if a % i ==0 and b% i==0:\n",
    "        print(i)\n",
    "        break"
   ]
  },
  {
   "cell_type": "code",
   "execution_count": 43,
   "metadata": {
    "pycharm": {
     "name": "#%%\n"
    }
   },
   "outputs": [
    {
     "name": "stdout",
     "output_type": "stream",
     "text": [
      "The numbers are: 6 and 8\n",
      "24\n"
     ]
    }
   ],
   "source": [
    "a =  int(input())\n",
    "b =  int(input())\n",
    "print('The numbers are:', a, \"and\", b)\n",
    "x = min(a, b)\n",
    "for i in range(x, 0, -1):\n",
    "    if a % i ==0 and b% i==0:\n",
    "        gcd = i\n",
    "        break\n",
    "lcm = (a*b)//gcd\n",
    "print(\"The least common multiple is\", lcm)"
   ]
  },
  {
   "cell_type": "code",
   "execution_count": 44,
   "metadata": {
    "pycharm": {
     "name": "#%%\n"
    }
   },
   "outputs": [
    {
     "name": "stdout",
     "output_type": "stream",
     "text": [
      "0 1 "
     ]
    }
   ],
   "source": [
    "# Pass\n",
    "\n",
    "i = 0\n",
    "if i == 0:\n",
    "    pass\n",
    "    print(i, end=\" \")\n",
    "    i += 1\n",
    "print(i, end=\" \")"
   ]
  },
  {
   "cell_type": "code",
   "execution_count": 49,
   "metadata": {
    "pycharm": {
     "name": "#%%\n"
    }
   },
   "outputs": [
    {
     "name": "stdout",
     "output_type": "stream",
     "text": [
      "5\n"
     ]
    }
   ],
   "source": [
    "count = 0\n",
    "while True:\n",
    "    n = int(input())\n",
    "    count += 1\n",
    "    if n == 5:\n",
    "        break\n",
    "print(count)"
   ]
  },
  {
   "cell_type": "code",
   "execution_count": 54,
   "metadata": {
    "pycharm": {
     "name": "#%%\n"
    }
   },
   "outputs": [
    {
     "name": "stdout",
     "output_type": "stream",
     "text": [
      "0\n",
      "1\n",
      "2\n"
     ]
    }
   ],
   "source": [
    "for i in range(5):\n",
    "    if i == 3:\n",
    "        break\n",
    "    print(i)"
   ]
  },
  {
   "cell_type": "code",
   "execution_count": 56,
   "metadata": {
    "pycharm": {
     "name": "#%%\n"
    }
   },
   "outputs": [
    {
     "name": "stdout",
     "output_type": "stream",
     "text": [
      "0\n",
      "1\n",
      "3\n",
      "4\n"
     ]
    }
   ],
   "source": [
    "for i in range(5):\n",
    "    if i ==2:\n",
    "        continue\n",
    "    print(i)"
   ]
  }
 ],
 "metadata": {
  "kernelspec": {
   "display_name": "Python 3 (ipykernel)",
   "language": "python",
   "name": "python3"
  },
  "language_info": {
   "codemirror_mode": {
    "name": "ipython",
    "version": 3
   },
   "file_extension": ".py",
   "mimetype": "text/x-python",
   "name": "python",
   "nbconvert_exporter": "python",
   "pygments_lexer": "ipython3",
   "version": "3.10.10"
  }
 },
 "nbformat": 4,
 "nbformat_minor": 1
}
