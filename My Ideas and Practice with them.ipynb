{
 "cells": [
  {
   "cell_type": "code",
   "execution_count": null,
   "id": "5c5a9dca",
   "metadata": {
    "pycharm": {
     "name": "#%%\n"
    }
   },
   "outputs": [],
   "source": [
    "print(\"Hello ! Umakant \\nHow are you doing ?\\nHow's weather in Pune ?\")"
   ]
  },
  {
   "cell_type": "code",
   "execution_count": null,
   "id": "f05b86dc",
   "metadata": {
    "pycharm": {
     "name": "#%%\n"
    }
   },
   "outputs": [],
   "source": [
    "t = int(input())\n",
    "if t in range(15, 25):\n",
    "    print(\"Good weather\")\n",
    "if t in range(25, 35):\n",
    "    print(\"it quite hot\")\n",
    "if t in range(35, 50):\n",
    "    print(\"Bencho Gand q sake raha hain suraj\")"
   ]
  },
  {
   "cell_type": "code",
   "execution_count": 3,
   "id": "ef0a4e56",
   "metadata": {
    "pycharm": {
     "name": "#%%\n"
    }
   },
   "outputs": [
    {
     "name": "stdout",
     "output_type": "stream",
     "text": [
      "1\n",
      "2\n",
      "3\n"
     ]
    }
   ],
   "source": [
    "# Print the first five letters of the English alphabet i.e. A, B, C, D and E.\n",
    "\n",
    "for i in range(1, 4):\n",
    "    print(i)\n",
    "    i += 1\n"
   ]
  },
  {
   "cell_type": "code",
   "execution_count": 4,
   "id": "96d159d3",
   "metadata": {
    "pycharm": {
     "name": "#%%\n"
    }
   },
   "outputs": [
    {
     "name": "stdout",
     "output_type": "stream",
     "text": [
      "A\n",
      "B\n",
      "C\n",
      "D\n",
      "E\n"
     ]
    }
   ],
   "source": [
    "for i in range (65, 70):\n",
    "    print(chr(i),)"
   ]
  },
  {
   "cell_type": "code",
   "execution_count": 7,
   "id": "8be9c582",
   "metadata": {
    "pycharm": {
     "name": "#%%\n"
    }
   },
   "outputs": [
    {
     "name": "stdout",
     "output_type": "stream",
     "text": [
      "9\n",
      "abcdefghi\n"
     ]
    }
   ],
   "source": [
    "# to print first n alphabet\n",
    "n = int(input())\n",
    "alphabet = \"abcdefghijklmnopqrstuvwxyz\"\n",
    "print(alphabet[:n])"
   ]
  },
  {
   "cell_type": "code",
   "execution_count": 8,
   "id": "20a14f0d",
   "metadata": {
    "pycharm": {
     "name": "#%%\n"
    }
   },
   "outputs": [
    {
     "name": "stdout",
     "output_type": "stream",
     "text": [
      " Umakant \n",
      " is rich\n",
      "Umakant is rich\n"
     ]
    }
   ],
   "source": [
    "# Given two numbers A and B. Concatenate the two numbers and print it.\n",
    "a = input(\" \")\n",
    "b = input(\" \")\n",
    "print(a+b)"
   ]
  },
  {
   "cell_type": "code",
   "execution_count": 13,
   "id": "6f1b40bd",
   "metadata": {
    "pycharm": {
     "name": "#%%\n"
    }
   },
   "outputs": [
    {
     "name": "stdout",
     "output_type": "stream",
     "text": [
      "Abha\n",
      "Umakant\n",
      "Abha says I love Umakant\n"
     ]
    }
   ],
   "source": [
    "# Print in a single line A says Hi to B.\n",
    "a = str(input())\n",
    "b = str(input())\n",
    "print(a, \"says I love \" + b)"
   ]
  },
  {
   "cell_type": "code",
   "execution_count": 16,
   "id": "6ebda366",
   "metadata": {
    "pycharm": {
     "name": "#%%\n"
    }
   },
   "outputs": [
    {
     "name": "stdout",
     "output_type": "stream",
     "text": [
      "16\n",
      "34\n"
     ]
    }
   ],
   "source": [
    "# Remaining Bake Time\n",
    "t = 50 # time\n",
    "a = int(input()) # elapsed time\n",
    "print(t - a)"
   ]
  },
  {
   "cell_type": "code",
   "execution_count": 1,
   "id": "8c7661df",
   "metadata": {
    "pycharm": {
     "name": "#%%\n"
    }
   },
   "outputs": [
    {
     "name": "stdout",
     "output_type": "stream",
     "text": [
      "6\n",
      "12\n"
     ]
    }
   ],
   "source": [
    "# time taken to each layer if each layer take 2 min\n",
    "n = 2 # time\n",
    "a = int(input()) # number of layer\n",
    "print(2*a)"
   ]
  },
  {
   "cell_type": "code",
   "execution_count": 2,
   "id": "8aad453c",
   "metadata": {
    "pycharm": {
     "name": "#%%\n"
    }
   },
   "outputs": [
    {
     "name": "stdout",
     "output_type": "stream",
     "text": [
      "120\n",
      "40\n",
      "distance in Km: 120 Velocity km/h: 40\n",
      "Time take to cover distance 3.0\n"
     ]
    }
   ],
   "source": [
    " # Print the result of expression\n",
    "d = int(input()) #distance\n",
    "v = int(input()) # velocity # time\n",
    "print(\"distance in Km:\", d, \"Velocity km/h:\",v)\n",
    "t = d/v\n",
    "m = t*60\n",
    "h =m/60\n",
    "\n",
    "print(\"Time take to cover distance\", h)\n",
    "\n"
   ]
  },
  {
   "cell_type": "code",
   "execution_count": 3,
   "id": "d831b906",
   "metadata": {
    "pycharm": {
     "name": "#%%\n"
    }
   },
   "outputs": [
    {
     "name": "stdout",
     "output_type": "stream",
     "text": [
      "5423\n"
     ]
    }
   ],
   "source": [
    "# What is the result of the following expression in Python?\n",
    "print(\"54\" + \"23\")"
   ]
  },
  {
   "cell_type": "code",
   "execution_count": 4,
   "id": "db44d55a",
   "metadata": {
    "pycharm": {
     "name": "#%%\n"
    }
   },
   "outputs": [
    {
     "name": "stdout",
     "output_type": "stream",
     "text": [
      "True\n"
     ]
    }
   ],
   "source": [
    "print(True == 1)"
   ]
  },
  {
   "cell_type": "code",
   "execution_count": 7,
   "id": "204f3d40",
   "metadata": {
    "pycharm": {
     "name": "#%%\n"
    }
   },
   "outputs": [
    {
     "name": "stdout",
     "output_type": "stream",
     "text": [
      "False\n"
     ]
    }
   ],
   "source": [
    "print(\"1\" == 1)"
   ]
  },
  {
   "cell_type": "code",
   "execution_count": 8,
   "id": "64c3cb09",
   "metadata": {
    "pycharm": {
     "name": "#%%\n"
    }
   },
   "outputs": [
    {
     "name": "stdout",
     "output_type": "stream",
     "text": [
      "5.0\n"
     ]
    }
   ],
   "source": [
    "x = 55 / 11\n",
    "print(x)"
   ]
  },
  {
   "cell_type": "code",
   "execution_count": 9,
   "id": "d6597188",
   "metadata": {
    "pycharm": {
     "name": "#%%\n"
    }
   },
   "outputs": [
    {
     "name": "stdout",
     "output_type": "stream",
     "text": [
      "5\n"
     ]
    }
   ],
   "source": [
    "x = 55 // 11\n",
    "print(x)"
   ]
  },
  {
   "cell_type": "code",
   "execution_count": 10,
   "id": "95feeb3c",
   "metadata": {
    "pycharm": {
     "name": "#%%\n"
    }
   },
   "outputs": [
    {
     "name": "stdout",
     "output_type": "stream",
     "text": [
      "1800\n",
      "6\n",
      "300\n"
     ]
    }
   ],
   "source": [
    "# as you have gone for dinner with your firends and you want to split bills \n",
    "bill_ammount = int(input())\n",
    "num_people = int(input())\n",
    "print(bill_ammount//num_people)"
   ]
  },
  {
   "cell_type": "code",
   "execution_count": 11,
   "id": "8090d2f0",
   "metadata": {
    "pycharm": {
     "name": "#%%\n"
    }
   },
   "outputs": [
    {
     "name": "stdout",
     "output_type": "stream",
     "text": [
      "1108.5\n"
     ]
    }
   ],
   "source": [
    "x = 79*12-65+451/2\n",
    "print(x)"
   ]
  },
  {
   "cell_type": "code",
   "execution_count": 15,
   "id": "c814d91a",
   "metadata": {
    "pycharm": {
     "name": "#%%\n"
    }
   },
   "outputs": [
    {
     "name": "stdout",
     "output_type": "stream",
     "text": [
      "110.0\n"
     ]
    }
   ],
   "source": [
    "x = 50 * 2 + (60 - 20) / 4\n",
    "print(x)"
   ]
  },
  {
   "cell_type": "code",
   "execution_count": 18,
   "id": "ddf159b6",
   "metadata": {
    "pycharm": {
     "name": "#%%\n"
    }
   },
   "outputs": [],
   "source": [
    "x = 20\n",
    "y = 5\n",
    "result = (x+True)/(4-y*False)"
   ]
  }
 ],
 "metadata": {
  "kernelspec": {
   "display_name": "Python 3 (ipykernel)",
   "language": "python",
   "name": "python3"
  },
  "language_info": {
   "codemirror_mode": {
    "name": "ipython",
    "version": 3
   },
   "file_extension": ".py",
   "mimetype": "text/x-python",
   "name": "python",
   "nbconvert_exporter": "python",
   "pygments_lexer": "ipython3",
   "version": "3.10.10"
  }
 },
 "nbformat": 4,
 "nbformat_minor": 5
}