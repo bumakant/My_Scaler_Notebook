{
 "cells": [
  {
   "cell_type": "markdown",
   "metadata": {
    "collapsed": true,
    "pycharm": {
     "name": "#%% md\n"
    }
   },
   "source": [
    "Python math Module\n",
    "\n",
    "Python has a built-in module that you can use for mathematical tasks.\n",
    "\n",
    "The math module has a set of methods and constants.\n",
    "\n",
    "Built-in Math Functions\n",
    "\n",
    "The min() and max() functions can be used to find the lowest or highest value in an iterable:"
   ]
  },
  {
   "cell_type": "code",
   "execution_count": 1,
   "metadata": {
    "pycharm": {
     "name": "#%%\n"
    }
   },
   "outputs": [
    {
     "name": "stdout",
     "output_type": "stream",
     "text": [
      "5\n",
      "25\n"
     ]
    }
   ],
   "source": [
    "x = min(5, 10, 25)\n",
    "y = max(5, 10, 25)\n",
    "\n",
    "print(x)\n",
    "print(y)"
   ]
  },
  {
   "cell_type": "code",
   "execution_count": 2,
   "metadata": {
    "pycharm": {
     "name": "#%%\n"
    }
   },
   "outputs": [
    {
     "name": "stdout",
     "output_type": "stream",
     "text": [
      "7.25\n"
     ]
    }
   ],
   "source": [
    "# The abs() function returns the absolute (positive) value of the specified number:\n",
    "x = abs(-7.25)\n",
    "print(x)"
   ]
  },
  {
   "cell_type": "code",
   "execution_count": 2,
   "metadata": {
    "pycharm": {
     "name": "#%%\n"
    }
   },
   "outputs": [
    {
     "name": "stdout",
     "output_type": "stream",
     "text": [
      "8\n"
     ]
    }
   ],
   "source": [
    "# The pow(x, y) function returns the value of x to the power of y (xy).\n",
    "a = int(input())\n",
    "b = int(input())\n",
    "x = pow(a, b)\n",
    "\n",
    "print(x)"
   ]
  },
  {
   "cell_type": "markdown",
   "metadata": {
    "pycharm": {
     "name": "#%% md\n"
    }
   },
   "source": [
    "The Math Module\n",
    "\n",
    "Python has also a built-in module called math, which extends the list of mathematical functions.\n",
    "\n",
    "To use it, you must import the math module:\n",
    "import math\n",
    "\n",
    "When you have imported the math module, you can start using methods and constants of the module.\n",
    "\n",
    "The math.sqrt() method for example, returns the square root of a number:"
   ]
  },
  {
   "cell_type": "code",
   "execution_count": 5,
   "metadata": {
    "pycharm": {
     "name": "#%%\n"
    }
   },
   "outputs": [
    {
     "name": "stdout",
     "output_type": "stream",
     "text": [
      "8.0\n"
     ]
    }
   ],
   "source": [
    "import math\n",
    "x = math.sqrt(64)\n",
    "print(x)"
   ]
  },
  {
   "cell_type": "markdown",
   "metadata": {
    "pycharm": {
     "name": "#%% md\n"
    }
   },
   "source": [
    "The math.ceil() method rounds a number upwards to its nearest integer, and the math.floor() method rounds a number downwards to its nearest integer, and returns the result:"
   ]
  },
  {
   "cell_type": "code",
   "execution_count": 2,
   "metadata": {
    "pycharm": {
     "name": "#%%\n"
    }
   },
   "outputs": [
    {
     "name": "stdout",
     "output_type": "stream",
     "text": [
      "2\n",
      "1\n"
     ]
    }
   ],
   "source": [
    "#Import math library\n",
    "import math\n",
    "\n",
    "#Round a number upward to its nearest integer\n",
    "x = math.ceil(1.4)\n",
    "\n",
    "#Round a number downward to its nearest integer\n",
    "y = math.floor(1.4)\n",
    "\n",
    "print(x)\n",
    "print(y)"
   ]
  },
  {
   "cell_type": "code",
   "execution_count": 1,
   "metadata": {
    "pycharm": {
     "name": "#%%\n"
    }
   },
   "outputs": [
    {
     "name": "stdout",
     "output_type": "stream",
     "text": [
      "3.141592653589793\n"
     ]
    }
   ],
   "source": [
    "# The math.pi constant, returns the value of PI (3.14...):\n",
    "import math\n",
    "pie = math.pi\n",
    "print(pie)"
   ]
  },
  {
   "cell_type": "markdown",
   "metadata": {
    "pycharm": {
     "name": "#%% md\n"
    }
   },
   "source": [
    "Method \tDescription\n",
    "math.acos() \tReturns the arc cosine of a number\n",
    "math.acosh() \tReturns the inverse hyperbolic cosine of a number\n",
    "math.asin() \tReturns the arc sine of a number\n",
    "math.asinh() \tReturns the inverse hyperbolic sine of a number\n",
    "math.atan() \tReturns the arc tangent of a number in radians\n",
    "math.atan2() \tReturns the arc tangent of y/x in radians\n",
    "math.atanh() \tReturns the inverse hyperbolic tangent of a number\n",
    "math.ceil() \tRounds a number up to the nearest integer\n",
    "math.comb() \tReturns the number of ways to choose k items from n \n",
    "                items without repetition and order\n",
    "math.copysign() Returns a float consisting of the value of \n",
    "                the first parameter and the sign of the second parameter\n",
    "math.cos() \tReturns the cosine of a number\n",
    "math.cosh() \tReturns the hyperbolic cosine of a number\n",
    "math.degrees() \tConverts an angle from radians to degrees\n",
    "math.dist() \tReturns the Euclidean distance between two points (p and q), where p and q are the coordinates of that point\n",
    "math.erf() \tReturns the error function of a number\n",
    "math.erfc() \tReturns the complementary error function of a number\n",
    "math.exp() \tReturns E raised to the power of x\n",
    "math.expm1() \tReturns Ex - 1\n",
    "math.fabs() \tReturns the absolute value of a number\n",
    "math.factorial() \tReturns the factorial of a number\n",
    "math.floor() \tRounds a number down to the nearest integer\n",
    "math.fmod() \tReturns the remainder of x/y\n",
    "math.frexp() \tReturns the mantissa and the exponent, of a specified number\n",
    "math.fsum() \tReturns the sum of all items in any iterable (tuples, arrays, lists, etc.)\n",
    "math.gamma() \tReturns the gamma function at x\n",
    "math.gcd() \tReturns the greatest common divisor of two integers\n",
    "math.hypot() \tReturns the Euclidean norm\n",
    "math.isclose() \tChecks whether two values are close to each other, or not\n",
    "math.isfinite() \tChecks whether a number is finite or not\n",
    "math.isinf() \tChecks whether a number is infinite or not\n",
    "math.isnan() \tChecks whether a value is NaN (not a number) or not\n",
    "math.isqrt() \tRounds a square root number downwards to the nearest integer\n",
    "math.ldexp() \tReturns the inverse of math.frexp() which is x * (2**i) of the given numbers x and i\n",
    "math.lgamma() \tReturns the log gamma value of x\n",
    "math.log() \tReturns the natural logarithm of a number, or the logarithm of number to base\n",
    "math.log10() \tReturns the base-10 logarithm of x\n",
    "math.log1p() \tReturns the natural logarithm of 1+x\n",
    "math.log2() \tReturns the base-2 logarithm of x\n",
    "math.perm() \tReturns the number of ways to choose k items from n items with order and without repetition\n",
    "math.pow() \tReturns the value of x to the power of y\n",
    "math.prod() \tReturns the product of all the elements in an iterable\n",
    "math.radians() \tConverts a degree value into radians\n",
    "math.remainder() \tReturns the closest value that can make numerator completely divisible by the denominator\n",
    "math.sin() \tReturns the sine of a number\n",
    "math.sinh() \tReturns the hyperbolic sine of a number\n",
    "math.sqrt() \tReturns the square root of a number\n",
    "math.tan() \tReturns the tangent of a number\n",
    "math.tanh() \tReturns the hyperbolic tangent of a number\n",
    "math.trunc() \tReturns the truncated integer parts of a number"
   ]
  },
  {
   "cell_type": "code",
   "execution_count": 2,
   "metadata": {
    "collapsed": false,
    "pycharm": {
     "name": "#%%\n"
    }
   },
   "outputs": [
    {
     "data": {
      "text/plain": [
       "0.6998536538095259"
      ]
     },
     "execution_count": 2,
     "metadata": {},
     "output_type": "execute_result"
    }
   ],
   "source": [
    "import math\n",
    "math.tan(98)"
   ]
  },
  {
   "cell_type": "code",
   "execution_count": 3,
   "metadata": {
    "collapsed": false,
    "pycharm": {
     "name": "#%%\n"
    }
   },
   "outputs": [
    {
     "data": {
      "text/plain": [
       "1.8129133566428555"
      ]
     },
     "execution_count": 3,
     "metadata": {},
     "output_type": "execute_result"
    }
   ],
   "source": [
    "math.log10(65)"
   ]
  },
  {
   "cell_type": "code",
   "execution_count": 5,
   "metadata": {
    "collapsed": false,
    "pycharm": {
     "name": "#%%\n"
    }
   },
   "outputs": [
    {
     "data": {
      "text/plain": [
       "5.169925001442312"
      ]
     },
     "execution_count": 5,
     "metadata": {},
     "output_type": "execute_result"
    }
   ],
   "source": [
    "math.log2(36)"
   ]
  },
  {
   "cell_type": "code",
   "execution_count": 6,
   "metadata": {
    "collapsed": false,
    "pycharm": {
     "name": "#%%\n"
    }
   },
   "outputs": [
    {
     "data": {
      "text/plain": [
       "15"
      ]
     },
     "execution_count": 6,
     "metadata": {},
     "output_type": "execute_result"
    }
   ],
   "source": [
    "# Number System\n",
    "# Binary to Decimal System  -> to conver Binary to Decibal just use 0b befire binary number\n",
    "0b1111"
   ]
  },
  {
   "cell_type": "code",
   "execution_count": 7,
   "metadata": {
    "collapsed": false,
    "pycharm": {
     "name": "#%%\n"
    }
   },
   "outputs": [
    {
     "data": {
      "text/plain": [
       "'0b111000'"
      ]
     },
     "execution_count": 7,
     "metadata": {},
     "output_type": "execute_result"
    }
   ],
   "source": [
    "# Decimal to Binary  - using()\n",
    "bin(56)"
   ]
  },
  {
   "cell_type": "code",
   "execution_count": 8,
   "metadata": {
    "collapsed": false,
    "pycharm": {
     "name": "#%%\n"
    }
   },
   "outputs": [
    {
     "data": {
      "text/plain": [
       "[1, 2, 3, 4, 5, 6, 7, 8, 9]"
      ]
     },
     "execution_count": 8,
     "metadata": {},
     "output_type": "execute_result"
    }
   ],
   "source": [
    "# Ranges\n",
    "list(range(1, 10)) # to print number we have to use list function. in 1 -  10 is is 10-1=9 numbers as you can see"
   ]
  },
  {
   "cell_type": "code",
   "execution_count": 1,
   "metadata": {
    "collapsed": false,
    "pycharm": {
     "name": "#%%\n"
    }
   },
   "outputs": [
    {
     "data": {
      "text/plain": [
       "[98, 99, 100, 101, 102, 103, 104, 105, 106, 107, 108, 109, 110, 111]"
      ]
     },
     "execution_count": 1,
     "metadata": {},
     "output_type": "execute_result"
    }
   ],
   "source": [
    "list(range(98, 112))"
   ]
  },
  {
   "cell_type": "code",
   "execution_count": 3,
   "metadata": {
    "collapsed": false,
    "pycharm": {
     "name": "#%%\n"
    }
   },
   "outputs": [
    {
     "data": {
      "text/plain": [
       "0.9978169793949886"
      ]
     },
     "execution_count": 3,
     "metadata": {},
     "output_type": "execute_result"
    }
   ],
   "source": [
    "import math\n",
    "math.log(2.7123542356)"
   ]
  },
  {
   "cell_type": "code",
   "execution_count": 4,
   "metadata": {
    "collapsed": false,
    "pycharm": {
     "name": "#%%\n"
    }
   },
   "outputs": [
    {
     "data": {
      "text/plain": [
       "2.0"
      ]
     },
     "execution_count": 4,
     "metadata": {},
     "output_type": "execute_result"
    }
   ],
   "source": [
    "math.log10(100) # power of 10"
   ]
  },
  {
   "cell_type": "code",
   "execution_count": 6,
   "metadata": {
    "collapsed": false,
    "pycharm": {
     "name": "#%%\n"
    }
   },
   "outputs": [
    {
     "data": {
      "text/plain": [
       "6.022367813028454"
      ]
     },
     "execution_count": 6,
     "metadata": {},
     "output_type": "execute_result"
    }
   ],
   "source": [
    "# How many steps to rich to 1 divided by 2\n",
    "\n",
    "n = int(input())\n",
    "math.log2(n) # this came in float"
   ]
  },
  {
   "cell_type": "code",
   "execution_count": 7,
   "metadata": {
    "collapsed": false,
    "pycharm": {
     "name": "#%%\n"
    }
   },
   "outputs": [
    {
     "data": {
      "text/plain": [
       "6"
      ]
     },
     "execution_count": 7,
     "metadata": {},
     "output_type": "execute_result"
    }
   ],
   "source": [
    "n = int(input())\n",
    "math.floor(math.log2(n)) # this came in float\n",
    " # by using math.floor, it can be converted into integer"
   ]
  },
  {
   "cell_type": "code",
   "execution_count": 4,
   "metadata": {
    "collapsed": false,
    "pycharm": {
     "name": "#%%\n"
    }
   },
   "outputs": [
    {
     "name": "stdout",
     "output_type": "stream",
     "text": [
      "It took 79 steps to reach 1.\n"
     ]
    }
   ],
   "source": [
    "'''Here's how the code works:\n",
    "\n",
    "    It prompts the user to enter a number.\n",
    "    It initializes a variable called steps to 0 to keep track of the number of steps taken.\n",
    "    It enters a while loop that runs as long as the number is greater than 1.\n",
    "    Inside the while loop, it divides the number by 2 and updates its value.\n",
    "    It also increments the steps variable by 1 after each division.\n",
    "    Once the number is 1 or less, the while loop terminates and the program prints the number of steps taken to reach 1.\n",
    "\n",
    "    '''\n",
    "\n",
    "number = int(input(\"Enter a number:\")) # user input\n",
    "steps = 0 # count of step at initial\n",
    "\n",
    "\n",
    "\n",
    "while number >1: # using while loop\n",
    "    number  =  number /2\n",
    "\n",
    "    steps += 1 # increment\n",
    "\n",
    "print(\"It took\", steps, \"steps to reach 1.\")"
   ]
  },
  {
   "cell_type": "code",
   "execution_count": 2,
   "outputs": [
    {
     "name": "stdout",
     "output_type": "stream",
     "text": [
      "5454\n",
      "2727.0\n",
      "1363.5\n",
      "681.75\n",
      "340.875\n",
      "170.4375\n",
      "85.21875\n",
      "42.609375\n",
      "21.3046875\n",
      "10.65234375\n",
      "5.326171875\n",
      "2.6630859375\n",
      "1.33154296875\n",
      "It took 13 steps to reach 1.\n"
     ]
    }
   ],
   "source": [
    "'''\n",
    "Here's how the code works:\n",
    "\n",
    "    It prompts the user to enter a number.\n",
    "    It initializes a variable called steps to 0 to keep track of the number of steps taken.\n",
    "    It enters a while loop that runs as long as the number is greater than 1.\n",
    "    Inside the while loop, it prints out the current value of number.\n",
    "    It then divides the number by 2 and updates its value.\n",
    "    It also increments the steps variable by 1 after each division.\n",
    "    Once the number is 1 or less, the while loop terminates and the program prints the number of steps taken to reach 1.\n",
    "\n",
    "'''\n",
    "\n",
    "number =  int(input(\"Enter a number: \")) # user input\n",
    "steps = 0 # count of step at initial\n",
    "\n",
    "while number >1:\n",
    "    print(number)\n",
    "    number = number/2\n",
    "\n",
    "    steps+=1\n",
    "\n",
    "print(\"It took\", steps, \"steps to reach 1.\")"
   ],
   "metadata": {
    "collapsed": false,
    "pycharm": {
     "name": "#%%\n"
    }
   }
  }
 ],
 "metadata": {
  "kernelspec": {
   "display_name": "Python 3 (ipykernel)",
   "language": "python",
   "name": "python3"
  },
  "language_info": {
   "codemirror_mode": {
    "name": "ipython",
    "version": 3
   },
   "file_extension": ".py",
   "mimetype": "text/x-python",
   "name": "python",
   "nbconvert_exporter": "python",
   "pygments_lexer": "ipython3",
   "version": "3.10.7"
  }
 },
 "nbformat": 4,
 "nbformat_minor": 1
}