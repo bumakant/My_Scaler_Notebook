{
 "cells": [
  {
   "cell_type": "code",
   "execution_count": 15,
   "metadata": {},
   "outputs": [
    {
     "name": "stdout",
     "output_type": "stream",
     "text": [
      "    *\n",
      "   **\n",
      "  ***\n",
      " ****\n",
      "*****\n"
     ]
    }
   ],
   "source": [
    "# Print the following problem \n",
    "'''\n",
    "     *\n",
    "    **\n",
    "   ***\n",
    "  ****\n",
    " *****\n",
    "\n",
    "The code works by using two nested loops to print each row of the pattern. \n",
    "The outer loop iterates over the number of rows, while the inner loops print the spaces and asterisks in each row.\n",
    "The first inner loop prints the spaces before the asterisks, and the second inner loop prints the asterisks.\n",
    "The end parameter of the print function is used to prevent the cursor from moving to the next line after printing each character.\n",
    "\n",
    " '''\n",
    "n = int(input())\n",
    "for i in range(1, n+1):\n",
    "    #print spaces\n",
    "    for j in range(n-i): # this is most important team as n-1 will print opposite of the pattern  \n",
    "        print(\" \", end=\"\")\n",
    "    #print stars\n",
    "    for j in range(i):\n",
    "        print(\"*\", end=\"\")\n",
    "    print()\n",
    "\n"
   ]
  },
  {
   "cell_type": "code",
   "execution_count": 17,
   "metadata": {},
   "outputs": [
    {
     "name": "stdout",
     "output_type": "stream",
     "text": [
      "    *\n",
      "   **\n",
      "  ***\n",
      " ****\n",
      "*****\n"
     ]
    }
   ],
   "source": [
    "n = int(input())\n",
    "for i in range(n):\n",
    "    for j in range(n-i-1): # for spaces\n",
    "        print(\" \", end=\"\")\n",
    "    for j in range(i+1):\n",
    "        print(\"*\", end=\"\") # for stars \n",
    "    print()"
   ]
  },
  {
   "cell_type": "code",
   "execution_count": 16,
   "metadata": {},
   "outputs": [
    {
     "name": "stdout",
     "output_type": "stream",
     "text": [
      "*****\n",
      " ****\n",
      "  ***\n",
      "   **\n",
      "    *\n"
     ]
    }
   ],
   "source": [
    "#Steps\n",
    "# number of rows = n\n",
    "# count of spaces and stars\n",
    "# Relation between rows and counts   \n",
    "\n",
    "\n",
    "n = int(input())\n",
    "for i in range(1, n+1):\n",
    "    #print spaces\n",
    "    for j in range(1, i):\n",
    "        print(\" \", end=\"\")\n",
    "    #print stars \n",
    "    for j in range(n-i+1):\n",
    "        print(\"*\", end=\"\")\n",
    "    print()"
   ]
  },
  {
   "cell_type": "code",
   "execution_count": 19,
   "metadata": {},
   "outputs": [
    {
     "name": "stdout",
     "output_type": "stream",
     "text": [
      "*****\n",
      " ****\n",
      "  ***\n",
      "   **\n",
      "    *\n"
     ]
    }
   ],
   "source": [
    "# Program to print \n",
    "'''\n",
    "*****\n",
    " ****\n",
    "  ***\n",
    "   **\n",
    "    *\n",
    "\n",
    "The code works by using two nested loops to print each row of the pattern. \n",
    "The outer loop iterates over the number of rows, while the inner loops print the spaces and asterisks in each row. \n",
    "The first inner loop prints the spaces before the asterisks, and the second inner loop prints the asterisks. \n",
    "The end parameter of the print function is used to prevent the cursor from moving to the next line after printing each character.\n",
    "'''\n",
    "\n",
    "n = int(input())\n",
    "for i in range(n):\n",
    "    for j in range(i):\n",
    "        print(\" \", end=\"\")\n",
    "    for j in range(n-i):\n",
    "        print(\"*\", end=\"\")\n",
    "    print()\n"
   ]
  },
  {
   "cell_type": "code",
   "execution_count": 22,
   "metadata": {},
   "outputs": [
    {
     "name": "stdout",
     "output_type": "stream",
     "text": [
      "* * * * * * * * * * \n",
      "* * * *     * * * * \n",
      "* * *         * * * \n",
      "* *             * * \n",
      "*                 * \n"
     ]
    }
   ],
   "source": [
    "# problem 3\n",
    "\n",
    "# number of rows \n",
    "# count no of elements present each row \n",
    "# relation between i(row) and column  \n",
    "\n",
    "n = int(input())\n",
    "for i in range(n):\n",
    "    for j in range(n-i):\n",
    "        print(\"*\", end=\" \")\n",
    "    for k in range(i):\n",
    "        print(\" \", end=\" \")\n",
    "    for l in range(i):\n",
    "        print(\" \", end=\" \")\n",
    "    for m in range(n-i):\n",
    "        print(\"*\", end=\" \")\n",
    "    print()\n",
    "    "
   ]
  },
  {
   "cell_type": "code",
   "execution_count": 40,
   "metadata": {},
   "outputs": [
    {
     "name": "stdout",
     "output_type": "stream",
     "text": [
      "**********\n",
      "****  ****\n",
      "***    ***\n",
      "**      **\n",
      "*        *\n"
     ]
    }
   ],
   "source": [
    "n =  int(input())\n",
    "for i in range(1, n+1):\n",
    "    #print star 1\n",
    "    for j in range(n-i+1):\n",
    "        print(\"*\", end =\"\")\n",
    "    #print spaces \n",
    "    for j in range(2*(i-1)):\n",
    "        print(\" \", end=\"\")\n",
    "    #print star 2\n",
    "    for j in range(n-i+1):\n",
    "        print(\"*\", end =\"\")\n",
    "    print()"
   ]
  },
  {
   "cell_type": "code",
   "execution_count": 41,
   "metadata": {},
   "outputs": [
    {
     "name": "stdout",
     "output_type": "stream",
     "text": [
      "*        *\n",
      "**      **\n",
      "***    ***\n",
      "****  ****\n",
      "**********\n"
     ]
    }
   ],
   "source": [
    "n =  int(input())\n",
    "for i in range(1, n+1):\n",
    "    #print star 1\n",
    "    for j in range(i):\n",
    "        print(\"*\", end =\"\")\n",
    "    #print spaces \n",
    "    for j in range(2*(n-i)):\n",
    "        print(\" \", end=\"\")\n",
    "    #print star 2\n",
    "    for j in range(i):\n",
    "        print(\"*\", end =\"\")\n",
    "    print()"
   ]
  },
  {
   "cell_type": "code",
   "execution_count": 45,
   "metadata": {},
   "outputs": [
    {
     "name": "stdout",
     "output_type": "stream",
     "text": [
      "* * * * * * * * * * * * \n",
      "* * * * *     * * * * * \n",
      "* * * *         * * * * \n",
      "* * *             * * * \n",
      "* *                 * * \n",
      "*                     * \n",
      "*                     * \n",
      "* *                 * * \n",
      "* * *             * * * \n",
      "* * * *         * * * * \n",
      "* * * * *     * * * * * \n",
      "* * * * * * * * * * * * \n"
     ]
    }
   ],
   "source": [
    "# Problem number 5\n",
    "\n",
    "n =  int(input())\n",
    "for i in range(1, n+1):\n",
    "    #print star 1\n",
    "    for j in range(n-i+1):\n",
    "        print(\"*\", end =\" \")\n",
    "    #print spaces \n",
    "    for j in range(2*(i-1)):\n",
    "        print(\" \", end=\" \")\n",
    "    #print star 2\n",
    "    for j in range(n-i+1):\n",
    "        print(\"*\", end =\" \")\n",
    "    print()\n",
    "for i in range(1, n+1):\n",
    "    #print star 1\n",
    "    for j in range(i):\n",
    "        print(\"*\", end =\" \")\n",
    "    #print spaces \n",
    "    for j in range(2*(n-i)):\n",
    "        print(\" \", end=\" \")\n",
    "    #print star 2\n",
    "    for j in range(i):\n",
    "        print(\"*\", end =\" \")\n",
    "    print()"
   ]
  },
  {
   "cell_type": "code",
   "execution_count": 47,
   "metadata": {},
   "outputs": [
    {
     "name": "stdout",
     "output_type": "stream",
     "text": [
      "            \n",
      "    * *     \n",
      "  * * * *   \n",
      "  * * * *   \n",
      "    * *     \n",
      "            \n"
     ]
    }
   ],
   "source": [
    "# write a code to print \n",
    "n =  int(input())\n",
    "for i in range(1, n+1):\n",
    "    #print star 1\n",
    "    for j in range(n-i+1):\n",
    "        print(\" \", end =\" \")\n",
    "    #print spaces \n",
    "    for j in range(2*(i-1)):\n",
    "        print(\"*\", end=\" \")\n",
    "    #print star 2\n",
    "    for j in range(n-i+1):\n",
    "        print(\" \", end =\" \")\n",
    "    print()\n",
    "for i in range(1, n+1):\n",
    "    #print star 1\n",
    "    for j in range(i):\n",
    "        print(\" \", end =\" \")\n",
    "    #print spaces \n",
    "    for j in range(2*(n-i)):\n",
    "        print(\"*\", end=\" \")\n",
    "    #print star 2\n",
    "    for j in range(i):\n",
    "        print(\" \", end =\" \")\n",
    "    print()"
   ]
  },
  {
   "cell_type": "code",
   "execution_count": null,
   "metadata": {},
   "outputs": [],
   "source": [
    "Wite a cod eto print \n",
    "     *\n",
    "    * *     \n",
    "  * * * *   \n",
    "  * * * *   \n",
    "    * *\n",
    "     * \n",
    "\n",
    "using for loop "
   ]
  }
 ],
 "metadata": {
  "kernelspec": {
   "display_name": "venv",
   "language": "python",
   "name": "python3"
  },
  "language_info": {
   "codemirror_mode": {
    "name": "ipython",
    "version": 3
   },
   "file_extension": ".py",
   "mimetype": "text/x-python",
   "name": "python",
   "nbconvert_exporter": "python",
   "pygments_lexer": "ipython3",
   "version": "3.10.7"
  },
  "orig_nbformat": 4
 },
 "nbformat": 4,
 "nbformat_minor": 2
}
