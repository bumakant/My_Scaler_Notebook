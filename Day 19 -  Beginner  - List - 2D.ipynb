{
 "cells": [
  {
   "cell_type": "markdown",
   "metadata": {
    "collapsed": true
   },
   "source": [
    "# List -2D\n",
    " https://www.geeksforgeeks.org/python-using-2d-arrays-lists-the-right-way/?ref=gcse"
   ]
  },
  {
   "cell_type": "code",
   "execution_count": 1,
   "metadata": {},
   "outputs": [
    {
     "name": "stdout",
     "output_type": "stream",
     "text": [
      "10 20 30 40 50 60\n",
      "['10', '20', '30', '40', '50', '60']\n"
     ]
    }
   ],
   "source": [
    "x = input()\n",
    "lst =x.split()\n",
    "print(lst)"
   ]
  },
  {
   "cell_type": "code",
   "execution_count": 2,
   "metadata": {},
   "outputs": [
    {
     "name": "stdout",
     "output_type": "stream",
     "text": [
      "10 20 30 40 50 60\n",
      "['10', '20', '30', '40', '50', '60']\n"
     ]
    }
   ],
   "source": [
    "x = input().split()\n",
    "print(x)"
   ]
  },
  {
   "cell_type": "code",
   "execution_count": 6,
   "metadata": {},
   "outputs": [
    {
     "name": "stdout",
     "output_type": "stream",
     "text": [
      "[0, 1, 2, 3, 4]\n"
     ]
    }
   ],
   "source": [
    "\n",
    "print(list(range(0,5)))"
   ]
  },
  {
   "cell_type": "code",
   "execution_count": 8,
   "metadata": {},
   "outputs": [
    {
     "data": {
      "text/plain": [
       "[10, 20, 30, 40, 50, 60]"
      ]
     },
     "execution_count": 8,
     "metadata": {},
     "output_type": "execute_result"
    }
   ],
   "source": [
    "list(map(int,x))"
   ]
  },
  {
   "cell_type": "code",
   "execution_count": 14,
   "metadata": {},
   "outputs": [
    {
     "name": "stdout",
     "output_type": "stream",
     "text": [
      "10 20 30 40 50 60 70\n",
      "[10.0, 20.0, 30.0, 40.0, 50.0, 60.0, 70.0]\n"
     ]
    }
   ],
   "source": [
    "x = input().split()\n",
    "res = list(map(float,x))\n",
    "print(res)"
   ]
  },
  {
   "cell_type": "code",
   "execution_count": 27,
   "metadata": {},
   "outputs": [
    {
     "name": "stdout",
     "output_type": "stream",
     "text": [
      "[2, 8, 18]\n"
     ]
    }
   ],
   "source": [
    "# Quizz 1\n",
    "def find_sqr(x):\n",
    "    return x*x*2\n",
    "\n",
    "l = [1, 2, 3]\n",
    "res = list(map(find_sqr, l))\n",
    "\n",
    "print(res)"
   ]
  },
  {
   "cell_type": "code",
   "execution_count": 28,
   "metadata": {},
   "outputs": [
    {
     "name": "stdout",
     "output_type": "stream",
     "text": [
      "1824386008576\n",
      "1824386008192\n"
     ]
    }
   ],
   "source": [
    "x = [1, 2, 3]\n",
    "print(id(x))\n",
    "x = [1, 2, 3, 4]\n",
    "print(id(x))"
   ]
  },
  {
   "cell_type": "code",
   "execution_count": 30,
   "metadata": {},
   "outputs": [
    {
     "name": "stdout",
     "output_type": "stream",
     "text": [
      "[8, 27, 64]\n"
     ]
    }
   ],
   "source": [
    "def func(x):\n",
    "    return x**3\n",
    "l = [2, 3, 4]\n",
    "\n",
    "print(list(map(func, l)))"
   ]
  },
  {
   "cell_type": "code",
   "execution_count": null,
   "metadata": {
    "pycharm": {
     "name": "#%%\n"
    }
   },
   "outputs": [],
   "source": [
    "l1 = [1, 2, 3, 4]\n",
    "l2 = [5, 6, 7, 8]\n",
    "l3 = l1+l2\n",
    "print(l3)"
   ]
  },
  {
   "cell_type": "code",
   "execution_count": null,
   "metadata": {
    "collapsed": false,
    "pycharm": {
     "name": "#%%\n"
    }
   },
   "outputs": [],
   "source": [
    "l1 = [1, 2, 3, 4]\n",
    "l1.append(5)\n",
    "print(l1)"
   ]
  },
  {
   "cell_type": "code",
   "execution_count": null,
   "metadata": {
    "collapsed": false,
    "pycharm": {
     "name": "#%%\n"
    }
   },
   "outputs": [],
   "source": [
    "l1 = [1, 2, 3, 4]\n",
    "l2 = [5, 6]\n",
    "l1.append(l2)\n",
    "print(l1)"
   ]
  },
  {
   "cell_type": "code",
   "execution_count": null,
   "metadata": {
    "collapsed": false,
    "pycharm": {
     "name": "#%%\n"
    }
   },
   "outputs": [],
   "source": [
    "l1 = [1, 2, 3, 4]\n",
    "l2 = [5, 6]\n",
    "l1.extend(l2)\n",
    "print(l1)"
   ]
  },
  {
   "cell_type": "code",
   "execution_count": null,
   "metadata": {
    "collapsed": false,
    "pycharm": {
     "name": "#%%\n"
    }
   },
   "outputs": [],
   "source": [
    "# Quizz\n",
    "l = [1, 2]\n",
    "l.append(0) # added 0 after 2\n",
    "l.append(3) # added 3 after 0\n",
    "l =l+[3] # # added 3 after 3\n",
    "print(l)"
   ]
  },
  {
   "cell_type": "code",
   "execution_count": 41,
   "metadata": {
    "collapsed": false,
    "pycharm": {
     "name": "#%%\n"
    }
   },
   "outputs": [
    {
     "name": "stdout",
     "output_type": "stream",
     "text": [
      "[[120, 30, 65]]\n"
     ]
    }
   ],
   "source": [
    "# Quizz\n",
    "l = []\n",
    "odi = [120, 30, 65]\n",
    "l.append(odi)\n",
    "print(l)"
   ]
  },
  {
   "cell_type": "code",
   "execution_count": 42,
   "metadata": {
    "collapsed": false,
    "pycharm": {
     "name": "#%%\n"
    }
   },
   "outputs": [
    {
     "name": "stdout",
     "output_type": "stream",
     "text": [
      "[120, 30, 65]\n"
     ]
    }
   ],
   "source": [
    "\n",
    "l = []\n",
    "odi = [120, 30, 65]\n",
    "l.extend(odi)\n",
    "print(l)"
   ]
  },
  {
   "cell_type": "markdown",
   "metadata": {
    "collapsed": false,
    "pycharm": {
     "name": "#%% md\n"
    }
   },
   "source": [
    "# More method like\n",
    "1) Sort\n",
    "2) Syntax = lst.sort() # by default it is True\n",
    "3) Syntax  = lst.sort(reverse=True)\n"
   ]
  },
  {
   "cell_type": "code",
   "execution_count": 44,
   "metadata": {
    "collapsed": false,
    "pycharm": {
     "name": "#%%\n"
    }
   },
   "outputs": [
    {
     "name": "stdout",
     "output_type": "stream",
     "text": [
      "[2, 3, 4, 5, 6, 8]\n"
     ]
    }
   ],
   "source": [
    "lst = [4, 3, 5, 6, 8, 2]\n",
    "lst.sort()\n",
    "print(lst)"
   ]
  },
  {
   "cell_type": "code",
   "execution_count": 47,
   "metadata": {
    "collapsed": false,
    "pycharm": {
     "name": "#%%\n"
    }
   },
   "outputs": [
    {
     "name": "stdout",
     "output_type": "stream",
     "text": [
      "[8, 6, 5, 4, 3, 2]\n"
     ]
    }
   ],
   "source": [
    "lst = [4, 3, 5, 6, 8, 2]\n",
    "lst.sort(reverse=True)\n",
    "print(lst)"
   ]
  },
  {
   "cell_type": "code",
   "execution_count": 48,
   "metadata": {
    "collapsed": false,
    "pycharm": {
     "name": "#%%\n"
    }
   },
   "outputs": [
    {
     "name": "stdout",
     "output_type": "stream",
     "text": [
      "[4, 3, 2, 1, 5]\n"
     ]
    }
   ],
   "source": [
    "# Quizz 5\n",
    "l = [1, 2, 3, 4]\n",
    "l.reverse()\n",
    "l.append(5) # this come after revers statement\n",
    "print(l)"
   ]
  },
  {
   "cell_type": "code",
   "execution_count": 3,
   "metadata": {
    "collapsed": false,
    "pycharm": {
     "name": "#%%\n"
    }
   },
   "outputs": [
    {
     "name": "stdout",
     "output_type": "stream",
     "text": [
      "[5, 4, 3, 2, 1]\n"
     ]
    }
   ],
   "source": [
    "l = [1, 2, 3, 4]\n",
    "l.append(5)\n",
    "l.reverse()\n",
    "\n",
    "print(l)"
   ]
  },
  {
   "cell_type": "markdown",
   "metadata": {
    "collapsed": false
   },
   "source": [
    "# Introduction to 2D List\n",
    "\n",
    "\n",
    "In Python, a 2D list (or a list of lists) is a list that contains other lists as its elements.\n",
    "Each of the inner lists represents a row of data, and each element of the inner lists represents a column of data.\n",
    "\n",
    "A 2D list is a way to represent a table or a matrix of values in Python.\n",
    "It can be useful in many situations where you need to store and manipulate a collection of data that has a two-dimensional structure, such as a spreadsheet or a grid of pixels in an image."
   ]
  },
  {
   "cell_type": "markdown",
   "metadata": {
    "collapsed": false,
    "pycharm": {
     "name": "#%% md\n"
    }
   },
   "source": [
    "# Que -\n",
    "1 How many formats played by Sachin ?\n",
    "2 How many ODI Played by Sachin ?\n",
    "3 How many"
   ]
  },
  {
   "cell_type": "code",
   "execution_count": 52,
   "metadata": {
    "collapsed": false,
    "pycharm": {
     "name": "#%%\n"
    }
   },
   "outputs": [
    {
     "name": "stdout",
     "output_type": "stream",
     "text": [
      "8\n"
     ]
    }
   ],
   "source": [
    "# [4, 5, 6] is considered as 3rd element not as list\n",
    "#    0, 2, 2,     3      4, 5, 6\n",
    "l = [1, 2, 3, [4, 5, 6], 7, 8, 9]\n",
    "#       1 + 7\n",
    "print(l[0]+l[4])"
   ]
  },
  {
   "cell_type": "code",
   "execution_count": 4,
   "metadata": {
    "collapsed": false,
    "pycharm": {
     "name": "#%%\n"
    }
   },
   "outputs": [
    {
     "data": {
      "text/plain": [
       "10"
      ]
     },
     "execution_count": 4,
     "metadata": {},
     "output_type": "execute_result"
    }
   ],
   "source": [
    "nums = [[10, 20, 30], [98, 99]]\n",
    "nums[0][0]"
   ]
  },
  {
   "cell_type": "code",
   "execution_count": 62,
   "metadata": {
    "collapsed": false,
    "pycharm": {
     "name": "#%%\n"
    }
   },
   "outputs": [
    {
     "data": {
      "text/plain": [
       "98"
      ]
     },
     "execution_count": 62,
     "metadata": {},
     "output_type": "execute_result"
    }
   ],
   "source": [
    "nums = [[10, 20, 30], [98, 99]]\n",
    "nums[1][0]"
   ]
  },
  {
   "cell_type": "code",
   "execution_count": 5,
   "metadata": {
    "collapsed": false,
    "pycharm": {
     "name": "#%%\n"
    }
   },
   "outputs": [
    {
     "name": "stdout",
     "output_type": "stream",
     "text": [
      "0 0\n",
      "0 1\n",
      "1 0\n",
      "1 1\n"
     ]
    }
   ],
   "source": [
    "for i in range(2):\n",
    "    for j in range(2):\n",
    "        print(i, j)"
   ]
  },
  {
   "cell_type": "code",
   "execution_count": 4,
   "metadata": {
    "collapsed": false,
    "pycharm": {
     "name": "#%%\n"
    }
   },
   "outputs": [
    {
     "name": "stdout",
     "output_type": "stream",
     "text": [
      "1 2 3 \n",
      "4 5 6 \n",
      "7 8 9 \n"
     ]
    }
   ],
   "source": [
    "lst = [[1, 2, 3],[4, 5, 6],[7, 8, 9]]\n",
    "for i in range(len(lst)):\n",
    "    for j in range(len(lst[0])):\n",
    "        print(lst[i][j], end=' ')\n",
    "    print()"
   ]
  },
  {
   "cell_type": "code",
   "execution_count": 6,
   "metadata": {},
   "outputs": [
    {
     "name": "stdout",
     "output_type": "stream",
     "text": [
      "1 2 3 1 \n",
      "4 5 6 0 \n",
      "7 8 9 1 \n"
     ]
    }
   ],
   "source": [
    "lst = [[1, 2, 3, 1],[4, 5, 6, 0],[7, 8, 9, 1]]\n",
    "for i in range(len(lst)):\n",
    "    for j in range(len(lst[0])):\n",
    "        print(lst[i][j], end=' ')\n",
    "    print()"
   ]
  },
  {
   "cell_type": "code",
   "execution_count": 7,
   "metadata": {},
   "outputs": [
    {
     "name": "stdout",
     "output_type": "stream",
     "text": [
      "The sum of all the elements in the matrix is: 45\n"
     ]
    }
   ],
   "source": [
    "# write a program to print sum of elements present in matrix\n",
    "\n",
    "\"\"\"In this program, we define a matrix as a list of lists. \n",
    "We then initialize a sum variable to 0 and use two nested for loops to iterate through each element of the matrix and add it to the sum. \n",
    "Finally, we print out the sum of all the elements in the matrix.\n",
    "\n",
    "You can modify the program to work with any matrix by changing the values in the matrix variable.\"\"\"\n",
    "\n",
    "# define a matrix\n",
    "matrix = [\n",
    "    [1, 2, 3],\n",
    "    [4, 5, 6],\n",
    "    [7, 8, 9]\n",
    "]\n",
    "\n",
    "# initialize the sum variable\n",
    "sum = 0\n",
    "\n",
    "# loop through each row and column to calculate the sum\n",
    "for i in range(len(matrix)):\n",
    "    for j in range(len(matrix[i])):\n",
    "        sum += matrix[i][j]\n",
    "\n",
    "# print the result\n",
    "print(\"The sum of all the elements in the matrix is:\", sum)"
   ]
  },
  {
   "cell_type": "code",
   "execution_count": 9,
   "metadata": {},
   "outputs": [
    {
     "name": "stdout",
     "output_type": "stream",
     "text": [
      "Original Array: [2, 4, 6, 8, 10]\n",
      "Inverse Array: [10, 8, 6, 4, 2]\n"
     ]
    }
   ],
   "source": [
    "# Invers of an Array in python \n",
    "\n",
    "\n",
    "'''Sure, here's an example Python program that finds the inverse of an array:'''\n",
    "\n",
    "# define the array\n",
    "arr = [2, 4, 6, 8, 10]\n",
    "\n",
    "# reverse the array using slicing\n",
    "inverse_arr = arr[::-1]\n",
    "\n",
    "# print the result\n",
    "print(\"Original Array:\", arr)\n",
    "print(\"Inverse Array:\", inverse_arr)"
   ]
  },
  {
   "attachments": {},
   "cell_type": "markdown",
   "metadata": {},
   "source": [
    "In this program, we define an array arr with some values. To find its inverse, we simply reverse the array using slicing notation with a step of -1. \n",
    "This creates a new array inverse_arr with the elements in reverse order.\n",
    "\n",
    "Finally, we print both the original array and the inverse array using print() function.\n",
    "\n",
    "Note that the inverse of an array is sometimes called its reverse. If you want to modify the original array in place instead of creating a new one, you can use the reverse() method of the list object in Python. Here's an example:"
   ]
  },
  {
   "cell_type": "code",
   "execution_count": 8,
   "metadata": {},
   "outputs": [
    {
     "name": "stdout",
     "output_type": "stream",
     "text": [
      "Inverse Array: [10, 8, 6, 4, 2]\n"
     ]
    }
   ],
   "source": [
    "'''This program reverses the array arr in place using the reverse() method and then prints the result.'''\n",
    "\n",
    "# define the array\n",
    "arr = [2, 4, 6, 8, 10]\n",
    "\n",
    "# reverse the array in place\n",
    "arr.reverse()\n",
    "\n",
    "# print the result\n",
    "print(\"Inverse Array:\", arr)\n"
   ]
  },
  {
   "cell_type": "code",
   "execution_count": 12,
   "metadata": {},
   "outputs": [
    {
     "name": "stdout",
     "output_type": "stream",
     "text": [
      "[1, 3, 2, 0]\n"
     ]
    }
   ],
   "source": [
    "lst = [3, 0, 2 ,1]\n",
    "res = [0]*len(lst)\n",
    "for i in range(len(lst)):\n",
    "    res[lst[i]] = i\n",
    "print(res)"
   ]
  }
 ],
 "metadata": {
  "kernelspec": {
   "display_name": "Python 3 (ipykernel)",
   "language": "python",
   "name": "python3"
  },
  "language_info": {
   "codemirror_mode": {
    "name": "ipython",
    "version": 3
   },
   "file_extension": ".py",
   "mimetype": "text/x-python",
   "name": "python",
   "nbconvert_exporter": "python",
   "pygments_lexer": "ipython3",
   "version": "3.10.7"
  }
 },
 "nbformat": 4,
 "nbformat_minor": 1
}
