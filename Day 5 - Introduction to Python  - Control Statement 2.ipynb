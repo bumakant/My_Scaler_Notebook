{
 "cells": [
  {
   "cell_type": "code",
   "execution_count": 1,
   "metadata": {
    "collapsed": true
   },
   "outputs": [
    {
     "name": "stdout",
     "output_type": "stream",
     "text": [
      "Negative\n"
     ]
    }
   ],
   "source": [
    "# to check number is positive and negative\n",
    "# Control System 2\n",
    "\n",
    "N = int(input())\n",
    "if N>= 0:\n",
    "# here we have put contion if n is greater than or equal to zero, number is being compared with zero\n",
    "    print('Positive')\n",
    "else:\n",
    "    print('Negative')"
   ]
  },
  {
   "cell_type": "code",
   "execution_count": null,
   "metadata": {
    "pycharm": {
     "name": "#%%\n"
    }
   },
   "outputs": [],
   "source": [
    "# Check zero , positive or negative\n",
    "N = int(input())\n",
    "if N>= 0:\n",
    "    if N == 0:\n",
    "        print('zero') # here we are checking if number is equal to zero\n",
    "    else:\n",
    "        print('Positive')\n",
    "else:\n",
    "    print('Negative')"
   ]
  },
  {
   "cell_type": "code",
   "execution_count": null,
   "metadata": {
    "pycharm": {
     "name": "#%%\n"
    }
   },
   "outputs": [],
   "source": [
    "n = int(input())\n",
    "if n == 0:\n",
    "    print(\"Zero\")\n",
    "else:\n",
    "    if n > 0:\n",
    "        print(\"Positive\")\n",
    "    else:\n",
    "        print(\"Negative\")\n",
    "print(n)"
   ]
  },
  {
   "cell_type": "code",
   "execution_count": 2,
   "metadata": {
    "pycharm": {
     "name": "#%%\n"
    }
   },
   "outputs": [
    {
     "name": "stdout",
     "output_type": "stream",
     "text": [
      "The time is 9.0\n",
      "Good Morning\n",
      "Done\n"
     ]
    }
   ],
   "source": [
    "# Greeting USer\n",
    "time = float(input())\n",
    "print(\"The time is\", time)\n",
    "if 7 <= time < 12:\n",
    "    print(\"Good Morning\")\n",
    "\n",
    "if 12 <= time < 17:\n",
    "    print(\"Good Afternoon\")\n",
    "\n",
    "if 17 <= time < 22:\n",
    "    print(\"Good Evening\")\n",
    "\n",
    "if 22 <= time <= 24:\n",
    "    print(\"Good Night\")\n",
    "\n",
    "if 0 <= time < 6:\n",
    "    print(\"So Jao\")\n",
    "print(\"Done\")"
   ]
  },
  {
   "cell_type": "markdown",
   "metadata": {
    "pycharm": {
     "name": "#%% md\n"
    }
   },
   "source": [
    "Write a program that takes in a number N as input and does the following:\n",
    "\n",
    "if N is a multiple of 3, print Fizz\n",
    "if N is a multiple of 5, print Buzz\n",
    "if N is a multiple of both 3 and 5, print FizzBuzz"
   ]
  },
  {
   "cell_type": "code",
   "execution_count": null,
   "metadata": {
    "pycharm": {
     "name": "#%%\n"
    }
   },
   "outputs": [],
   "source": [
    "n = int(input())\n",
    "if n % 3 == 0 and n % 5 == 0:\n",
    "    print(\"FizzBuzz\")\n",
    "elif n % 5 == 0:\n",
    "    print(\"Buzz\")\n",
    "elif n % 3 == 0:\n",
    "    print(\"Fizz\")"
   ]
  },
  {
   "cell_type": "markdown",
   "metadata": {
    "pycharm": {
     "name": "#%% md\n"
    }
   },
   "source": [
    "Problem Description\n",
    "Write a program that asks the user to input a number N. If N is between 10 and 20, your program should ask the user to enter another number M and then:-\n",
    "\n",
    "Print the sum of the two numbers.\n",
    "If the sum is greater than equal to 100, your program should also print \"That is a large sum!\" on a new line.\n",
    "If N is not between 10 and 20, your program should print -1."
   ]
  },
  {
   "cell_type": "code",
   "execution_count": 7,
   "metadata": {
    "pycharm": {
     "name": "#%%\n"
    }
   },
   "outputs": [
    {
     "name": "stdout",
     "output_type": "stream",
     "text": [
      "48\n"
     ]
    }
   ],
   "source": [
    "n = int(input()) # Taking user input\n",
    "if 10 <= n <= 20: # checking if it is lying between 10 and 20\n",
    "    m = int(input()) # Taking another input\n",
    "    s=m+n # taking new sum of bother user input\n",
    "    if s<100: # comparing sum with 100\n",
    "        print(s)\n",
    "    elif s>=100:\n",
    "        print(s) #\n",
    "        print(\"That is a large sum!\")\n",
    "else:\n",
    "    print(\"-1\")"
   ]
  },
  {
   "cell_type": "markdown",
   "metadata": {},
   "source": []
  },
  {
   "cell_type": "code",
   "execution_count": 9,
   "metadata": {
    "pycharm": {
     "name": "#%%\n"
    }
   },
   "outputs": [
    {
     "name": "stdout",
     "output_type": "stream",
     "text": [
      "Machine Learning\n"
     ]
    }
   ],
   "source": [
    "# Quizzes\n",
    "if False:\n",
    "    print(\"Artificial Intelligence\") # this was false so, it did not get printed\n",
    "elif True:\n",
    "    print(\"Machine Learning\") # this was executed first\n",
    "elif True:\n",
    "    print(\"Data Science\")\n",
    "else:\n",
    "    print(\"Deep Learning\")"
   ]
  },
  {
   "cell_type": "code",
   "execution_count": 11,
   "metadata": {
    "pycharm": {
     "name": "#%%\n"
    }
   },
   "outputs": [
    {
     "name": "stdout",
     "output_type": "stream",
     "text": [
      "ML is fun\n",
      "I love DS\n"
     ]
    }
   ],
   "source": [
    "# Quizzes\n",
    "a = 1\n",
    "b = 0\n",
    "c = 1\n",
    "if a and b: # 1 and 0 - False\n",
    "    print(\"Scaler is awesome\")\n",
    "if a and c: # a n d  -  True\n",
    "    print(\"ML is fun\")\n",
    "if b and c: #0 and 1  -  false\n",
    "    print(\"Python is amazing\")\n",
    "if a or b or c: # a or b or c    -True\n",
    "    print(\"I love DS\")"
   ]
  },
  {
   "attachments": {},
   "cell_type": "markdown",
   "metadata": {
    "pycharm": {
     "name": "#%% md\n"
    }
   },
   "source": [
    "Question -  given an integer N, perform the following contiotion action:\n",
    "-If N is odd, print Weired\n",
    "-If N is even and in the inclusive range if 2 to 5, print Not Weired\n",
    "-If N is even and in the inclusive range if 6 to 20, print Weired\n",
    "-If N is even and greater than 20, print Not weired\n"
   ]
  },
  {
   "cell_type": "code",
   "execution_count": null,
   "metadata": {
    "pycharm": {
     "name": "#%%\n"
    }
   },
   "outputs": [],
   "source": [
    "N  =  int(input())\n",
    "#for odd, remainder  should be zero or not equal to 2\n",
    "if N % 2  != 1: \n",
    "    print(\"Weired\")\n",
    "elif 5 >= N >= 2:\n",
    "    print(\"Not Weired\")\n",
    "elif 6 >= N >= 20:\n",
    "    print(\"Weired\")\n",
    "elif N <= 20:\n",
    "    print(\"Not Weired\")"
   ]
  },
  {
   "cell_type": "markdown",
   "metadata": {
    "pycharm": {
     "name": "#%% md\n"
    }
   },
   "source": [
    "Question -  given an integer N, perform the following contiotion action:\n",
    "-If N is odd, integer range of 2 to 5, print Weired\n",
    "-If N is even and in the inclusive range if 2 to 5, print Not Weired\n",
    "-If N is odd and greater than 6, print Weired\n",
    "-If N is even and greater than 6, print Not weired"
   ]
  },
  {
   "cell_type": "code",
   "execution_count": null,
   "metadata": {
    "pycharm": {
     "name": "#%%\n"
    }
   },
   "outputs": [],
   "source": [
    "N  =  int(input())\n",
    "# here we are using nested if else\n",
    "if N % 2  == 1: #odd\n",
    "    if 5 >= N >= 2:\n",
    "        print(\"Weired\")\n",
    "    elif N >=6:\n",
    "        print(\"Not Weired\")\n",
    "else: #even\n",
    "    if 5 >= N >= 2:\n",
    "        print(\"Not Weired\")\n",
    "    else:\n",
    "        print(\"Weired\")"
   ]
  },
  {
   "cell_type": "code",
   "execution_count": null,
   "metadata": {
    "pycharm": {
     "name": "#%%\n"
    }
   },
   "outputs": [],
   "source": [
    "# Favourite programing language\n",
    "lang = input()\n",
    "if lang == \"Python\":\n",
    "    print(\"Wow\")\n",
    "elif lang == \"Javascript\":\n",
    "    print(\"Cool\")\n",
    "elif lang == \"C\":\n",
    "    print(\"Super\")\n",
    "else:\n",
    "    print(\"Are you living under a rock ?\")"
   ]
  }
 ],
 "metadata": {
  "kernelspec": {
   "display_name": "Python 3 (ipykernel)",
   "language": "python",
   "name": "python3"
  },
  "language_info": {
   "codemirror_mode": {
    "name": "ipython",
    "version": 3
   },
   "file_extension": ".py",
   "mimetype": "text/x-python",
   "name": "python",
   "nbconvert_exporter": "python",
   "pygments_lexer": "ipython3",
   "version": "3.10.7"
  }
 },
 "nbformat": 4,
 "nbformat_minor": 1
}
