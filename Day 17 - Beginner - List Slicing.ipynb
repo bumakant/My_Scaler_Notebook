{
 "cells": [
  {
   "cell_type": "markdown",
   "metadata": {
    "collapsed": true,
    "pycharm": {
     "name": "#%% md\n"
    }
   },
   "source": [
    "Python List Slicing\n",
    "\n",
    "In Python, list slicing is a common practice, and it is the most used technique for programmers to solve efficient problems.\n",
    "Consider a python list, In-order to access a range of elements in a list, you need to slice a list.\n",
    "One way to do this is to use the simple slicing operator i.e. colon(:)\n",
    "\n",
    "With this operator, one can specify where to start the slicing, where to end, and specify the step. List slicing returns a new list from the existing list.\n",
    "\n",
    "Syntax:\n",
    "\n",
    "Lst[ Initial : End : IndexJump ]\n",
    "\n",
    "If Lst is a list, then the above expression returns the portion of the list from index Initial to index End, at a step size IndexJump."
   ]
  },
  {
   "cell_type": "markdown",
   "metadata": {
    "pycharm": {
     "name": "#%% md\n"
    }
   },
   "source": [
    "Indexing\n",
    "1. Positive Indexes\n",
    "\n",
    "Below is a simple program, to display a whole list using slicing."
   ]
  },
  {
   "cell_type": "code",
   "execution_count": 4,
   "metadata": {
    "pycharm": {
     "name": "#%%\n"
    }
   },
   "outputs": [
    {
     "name": "stdout",
     "output_type": "stream",
     "text": [
      "[50, 70, 30, 20, 90, 10, 50]\n"
     ]
    }
   ],
   "source": [
    "# Initialize list\n",
    "Lst = [50, 70, 30, 20, 90, 10, 50]\n",
    "\n",
    "# Display list\n",
    "print(Lst[::])"
   ]
  },
  {
   "cell_type": "markdown",
   "metadata": {
    "pycharm": {
     "name": "#%% md\n"
    }
   },
   "source": [
    "2. Negative Indexes\n",
    "\n",
    "Now, let us look at the below diagram which illustrates a list along with its negative indexes.\n",
    "\n",
    "Index -1 represents the last element and -n represents the first element of the list(considering n as the length of the list).\n",
    "Lists can also be manipulated using negative indexes also."
   ]
  },
  {
   "cell_type": "code",
   "execution_count": 6,
   "metadata": {
    "pycharm": {
     "name": "#%%\n"
    }
   },
   "outputs": [
    {
     "name": "stdout",
     "output_type": "stream",
     "text": [
      "[50, 70, 30, 20, 90, 10, 50]\n"
     ]
    }
   ],
   "source": [
    "# Initialize list\n",
    "Lst = [50, 70, 30, 20, 90, 10, 50]\n",
    "\n",
    "# Display list\n",
    "print(Lst[-7::1])"
   ]
  },
  {
   "cell_type": "markdown",
   "metadata": {
    "pycharm": {
     "name": "#%% md\n"
    }
   },
   "source": [
    "As mentioned earlier list slicing is a common practice in Python and can be used both with positive indexes and negative indexes.\n",
    "The below diagram illustrates the technique of list slicing:"
   ]
  },
  {
   "cell_type": "code",
   "execution_count": 7,
   "metadata": {
    "pycharm": {
     "name": "#%%\n"
    }
   },
   "outputs": [
    {
     "name": "stdout",
     "output_type": "stream",
     "text": [
      "[70, 30, 20, 90]\n"
     ]
    }
   ],
   "source": [
    "\n",
    "# Initialize list\n",
    "Lst = [50, 70, 30, 20, 90, 10, 50]\n",
    "\n",
    "# Display list\n",
    "print(Lst[1:5])"
   ]
  },
  {
   "cell_type": "code",
   "execution_count": 1,
   "metadata": {
    "pycharm": {
     "name": "#%%\n"
    }
   },
   "outputs": [
    {
     "name": "stdout",
     "output_type": "stream",
     "text": [
      "\n",
      "Original List:\n",
      " [1, 2, 3, 4, 5, 6, 7, 8, 9]\n",
      "\n",
      "Sliced Lists: \n",
      "[4, 6, 8]\n",
      "[1, 3, 5, 7, 9]\n",
      "[1, 2, 3, 4, 5, 6, 7, 8, 9]\n"
     ]
    }
   ],
   "source": [
    "# Example 1:\n",
    "\n",
    "\n",
    "# Initialize list\n",
    "List = [1, 2, 3, 4, 5, 6, 7, 8, 9]\n",
    "\n",
    "# Show original list\n",
    "print(\"\\nOriginal List:\\n\", List)\n",
    "\n",
    "print(\"\\nSliced Lists: \")\n",
    "\n",
    "# Display sliced list\n",
    "print(List[3:9:2])\n",
    "\n",
    "# Display sliced list\n",
    "print(List[::2])\n",
    "\n",
    "# Display sliced list\n",
    "print(List[::])\n",
    "\n",
    "# Leaving any argument like Initial, End or IndexJump blank will lead to the use of default values\n",
    "# i.e 0 as Initial, length of list as End and 1 as IndexJump."
   ]
  },
  {
   "cell_type": "code",
   "execution_count": 2,
   "metadata": {
    "pycharm": {
     "name": "#%%\n"
    }
   },
   "outputs": [
    {
     "name": "stdout",
     "output_type": "stream",
     "text": [
      "\n",
      "Original List:\n",
      " ['Geeks', 4, 'geeks !']\n",
      "\n",
      "Sliced Lists: \n",
      "['geeks !', 4, 'Geeks']\n",
      "['geeks !']\n",
      "['geeks !']\n"
     ]
    }
   ],
   "source": [
    "# Example 2:\n",
    "\n",
    "\n",
    "# Initialize list\n",
    "List = ['Geeks', 4, 'geeks !']\n",
    "\n",
    "# Show original list\n",
    "print(\"\\nOriginal List:\\n\", List)\n",
    "\n",
    "print(\"\\nSliced Lists: \")\n",
    "\n",
    "# Display sliced list\n",
    "print(List[::-1])\n",
    "\n",
    "# Display sliced list\n",
    "print(List[::-3])\n",
    "\n",
    "# Display sliced list\n",
    "print(List[:1:-2])\n",
    "\n",
    "# A reversed list can be generated by using a negative integer as the IndexJump argument.\n",
    "# Leaving the Initial and End as blank.\n",
    "# We need to choose the Initial and End value according to a reversed list if the IndexJump value is negative."
   ]
  },
  {
   "cell_type": "code",
   "execution_count": 3,
   "metadata": {
    "pycharm": {
     "name": "#%%\n"
    }
   },
   "outputs": [
    {
     "name": "stdout",
     "output_type": "stream",
     "text": [
      "\n",
      "Original List:\n",
      " [-999, 'G4G', 1706256, '^_^', 3.1496]\n",
      "\n",
      "Sliced Lists: \n",
      "[]\n",
      "[]\n",
      "[]\n",
      "[]\n"
     ]
    }
   ],
   "source": [
    "# Example 3:\n",
    "\n",
    "\n",
    "# Initialize list\n",
    "List = [-999, 'G4G', 1706256, '^_^', 3.1496]\n",
    "\n",
    "# Show original list\n",
    "print(\"\\nOriginal List:\\n\", List)\n",
    "\n",
    "print(\"\\nSliced Lists: \")\n",
    "\n",
    "# Display sliced list\n",
    "print(List[10::2])\n",
    "\n",
    "# Display sliced list\n",
    "print(List[1:1:1])\n",
    "\n",
    "# Display sliced list\n",
    "print(List[-1:-1:-1])\n",
    "\n",
    "# Display sliced list\n",
    "print(List[:0:])\n",
    "\n",
    "# If some slicing expressions are made that do not make sense or are incomputable then empty lists are generated."
   ]
  },
  {
   "cell_type": "code",
   "execution_count": null,
   "metadata": {
    "pycharm": {
     "name": "#%%\n"
    }
   },
   "outputs": [],
   "source": [
    "# Example 4:\n",
    "\n",
    "\n",
    "# Initialize list\n",
    "List = [-999, 'G4G', 1706256, 3.1496, '^_^']\n",
    "\n",
    "# Show original list\n",
    "print(\"\\nOriginal List:\\n\", List)\n",
    "\n",
    "\n",
    "print(\"\\nSliced Lists: \")\n",
    "\n",
    "# Modified List\n",
    "List[2:4] = ['Geeks', 'for', 'Geeks', '!']\n",
    "\n",
    "# Display sliced list\n",
    "print(List)\n",
    "\n",
    "# Modified List\n",
    "List[:6] = []\n",
    "\n",
    "# Display sliced list\n",
    "print(List)\n",
    "\n",
    "# List slicing can be used to modify lists or even delete elements from a list."
   ]
  },
  {
   "cell_type": "code",
   "execution_count": null,
   "metadata": {
    "pycharm": {
     "name": "#%%\n"
    }
   },
   "outputs": [],
   "source": [
    "# Example 5:\n",
    "\n",
    "\n",
    "# Initialize list\n",
    "List = [1, 2, 3, 4, 5, 6, 7, 8, 9]\n",
    "\n",
    "# Show original list\n",
    "print(\"\\nOriginal List:\\n\", List)\n",
    "\n",
    "print(\"\\nSliced Lists: \")\n",
    "\n",
    "# Creating new List\n",
    "newList = List[:3]+List[7:]\n",
    "\n",
    "# Display sliced list\n",
    "print(newList)\n",
    "\n",
    "# Changing existing List\n",
    "List = List[::2]+List[1::2]\n",
    "\n",
    "# Display sliced list\n",
    "print(List)\n",
    "\n",
    "# By concatenating sliced lists, a new list can be created or even a pre-existing list can be modified.\n"
   ]
  },
  {
   "cell_type": "markdown",
   "metadata": {
    "pycharm": {
     "name": "#%% md\n"
    }
   },
   "source": [
    "# Scaler \n",
    "\n",
    "# Agenda \n",
    "* List Slicing \n",
    "* Problem on list slicing "
   ]
  },
  {
   "cell_type": "code",
   "execution_count": 28,
   "metadata": {
    "pycharm": {
     "name": "#%%\n"
    }
   },
   "outputs": [
    {
     "name": "stdout",
     "output_type": "stream",
     "text": [
      "[0, 56, 78, 34, 56, 87, 74, 73, 90, 99]\n",
      "Runs in even matches \n",
      "0 78 56 74 90 "
     ]
    }
   ],
   "source": [
    "# Runs in Even matches\n",
    "runs = [0, 56, 78, 34, 56, 87, 74, 73, 90, 99]\n",
    "print(runs)\n",
    "print(\"Runs in even matches \")\n",
    "for i in range (len(runs)):\n",
    "    if i % 2 == 0:\n",
    "        print(runs[i], end=\" \")"
   ]
  },
  {
   "cell_type": "code",
   "execution_count": 27,
   "metadata": {
    "pycharm": {
     "name": "#%%\n"
    }
   },
   "outputs": [
    {
     "name": "stdout",
     "output_type": "stream",
     "text": [
      "[0, 56, 78, 34, 56, 87, 74, 73, 90, 99]\n",
      "Runs in odd  matches \n",
      "56 34 87 73 99 "
     ]
    }
   ],
   "source": [
    "# Runs in odd matches\n",
    "runs = [0, 56, 78, 34, 56, 87, 74, 73, 90, 99]\n",
    "print(runs)\n",
    "print(\"Runs in odd  matches \")\n",
    "for i in range (len(runs)):\n",
    "    if i % 2 == 1:\n",
    "        print(runs[i], end=\" \")"
   ]
  },
  {
   "cell_type": "code",
   "execution_count": 26,
   "metadata": {
    "pycharm": {
     "name": "#%%\n"
    }
   },
   "outputs": [
    {
     "name": "stdout",
     "output_type": "stream",
     "text": [
      "[0, 56, 78, 34, 56, 87, 74, 73, 90, 99]\n",
      "Runs in first 5 matches \n",
      "0 56 78 34 56 "
     ]
    }
   ],
   "source": [
    "# to print 1st five matches runs\n",
    "runs = [0, 56, 78, 34, 56, 87, 74, 73, 90, 99]\n",
    "print(runs)\n",
    "print(\"Runs in first 5 matches \")\n",
    "for i in range (5):\n",
    "    print(runs[i], end=\" \")"
   ]
  },
  {
   "cell_type": "code",
   "execution_count": 30,
   "outputs": [
    {
     "name": "stdout",
     "output_type": "stream",
     "text": [
      "[0, 56, 78, 34, 56, 87, 74, 73, 90, 99]\n",
      "Runs in lst 3 matches \n",
      "73 90 99 "
     ]
    }
   ],
   "source": [
    "# To print last 3 matches information using positive index\n",
    "runs = [0, 56, 78, 34, 56, 87, 74, 73, 90, 99]\n",
    "print(runs)\n",
    "print(\"Runs in lst 3 matches \")\n",
    "for i in range (7, 10):\n",
    "    print(runs[i], end=\" \")"
   ],
   "metadata": {
    "collapsed": false,
    "pycharm": {
     "name": "#%%\n"
    }
   }
  },
  {
   "cell_type": "code",
   "execution_count": 32,
   "outputs": [
    {
     "name": "stdout",
     "output_type": "stream",
     "text": [
      "[0, 56, 78, 34, 56, 87, 74, 73, 90, 99]\n",
      "Runs in lst 3 matches \n",
      "73 90 99 "
     ]
    }
   ],
   "source": [
    "# To print last 3 matches information using negative index\n",
    "runs = [0, 56, 78, 34, 56, 87, 74, 73, 90, 99]\n",
    "print(runs)\n",
    "print(\"Runs in lst 3 matches \")\n",
    "for i in range (-3, 0):\n",
    "    print(runs[i], end=\" \")"
   ],
   "metadata": {
    "collapsed": false,
    "pycharm": {
     "name": "#%%\n"
    }
   }
  },
  {
   "cell_type": "markdown",
   "source": [
    "# Let's use list slicing in code to short the code"
   ],
   "metadata": {
    "collapsed": false,
    "pycharm": {
     "name": "#%% md\n"
    }
   }
  },
  {
   "cell_type": "code",
   "execution_count": 39,
   "outputs": [
    {
     "data": {
      "text/plain": "1618608883392"
     },
     "execution_count": 39,
     "metadata": {},
     "output_type": "execute_result"
    }
   ],
   "source": [
    "runs = [0, 56, 78, 34, 56, 87, 74, 73, 90, 99]\n",
    "runs[0:5:1]\n",
    "id(runs) # identity of variable"
   ],
   "metadata": {
    "collapsed": false,
    "pycharm": {
     "name": "#%%\n"
    }
   }
  },
  {
   "cell_type": "code",
   "execution_count": 40,
   "outputs": [
    {
     "name": "stdout",
     "output_type": "stream",
     "text": [
      "[0, 56, 78, 34, 56, 87, 74, 73, 90, 99]\n"
     ]
    }
   ],
   "source": [
    "print(runs)"
   ],
   "metadata": {
    "collapsed": false,
    "pycharm": {
     "name": "#%%\n"
    }
   }
  },
  {
   "cell_type": "markdown",
   "source": [
    "# Even Index Elements present in list"
   ],
   "metadata": {
    "collapsed": false,
    "pycharm": {
     "name": "#%% md\n"
    }
   }
  },
  {
   "cell_type": "code",
   "execution_count": 45,
   "outputs": [
    {
     "data": {
      "text/plain": "[2, 4, 6, 8, 10]"
     },
     "execution_count": 45,
     "metadata": {},
     "output_type": "execute_result"
    }
   ],
   "source": [
    "lst = [1, 2, 3, 4, 5, 6, 7, 8, 9, 10,12]\n",
    "lst[1:10:2]"
   ],
   "metadata": {
    "collapsed": false,
    "pycharm": {
     "name": "#%%\n"
    }
   }
  },
  {
   "cell_type": "code",
   "execution_count": 48,
   "outputs": [
    {
     "data": {
      "text/plain": "[1, 3, 5, 7, 9, 12]"
     },
     "execution_count": 48,
     "metadata": {},
     "output_type": "execute_result"
    }
   ],
   "source": [
    "lst = [1, 2, 3, 4, 5, 6, 7, 8, 9, 10,12]\n",
    "lst[0:len(lst):2] # it printed odd elements"
   ],
   "metadata": {
    "collapsed": false,
    "pycharm": {
     "name": "#%%\n"
    }
   }
  },
  {
   "cell_type": "code",
   "execution_count": 50,
   "outputs": [
    {
     "data": {
      "text/plain": "[2, 4, 6, 8, 10]"
     },
     "execution_count": 50,
     "metadata": {},
     "output_type": "execute_result"
    }
   ],
   "source": [
    "lst = [1, 2, 3, 4, 5, 6, 7, 8, 9, 10,12]\n",
    "lst[1:len(lst):2]  # it printed even elements"
   ],
   "metadata": {
    "collapsed": false,
    "pycharm": {
     "name": "#%%\n"
    }
   }
  },
  {
   "cell_type": "code",
   "execution_count": 51,
   "outputs": [
    {
     "data": {
      "text/plain": "[56, 34, 87, 73, 99]"
     },
     "execution_count": 51,
     "metadata": {},
     "output_type": "execute_result"
    }
   ],
   "source": [
    "# in case of runs\n",
    "runs = [0, 56, 78, 34, 56, 87, 74, 73, 90, 99]\n",
    "runs[1:len(runs):2] # it printed even elements"
   ],
   "metadata": {
    "collapsed": false,
    "pycharm": {
     "name": "#%%\n"
    }
   }
  },
  {
   "cell_type": "code",
   "execution_count": 53,
   "outputs": [
    {
     "data": {
      "text/plain": "[0, 78, 56, 74, 90]"
     },
     "execution_count": 53,
     "metadata": {},
     "output_type": "execute_result"
    }
   ],
   "source": [
    "runs = [0, 56, 78, 34, 56, 87, 74, 73, 90, 99]\n",
    "runs[0:len(runs):2] # it printed even elements"
   ],
   "metadata": {
    "collapsed": false,
    "pycharm": {
     "name": "#%%\n"
    }
   }
  },
  {
   "cell_type": "code",
   "execution_count": 55,
   "outputs": [
    {
     "data": {
      "text/plain": "[0, 50, 100]"
     },
     "execution_count": 55,
     "metadata": {},
     "output_type": "execute_result"
    }
   ],
   "source": [
    "# Quizz 1\n",
    "nums =[0, 25, 50, 75, 100]\n",
    "nums[0:5:2]"
   ],
   "metadata": {
    "collapsed": false,
    "pycharm": {
     "name": "#%%\n"
    }
   }
  },
  {
   "cell_type": "code",
   "execution_count": 59,
   "outputs": [
    {
     "data": {
      "text/plain": "[25, 75]"
     },
     "execution_count": 59,
     "metadata": {},
     "output_type": "execute_result"
    }
   ],
   "source": [
    "# Quizz 1 a\n",
    "nums =[0, 25, 50, 75, 100]\n",
    "nums[1:5:2]"
   ],
   "metadata": {
    "collapsed": false,
    "pycharm": {
     "name": "#%%\n"
    }
   }
  },
  {
   "cell_type": "code",
   "execution_count": 61,
   "outputs": [
    {
     "data": {
      "text/plain": "[1, 2, 3, 5]"
     },
     "execution_count": 61,
     "metadata": {},
     "output_type": "execute_result"
    }
   ],
   "source": [
    "# quizz 2\n",
    "nums = [1, 1, 2, 3, 5, 8, 13]\n",
    "nums[1:5:1]"
   ],
   "metadata": {
    "collapsed": false,
    "pycharm": {
     "name": "#%%\n"
    }
   }
  },
  {
   "cell_type": "code",
   "execution_count": 65,
   "outputs": [
    {
     "data": {
      "text/plain": "[5, 1, 2, 7, 6]"
     },
     "execution_count": 65,
     "metadata": {},
     "output_type": "execute_result"
    }
   ],
   "source": [
    "# Quizz 3\n",
    "runs = [5, 1, 2, 7, 6, 3, 4]\n",
    "runs[0:5:1]"
   ],
   "metadata": {
    "collapsed": false,
    "pycharm": {
     "name": "#%%\n"
    }
   }
  },
  {
   "cell_type": "markdown",
   "source": [
    "# Default Values"
   ],
   "metadata": {
    "collapsed": false,
    "pycharm": {
     "name": "#%% md\n"
    }
   }
  },
  {
   "cell_type": "code",
   "execution_count": 64,
   "outputs": [
    {
     "data": {
      "text/plain": "[5, 1, 2, 7, 6]"
     },
     "execution_count": 64,
     "metadata": {},
     "output_type": "execute_result"
    }
   ],
   "source": [
    "runs = [5, 1, 2, 7, 6, 3, 4]\n",
    "runs[0:5] # default step size  is 1"
   ],
   "metadata": {
    "collapsed": false,
    "pycharm": {
     "name": "#%%\n"
    }
   }
  },
  {
   "cell_type": "code",
   "execution_count": 66,
   "outputs": [
    {
     "data": {
      "text/plain": "3"
     },
     "execution_count": 66,
     "metadata": {},
     "output_type": "execute_result"
    }
   ],
   "source": [
    "runs = [5, 1, 2, 7, 6, 3, 4]\n",
    "runs[5]"
   ],
   "metadata": {
    "collapsed": false,
    "pycharm": {
     "name": "#%%\n"
    }
   }
  },
  {
   "cell_type": "code",
   "execution_count": null,
   "outputs": [],
   "source": [
    "runs = [5, 1, 2, 7, 6, 3, 4]\n",
    "runs[:5]"
   ],
   "metadata": {
    "collapsed": false,
    "pycharm": {
     "name": "#%%\n"
    }
   }
  },
  {
   "cell_type": "markdown",
   "source": [
    "Syntax:\n",
    "\n",
    "Lst[ Initial : End : IndexJump ]"
   ],
   "metadata": {
    "collapsed": false,
    "pycharm": {
     "name": "#%% md\n"
    }
   }
  },
  {
   "cell_type": "code",
   "execution_count": 68,
   "outputs": [
    {
     "data": {
      "text/plain": "[1, 1, 2, 3, 5]"
     },
     "execution_count": 68,
     "metadata": {},
     "output_type": "execute_result"
    }
   ],
   "source": [
    "nums= [1, 1, 2, 3, 5, 8, 13]\n",
    "nums[:5]"
   ],
   "metadata": {
    "collapsed": false,
    "pycharm": {
     "name": "#%%\n"
    }
   }
  },
  {
   "cell_type": "code",
   "execution_count": 69,
   "outputs": [
    {
     "data": {
      "text/plain": "[1, 2, 3, 5]"
     },
     "execution_count": 69,
     "metadata": {},
     "output_type": "execute_result"
    }
   ],
   "source": [
    "nums= [1, 1, 2, 3, 5, 8, 13]\n",
    "nums[1:5]"
   ],
   "metadata": {
    "collapsed": false,
    "pycharm": {
     "name": "#%%\n"
    }
   }
  },
  {
   "cell_type": "code",
   "execution_count": 70,
   "outputs": [
    {
     "data": {
      "text/plain": "[3, 5, 8]"
     },
     "execution_count": 70,
     "metadata": {},
     "output_type": "execute_result"
    }
   ],
   "source": [
    "nums= [1, 1, 2, 3, 5, 8, 13]\n",
    "nums[3:6]"
   ],
   "metadata": {
    "collapsed": false,
    "pycharm": {
     "name": "#%%\n"
    }
   }
  },
  {
   "cell_type": "markdown",
   "source": [
    "# End Value is also not mandatory\n",
    "# default end value will be total number of elements in list"
   ],
   "metadata": {
    "collapsed": false,
    "pycharm": {
     "name": "#%% md\n"
    }
   }
  },
  {
   "cell_type": "code",
   "execution_count": 72,
   "outputs": [
    {
     "data": {
      "text/plain": "[5, 1, 2, 7, 6, 3, 4]"
     },
     "execution_count": 72,
     "metadata": {},
     "output_type": "execute_result"
    }
   ],
   "source": [
    "runs = [5, 1, 2, 7, 6, 3, 4]\n",
    "# default end value will be total number of elements in list\n",
    "runs[::]"
   ],
   "metadata": {
    "collapsed": false,
    "pycharm": {
     "name": "#%%\n"
    }
   }
  },
  {
   "cell_type": "code",
   "execution_count": 73,
   "outputs": [
    {
     "name": "stdout",
     "output_type": "stream",
     "text": [
      "False\n"
     ]
    }
   ],
   "source": [
    "runs = [5, 1, 2, 7, 6, 3, 4]\n",
    "print(id(runs)==id(runs[:5]))"
   ],
   "metadata": {
    "collapsed": false,
    "pycharm": {
     "name": "#%%\n"
    }
   }
  },
  {
   "cell_type": "code",
   "execution_count": 75,
   "outputs": [
    {
     "data": {
      "text/plain": "[5, 7, 8]"
     },
     "execution_count": 75,
     "metadata": {},
     "output_type": "execute_result"
    }
   ],
   "source": [
    "l = [2, 4, 5, 7, 8]\n",
    "l[-3:]\n",
    "# default start value is -3 and end value is -1, as per negative indexing"
   ],
   "metadata": {
    "collapsed": false,
    "pycharm": {
     "name": "#%%\n"
    }
   }
  },
  {
   "cell_type": "code",
   "execution_count": 76,
   "outputs": [
    {
     "data": {
      "text/plain": "[]"
     },
     "execution_count": 76,
     "metadata": {},
     "output_type": "execute_result"
    }
   ],
   "source": [
    "# quizzes 5\n",
    "l = [2, 4, 5, 7, 8]\n",
    "l[5:0]"
   ],
   "metadata": {
    "collapsed": false,
    "pycharm": {
     "name": "#%%\n"
    }
   }
  },
  {
   "cell_type": "markdown",
   "source": [
    "# Negative Indexes\n",
    "\n",
    "Now, let us look at the below diagram which illustrates a list along with its negative indexes.\n",
    "\n",
    "Index -1 represents the last element and -n represents the first element of the list(considering n as the length of the list).\n",
    "Lists can also be manipulated using negative indexes also."
   ],
   "metadata": {
    "collapsed": false,
    "pycharm": {
     "name": "#%% md\n"
    }
   }
  },
  {
   "cell_type": "code",
   "execution_count": 77,
   "outputs": [
    {
     "data": {
      "text/plain": "4"
     },
     "execution_count": 77,
     "metadata": {},
     "output_type": "execute_result"
    }
   ],
   "source": [
    "runs=[5, 1, 2, 7, 6, 3, 4]\n",
    "runs[-1]"
   ],
   "metadata": {
    "collapsed": false,
    "pycharm": {
     "name": "#%%\n"
    }
   }
  },
  {
   "cell_type": "code",
   "execution_count": 78,
   "outputs": [
    {
     "data": {
      "text/plain": "[]"
     },
     "execution_count": 78,
     "metadata": {},
     "output_type": "execute_result"
    }
   ],
   "source": [
    "runs=[5, 1, 2, 7, 6, 3, 4]\n",
    "runs[-5:1]\n",
    "# start value = -5, end value = len(runs) and step is +1 by default"
   ],
   "metadata": {
    "collapsed": false,
    "pycharm": {
     "name": "#%%\n"
    }
   }
  },
  {
   "cell_type": "code",
   "execution_count": null,
   "outputs": [],
   "source": [],
   "metadata": {
    "collapsed": false,
    "pycharm": {
     "name": "#%%\n"
    }
   }
  },
  {
   "cell_type": "code",
   "execution_count": 79,
   "outputs": [
    {
     "data": {
      "text/plain": "[6, 3, 4]"
     },
     "execution_count": 79,
     "metadata": {},
     "output_type": "execute_result"
    }
   ],
   "source": [
    "runs=[5, 1, 2, 7, 6, 3, 4]\n",
    "runs[-3:7:1]"
   ],
   "metadata": {
    "collapsed": false,
    "pycharm": {
     "name": "#%%\n"
    }
   }
  },
  {
   "cell_type": "code",
   "execution_count": 80,
   "outputs": [
    {
     "data": {
      "text/plain": "[6, 3, 4]"
     },
     "execution_count": 80,
     "metadata": {},
     "output_type": "execute_result"
    }
   ],
   "source": [
    "runs=[5, 1, 2, 7, 6, 3, 4]\n",
    "runs[-3:7]"
   ],
   "metadata": {
    "collapsed": false,
    "pycharm": {
     "name": "#%%\n"
    }
   }
  },
  {
   "cell_type": "code",
   "execution_count": 82,
   "outputs": [
    {
     "data": {
      "text/plain": "[7, 6, 3, 4]"
     },
     "execution_count": 82,
     "metadata": {},
     "output_type": "execute_result"
    }
   ],
   "source": [
    "runs=[5, 1, 2, 7, 6, 3, 4]\n",
    "runs[-4:]"
   ],
   "metadata": {
    "collapsed": false,
    "pycharm": {
     "name": "#%%\n"
    }
   }
  },
  {
   "cell_type": "code",
   "execution_count": 83,
   "outputs": [
    {
     "data": {
      "text/plain": "[2, 3, 5]"
     },
     "execution_count": 83,
     "metadata": {},
     "output_type": "execute_result"
    }
   ],
   "source": [
    "runs=[1,1,2,3,5,8,13]\n",
    "runs[-5:-2]"
   ],
   "metadata": {
    "collapsed": false,
    "pycharm": {
     "name": "#%%\n"
    }
   }
  },
  {
   "cell_type": "code",
   "execution_count": null,
   "outputs": [],
   "source": [
    "runs=[5, 1, 2, 7, 6, 3, 4]\n",
    "runs[-3:7]"
   ],
   "metadata": {
    "collapsed": false,
    "pycharm": {
     "name": "#%%\n"
    }
   }
  },
  {
   "cell_type": "markdown",
   "source": [
    "#interview question\n",
    "#Given a list, print it in reverse using list slicing\n",
    "\n",
    "#syntax [start value:end value:steps]\n",
    "start value will be -1\n",
    "end value will be number of elements-1 as per negative slicing\n",
    "steps will be -1\n",
    "\n",
    "while decrementing end value will be -n-1"
   ],
   "metadata": {
    "collapsed": false,
    "pycharm": {
     "name": "#%% md\n"
    }
   }
  },
  {
   "cell_type": "code",
   "execution_count": 88,
   "outputs": [
    {
     "data": {
      "text/plain": "[4, 3, 6, 7, 2, 1, 5]"
     },
     "execution_count": 88,
     "metadata": {},
     "output_type": "execute_result"
    }
   ],
   "source": [
    "runs=[5, 1, 2, 7, 6, 3, 4]\n",
    "runs[-1:-8:-1]\n",
    "# number of element is -7 but to print last number we added -1 in it"
   ],
   "metadata": {
    "collapsed": false,
    "pycharm": {
     "name": "#%%\n"
    }
   }
  },
  {
   "cell_type": "code",
   "execution_count": 89,
   "outputs": [
    {
     "data": {
      "text/plain": "[4, 3, 6, 7, 2, 1, 5]"
     },
     "execution_count": 89,
     "metadata": {},
     "output_type": "execute_result"
    }
   ],
   "source": [
    "runs=[5, 1, 2, 7, 6, 3, 4]\n",
    "runs[::-1]"
   ],
   "metadata": {
    "collapsed": false,
    "pycharm": {
     "name": "#%%\n"
    }
   }
  },
  {
   "cell_type": "markdown",
   "source": [
    "# Summery\n",
    "List slicing in Python is a technique that allows you to extract a portion of a list by specifying a range of indices. The syntax for slicing a list is as follows: list[start:end:step].\n",
    "\n",
    "# start: the index at which the slice starts (inclusive). If not specified, it defaults to 0.\n",
    "# end: the index at which the slice ends (exclusive). If not specified, it defaults to the end of the list.\n",
    "# step: the increment between each index in the slice. If not specified, it defaults to 1.\n",
    "For example, to extract the first three elements of a list, you can use the following code:"
   ],
   "metadata": {
    "collapsed": false,
    "pycharm": {
     "name": "#%% md\n"
    }
   }
  },
  {
   "cell_type": "code",
   "execution_count": null,
   "outputs": [],
   "source": [
    "my_list = [1, 2, 3, 4, 5]\n",
    "my_slice = my_list[0:3]"
   ],
   "metadata": {
    "collapsed": false,
    "pycharm": {
     "name": "#%%\n"
    }
   }
  },
  {
   "cell_type": "markdown",
   "source": [
    "This will create a new list my_slice containing the first three elements of my_list ([1, 2, 3]).\n",
    "\n",
    "You can also use negative indices to slice a list from the end, and omit the start and/or end indices to slice from the beginning or to the end of the list, respectively.\n",
    "\n",
    "List slicing is a powerful technique that allows you to manipulate and extract portions of a list in Python with ease."
   ],
   "metadata": {
    "collapsed": false,
    "pycharm": {
     "name": "#%% md\n"
    }
   }
  },
  {
   "cell_type": "markdown",
   "source": [
    "#1 whn inc > 0\n",
    "start value = 0\n",
    "end value = len(l)\n",
    "inc =+1\n",
    "\n",
    "#1 whn inc < 0\n",
    "start value = -1\n",
    "end value = -len(l)-1\n",
    "inc =-1"
   ],
   "metadata": {
    "collapsed": false,
    "pycharm": {
     "name": "#%% md\n"
    }
   }
  },
  {
   "cell_type": "code",
   "execution_count": 91,
   "outputs": [
    {
     "data": {
      "text/plain": "[6, 5, 10]"
     },
     "execution_count": 91,
     "metadata": {},
     "output_type": "execute_result"
    }
   ],
   "source": [
    "# quizzes\n",
    "l = [10, 2, 5, 3, 6]\n",
    "l[::-2]"
   ],
   "metadata": {
    "collapsed": false,
    "pycharm": {
     "name": "#%%\n"
    }
   }
  },
  {
   "cell_type": "code",
   "execution_count": 93,
   "outputs": [
    {
     "data": {
      "text/plain": "[10, 5, 6]"
     },
     "execution_count": 93,
     "metadata": {},
     "output_type": "execute_result"
    }
   ],
   "source": [
    "l = [10, 2, 5, 3, 6]\n",
    "l[0:5:2]"
   ],
   "metadata": {
    "collapsed": false,
    "pycharm": {
     "name": "#%%\n"
    }
   }
  },
  {
   "cell_type": "markdown",
   "source": [],
   "metadata": {
    "collapsed": false,
    "pycharm": {
     "name": "#%% md\n"
    }
   }
  },
  {
   "cell_type": "code",
   "execution_count": 97,
   "outputs": [
    {
     "name": "stdout",
     "output_type": "stream",
     "text": [
      "0\n"
     ]
    }
   ],
   "source": [
    "# Frequency of given number\n",
    "lst = [1, 2, 4, 1, 4, 6, 9, 4, 7, 9, 0, 7, 4]\n",
    "target = 5\n",
    "count = 0\n",
    "\n",
    "for i in lst:\n",
    "    if i == target:\n",
    "        count +=1\n",
    "print(count)"
   ],
   "metadata": {
    "collapsed": false,
    "pycharm": {
     "name": "#%%\n"
    }
   }
  },
  {
   "cell_type": "code",
   "execution_count": 99,
   "outputs": [
    {
     "data": {
      "text/plain": "0"
     },
     "execution_count": 99,
     "metadata": {},
     "output_type": "execute_result"
    }
   ],
   "source": [
    "# above code in single line\n",
    "lst = [1, 2, 4, 1, 4, 6, 9, 4, 7, 9, 0, 7, 4]\n",
    "n = int(input())\n",
    "lst.count(n)"
   ],
   "metadata": {
    "collapsed": false,
    "pycharm": {
     "name": "#%%\n"
    }
   }
  },
  {
   "cell_type": "code",
   "execution_count": 100,
   "outputs": [
    {
     "name": "stdout",
     "output_type": "stream",
     "text": [
      "3\n"
     ]
    }
   ],
   "source": [
    "\"\"\"The count() function is a built-in function in Python that is used to count the number of occurrences of a specified element in a list.\n",
    "To use the count() function, you need to provide an argument that specifies the element you want to count. For example:\"\"\"\n",
    "\n",
    "lst = [1, 2, 3, 2, 4, 2, 5]\n",
    "count = lst.count(2)\n",
    "print(count)\n"
   ],
   "metadata": {
    "collapsed": false,
    "pycharm": {
     "name": "#%%\n"
    }
   }
  }
 ],
 "metadata": {
  "kernelspec": {
   "display_name": "Python 3 (ipykernel)",
   "language": "python",
   "name": "python3"
  },
  "language_info": {
   "codemirror_mode": {
    "name": "ipython",
    "version": 3
   },
   "file_extension": ".py",
   "mimetype": "text/x-python",
   "name": "python",
   "nbconvert_exporter": "python",
   "pygments_lexer": "ipython3",
   "version": "3.10.7"
  }
 },
 "nbformat": 4,
 "nbformat_minor": 1
}