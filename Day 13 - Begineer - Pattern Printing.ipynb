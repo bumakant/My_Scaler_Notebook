{
 "cells": [
  {
   "cell_type": "markdown",
   "metadata": {},
   "source": [
    "# Pattern Printing \n",
    "\n",
    "\n",
    "https://www.geeksforgeeks.org/programs-printing-pyramid-patterns-python/\n",
    "\n",
    "https://www.mygreatlearning.com/blog/pattern-program-in-python-pyramid-pattern/\n",
    "\n"
   ]
  },
  {
   "cell_type": "markdown",
   "source": [
    "## Programs for printing pyramid patterns in Python\n",
    "\n",
    "Patterns can be printed in python using simple for loops.\n",
    "First outer loop is used to handle the number of rows and the Inner nested loop is used to handle the number of columns.\n",
    "Manipulating the print statements, different number patterns, alphabet patterns, or star patterns can be printed.\n",
    "\n",
    "Some of the Patterns are shown in this article."
   ],
   "metadata": {
    "collapsed": false,
    "pycharm": {
     "name": "#%% md\n"
    }
   }
  },
  {
   "cell_type": "code",
   "execution_count": 52,
   "outputs": [
    {
     "name": "stdout",
     "output_type": "stream",
     "text": [
      "* \r\n",
      "* * \r\n",
      "* * * \r\n",
      "* * * * \r\n",
      "* * * * * \r\n"
     ]
    }
   ],
   "source": [
    "# Python 3.x code to demonstrate star pattern\n",
    "\n",
    "# Function to demonstrate printing pattern\n",
    "n =  int(input())\n",
    "    # outer loop to handle number of rows\n",
    "    # n in this case\n",
    "for i in range(0, n):\n",
    "    # inner loop to handle number of columns\n",
    "    # values changing acc. to outer loop\n",
    "    for j in range(0, i+1):\n",
    "        print(\"* \",end=\"\")  # printing stars\n",
    "    print(\"\\r\")# ending line after each row\n",
    "\n"
   ],
   "metadata": {
    "collapsed": false,
    "pycharm": {
     "name": "#%%\n"
    }
   }
  },
  {
   "cell_type": "code",
   "execution_count": 53,
   "outputs": [
    {
     "name": "stdout",
     "output_type": "stream",
     "text": [
      "*\n",
      "**\n",
      "***\n",
      "****\n",
      "*****\n"
     ]
    }
   ],
   "source": [
    "## Approach 2: Using List in Python 3, this could be done in a simpler way\n",
    "\n",
    "# Python 3.x code to demonstrate star pattern\n",
    "\n",
    "# Function to demonstrate printing pattern\n",
    "n =  int(input())\n",
    "myList = []\n",
    "for i in range(1,n+1):\n",
    "    myList.append(\"*\"*i)\n",
    "print(\"\\n\".join(myList))\n",
    "\n",
    "# Driver Code\n"
   ],
   "metadata": {
    "collapsed": false,
    "pycharm": {
     "name": "#%%\n"
    }
   }
  },
  {
   "cell_type": "code",
   "execution_count": 60,
   "outputs": [
    {
     "name": "stdout",
     "output_type": "stream",
     "text": [
      "* \n",
      "* * \n",
      "* * * \n",
      "* * * * \n",
      "* * * * * \n"
     ]
    }
   ],
   "source": [
    "# Approach 3: Using recursion\n",
    "#python3 code to print pyramid pattern using recursion\n",
    "def pypart(n):\n",
    "    if n==0:\n",
    "        return\n",
    "    else:\n",
    "        pypart(n-1)\n",
    "        print(\"* \"*n)\n",
    "\n",
    "# Driver Code\n",
    "n = int(input())\n",
    "pypart(n)"
   ],
   "metadata": {
    "collapsed": false,
    "pycharm": {
     "name": "#%%\n"
    }
   }
  },
  {
   "cell_type": "code",
   "execution_count": 62,
   "outputs": [
    {
     "name": "stdout",
     "output_type": "stream",
     "text": [
      "* \r\n",
      "* * \r\n",
      "* * * \r\n",
      "* * * * \r\n",
      "* * * * * \r\n"
     ]
    }
   ],
   "source": [
    "# python3 code to print pyramid pattern using while loop\n",
    "\n",
    "# input\n",
    "n=5\n",
    "\n",
    "i=1;j=0\n",
    "# while loop check the condition until the\n",
    "# condition become false. if it is true then\n",
    "# enter in to loop and print the pattern\n",
    "while(i<=n):\n",
    "    while(j<=i-1):\n",
    "        print(\"* \",end=\"\")\n",
    "        j+=1\n",
    "     # printing next line for each row\n",
    "    print(\"\\r\")\n",
    "    j=0;i+=1"
   ],
   "metadata": {
    "collapsed": false,
    "pycharm": {
     "name": "#%%\n"
    }
   }
  },
  {
   "cell_type": "code",
   "execution_count": 63,
   "outputs": [
    {
     "name": "stdout",
     "output_type": "stream",
     "text": [
      "     \n",
      "    *\n",
      "   **\n",
      "  ***\n",
      " ****\n",
      "*****\n"
     ]
    }
   ],
   "source": [
    "# python3 code to print pyramid pattern using while loop\n",
    "n=int(input())\n",
    "i=0\n",
    "while(i<=n):\n",
    "  print(\" \" * (n - i) +\"*\" * i)\n",
    "  i+=1"
   ],
   "metadata": {
    "collapsed": false,
    "pycharm": {
     "name": "#%%\n"
    }
   }
  },
  {
   "cell_type": "code",
   "execution_count": 3,
   "metadata": {},
   "outputs": [
    {
     "name": "stdout",
     "output_type": "stream",
     "text": [
      "* * * \n",
      "* * * \n"
     ]
    }
   ],
   "source": [
    "# Print the following pattern for given number n\n",
    "n = int(input())\n",
    "m = int(input())\n",
    "for i in range  (n):\n",
    "    for j in range (m):\n",
    "        print(\"*\", end=\" \")\n",
    "    print()"
   ]
  },
  {
   "cell_type": "markdown",
   "source": [
    "# to print following pattern\n",
    "*\n",
    "* *\n",
    "* * *\n",
    "* * * *\n",
    "* * * * *"
   ],
   "metadata": {
    "collapsed": false,
    "pycharm": {
     "name": "#%% md\n"
    }
   }
  },
  {
   "cell_type": "code",
   "execution_count": 7,
   "outputs": [
    {
     "name": "stdout",
     "output_type": "stream",
     "text": [
      "* \n",
      "* * \n",
      "* * * \n",
      "* * * * \n",
      "* * * * * \n"
     ]
    }
   ],
   "source": [
    "for i in range(1, 6):\n",
    "    for j in range(1, i+1):\n",
    "        print(\"*\", end=\" \")\n",
    "    print()"
   ],
   "metadata": {
    "collapsed": false,
    "pycharm": {
     "name": "#%%\n"
    }
   }
  },
  {
   "cell_type": "code",
   "execution_count": 12,
   "outputs": [
    {
     "name": "stdout",
     "output_type": "stream",
     "text": [
      "5\n",
      "* \n",
      "* * \n",
      "* * * \n",
      "* * * * \n",
      "* * * * * \n"
     ]
    }
   ],
   "source": [
    "n = int(input())\n",
    "print(n)\n",
    "for i in range(1, n+1):\n",
    "    for j in range(i):\n",
    "        print(\"*\", end=\" \")\n",
    "    print()"
   ],
   "metadata": {
    "collapsed": false,
    "pycharm": {
     "name": "#%%\n"
    }
   }
  },
  {
   "cell_type": "markdown",
   "source": [
    "# Problem 2 => Print following pattern\n",
    "\n",
    "*\n",
    "* 2\n",
    "* 2 *\n",
    "* 2 * 4\n",
    "* 2 * 4 *\n",
    "* 2 * 4 * 6\n",
    "* 2 * 4 * 6 *"
   ],
   "metadata": {
    "collapsed": false,
    "pycharm": {
     "name": "#%% md\n"
    }
   }
  },
  {
   "cell_type": "code",
   "execution_count": 15,
   "outputs": [
    {
     "name": "stdout",
     "output_type": "stream",
     "text": [
      "* \n",
      "* 2 \n",
      "* 2 * \n",
      "* 2 * 4 \n",
      "* 2 * 4 * \n",
      "* 2 * 4 * 6 \n",
      "* 2 * 4 * 6 * \n",
      "* 2 * 4 * 6 * 8 \n",
      "* 2 * 4 * 6 * 8 * \n"
     ]
    }
   ],
   "source": [
    "n = int(input())\n",
    "for i in range(1, n+1):\n",
    "    for j in range(1, i+1):\n",
    "        if j % 2 == 1:\n",
    "            print(\"*\", end =\" \") # odd colum\n",
    "        else:\n",
    "            print(j, end =\" \") # even column\n",
    "    print()"
   ],
   "metadata": {
    "collapsed": false,
    "pycharm": {
     "name": "#%%\n"
    }
   }
  },
  {
   "cell_type": "code",
   "execution_count": 17,
   "outputs": [
    {
     "name": "stdout",
     "output_type": "stream",
     "text": [
      "1 \n",
      "1 * \n",
      "1 * 3 \n",
      "1 * 3 * \n",
      "1 * 3 * 5 \n"
     ]
    }
   ],
   "source": [
    "n =  int(input())\n",
    "for i in range(1, n + 1):\n",
    "    for j in range(1, i+1):\n",
    "        if j % 2 == 0:\n",
    "            print(\"*\", end=\" \")\n",
    "        else:\n",
    "            print(j, end=\" \")\n",
    "    print()\n"
   ],
   "metadata": {
    "collapsed": false,
    "pycharm": {
     "name": "#%%\n"
    }
   }
  },
  {
   "cell_type": "markdown",
   "source": [
    "# Problem 3\n",
    "\n",
    "# Problem 2 => Print following pattern\n",
    "* * * * *\n",
    "* * * *\n",
    "* * *\n",
    "* *\n",
    "*\n"
   ],
   "metadata": {
    "collapsed": false,
    "pycharm": {
     "name": "#%% md\n"
    }
   }
  },
  {
   "cell_type": "code",
   "execution_count": 19,
   "outputs": [
    {
     "name": "stdout",
     "output_type": "stream",
     "text": [
      "* * * * * \n",
      "* * * * \n",
      "* * * \n",
      "* * \n",
      "* \n"
     ]
    }
   ],
   "source": [
    "n =  int(input())\n",
    "for i in range(1, n+1):\n",
    "    for j in range(n-i+1):\n",
    "        print(\"*\", end=\" \")\n",
    "    print()"
   ],
   "metadata": {
    "collapsed": false,
    "pycharm": {
     "name": "#%%\n"
    }
   }
  },
  {
   "cell_type": "code",
   "execution_count": 20,
   "outputs": [
    {
     "name": "stdout",
     "output_type": "stream",
     "text": [
      "* _ _ * \n",
      "* _ _ * \n",
      "* _ _ * \n",
      "* _ _ * \n",
      "* _ _ * \n"
     ]
    }
   ],
   "source": [
    "n  =  int(input())\n",
    "for i in range(1, n+1):\n",
    "    for j in range(1, 5):\n",
    "        if j == 1 or j == 4:\n",
    "            print(\"*\", end = \" \")\n",
    "        else:\n",
    "            print(\"_\", end=\" \")\n",
    "    print()"
   ],
   "metadata": {
    "collapsed": false,
    "pycharm": {
     "name": "#%%\n"
    }
   }
  },
  {
   "cell_type": "code",
   "execution_count": 31,
   "outputs": [
    {
     "name": "stdout",
     "output_type": "stream",
     "text": [
      "5\n",
      "* _ _ _ _ * \n",
      "* _ _ _ _ * \n",
      "* _ _ _ _ * \n",
      "* _ _ _ _ * \n",
      "* _ _ _ _ * \n"
     ]
    }
   ],
   "source": [
    "n  =  int(input())\n",
    "print(n)\n",
    "for i in range(1, n+1):\n",
    "    for j in range(1, n+2):\n",
    "        if j == 1 or j == n+1:\n",
    "            print(\"*\", end =\" \")\n",
    "        else:\n",
    "            print(\"_\", end=\" \")\n",
    "    print()"
   ],
   "metadata": {
    "collapsed": false,
    "pycharm": {
     "name": "#%%\n"
    }
   }
  },
  {
   "cell_type": "code",
   "execution_count": 48,
   "outputs": [
    {
     "name": "stdout",
     "output_type": "stream",
     "text": [
      "1 \n",
      "1 2 \n",
      "1 2 3 \n",
      "1 2 3 4 \n",
      "1 2 3 4 5 \n"
     ]
    }
   ],
   "source": [
    "n  =  int(input())\n",
    "for i in range(1, n+1):\n",
    "    for j in range(1, i+1):\n",
    "        print(j, end=\" \")\n",
    "    print()"
   ],
   "metadata": {
    "collapsed": false,
    "pycharm": {
     "name": "#%%\n"
    }
   }
  },
  {
   "cell_type": "markdown",
   "source": [
    "# Assignment\n",
    "Problem Description\n",
    "\n",
    "Take an integer N as input, print the corresponding pattern for N.\n",
    "\n",
    "For example if N = 5 then pattern will be like:\n",
    "\n",
    "*   *\n",
    "*   *\n",
    "*   *\n",
    "*   *\n",
    "*   *"
   ],
   "metadata": {
    "collapsed": false,
    "pycharm": {
     "name": "#%% md\n"
    }
   }
  },
  {
   "cell_type": "code",
   "execution_count": 83,
   "outputs": [
    {
     "name": "stdout",
     "output_type": "stream",
     "text": [
      "*  *\n",
      "*  *\n",
      "*  *\n"
     ]
    }
   ],
   "source": [
    "n = int(input())\n",
    "\n",
    "for i in range(n):\n",
    "    print(\"*\"+ \" \" *(n-2), \"*\")\n"
   ],
   "metadata": {
    "collapsed": false,
    "pycharm": {
     "name": "#%%\n"
    }
   }
  },
  {
   "cell_type": "code",
   "execution_count": 84,
   "outputs": [
    {
     "name": "stdout",
     "output_type": "stream",
     "text": [
      "*  *\n",
      "*  *\n",
      "*  *\n",
      "*  *\n",
      "*  *\n"
     ]
    }
   ],
   "source": [
    "n = int(input())\n",
    "\n",
    "for i in range(n):\n",
    "    print(\"*  *\")"
   ],
   "metadata": {
    "collapsed": false,
    "pycharm": {
     "name": "#%%\n"
    }
   }
  },
  {
   "cell_type": "code",
   "execution_count": 85,
   "outputs": [
    {
     "name": "stdout",
     "output_type": "stream",
     "text": [
      "*      *\n",
      "*      *\n",
      "*      *\n",
      "*      *\n",
      "*      *\n",
      "*      *\n",
      "*      *\n",
      "*      *\n"
     ]
    }
   ],
   "source": [
    "\n",
    "N = int(input())\n",
    "for i in range(N):\n",
    "    print('*' + ' ' * (N-2) + '*')"
   ],
   "metadata": {
    "collapsed": false,
    "pycharm": {
     "name": "#%%\n"
    }
   }
  },
  {
   "cell_type": "code",
   "execution_count": null,
   "outputs": [],
   "source": [
    "N = int(input())\n",
    "    # Loop for N rows\n",
    "for _ in range(N):\n",
    "    print(\"*\" , end = \"\")\n",
    "    # Loop for N-2 columns\n",
    "    print(\" \" * (N - 2), end = \"\")\n",
    "    print(\"*\" , end = \"\")\n",
    "    print()"
   ],
   "metadata": {
    "collapsed": false,
    "pycharm": {
     "name": "#%%\n",
     "is_executing": true
    }
   }
  },
  {
   "cell_type": "markdown",
   "source": [
    "Problem Description\n",
    "\n",
    "Take an integer N as input, print the corresponding pattern for N.\n",
    "\n",
    "*****\n",
    " ****\n",
    "  ***\n",
    "   **\n",
    "    *"
   ],
   "metadata": {
    "collapsed": false,
    "pycharm": {
     "name": "#%% md\n"
    }
   }
  },
  {
   "cell_type": "code",
   "execution_count": 126,
   "outputs": [
    {
     "name": "stdout",
     "output_type": "stream",
     "text": [
      "5\n",
      "*****\n",
      " ****\n",
      "  ***\n",
      "   **\n",
      "    *\n"
     ]
    }
   ],
   "source": [
    "n = int(input())\n",
    "print(n)\n",
    "for i in range(n):\n",
    "    print(\" \" * i + \"*\" * (n - i))"
   ],
   "metadata": {
    "collapsed": false,
    "pycharm": {
     "name": "#%%\n"
    }
   }
  },
  {
   "cell_type": "code",
   "execution_count": 107,
   "outputs": [
    {
     "name": "stdout",
     "output_type": "stream",
     "text": [
      "*****\n",
      " ****\n",
      "  ***\n",
      "   **\n",
      "    *\n"
     ]
    }
   ],
   "source": [
    "N = int(input())\n",
    "#Loop for N rows\n",
    "for i in range(N):\n",
    "    # Loop for i columns\n",
    "    print(\" \" * i, end=\"\")\n",
    "    # Loop for N-i columns\n",
    "    print(\"*\" * (N - i))\n"
   ],
   "metadata": {
    "collapsed": false,
    "pycharm": {
     "name": "#%%\n"
    }
   }
  },
  {
   "cell_type": "markdown",
   "source": [
    "Explanation:\n",
    "\n",
    "The code uses a for loop to iterate from 0 to n-1.\n",
    "\n",
    "For each value of i, it prints a string of spaces (\" \" * i) followed by a string of asterisks (\"*\" * (n - i)).\n",
    "\n",
    "The number of spaces printed at each iteration increases by 1, while the number of asterisks decreases by 1.\n",
    "\n",
    "This produces the desired pattern of n rows, with n asterisks in the first row and 1 asterisk in the last row."
   ],
   "metadata": {
    "collapsed": false,
    "pycharm": {
     "name": "#%% md\n"
    }
   }
  },
  {
   "cell_type": "markdown",
   "source": [
    "# Take an integer N as input, print the corresponding pattern for N.\n",
    "    *\n",
    "   **\n",
    "  ***\n",
    " ****\n",
    "*****"
   ],
   "metadata": {
    "collapsed": false,
    "pycharm": {
     "name": "#%% md\n"
    }
   }
  },
  {
   "cell_type": "code",
   "execution_count": 124,
   "outputs": [
    {
     "name": "stdout",
     "output_type": "stream",
     "text": [
      "    *\n",
      "   **\n",
      "  ***\n",
      " ****\n",
      "*****\n"
     ]
    }
   ],
   "source": [
    "N = int(input())\n",
    "\n",
    "for i in range(1, N+1):\n",
    "    print(\" \"*(N-i) + \"*\"*i)"
   ],
   "metadata": {
    "collapsed": false,
    "pycharm": {
     "name": "#%%\n"
    }
   }
  },
  {
   "cell_type": "markdown",
   "source": [
    "The program uses a for loop to iterate through the range 1 to N.\n",
    "\n",
    "For each iteration, it prints a string with a number of spaces and asterisks that corresponds to the current iteration number.\n",
    "\n",
    "The number of spaces is equal to N minus the current iteration number, and the number of asterisks is equal to the current iteration number.\n",
    "\n",
    "This creates a pyramid-like shape that looks like the pattern requested."
   ],
   "metadata": {
    "collapsed": false,
    "pycharm": {
     "name": "#%% md\n"
    }
   }
  },
  {
   "cell_type": "code",
   "execution_count": 127,
   "outputs": [
    {
     "name": "stdout",
     "output_type": "stream",
     "text": [
      "    *\n",
      "   **\n",
      "  ***\n",
      " ****\n",
      "*****\n"
     ]
    }
   ],
   "source": [
    "N = int(input())\n",
    "#loop upto N\n",
    "for i in range(1, N + 1):\n",
    "    # print N-i space\n",
    "    print(\" \" * (N - i), end=\"\")\n",
    "    # print i times '*'\n",
    "    print(\"*\" * i)"
   ],
   "metadata": {
    "collapsed": false,
    "pycharm": {
     "name": "#%%\n"
    }
   }
  },
  {
   "cell_type": "code",
   "execution_count": null,
   "outputs": [],
   "source": [],
   "metadata": {
    "collapsed": false,
    "pycharm": {
     "name": "#%%\n"
    }
   }
  },
  {
   "cell_type": "markdown",
   "source": [
    "Problem Description\n",
    "\n",
    "Take an integer N, print the corresponding Full Pyramid pattern for N.\n",
    "\n",
    "    *\n",
    "   * *\n",
    "  * * *\n",
    " * * * *\n",
    "* * * * *"
   ],
   "metadata": {
    "collapsed": false
   }
  },
  {
   "cell_type": "code",
   "execution_count": 121,
   "outputs": [
    {
     "name": "stdout",
     "output_type": "stream",
     "text": [
      "        * \n",
      "       * * \n",
      "      * * * \n",
      "     * * * * \n",
      "    * * * * * \n",
      "   * * * * * * \n",
      "  * * * * * * * \n",
      " * * * * * * * * \n",
      "* * * * * * * * * \n"
     ]
    }
   ],
   "source": [
    "n = int(input())\n",
    "for i in range(n):\n",
    "    print(\" \" * (n - i - 1) + \"* \" * (i + 1))"
   ],
   "metadata": {
    "collapsed": false,
    "pycharm": {
     "name": "#%%\n"
    }
   }
  },
  {
   "cell_type": "markdown",
   "source": [
    "Explanation:\n",
    "\n",
    "The code uses a for loop to iterate from 0 to n-1.\n",
    "\n",
    "For each value of i, it prints a string of spaces (\" \" * (n - i - 1))\n",
    "followed by a string of asterisks separated by spaces (\"* \" * (i + 1)\").\n",
    "The number of spaces printed at each iteration decreases by 1,\n",
    "while the number of asterisks increases by 1.\n",
    "\n",
    "This produces the desired Full Pyramid pattern of n rows,\n",
    "with 1 asterisk in the first row and n asterisks in the last row.\n",
    "Each row has one more asterisk than the previous row."
   ],
   "metadata": {
    "collapsed": false,
    "pycharm": {
     "name": "#%% md\n"
    }
   }
  },
  {
   "cell_type": "markdown",
   "source": [
    "# Skip Even Numbers Half Pyramid\n",
    "Problem Description\n",
    "\n",
    "Take an integer N as input, print the corresponding pattern for N.\n",
    "\n",
    "1\n",
    "1_\n",
    "1_3\n",
    "1_3_\n",
    "1_3_5"
   ],
   "metadata": {
    "collapsed": false,
    "pycharm": {
     "name": "#%% md\n"
    }
   }
  },
  {
   "cell_type": "code",
   "execution_count": null,
   "outputs": [],
   "source": [
    "N = int(input(\"Enter a number: \"))\n",
    "\n",
    "for i in range(1, N+1):\n",
    "    for j in range(1, i+1):\n",
    "        if j%2 != 0:\n",
    "            print(j, end=\"\")\n",
    "        else:\n",
    "            print(\"_\", end=\"\")\n",
    "    if i < N:\n",
    "        print(\"\", end=\" \")\n",
    "    else:\n",
    "        print(\"\", end=\"\\n\")\n"
   ],
   "metadata": {
    "collapsed": false,
    "pycharm": {
     "name": "#%%\n"
    }
   }
  },
  {
   "cell_type": "markdown",
   "source": [
    "The program uses two for loops to iterate through the range 1 to N,\n",
    "with the outer loop controlling the number of lines and the inner loop controlling the content of each line.\n",
    "The inner loop prints either the current number or an underscore depending on whether the current iteration number is odd or even.\n",
    "\n",
    "\n",
    "The outer loop also adds spaces between each number or underscore for all lines except the last one to create the requested pattern."
   ],
   "metadata": {
    "collapsed": false,
    "pycharm": {
     "name": "#%% md\n"
    }
   }
  },
  {
   "cell_type": "code",
   "execution_count": null,
   "outputs": [],
   "source": [],
   "metadata": {
    "collapsed": false,
    "pycharm": {
     "name": "#%%\n"
    }
   }
  }
 ],
 "metadata": {
  "kernelspec": {
   "display_name": "Python 3 (ipykernel)",
   "language": "python",
   "name": "python3"
  },
  "language_info": {
   "codemirror_mode": {
    "name": "ipython",
    "version": 3
   },
   "file_extension": ".py",
   "mimetype": "text/x-python",
   "name": "python",
   "nbconvert_exporter": "python",
   "pygments_lexer": "ipython3",
   "version": "3.10.7"
  }
 },
 "nbformat": 4,
 "nbformat_minor": 1
}