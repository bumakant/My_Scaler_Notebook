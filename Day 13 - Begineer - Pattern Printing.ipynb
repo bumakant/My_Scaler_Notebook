{
 "cells": [
  {
   "attachments": {},
   "cell_type": "markdown",
   "metadata": {},
   "source": [
    "# Pattern Printing \n",
    "\n",
    "\n",
    "https://www.geeksforgeeks.org/programs-printing-pyramid-patterns-python/\n",
    "\n",
    "https://www.mygreatlearning.com/blog/pattern-program-in-python-pyramid-pattern/\n",
    "\n"
   ]
  },
  {
   "attachments": {},
   "cell_type": "markdown",
   "metadata": {
    "collapsed": false,
    "pycharm": {
     "name": "#%% md\n"
    }
   },
   "source": [
    "## Programs for printing pyramid patterns in Python\n",
    "\n",
    "Patterns can be printed in python using simple for loops.\n",
    "First outer loop is used to handle the number of rows and the Inner nested loop is used to handle the number of columns.\n",
    "Manipulating the print statements, different number patterns, alphabet patterns, or star patterns can be printed.\n",
    "\n",
    "Some of the Patterns are shown in this article."
   ]
  },
  {
   "cell_type": "code",
   "execution_count": null,
   "metadata": {
    "collapsed": false,
    "pycharm": {
     "name": "#%%\n"
    }
   },
   "outputs": [
    {
     "name": "stdout",
     "output_type": "stream",
     "text": [
      "* \r\n",
      "* * \r\n",
      "* * * \r\n",
      "* * * * \r\n",
      "* * * * * \r\n"
     ]
    }
   ],
   "source": [
    "# Python 3.x code to demonstrate star pattern\n",
    "\n",
    "# Function to demonstrate printing pattern\n",
    "n =  int(input())\n",
    "    # outer loop to handle number of rows\n",
    "    # n in this case\n",
    "for i in range(0, n):\n",
    "    # inner loop to handle number of columns\n",
    "    # values changing acc. to outer loop\n",
    "    for j in range(0, i+1):\n",
    "        print(\"* \",end=\"\")  # printing stars\n",
    "    print(\"\\r\")# ending line after each row\n",
    "\n"
   ]
  },
  {
   "cell_type": "code",
   "execution_count": 1,
   "metadata": {
    "collapsed": false,
    "pycharm": {
     "name": "#%%\n"
    }
   },
   "outputs": [
    {
     "name": "stdout",
     "output_type": "stream",
     "text": [
      "* \n",
      "* * \n",
      "* * * \n",
      "* * * * \n",
      "* * * * * \n"
     ]
    }
   ],
   "source": [
    "## Approach 2: Using List in Python 3, this could be done in a simpler way\n",
    "\n",
    "# Python 3.x code to demonstrate star pattern\n",
    "\n",
    "# Function to demonstrate printing pattern\n",
    "n =  int(input())\n",
    "\n",
    "myList = []\n",
    "for i in range(1, n+1):\n",
    "    myList.append(\"* \"*i)\n",
    "print(\"\\n\".join(myList))\n",
    "\n",
    "# Driver Code\n",
    "\n",
    "\"\"\"\n",
    "The given code is a Python program that takes an integer input from the user and generates a pattern of asterisks based on that input.\n",
    "\n",
    "Let's break down the code step by step:\n",
    "\n",
    "    n = int(input()): This line prompts the user to enter an integer value and stores it in the variable n. \n",
    "    The int() function is used to convert the user's input, which is initially a string, into an integer.\n",
    "\n",
    "    myList = []: This line initializes an empty list called myList. \n",
    "    This list will be used to store the pattern of asterisks.\n",
    "\n",
    "    for i in range(1, n+1):: This line starts a for loop that iterates from 1 to n (inclusive). \n",
    "    The loop variable i takes the values 1, 2, 3, ..., n in each iteration.\n",
    "\n",
    "    myList.append(\"* \"*i): Inside the loop, this line appends a string to the myList for each iteration. \n",
    "    The string consists of an asterisk (*) followed by a space (\" \") repeated i times. \n",
    "    The number of asterisks in each string is equal to the current value of i. \n",
    "    This creates a triangular pattern of asterisks, where each row has an increasing number of asterisks.\n",
    "\n",
    "    print(\"\\n\".join(myList)): After the loop ends, this line joins the elements of myList using the newline character (\"\\n\") as a separator and then prints the resulting string. \n",
    "    This effectively prints each element of myList on a separate line, forming the triangular pattern of asterisks.\n",
    "\n",
    "For example, if the user enters 5 as the input value, the program will generate the following output:\n",
    "\n",
    "\"\"\"\n"
   ]
  },
  {
   "cell_type": "code",
   "execution_count": 60,
   "metadata": {
    "collapsed": false,
    "pycharm": {
     "name": "#%%\n"
    }
   },
   "outputs": [
    {
     "name": "stdout",
     "output_type": "stream",
     "text": [
      "* \n",
      "* * \n",
      "* * * \n",
      "* * * * \n",
      "* * * * * \n"
     ]
    }
   ],
   "source": [
    "# Approach 3: Using recursion\n",
    "#python3 code to print pyramid pattern using recursion\n",
    "def pypart(n):\n",
    "    if n==0:\n",
    "        return\n",
    "    else:\n",
    "        pypart(n-1)\n",
    "        print(\"* \"*n)\n",
    "\n",
    "# Driver Code\n",
    "n = int(input())\n",
    "pypart(n)"
   ]
  },
  {
   "cell_type": "code",
   "execution_count": 62,
   "metadata": {
    "collapsed": false,
    "pycharm": {
     "name": "#%%\n"
    }
   },
   "outputs": [
    {
     "name": "stdout",
     "output_type": "stream",
     "text": [
      "* \r\n",
      "* * \r\n",
      "* * * \r\n",
      "* * * * \r\n",
      "* * * * * \r\n"
     ]
    }
   ],
   "source": [
    "# python3 code to print pyramid pattern using while loop\n",
    "\n",
    "# input\n",
    "n=5\n",
    "\n",
    "i=1;j=0\n",
    "# while loop check the condition until the\n",
    "# condition become false. if it is true then\n",
    "# enter in to loop and print the pattern\n",
    "while(i<=n):\n",
    "    while(j<=i-1):\n",
    "        print(\"* \",end=\"\")\n",
    "        j+=1\n",
    "     # printing next line for each row\n",
    "    print(\"\\r\")\n",
    "    j=0;i+=1"
   ]
  },
  {
   "cell_type": "code",
   "execution_count": 5,
   "metadata": {
    "collapsed": false,
    "pycharm": {
     "name": "#%%\n"
    }
   },
   "outputs": [
    {
     "name": "stdout",
     "output_type": "stream",
     "text": [
      "     \n",
      "    * \n",
      "   * * \n",
      "  * * * \n",
      " * * * * \n",
      "* * * * * \n"
     ]
    }
   ],
   "source": [
    "# python3 code to print pyramid pattern using while loop\n",
    "n=int(input()) # Taking user input\n",
    "i=0 # initialization of i as 0\n",
    "while(i<=n): # putting while loop\n",
    "  print(\" \" * (n - i) +\"* \" * i) # print command \n",
    "  i+=1 #increment "
   ]
  },
  {
   "cell_type": "code",
   "execution_count": 3,
   "metadata": {},
   "outputs": [
    {
     "name": "stdout",
     "output_type": "stream",
     "text": [
      "* * * \n",
      "* * * \n"
     ]
    }
   ],
   "source": [
    "# Print the following pattern for given number n\n",
    "n = int(input())\n",
    "m = int(input())\n",
    "for i in range  (n):\n",
    "    for j in range (m):\n",
    "        print(\"*\", end=\" \")\n",
    "    print()"
   ]
  },
  {
   "cell_type": "code",
   "execution_count": 7,
   "metadata": {
    "collapsed": false,
    "pycharm": {
     "name": "#%%\n"
    }
   },
   "outputs": [
    {
     "name": "stdout",
     "output_type": "stream",
     "text": [
      "* \n",
      "* * \n",
      "* * * \n",
      "* * * * \n",
      "* * * * * \n"
     ]
    }
   ],
   "source": [
    "for i in range(1, 6):\n",
    "    for j in range(1, i+1):\n",
    "        print(\"*\", end=\" \")\n",
    "    print()"
   ]
  },
  {
   "cell_type": "code",
   "execution_count": 6,
   "metadata": {
    "collapsed": false,
    "pycharm": {
     "name": "#%%\n"
    }
   },
   "outputs": [
    {
     "name": "stdout",
     "output_type": "stream",
     "text": [
      "5\n",
      "* \n",
      "* * \n",
      "* * * \n",
      "* * * * \n",
      "* * * * * \n"
     ]
    }
   ],
   "source": [
    "n = int(input())\n",
    "print(n)\n",
    "for i in range(1, n+1):\n",
    "    for j in range(i):\n",
    "        print(\"*\", end=\" \")\n",
    "    print()"
   ]
  },
  {
   "attachments": {},
   "cell_type": "markdown",
   "metadata": {
    "collapsed": false,
    "pycharm": {
     "name": "#%% md\n"
    }
   },
   "source": [
    "# Problem 2 => Print following pattern\n",
    "\n",
    "*\n",
    "* 2\n",
    "* 2 *\n",
    "* 2 * 4\n",
    "* 2 * 4 *\n",
    "* 2 * 4 * 6\n",
    "* 2 * 4 * 6 *"
   ]
  },
  {
   "cell_type": "code",
   "execution_count": 15,
   "metadata": {
    "collapsed": false,
    "pycharm": {
     "name": "#%%\n"
    }
   },
   "outputs": [
    {
     "name": "stdout",
     "output_type": "stream",
     "text": [
      "* \n",
      "* 2 \n",
      "* 2 * \n",
      "* 2 * 4 \n",
      "* 2 * 4 * \n",
      "* 2 * 4 * 6 \n",
      "* 2 * 4 * 6 * \n",
      "* 2 * 4 * 6 * 8 \n",
      "* 2 * 4 * 6 * 8 * \n"
     ]
    }
   ],
   "source": [
    "n = int(input())\n",
    "for i in range(1, n+1):\n",
    "    for j in range(1, i+1):\n",
    "        if j % 2 == 1:\n",
    "            print(\"*\", end =\" \") # odd colum\n",
    "        else:\n",
    "            print(j, end =\" \") # even column\n",
    "    print()"
   ]
  },
  {
   "cell_type": "code",
   "execution_count": 17,
   "metadata": {
    "collapsed": false,
    "pycharm": {
     "name": "#%%\n"
    }
   },
   "outputs": [
    {
     "name": "stdout",
     "output_type": "stream",
     "text": [
      "1 \n",
      "1 * \n",
      "1 * 3 \n",
      "1 * 3 * \n",
      "1 * 3 * 5 \n"
     ]
    }
   ],
   "source": [
    "n =  int(input())\n",
    "for i in range(1, n + 1):\n",
    "    for j in range(1, i+1):\n",
    "        if j % 2 == 0:\n",
    "            print(\"*\", end=\" \")\n",
    "        else:\n",
    "            print(j, end=\" \")\n",
    "    print()\n"
   ]
  },
  {
   "attachments": {},
   "cell_type": "markdown",
   "metadata": {
    "collapsed": false,
    "pycharm": {
     "name": "#%% md\n"
    }
   },
   "source": [
    "# Problem 3\n",
    "\n",
    "# Problem 2 => Print following pattern\n",
    "* * * * *\n",
    "* * * *\n",
    "* * *\n",
    "* *\n",
    "*\n"
   ]
  },
  {
   "cell_type": "code",
   "execution_count": 19,
   "metadata": {
    "collapsed": false,
    "pycharm": {
     "name": "#%%\n"
    }
   },
   "outputs": [
    {
     "name": "stdout",
     "output_type": "stream",
     "text": [
      "* * * * * \n",
      "* * * * \n",
      "* * * \n",
      "* * \n",
      "* \n"
     ]
    }
   ],
   "source": [
    "n =  int(input())\n",
    "for i in range(1, n+1):\n",
    "    for j in range(n-i+1):\n",
    "        print(\"*\", end=\" \")\n",
    "    print()"
   ]
  },
  {
   "cell_type": "code",
   "execution_count": 20,
   "metadata": {
    "collapsed": false,
    "pycharm": {
     "name": "#%%\n"
    }
   },
   "outputs": [
    {
     "name": "stdout",
     "output_type": "stream",
     "text": [
      "* _ _ * \n",
      "* _ _ * \n",
      "* _ _ * \n",
      "* _ _ * \n",
      "* _ _ * \n"
     ]
    }
   ],
   "source": [
    "n  =  int(input())\n",
    "for i in range(1, n+1):\n",
    "    for j in range(1, 5):\n",
    "        if j == 1 or j == 4:\n",
    "            print(\"*\", end = \" \")\n",
    "        else:\n",
    "            print(\"_\", end=\" \")\n",
    "    print()"
   ]
  },
  {
   "cell_type": "code",
   "execution_count": 31,
   "metadata": {
    "collapsed": false,
    "pycharm": {
     "name": "#%%\n"
    }
   },
   "outputs": [
    {
     "name": "stdout",
     "output_type": "stream",
     "text": [
      "5\n",
      "* _ _ _ _ * \n",
      "* _ _ _ _ * \n",
      "* _ _ _ _ * \n",
      "* _ _ _ _ * \n",
      "* _ _ _ _ * \n"
     ]
    }
   ],
   "source": [
    "n  =  int(input())\n",
    "print(n)\n",
    "for i in range(1, n+1):\n",
    "    for j in range(1, n+2):\n",
    "        if j == 1 or j == n+1:\n",
    "            print(\"*\", end =\" \")\n",
    "        else:\n",
    "            print(\"_\", end=\" \")\n",
    "    print()"
   ]
  },
  {
   "cell_type": "code",
   "execution_count": 48,
   "metadata": {
    "collapsed": false,
    "pycharm": {
     "name": "#%%\n"
    }
   },
   "outputs": [
    {
     "name": "stdout",
     "output_type": "stream",
     "text": [
      "1 \n",
      "1 2 \n",
      "1 2 3 \n",
      "1 2 3 4 \n",
      "1 2 3 4 5 \n"
     ]
    }
   ],
   "source": [
    "n  =  int(input())\n",
    "for i in range(1, n+1):\n",
    "    for j in range(1, i+1):\n",
    "        print(j, end=\" \")\n",
    "    print()"
   ]
  },
  {
   "attachments": {},
   "cell_type": "markdown",
   "metadata": {
    "collapsed": false,
    "pycharm": {
     "name": "#%% md\n"
    }
   },
   "source": [
    "# Assignment\n",
    "Problem Description\n",
    "\n",
    "Take an integer N as input, print the corresponding pattern for N.\n",
    "\n",
    "For example if N = 5 then pattern will be like:\n",
    "\n",
    "*   *\n",
    "*   *\n",
    "*   *\n",
    "*   *\n",
    "*   *"
   ]
  },
  {
   "cell_type": "code",
   "execution_count": 83,
   "metadata": {
    "collapsed": false,
    "pycharm": {
     "name": "#%%\n"
    }
   },
   "outputs": [
    {
     "name": "stdout",
     "output_type": "stream",
     "text": [
      "*  *\n",
      "*  *\n",
      "*  *\n"
     ]
    }
   ],
   "source": [
    "n = int(input())\n",
    "\n",
    "for i in range(n):\n",
    "    print(\"*\"+ \" \" *(n-2), \"*\")\n"
   ]
  },
  {
   "cell_type": "code",
   "execution_count": 84,
   "metadata": {
    "collapsed": false,
    "pycharm": {
     "name": "#%%\n"
    }
   },
   "outputs": [
    {
     "name": "stdout",
     "output_type": "stream",
     "text": [
      "*  *\n",
      "*  *\n",
      "*  *\n",
      "*  *\n",
      "*  *\n"
     ]
    }
   ],
   "source": [
    "n = int(input())\n",
    "\n",
    "for i in range(n):\n",
    "    print(\"*  *\")"
   ]
  },
  {
   "cell_type": "code",
   "execution_count": 85,
   "metadata": {
    "collapsed": false,
    "pycharm": {
     "name": "#%%\n"
    }
   },
   "outputs": [
    {
     "name": "stdout",
     "output_type": "stream",
     "text": [
      "*      *\n",
      "*      *\n",
      "*      *\n",
      "*      *\n",
      "*      *\n",
      "*      *\n",
      "*      *\n",
      "*      *\n"
     ]
    }
   ],
   "source": [
    "N = int(input())\n",
    "for i in range(N):\n",
    "    print('*' + ' ' * (N-2) + '*')"
   ]
  },
  {
   "cell_type": "code",
   "execution_count": null,
   "metadata": {
    "collapsed": false,
    "pycharm": {
     "is_executing": true,
     "name": "#%%\n"
    }
   },
   "outputs": [],
   "source": [
    "N = int(input())\n",
    "    # Loop for N rows\n",
    "for _ in range(N):\n",
    "    print(\"*\" , end = \"\")\n",
    "    # Loop for N-2 columns\n",
    "    print(\" \" * (N - 2), end = \"\")\n",
    "    print(\"*\" , end = \"\")\n",
    "    print()"
   ]
  },
  {
   "attachments": {},
   "cell_type": "markdown",
   "metadata": {
    "collapsed": false,
    "pycharm": {
     "name": "#%% md\n"
    }
   },
   "source": [
    "Problem Description\n",
    "\n",
    "Take an integer N as input, print the corresponding pattern for N.\n",
    "\n",
    "*****\n",
    " ****\n",
    "  ***\n",
    "   **\n",
    "    *"
   ]
  },
  {
   "cell_type": "code",
   "execution_count": 126,
   "metadata": {
    "collapsed": false,
    "pycharm": {
     "name": "#%%\n"
    }
   },
   "outputs": [
    {
     "name": "stdout",
     "output_type": "stream",
     "text": [
      "5\n",
      "*****\n",
      " ****\n",
      "  ***\n",
      "   **\n",
      "    *\n"
     ]
    }
   ],
   "source": [
    "n = int(input())\n",
    "print(n)\n",
    "for i in range(n):\n",
    "    print(\" \" * i + \"*\" * (n - i))"
   ]
  },
  {
   "cell_type": "code",
   "execution_count": 107,
   "metadata": {
    "collapsed": false,
    "pycharm": {
     "name": "#%%\n"
    }
   },
   "outputs": [
    {
     "name": "stdout",
     "output_type": "stream",
     "text": [
      "*****\n",
      " ****\n",
      "  ***\n",
      "   **\n",
      "    *\n"
     ]
    }
   ],
   "source": [
    "N = int(input())\n",
    "#Loop for N rows\n",
    "for i in range(N):\n",
    "    # Loop for i columns\n",
    "    print(\" \" * i, end=\"\")\n",
    "    # Loop for N-i columns\n",
    "    print(\"*\" * (N - i))\n"
   ]
  },
  {
   "attachments": {},
   "cell_type": "markdown",
   "metadata": {
    "collapsed": false,
    "pycharm": {
     "name": "#%% md\n"
    }
   },
   "source": [
    "Explanation:\n",
    "\n",
    "The code uses a for loop to iterate from 0 to n-1.\n",
    "\n",
    "For each value of i, it prints a string of spaces (\" \" * i) followed by a string of asterisks (\"*\" * (n - i)).\n",
    "\n",
    "The number of spaces printed at each iteration increases by 1, while the number of asterisks decreases by 1.\n",
    "\n",
    "This produces the desired pattern of n rows, with n asterisks in the first row and 1 asterisk in the last row."
   ]
  },
  {
   "attachments": {},
   "cell_type": "markdown",
   "metadata": {
    "collapsed": false,
    "pycharm": {
     "name": "#%% md\n"
    }
   },
   "source": [
    "# Take an integer N as input, print the corresponding pattern for N.\n",
    "    *\n",
    "   **\n",
    "  ***\n",
    " ****\n",
    "*****"
   ]
  },
  {
   "cell_type": "code",
   "execution_count": 124,
   "metadata": {
    "collapsed": false,
    "pycharm": {
     "name": "#%%\n"
    }
   },
   "outputs": [
    {
     "name": "stdout",
     "output_type": "stream",
     "text": [
      "    *\n",
      "   **\n",
      "  ***\n",
      " ****\n",
      "*****\n"
     ]
    }
   ],
   "source": [
    "N = int(input())\n",
    "\n",
    "for i in range(1, N+1):\n",
    "    print(\" \"*(N-i) + \"*\"*i)"
   ]
  },
  {
   "attachments": {},
   "cell_type": "markdown",
   "metadata": {
    "collapsed": false,
    "pycharm": {
     "name": "#%% md\n"
    }
   },
   "source": [
    "The program uses a for loop to iterate through the range 1 to N.\n",
    "\n",
    "For each iteration, it prints a string with a number of spaces and asterisks that corresponds to the current iteration number.\n",
    "\n",
    "The number of spaces is equal to N minus the current iteration number, and the number of asterisks is equal to the current iteration number.\n",
    "\n",
    "This creates a pyramid-like shape that looks like the pattern requested."
   ]
  },
  {
   "cell_type": "code",
   "execution_count": 127,
   "metadata": {
    "collapsed": false,
    "pycharm": {
     "name": "#%%\n"
    }
   },
   "outputs": [
    {
     "name": "stdout",
     "output_type": "stream",
     "text": [
      "    *\n",
      "   **\n",
      "  ***\n",
      " ****\n",
      "*****\n"
     ]
    }
   ],
   "source": [
    "N = int(input())\n",
    "#loop upto N\n",
    "for i in range(1, N + 1):\n",
    "    # print N-i space\n",
    "    print(\" \" * (N - i), end=\"\")\n",
    "    # print i times '*'\n",
    "    print(\"*\" * i)"
   ]
  },
  {
   "cell_type": "code",
   "execution_count": null,
   "metadata": {
    "collapsed": false,
    "pycharm": {
     "name": "#%%\n"
    }
   },
   "outputs": [],
   "source": []
  },
  {
   "attachments": {},
   "cell_type": "markdown",
   "metadata": {
    "collapsed": false
   },
   "source": [
    "Problem Description\n",
    "\n",
    "Take an integer N, print the corresponding Full Pyramid pattern for N.\n",
    "\n",
    "    *\n",
    "   * *\n",
    "  * * *\n",
    " * * * *\n",
    "* * * * *"
   ]
  },
  {
   "cell_type": "code",
   "execution_count": 121,
   "metadata": {
    "collapsed": false,
    "pycharm": {
     "name": "#%%\n"
    }
   },
   "outputs": [
    {
     "name": "stdout",
     "output_type": "stream",
     "text": [
      "        * \n",
      "       * * \n",
      "      * * * \n",
      "     * * * * \n",
      "    * * * * * \n",
      "   * * * * * * \n",
      "  * * * * * * * \n",
      " * * * * * * * * \n",
      "* * * * * * * * * \n"
     ]
    }
   ],
   "source": [
    "n = int(input())\n",
    "for i in range(n):\n",
    "    print(\" \" * (n - i - 1) + \"* \" * (i + 1))"
   ]
  },
  {
   "attachments": {},
   "cell_type": "markdown",
   "metadata": {
    "collapsed": false,
    "pycharm": {
     "name": "#%% md\n"
    }
   },
   "source": [
    "Explanation:\n",
    "\n",
    "The code uses a for loop to iterate from 0 to n-1.\n",
    "\n",
    "For each value of i, it prints a string of spaces (\" \" * (n - i - 1))\n",
    "followed by a string of asterisks separated by spaces (\"* \" * (i + 1)\").\n",
    "The number of spaces printed at each iteration decreases by 1,\n",
    "while the number of asterisks increases by 1.\n",
    "\n",
    "This produces the desired Full Pyramid pattern of n rows,\n",
    "with 1 asterisk in the first row and n asterisks in the last row.\n",
    "Each row has one more asterisk than the previous row."
   ]
  },
  {
   "attachments": {},
   "cell_type": "markdown",
   "metadata": {
    "collapsed": false,
    "pycharm": {
     "name": "#%% md\n"
    }
   },
   "source": [
    "# Skip Even Numbers Half Pyramid\n",
    "Problem Description\n",
    "\n",
    "Take an integer N as input, print the corresponding pattern for N.\n",
    "\n",
    "1\n",
    "1_\n",
    "1_3\n",
    "1_3_\n",
    "1_3_5"
   ]
  },
  {
   "cell_type": "code",
   "execution_count": 7,
   "metadata": {
    "collapsed": false,
    "pycharm": {
     "name": "#%%\n"
    }
   },
   "outputs": [
    {
     "name": "stdout",
     "output_type": "stream",
     "text": [
      "1 1_ 1_3 1_3_ 1_3_5\n"
     ]
    }
   ],
   "source": [
    "N = int(input(\"Enter a number: \"))\n",
    "\n",
    "for i in range(1, N+1):\n",
    "    for j in range(1, i+1):\n",
    "        if j%2 != 0:\n",
    "            print(j, end=\"\")\n",
    "        else:\n",
    "            print(\"_\", end=\"\")\n",
    "    if i < N:\n",
    "        print(\"\", end=\" \")\n",
    "    else:\n",
    "        print(\"\", end=\"\\n\")\n"
   ]
  },
  {
   "attachments": {},
   "cell_type": "markdown",
   "metadata": {
    "collapsed": false,
    "pycharm": {
     "name": "#%% md\n"
    }
   },
   "source": [
    "The program uses two for loops to iterate through the range 1 to N,\n",
    "with the outer loop controlling the number of lines and the inner loop controlling the content of each line.\n",
    "The inner loop prints either the current number or an underscore depending on whether the current iteration number is odd or even.\n",
    "\n",
    "\n",
    "The outer loop also adds spaces between each number or underscore for all lines except the last one to create the requested pattern."
   ]
  },
  {
   "cell_type": "code",
   "execution_count": 8,
   "metadata": {
    "collapsed": false,
    "pycharm": {
     "name": "#%%\n"
    }
   },
   "outputs": [
    {
     "name": "stdout",
     "output_type": "stream",
     "text": [
      "0 0 0 0 5 0 0 0 0 \n",
      "0 0 0 4 8 12 0 0 0 \n",
      "0 0 3 6 9 12 15 0 0 \n",
      "0 2 4 6 8 10 12 14 0 \n",
      "1 2 3 4 5 6 7 8 9 \n"
     ]
    }
   ],
   "source": [
    "#Assignment Question \n",
    "\n",
    "N = int(input()) # Taken user input\n",
    "\n",
    "for r in range(1, N + 1): # outer for loop\n",
    "    print(\"0 \" * (N - r), end=\"\")\n",
    "    for c in range(2 * r - 1):\n",
    "        print((N - r + 1) * (c + 1), end=\" \")\n",
    "    print(\"0 \" * (N - r))"
   ]
  },
  {
   "attachments": {},
   "cell_type": "markdown",
   "metadata": {},
   "source": [
    "The code you provided generates a pattern of numbers in a triangular shape. Let's break it down step by step:\n",
    "\n",
    "    N = int(input()): This line prompts the user to enter an integer value and assigns it to the variable N. This value determines the size of the pattern.\n",
    "\n",
    "    for r in range(1, N + 1): This is the outer loop that iterates over a range of numbers from 1 to N (inclusive). It controls the number of rows in the pattern.\n",
    "\n",
    "    print(\"0 \" * (N - r), end=\"\"): This line prints a string of zeros followed by a space. The number of zeros is determined by N - r, where r represents the current row number. The end=\"\" parameter ensures that the next print statement will continue on the same line.\n",
    "\n",
    "    for c in range(2 * r - 1):: This is an inner loop that iterates over a range of numbers from 0 to 2 * r - 2. It controls the number of columns in each row.\n",
    "\n",
    "    print((N - r + 1) * (c + 1), end=\" \"): This line calculates and prints the numbers within each row. The value (N - r + 1) * (c + 1) represents the number at a particular position within the row. The end=\" \" parameter ensures that the numbers are separated by a space.\n",
    "\n",
    "    print(\"0 \" * (N - r)): This line prints a string of zeros followed by a space. The number of zeros is determined by N - r. This adds additional zeros at the end of each row.\n",
    "\n",
    "By combining these steps, the code generates a triangular pattern of numbers. Each row contains a series of numbers, with the numbers in each row incrementing by one. The zeros added before and after the numbers create a visually appealing triangular shape."
   ]
  },
  {
   "cell_type": "code",
   "execution_count": 10,
   "metadata": {},
   "outputs": [
    {
     "name": "stdout",
     "output_type": "stream",
     "text": [
      "* * * * * \n",
      " * * * * \n",
      "  * * * \n",
      "   * * \n",
      "    * \n"
     ]
    }
   ],
   "source": [
    "\n",
    "n=int(input())\n",
    "for i in range(n): #this loop gives n rows\n",
    "    for j in range(i): #loops for printing spaces before *\n",
    "        print(\" \",end=\"\")\n",
    "    for j in range(n-i): # loop for printing * with space in between\n",
    "        print(\"*\",end=\" \")\n",
    "    print()\n"
   ]
  },
  {
   "cell_type": "code",
   "execution_count": 12,
   "metadata": {},
   "outputs": [
    {
     "name": "stdout",
     "output_type": "stream",
     "text": [
      "0 0 0 0 1 0 0 0 0 \n",
      "0 0 0 2 3 2 0 0 0 \n",
      "0 0 3 4 5 4 3 0 0 \n",
      "0 4 5 6 7 6 5 4 0 \n",
      "5 6 7 8 9 8 7 6 5 \n"
     ]
    }
   ],
   "source": [
    "n = int(input())\n",
    "nc = (2 * n) - 1\n",
    "\n",
    "for i in range(n):\n",
    "    for j in range(n):\n",
    "        value = ((2 * i) - (n - 2)) + j\n",
    "        print(0 if value <= i else value, end=' ')\n",
    "    \n",
    "    for j in range(nc - n):\n",
    "        value = (2 * i) - j\n",
    "        print(0 if value <= i else value, end=' ')\n",
    "    \n",
    "    print()\n"
   ]
  },
  {
   "cell_type": "code",
   "execution_count": null,
   "metadata": {},
   "outputs": [],
   "source": []
  }
 ],
 "metadata": {
  "kernelspec": {
   "display_name": "Python 3 (ipykernel)",
   "language": "python",
   "name": "python3"
  },
  "language_info": {
   "codemirror_mode": {
    "name": "ipython",
    "version": 3
   },
   "file_extension": ".py",
   "mimetype": "text/x-python",
   "name": "python",
   "nbconvert_exporter": "python",
   "pygments_lexer": "ipython3",
   "version": "3.10.7"
  }
 },
 "nbformat": 4,
 "nbformat_minor": 1
}
