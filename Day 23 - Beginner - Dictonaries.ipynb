{
 "cells": [
  {
   "cell_type": "code",
   "execution_count": null,
   "metadata": {},
   "outputs": [],
   "source": [
    "'''\n",
    "Python Dictionary\n",
    "\n",
    "Dictionary in Python is a collection of keys values, used to store data values like a map, which, unlike other data types which hold only a single value as an element.\n",
    "\n",
    "Example of Dictionary in Python \n",
    "Dictionary holds key:value pair. Key-Value is provided in the dictionary to make it more optimized. \n",
    "\n",
    "'''"
   ]
  },
  {
   "cell_type": "code",
   "execution_count": 3,
   "metadata": {},
   "outputs": [
    {
     "name": "stdout",
     "output_type": "stream",
     "text": [
      "\n",
      "Dictionary with the use of Integer Keys: \n",
      "{1: 'Energy', 2: 'Strength', 3: 'Focus', 4: 'Dedication'}\n",
      "\n",
      "Dictionary with the use of Mixed Keys: \n",
      "{'Name': 'Energy', 1: [1, 2, 3, 4]}\n"
     ]
    }
   ],
   "source": [
    "'''\n",
    "Creating a Dictionary\n",
    "In Python, a dictionary can be created by placing a sequence of elements within curly {} braces, separated by ‘comma’. \n",
    "Dictionary holds pairs of values, one being the Key and the other corresponding pair element being its Key:value. \n",
    "Values in a dictionary can be of any data type and can be duplicated, whereas keys can’t be repeated and must be immutable.\n",
    "\n",
    " '''\n",
    "\n",
    " # Creating a Dictionary\n",
    "# with Integer Keys\n",
    "Dict = {1: 'Energy', 2: 'Strength', 3: 'Focus', 4:'Dedication'}\n",
    "print(\"\\nDictionary with the use of Integer Keys: \")\n",
    "print(Dict)\n",
    " \n",
    "# Creating a Dictionary\n",
    "# with Mixed keys\n",
    "Dict = {'Name': 'Energy', 1: [1, 2, 3, 4]}\n",
    "print(\"\\nDictionary with the use of Mixed Keys: \")\n",
    "print(Dict)"
   ]
  },
  {
   "cell_type": "code",
   "execution_count": 5,
   "metadata": {},
   "outputs": [
    {
     "name": "stdout",
     "output_type": "stream",
     "text": [
      "{1: 'Python', 2: 'Tableu', 3: {'A': 'PowerBi', 'B': 'SQL', 'C': 'Appache'}}\n"
     ]
    }
   ],
   "source": [
    "\"\"\"Nested Dictionary\"\"\"\n",
    "\n",
    "# Creating a Nested Dictionary\n",
    "# as shown in the below image\n",
    "Dict = {1: 'Python', 2: 'Tableu',\n",
    "        3: {'A': 'PowerBi', 'B': 'SQL', 'C': 'Appache'}}\n",
    " \n",
    "print(Dict)"
   ]
  },
  {
   "cell_type": "code",
   "execution_count": 1,
   "metadata": {},
   "outputs": [
    {
     "name": "stdout",
     "output_type": "stream",
     "text": [
      "Empty dictonary:\n",
      "<class 'dict'>\n",
      "<class 'dict'>\n",
      "\n",
      " Creating dictonary with use of dict() function\n",
      "{'Apple': 120, 'Banana': 140, 'Cake': 180, 'Strawberry': 150}\n",
      "\n",
      " Dictonary with each item as pair:\n",
      "{20: 'Fish', 30: 'Nuts'}\n"
     ]
    }
   ],
   "source": [
    "'''Dictionary can also be created by the built-in function dict().\n",
    " An empty dictionary can be created by just placing to curly braces{}. '''\n",
    "\n",
    " # creating an empty dictonary \n",
    "Dict = {}\n",
    "\n",
    "print(\"Empty dictonary:\")\n",
    "print(type(Dict)) #type \n",
    "print(dict)\n",
    "\n",
    "# creating a dictonary\n",
    "# witrh dict() method\n",
    "Dict = ({\"Apple\":120, \"Banana\":140, \"Cake\": 180, \"Strawberry\":150})\n",
    "print(\"\\n Creating dictonary with use of dict() function\")\n",
    "print(Dict)\n",
    "\n",
    "# creating dictonary as each item as pair\n",
    "Dict = dict([(20, 'Fish'), (30, \"Nuts\")])\n",
    "print(\"\\n Dictonary with each item as pair:\")\n",
    "print(Dict)"
   ]
  },
  {
   "cell_type": "code",
   "execution_count": 2,
   "metadata": {},
   "outputs": [
    {
     "name": "stdout",
     "output_type": "stream",
     "text": [
      "\n",
      "Dictionary with each item as a pair: \n",
      "{1: 'Geeks', 2: 'For'}\n"
     ]
    }
   ],
   "source": [
    "# Creating a Dictionary\n",
    "# with each item as a Pair\n",
    "Dict = dict([(1, 'Geeks'), (2, 'For')])\n",
    "print(\"\\nDictionary with each item as a pair: \")\n",
    "print(Dict)"
   ]
  },
  {
   "cell_type": "code",
   "execution_count": 10,
   "metadata": {},
   "outputs": [
    {
     "name": "stdout",
     "output_type": "stream",
     "text": [
      "Empty Dictonary:\n",
      "{}\n",
      "\n",
      " Dictonary after adding above elements\n",
      "{0: 'PowerBI', 1: 'Tableu', 2: 'SQL', 3: 'Derivatives', 4: 'Quants'}\n",
      "\n",
      " Dictonary after adding 3 elemnts:\n",
      "{0: 'PowerBI', 1: 'Tableu', 2: 'SQL', 3: 'Derivatives', 4: 'Quants', 'Value_Set': (11, 22, 33, 44, 55)}\n",
      "\n",
      "Updated Key value:\n",
      "{0: 'PowerBI', 1: 'Tableu', 2: 'Matplotlib', 3: 'Derivatives', 4: 'Quants', 'Value_Set': (11, 22, 33, 44, 55)}\n",
      "{0: {'Nested': {'5': 'DataScience', '6': 'Machine Learning'}}, 1: 'Tableu', 2: 'Matplotlib', 3: 'Derivatives', 4: 'Quants', 'Value_Set': (11, 22, 33, 44, 55)}\n"
     ]
    }
   ],
   "source": [
    "'''Adding elements to a Dictionary\n",
    "Addition of elements can be done in multiple ways. \n",
    "One value at a time can be added to a Dictionary by defining value along with the key e.g. \n",
    "Dict[Key] = ‘Value’. Updating an existing value in a Dictionary can be done by using the built-in update() method. \n",
    "Nested key values can also be added to an existing Dictionary. \n",
    "\n",
    "Note- While adding a value, if the key-value already exists, \n",
    "the value gets updated otherwise a new Key with the value is added to the Dictionary.'''\n",
    "\n",
    "# Creating an empty dictonary \n",
    "Dict ={}\n",
    "print(\"Empty Dictonary:\")\n",
    "print(Dict)\n",
    "\n",
    "# adding element one at a time\n",
    "Dict[0] = \"PowerBI\"\n",
    "Dict[1] = \"Tableu\"\n",
    "Dict[2] = \"SQL\"\n",
    "Dict[3] = \"Derivatives\"\n",
    "Dict[4] = \"Quants\"\n",
    "\n",
    "print(\"\\n Dictonary after adding above elements\")\n",
    "print(Dict)\n",
    "\n",
    "# Adding set of values to a single key \n",
    "Dict['Value_Set'] = 11, 22, 33, 44, 55\n",
    "print(\"\\n Dictonary after adding 3 elemnts:\")\n",
    "print(Dict)\n",
    "\n",
    "# updating existing Key's Value\n",
    "Dict[2] = \"Matplotlib\"\n",
    "print(\"\\nUpdated Key value:\")\n",
    "print(Dict)\n",
    "\n",
    "#Adding Nested existing Key Values to Dictonary\n",
    "Dict[0] = {\"Nested\": {'5': 'DataScience', '6':\"Machine Learning\"}}\n",
    "print(Dict)\n"
   ]
  },
  {
   "cell_type": "code",
   "execution_count": 17,
   "metadata": {},
   "outputs": [
    {
     "name": "stdout",
     "output_type": "stream",
     "text": [
      "{0: 'Sun', 1: 'Merqury', 2: 'Venus', 3: 'Earth', 4: 'Mars', 5: 'Jupiter', 6: 'Saturn', 7: 'Neptune'}\n",
      "Accessing an element using Key:\n",
      "Jupiter\n",
      "Saturn\n"
     ]
    }
   ],
   "source": [
    "'''Accessing elements of a Dictionary\n",
    "In order to access the items of a dictionary refer to its key name. \n",
    "Key can be used inside square brackets. '''\n",
    "\n",
    "# Python Program to demonstrate accessing an element from a Dictionary \n",
    "\n",
    "#Creating a Dictonary \n",
    "Dict = {0:'Sun', 1:'Merqury', 2:'Venus', 3:'Earth', 4:'Mars', 5:'Jupiter', 6:'Saturn', 7: 'Neptune'}\n",
    "print(Dict)\n",
    "\n",
    "# Accessing an element using Key\n",
    "print(\"Accessing an element using Key:\")\n",
    "print(Dict[5]) # prints Jupiter as it was assigned to key 5\n",
    "print(Dict[6])"
   ]
  },
  {
   "cell_type": "code",
   "execution_count": 51,
   "metadata": {},
   "outputs": [
    {
     "name": "stdout",
     "output_type": "stream",
     "text": [
      "{0: 'Sun', 1: 'Merqury', 2: 'Venus', 3: 'Earth', 4: 'Mars', 5: 'Jupiter', 6: 'Saturn', 7: 'Neptune'}\n",
      "Accessing an element using get()\n",
      "Mars\n"
     ]
    }
   ],
   "source": [
    "'''\n",
    "There is also a method called get() that will also help in accessing the element from a dictionary.\n",
    "This method accepts key as argument and returns the value.\n",
    "\n",
    "'''\n",
    "Dict = {0:'Sun', 1:'Merqury', 2:'Venus', 3:'Earth', 4:'Mars', 5:'Jupiter', 6:'Saturn', 7: 'Neptune'}\n",
    "print(Dict)\n",
    "\n",
    "# Accesing an element using get()\n",
    "print('Accessing an element using get()')\n",
    "print(Dict.get(4))"
   ]
  },
  {
   "cell_type": "code",
   "execution_count": 12,
   "metadata": {},
   "outputs": [
    {
     "name": "stdout",
     "output_type": "stream",
     "text": [
      "{1: 'Interstellar', 2: 'Gravity', 3: 'Core'}\n",
      "Interstellar\n",
      "Topgun\n"
     ]
    }
   ],
   "source": [
    "'''\n",
    "Accessing an element of a nested dictionary\n",
    "In order to access the value of any key in the nested dictionary, use indexing [] syntax.\n",
    "\n",
    "'''\n",
    "\n",
    "# creating a Dictonary \n",
    "Dict = {'Dict1': {1: 'Interstellar', 2:'Gravity', 3:'Core'},   \n",
    "        'Dict2':{4:'Inception', 5:\"ShutterIceland\", 6:'Topgun', 7:\"MrRobot\"}}\n",
    "\n",
    "# Accessing element using key\n",
    "# list indices must be integers or slices, not str\n",
    "print(Dict[\"Dict1\"])\n",
    "print(Dict['Dict1'][1])\n",
    "print(Dict['Dict2'][6])"
   ]
  },
  {
   "cell_type": "code",
   "execution_count": 20,
   "metadata": {},
   "outputs": [
    {
     "name": "stdout",
     "output_type": "stream",
     "text": [
      "\n",
      "Given Nested Dictionary\n",
      "{'Dict1': {1: 'Interstellar', 2: 'Gravity', 3: 'Core'}, 'Dict2': {'a': 'Inception', 'b': 'ShutterIceland', 'c': 'Topgun', 'd': 'MrRobot'}}\n",
      "\n",
      "Print element from dictonary: Dict1\n",
      "Gravity\n",
      "\n",
      "Print element from nested dictonary: Dict2\n",
      "Inception\n"
     ]
    }
   ],
   "source": [
    "# creating a Dictonary \n",
    "Dict = {'Dict1': {1: 'Interstellar', 2:'Gravity', 3:'Core'},   \n",
    "        'Dict2':{'a':'Inception', 'b':\"ShutterIceland\", 'c':'Topgun', 'd':\"MrRobot\"}}\n",
    "\n",
    "print(\"\\nGiven Nested Dictionary\")\n",
    "print(Dict)\n",
    "\n",
    "print('\\nPrint element from dictonary: Dict1')\n",
    "print(Dict['Dict1'][2])\n",
    "\n",
    "print(\"\\nPrint element from nested dictonary: Dict2\")\n",
    "print(Dict['Dict2'][\"a\"])"
   ]
  },
  {
   "cell_type": "code",
   "execution_count": 28,
   "metadata": {},
   "outputs": [
    {
     "name": "stdout",
     "output_type": "stream",
     "text": [
      "Given Nested Dictionary=\n",
      "{1: 'Interstellar', 2: 'Gravity', 3: 'Core', 4: 'Titanic', 5: 'Mission Impossible'}\n",
      "Data after deleting elemnt from dictionary\n",
      "{1: 'Interstellar', 2: 'Gravity', 3: 'Core', 5: 'Mission Impossible'}\n"
     ]
    }
   ],
   "source": [
    "'''\n",
    "Deleting Elements using del Keyword\n",
    "The items of the dictionary can be deleted by using the del keyword as given below.\n",
    "'''\n",
    "\n",
    "#Python Program to demonstrate to delete an element from dictionary\n",
    "\n",
    "# creating a Dictonary \n",
    "Dict = {1: 'Interstellar', 2:'Gravity', 3:'Core', 4:'Titanic', 5:'Mission Impossible'}\n",
    "\n",
    "print(\"Given Dictionary=\")\n",
    "print(Dict)\n",
    "\n",
    "#deleting some of the dictionary data\n",
    "del(Dict[4])\n",
    "print(\"Data after deleting elemnt from dictionary\")\n",
    "print(Dict)"
   ]
  },
  {
   "cell_type": "code",
   "execution_count": 36,
   "metadata": {},
   "outputs": [
    {
     "name": "stdout",
     "output_type": "stream",
     "text": [
      "Given Dictionary=\n",
      "{1: 'Interstellar', 2: 'Gravity', 3: 'Core', 4: 'Titanic', 5: 'Mission Impossible'}\n",
      "\n",
      "Data after updating an item in dictionary\n",
      "{1: 'Interstellar', 2: 'Topgun Maverick', 3: 'Core', 4: 'Titanic', 5: 'Mission Impossible'}\n",
      "\n",
      "Data after updating multiple items in dictionary\n",
      "{1: 'Interstellar', 2: 'Topgun Maverick', 3: 'Core', 4: 'Pheonix', 5: 'Mission Impossible'}\n"
     ]
    }
   ],
   "source": [
    "'''\n",
    "Updating elemnets using .update() fucntion\n",
    "\n",
    "The items in the dictionaries can be update ny using .update() function as mention below\n",
    "'''\n",
    "\n",
    "# creating a Dictonary \n",
    "Dict = {1: 'Interstellar', 2:'Gravity', 3:'Core', 4:'Titanic', 5:'Mission Impossible'}\n",
    "\n",
    "print(\"Given Dictionary=\")\n",
    "print(Dict)\n",
    "\n",
    "#updating the elemnts using .update() fucntion \n",
    "print(\"\\nData after updating an item in dictionary\")\n",
    "Dict.update({2:'Topgun Maverick'})\n",
    "print(Dict)\n",
    "\n",
    "#updating multiple items in dictionary \n",
    "print(\"\\nData after updating multiple items in dictionary\")\n",
    "Dict.update({2:'Topgun Maverick', 4:\"Pheonix\"})\n",
    "print(Dict)\n"
   ]
  },
  {
   "cell_type": "code",
   "execution_count": 69,
   "metadata": {},
   "outputs": [
    {
     "name": "stdout",
     "output_type": "stream",
     "text": [
      "dict_keys(['Gujarat', 'Maharashtra', 'Rajasthan', 'Bihar'])\n"
     ]
    }
   ],
   "source": [
    "# Iterate over a dictionary in Python\n",
    "\n",
    "'''\n",
    "Dictionary in Python is a collection of data values, used to store data values like a map, \n",
    "unlike other Data Types that hold only a single value as an element, Dictionary holds the key: value pair. \n",
    "\n",
    "There are multiple ways to iterate over a dictionary in Python.\n",
    "\n",
    "Access key using the build .keys() \n",
    "Access key without using a key() \n",
    "Iterate through all values using .values()\n",
    "Iterate through all key, and value pairs using items()\n",
    "Access both key and value without using items()\n",
    "Print items in Key-Value in pair \n",
    "\n",
    "'''\n",
    "'''Example 1: Access key using the build .keys() \n",
    "In this example, you will see that we are using an in-build. \n",
    "keys() method which helps us to print all the keys in the dictionary.'''\n",
    "\n",
    "# Python3 code to iterate through all values in a dictionary\n",
    " \n",
    "statesAndCapitals = {\n",
    "    'Gujarat': 'Gandhinagar',\n",
    "    'Maharashtra': 'Mumbai',\n",
    "    'Rajasthan': 'Jaipur',\n",
    "    'Bihar': 'Patna'\n",
    "}\n",
    " \n",
    "keys = statesAndCapitals.keys()\n",
    "print(keys)"
   ]
  },
  {
   "cell_type": "code",
   "execution_count": 70,
   "metadata": {},
   "outputs": [
    {
     "name": "stdout",
     "output_type": "stream",
     "text": [
      "List Of given states:\n",
      "\n",
      "Gujarat\n",
      "Maharashtra\n",
      "Rajasthan\n",
      "Bihar\n"
     ]
    }
   ],
   "source": [
    "'''\n",
    "Example 2: Access key without using a key() \n",
    "Iterating over dictionaries using ‘for’ loops for iterating our keys and printing all the keys present in the Dictionary.\n",
    "'''\n",
    "\n",
    "# Python3 code to iterate through all keys in a dictionary\n",
    " \n",
    "statesAndCapitals = {\n",
    "    'Gujarat': 'Gandhinagar',\n",
    "    'Maharashtra': 'Mumbai',\n",
    "    'Rajasthan': 'Jaipur',\n",
    "    'Bihar': 'Patna'\n",
    "}\n",
    " \n",
    "print('List Of given states:\\n')\n",
    " \n",
    "# Iterating over keys\n",
    "for state in statesAndCapitals:\n",
    "    print(state)"
   ]
  },
  {
   "cell_type": "code",
   "execution_count": 74,
   "metadata": {},
   "outputs": [
    {
     "name": "stdout",
     "output_type": "stream",
     "text": [
      "List Of given states and their capitals:\n",
      "\n",
      "4\n",
      "Gujarat : Gandhinagar\n",
      "Maharashtra : Mumbai\n",
      "Rajasthan : Jaipur\n",
      "Bihar : Patna\n"
     ]
    }
   ],
   "source": [
    "'''\n",
    "Example 4: Iterate through all key, and value pairs using items()\n",
    "In this example, we are printing all the key and value pairs present in a dictionary using a items() method.\n",
    "'''\n",
    "\n",
    "# Python3 code to iterate through all key, value\n",
    "# pairs in a dictionary\n",
    " \n",
    "statesAndCapitals = {\n",
    "    'Gujarat': 'Gandhinagar',\n",
    "    'Maharashtra': 'Mumbai',\n",
    "    'Rajasthan': 'Jaipur',\n",
    "    'Bihar': 'Patna'\n",
    "}\n",
    " \n",
    "print('List Of given states and their capitals:\\n')\n",
    "print(len(statesAndCapitals))\n",
    " \n",
    "# Iterating over values\n",
    "for state, capital in statesAndCapitals.items():\n",
    "    print(state, \":\", capital)"
   ]
  },
  {
   "cell_type": "code",
   "execution_count": 104,
   "metadata": {},
   "outputs": [
    {
     "name": "stdout",
     "output_type": "stream",
     "text": [
      "{1: 'Python', 2: 'Scala', 3: 'Ruby', 4: 'Java', 5: 'Linux', 6: 'CommandPromt', 7: 'Apache'}\n",
      "{}\n",
      "\n",
      "elemnt got using .get() method\n",
      "Ruby\n",
      "\n",
      ".items will give following output\n",
      "dict_items([(1, 'Python'), (2, 'Scala'), (3, 'Ruby'), (4, 'Java'), (5, 'Linux'), (6, 'CommandPromt'), (7, 'Apache')])\n",
      "\n",
      "this will print all keys assigned to elements in dictionary as given output \n",
      "dict_keys([1, 2, 3, 4, 5, 6, 7])\n",
      "\n",
      "Updated dictionary after using .pop() method\n",
      "Ruby\n",
      "{1: 'Python', 2: 'Scala', 4: 'Java', 5: 'Linux', 6: 'CommandPromt', 7: 'Apache'}\n",
      "\n",
      "Updated dictionary after using .popitem() method\n",
      "{1: 'Python', 2: 'Scala', 4: 'Java', 5: 'Linux', 6: 'CommandPromt'}\n"
     ]
    }
   ],
   "source": [
    " # Demonstration all dictionary methods \n",
    "Dict1 = {1:'Python', 2:'Scala', 3:'Ruby', 4:'Java', 5:'Linux', 6:'CommandPromt', 7:\"Apache\"}\n",
    " \n",
    "# .copy() method => copy the data from Dict1 to Dict2\n",
    "Dict2 = Dict1.copy()\n",
    "print(Dict2)\n",
    "\n",
    "# .claer() method => claer all elemnets from dictionary \n",
    "Dict1.clear()\n",
    "print(Dict1)\n",
    "\n",
    "# .get() method => to access an elemnt from dictionary\n",
    "print(\"\\nelemnt got using .get() method\")\n",
    "print(Dict2.get(3))\n",
    "\n",
    "\n",
    "# .items() method => to get all items or to know all items in dictionary \n",
    "print(\"\\n.items will give following output\")\n",
    "print(Dict2.items())\n",
    "\n",
    "# .keys() method => this will print all keys assigned to elements in dictionary \n",
    "print(\"\\nthis will print all keys assigned to elements in dictionary as given output \")\n",
    "print(Dict2.keys())\n",
    "\n",
    "# .pop() method =>Remove the element with specified key\n",
    "print('\\nUpdated dictionary after using .pop() method')\n",
    "print(Dict2.pop(3))\n",
    "print(Dict2)\n",
    "\n",
    "# .popitem() => removes the last inserted key-value pair\n",
    "print('\\nUpdated dictionary after using .popitem() method')\n",
    "Dict2.popitem()\n",
    "print(Dict2)\n"
   ]
  },
  {
   "cell_type": "code",
   "execution_count": 42,
   "metadata": {},
   "outputs": [
    {
     "name": "stdout",
     "output_type": "stream",
     "text": [
      "200\n",
      "180\n"
     ]
    },
    {
     "data": {
      "text/plain": [
       "300"
      ]
     },
     "execution_count": 42,
     "metadata": {},
     "output_type": "execute_result"
    }
   ],
   "source": [
    "fruits_cost = {\"Apple\":120, \"Banana\":140, \"Cake\": 180, \"Strawberry\":150, \"Apple\":200}\n",
    "print(fruits_cost['Apple'])\n",
    "print(fruits_cost['Cake'])\n",
    "fruits_cost['Apple']\n",
    "\n"
   ]
  },
  {
   "cell_type": "code",
   "execution_count": 43,
   "metadata": {},
   "outputs": [
    {
     "name": "stdout",
     "output_type": "stream",
     "text": [
      "{'Apple': 200, 'Banana': 300, 'Cake': 180, 'Strawberry': 150}\n"
     ]
    }
   ],
   "source": [
    "fruits_cost = {\"Apple\":120, \"Banana\":140, \"Cake\": 180, \"Strawberry\":150, \"Apple\":200}\n",
    "\n",
    "\n",
    "# How to add another fruits\n",
    "fruits_cost[\"Banana\"] = 300\n",
    "fruits_cost[\"Banana\"]\n",
    "print(fruits_cost)"
   ]
  },
  {
   "cell_type": "code",
   "execution_count": 44,
   "metadata": {},
   "outputs": [
    {
     "name": "stdout",
     "output_type": "stream",
     "text": [
      "{'Apple': 200, 'Banana': 140, 'Cake': 180, 'Strawberry': 150, 'Pineapple': 130}\n"
     ]
    }
   ],
   "source": [
    "# how to add an element \n",
    "fruits_cost = {\"Apple\":120, \"Banana\":140, \"Cake\": 180, \"Strawberry\":150, \"Apple\":200}\n",
    "fruits_cost['Pineapple'] = 130\n",
    "\n",
    "print(fruits_cost)"
   ]
  },
  {
   "cell_type": "code",
   "execution_count": 47,
   "metadata": {},
   "outputs": [
    {
     "name": "stdout",
     "output_type": "stream",
     "text": [
      "Umakant\n",
      "28\n",
      "{'name': 'Umakant', 'middle_name': 'Bopche', 'age': '28', 'contact': '9765765795', 'email': 'umakantbopche@hotmail.com', 'State': 'Maharashtra'}\n"
     ]
    }
   ],
   "source": [
    "my_details = {'name':'Umakant', 'middle_name':'Bopche', 'age':'28', 'contact':\"9765765795\", 'email':\"umakantbopche@hotmail.com\"}\n",
    "print(my_details['name'])\n",
    "print(my_details['age'])\n",
    "\n",
    "my_details['contact']\n",
    "\n",
    "#how to add more details \n",
    "my_details[\"State\"] = \"Maharashtra\"\n",
    "print(my_details)\n"
   ]
  },
  {
   "cell_type": "code",
   "execution_count": 67,
   "metadata": {},
   "outputs": [
    {
     "name": "stdout",
     "output_type": "stream",
     "text": [
      "1\n",
      "2\n",
      "3\n",
      "0\n"
     ]
    }
   ],
   "source": [
    "# Quizz\n",
    "d = {'a':1, 'b':2, 'c':3}\n",
    "print(d.get('a', 0))\n",
    "print(d.get('b', 0))\n",
    "print(d.get('c', 0))\n",
    "print(d.get('d', 0))"
   ]
  },
  {
   "cell_type": "code",
   "execution_count": 103,
   "metadata": {},
   "outputs": [
    {
     "name": "stdout",
     "output_type": "stream",
     "text": [
      "<dict_keyiterator object at 0x00000216B56ADDF0>\n",
      "\n",
      "Items present in dictionary\n",
      "Apple\n",
      "Banana\n",
      "Mango\n",
      "Strawberry\n",
      "Naseberry\n",
      "Pineapple\n",
      "Blueberry\n",
      "Coconut\n",
      "\n",
      "The length of dictionary is : 8\n",
      "\n",
      "To print key and values from give ditionary\n",
      "Apple 120\n",
      "Banana 140\n",
      "Mango 180\n",
      "Strawberry 150\n",
      "Naseberry 200\n",
      "Pineapple 120\n",
      "Blueberry 300\n",
      "Coconut 75\n"
     ]
    }
   ],
   "source": [
    "fruits_cost = {\"Apple\":120, \"Banana\":140, \"Mango\": 180, \"Strawberry\":150, \"Naseberry\":200, \"Pineapple\":120, \"Blueberry\":300, \"Coconut\":75}\n",
    "i = iter(fruits_cost)\n",
    "print(i)\n",
    "\n",
    "print(\"\\nItems present in dictionary\")\n",
    "\n",
    "for i in fruits_cost:\n",
    "    print(i) # to get all itesm in dictionary \n",
    "\n",
    "print(\"\\nThe length of dictionary is :\", len(fruits_cost))\n",
    "\n",
    "print(\"\\nTo print key and values from give ditionary\")\n",
    "for i in fruits_cost:\n",
    "    print(i, fruits_cost.get(i)) # here we got keys and values together"
   ]
  },
  {
   "cell_type": "code",
   "execution_count": 111,
   "metadata": {},
   "outputs": [
    {
     "name": "stdout",
     "output_type": "stream",
     "text": [
      "Apple 200\n",
      "Mango 180\n",
      "('Apple', 120)\n",
      "('Banana', 140)\n",
      "('Mango', 180)\n",
      "('Strawberry', 150)\n",
      "('Naseberry', 200)\n",
      "('Pineapple', 120)\n",
      "('Blueberry', 300)\n",
      "('Coconut', 75)\n",
      "Apple 120\n",
      "Banana 140\n",
      "Mango 180\n",
      "Strawberry 150\n",
      "Naseberry 200\n",
      "Pineapple 120\n",
      "Blueberry 300\n",
      "Coconut 75\n"
     ]
    }
   ],
   "source": [
    "fruits_cost = {\"Apple\":120, \"Banana\":140, \"Mango\": 180, \"Strawberry\":150, \"Naseberry\":200, \"Pineapple\":120, \"Blueberry\":300, \"Coconut\":75}\n",
    "fruits_cost.items()\n",
    "\n",
    "k, v  = (\"Apple\", 200)  # Tupele\n",
    "print(k, v) # this is what we call unpacking\n",
    "\n",
    "K, V = [\"Mango\", 180] #List\n",
    "print(K, V)\n",
    "\n",
    "for i in fruits_cost.items():\n",
    "    print(i)"
   ]
  },
  {
   "cell_type": "code",
   "execution_count": 112,
   "metadata": {},
   "outputs": [
    {
     "name": "stdout",
     "output_type": "stream",
     "text": [
      "Apple 120\n",
      "Banana 140\n",
      "Mango 180\n",
      "Strawberry 150\n",
      "Naseberry 200\n",
      "Pineapple 120\n",
      "Blueberry 300\n",
      "Coconut 75\n"
     ]
    }
   ],
   "source": [
    "fruits_cost = {\"Apple\":120, \"Banana\":140, \"Mango\": 180, \"Strawberry\":150, \"Naseberry\":200, \"Pineapple\":120, \"Blueberry\":300, \"Coconut\":75}\n",
    "\n",
    "for i in fruits_cost.items():\n",
    "    k, v = i\n",
    "    print(k, v)"
   ]
  },
  {
   "cell_type": "code",
   "execution_count": 114,
   "metadata": {},
   "outputs": [
    {
     "name": "stdout",
     "output_type": "stream",
     "text": [
      "Apple 120\n",
      "Banana 140\n",
      "Mango 180\n",
      "Strawberry 150\n",
      "Naseberry 200\n",
      "Pineapple 120\n",
      "Blueberry 300\n",
      "Coconut 75\n"
     ]
    }
   ],
   "source": [
    "fruits_cost = {\"Apple\":120, \"Banana\":140, \"Mango\": 180, \"Strawberry\":150, \"Naseberry\":200, \"Pineapple\":120, \"Blueberry\":300, \"Coconut\":75}\n",
    "\n",
    "# The loop then prints each key-value pair using the print() function, \n",
    "# which takes the variables k and v as arguments. \n",
    "\n",
    "for k, v in fruits_cost.items():\n",
    "    print(k, v)"
   ]
  },
  {
   "cell_type": "code",
   "execution_count": 133,
   "metadata": {},
   "outputs": [
    {
     "name": "stdout",
     "output_type": "stream",
     "text": [
      "dict_keys(['Apple', 'Banana', 'Mango', 'Strawberry', 'Naseberry', 'Pineapple', 'Blueberry', 'Coconut'])\n",
      "dict_values([120, 140, 180, 150, 200, 120, 300, 75])\n",
      "1285\n"
     ]
    }
   ],
   "source": [
    "fruits_cost = {\"Apple\":120, \"Banana\":140, \"Mango\": 180, \"Strawberry\":150, \"Naseberry\":200, \"Pineapple\":120, \"Blueberry\":300, \"Coconut\":75}\n",
    "\n",
    "print(fruits_cost.keys())\n",
    "print(fruits_cost.values())\n",
    "\n",
    "print(sum(fruits_cost.values()))"
   ]
  },
  {
   "cell_type": "code",
   "execution_count": 138,
   "metadata": {},
   "outputs": [
    {
     "name": "stdout",
     "output_type": "stream",
     "text": [
      "\n",
      "To check if the city is present in dictionary or not\n"
     ]
    },
    {
     "data": {
      "text/plain": [
       "True"
      ]
     },
     "execution_count": 138,
     "metadata": {},
     "output_type": "execute_result"
    }
   ],
   "source": [
    "# Here are some examples of dictionaries of cities and their population:\n",
    "\n",
    "cities_population = {'Tokyo': 13929286, 'Delhi': 12993374, 'Shanghai': 22315474, 'São Paulo': 20983739, \n",
    "'Mumbai': 12691836, 'Mexico City': 20996000, 'Beijing': 21516000, \n",
    "'Osaka': 11294000, 'Cairo': 11893000, 'New York City': 18713220}\n",
    "\n",
    "print(\"\\nTo check if the city is present in dictionary or not\")\n",
    "\"Mumbai\" in cities_population"
   ]
  },
  {
   "cell_type": "code",
   "execution_count": 141,
   "metadata": {},
   "outputs": [
    {
     "name": "stdout",
     "output_type": "stream",
     "text": [
      "\n",
      " To check sum  of population of cities\n",
      "12691836\n"
     ]
    }
   ],
   "source": [
    "print(\"\\n To check sum  of population of cities\")\n",
    "print(cities_population[\"Mumbai\"])"
   ]
  },
  {
   "cell_type": "code",
   "execution_count": 116,
   "metadata": {},
   "outputs": [
    {
     "name": "stdout",
     "output_type": "stream",
     "text": [
      "1 4 9 "
     ]
    }
   ],
   "source": [
    "# Quizz\n",
    "\n",
    "a = {1:1, 2:4, 3:9}\n",
    "\n",
    "for x in a:\n",
    "    print(a[x], end=\" \")"
   ]
  }
 ],
 "metadata": {
  "kernelspec": {
   "display_name": "Python 3",
   "language": "python",
   "name": "python3"
  },
  "language_info": {
   "codemirror_mode": {
    "name": "ipython",
    "version": 3
   },
   "file_extension": ".py",
   "mimetype": "text/x-python",
   "name": "python",
   "nbconvert_exporter": "python",
   "pygments_lexer": "ipython3",
   "version": "3.10.7"
  },
  "orig_nbformat": 4,
  "vscode": {
   "interpreter": {
    "hash": "2b65794920baf2ed48b5c4d08ad291c323e29767f57003aefe0301e1d8fb86c5"
   }
  }
 },
 "nbformat": 4,
 "nbformat_minor": 2
}
