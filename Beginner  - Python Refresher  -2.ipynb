{
 "cells": [
  {
   "cell_type": "code",
   "execution_count": 2,
   "metadata": {
    "collapsed": true,
    "pycharm": {
     "name": "#%%\n"
    }
   },
   "outputs": [
    {
     "name": "stdout",
     "output_type": "stream",
     "text": [
      "I\n",
      "n\n",
      "t\n",
      "e\n",
      "r\n",
      "s\n",
      "t\n",
      "e\n",
      "l\n",
      "l\n",
      "a\n",
      "r\n"
     ]
    }
   ],
   "source": [
    "# for loop\n",
    "\n",
    "Name = \"Interstellar\"\n",
    "for i in Name:\n",
    "    print(i)\n"
   ]
  },
  {
   "cell_type": "code",
   "execution_count": 3,
   "metadata": {
    "pycharm": {
     "name": "#%%\n"
    }
   },
   "outputs": [
    {
     "name": "stdout",
     "output_type": "stream",
     "text": [
      "<str_iterator object at 0x000001FE6ECEA710>\n"
     ]
    }
   ],
   "source": [
    "i = iter(Name)\n",
    "print(i)"
   ]
  },
  {
   "cell_type": "code",
   "execution_count": 8,
   "metadata": {
    "pycharm": {
     "name": "#%%\n"
    }
   },
   "outputs": [
    {
     "name": "stdout",
     "output_type": "stream",
     "text": [
      "1 2 3 4 5 6 7 8 9 10 \n"
     ]
    }
   ],
   "source": [
    "n = 10\n",
    "i = 1\n",
    "while i <=10:\n",
    "    print(i, end=\" \")\n",
    "    i += 1\n",
    "print()"
   ]
  },
  {
   "cell_type": "code",
   "execution_count": 9,
   "metadata": {
    "pycharm": {
     "name": "#%%\n"
    }
   },
   "outputs": [
    {
     "name": "stdout",
     "output_type": "stream",
     "text": [
      "1 2 "
     ]
    }
   ],
   "source": [
    "i = 1\n",
    "while True:\n",
    "    if i%3 ==0:\n",
    "        break\n",
    "    print(i, end=\" \")\n",
    "    i += 1"
   ]
  },
  {
   "cell_type": "code",
   "execution_count": 12,
   "metadata": {
    "pycharm": {
     "name": "#%%\n"
    }
   },
   "outputs": [
    {
     "name": "stdout",
     "output_type": "stream",
     "text": [
      "10.666666666666666\n",
      "10.67\n"
     ]
    }
   ],
   "source": [
    "n = int(input())\n",
    "x = int(input())\n",
    "\n",
    "count = 0\n",
    "i = 1\n",
    "while i<=n:\n",
    "    count  += (x**i)/i\n",
    "    i += 1\n",
    "print(count)\n",
    "print(round(count, 2))\n"
   ]
  },
  {
   "cell_type": "code",
   "execution_count": 14,
   "metadata": {
    "pycharm": {
     "name": "#%%\n"
    }
   },
   "outputs": [
    {
     "name": "stdout",
     "output_type": "stream",
     "text": [
      "1 3 5 7 9 "
     ]
    }
   ],
   "source": [
    "for i in range (1, 11, 2):\n",
    "    print(i, end = \" \")"
   ]
  },
  {
   "cell_type": "code",
   "execution_count": 15,
   "metadata": {
    "pycharm": {
     "name": "#%%\n"
    }
   },
   "outputs": [
    {
     "name": "stdout",
     "output_type": "stream",
     "text": [
      "1 2 3 4 5 6 7 8 9 10 "
     ]
    }
   ],
   "source": [
    "for i in range (1, 11, 1):\n",
    "    print(i, end = \" \")"
   ]
  },
  {
   "cell_type": "code",
   "execution_count": 25,
   "metadata": {
    "pycharm": {
     "name": "#%%\n"
    }
   },
   "outputs": [
    {
     "name": "stdout",
     "output_type": "stream",
     "text": [
      "0 5 10 15 20 25 30 35 40 45 50 55 60 65 "
     ]
    }
   ],
   "source": [
    "for i in range (0, 70, 5):\n",
    "    print(i, end = \" \")"
   ]
  },
  {
   "cell_type": "markdown",
   "metadata": {
    "pycharm": {
     "name": "#%% md\n"
    }
   },
   "source": [
    "# difference between list and array\n",
    "\n",
    "# https://www.geeksforgeeks.org/difference-between-list-and-array-in-python/\n",
    "\n",
    "'''List: A list in Python is a collection of items which can contain elements of multiple data types, which may be either numeric, character logical values, etc.\n",
    "It is an ordered collection supporting negative indexing. A list can be created using [] containing data values.\n",
    "Contents of lists can be easily merged and copied using python’s inbuilt functions.\n",
    "\n",
    "Array: An array is a vector containing homogeneous elements i.e. belonging to the same data type.\n",
    "Elements are allocated with contiguous memory locations.\n",
    "Typically the size of an array is fixed.\n",
    "Insertion and Deletion costs high as compare to List however indexing is fast in the Arrays due to contiguous memory allocation.\n",
    "\n",
    "'''\n",
    "\n"
   ]
  },
  {
   "cell_type": "code",
   "execution_count": 55,
   "metadata": {
    "pycharm": {
     "name": "#%%\n"
    }
   },
   "outputs": [
    {
     "data": {
      "text/plain": [
       "25"
      ]
     },
     "execution_count": 55,
     "metadata": {},
     "output_type": "execute_result"
    }
   ],
   "source": [
    "random_things = ['Bicycle', 'Sunglasses', 'Cactus', 'Coffee mug', 'Notebook', 'Headphones', 'Running shoes', 'Wristwatch', 'Backpack', 'Board game', 'Blanket', 'Snow globe', 'Chocolate bar', 'Guitar', 'Houseplant', 'Beach towel', 'Water bottle', 'Board shorts', 'Phone case', 'Alarm clock', 'Wallet', 'Fitness tracker', 'Pillow', 'Board marker', 'Hairbrush']\n",
    "\n",
    "len(random_things)"
   ]
  },
  {
   "cell_type": "code",
   "execution_count": 57,
   "metadata": {
    "pycharm": {
     "name": "#%%\n"
    }
   },
   "outputs": [
    {
     "data": {
      "text/plain": [
       "'Backpack'"
      ]
     },
     "execution_count": 57,
     "metadata": {},
     "output_type": "execute_result"
    }
   ],
   "source": [
    "random_things[8]"
   ]
  },
  {
   "cell_type": "code",
   "execution_count": 56,
   "metadata": {
    "pycharm": {
     "name": "#%%\n"
    }
   },
   "outputs": [
    {
     "ename": "IndexError",
     "evalue": "list index out of range",
     "output_type": "error",
     "traceback": [
      "\u001B[1;31m---------------------------------------------------------------------------\u001B[0m",
      "\u001B[1;31mIndexError\u001B[0m                                Traceback (most recent call last)",
      "Cell \u001B[1;32mIn[56], line 1\u001B[0m\n\u001B[1;32m----> 1\u001B[0m \u001B[43mrandom_things\u001B[49m\u001B[43m[\u001B[49m\u001B[38;5;241;43m27\u001B[39;49m\u001B[43m]\u001B[49m\n",
      "\u001B[1;31mIndexError\u001B[0m: list index out of range"
     ]
    }
   ],
   "source": [
    "random_things[27]"
   ]
  },
  {
   "cell_type": "code",
   "execution_count": 52,
   "metadata": {
    "pycharm": {
     "name": "#%%\n"
    }
   },
   "outputs": [
    {
     "name": "stdout",
     "output_type": "stream",
     "text": [
      "Phone case\n"
     ]
    }
   ],
   "source": [
    "import random\n",
    "\n",
    "random_item =random.choice(random_things)\n",
    "print(random_item)"
   ]
  },
  {
   "cell_type": "code",
   "execution_count": 80,
   "metadata": {
    "pycharm": {
     "name": "#%%\n"
    }
   },
   "outputs": [
    {
     "name": "stdout",
     "output_type": "stream",
     "text": [
      "0 Bicycle\n",
      "1 Sunglasses\n",
      "2 Cactus\n",
      "3 Coffee mug\n",
      "4 Notebook\n",
      "5 Headphones\n",
      "6 Running shoes\n",
      "7 Wristwatch\n",
      "8 Backpack\n",
      "9 Board game\n",
      "10 Blanket\n",
      "11 Snow globe\n",
      "12 Chocolate bar\n",
      "13 Guitar\n",
      "14 Houseplant\n",
      "15 Beach towel\n",
      "16 Water bottle\n",
      "17 Board shorts\n",
      "18 Phone case\n",
      "19 Alarm clock\n",
      "20 Wallet\n",
      "21 Fitness tracker\n",
      "22 Pillow\n",
      "23 Board marker\n",
      "24 Hairbrush\n"
     ]
    }
   ],
   "source": [
    "# List Slicing\n",
    "\n",
    "random_things = ['Bicycle', 'Sunglasses', 'Cactus', 'Coffee mug', 'Notebook', 'Headphones', 'Running shoes', 'Wristwatch', 'Backpack', 'Board game', 'Blanket', 'Snow globe', 'Chocolate bar', 'Guitar', 'Houseplant', 'Beach towel', 'Water bottle', 'Board shorts', 'Phone case', 'Alarm clock', 'Wallet', 'Fitness tracker', 'Pillow', 'Board marker', 'Hairbrush']\n",
    "\n",
    "total = 0\n",
    "for i, v in enumerate(random_things):\n",
    "    print(i,v)"
   ]
  },
  {
   "cell_type": "code",
   "execution_count": 72,
   "metadata": {
    "pycharm": {
     "name": "#%%\n"
    }
   },
   "outputs": [
    {
     "name": "stdout",
     "output_type": "stream",
     "text": [
      "[100, 33, 50, 20, 10]\n"
     ]
    }
   ],
   "source": [
    "marks = [10, 20, 50, 33, 100]\n",
    "print(marks[::-1])"
   ]
  },
  {
   "cell_type": "code",
   "execution_count": 74,
   "metadata": {
    "pycharm": {
     "name": "#%%\n"
    }
   },
   "outputs": [
    {
     "name": "stdout",
     "output_type": "stream",
     "text": [
      "213\n"
     ]
    }
   ],
   "source": [
    "marks = [10, 20, 50, 33, 100]\n",
    "total = 0\n",
    "for i in marks:\n",
    "    total += i\n",
    "print(total)"
   ]
  },
  {
   "cell_type": "code",
   "execution_count": 76,
   "metadata": {
    "pycharm": {
     "name": "#%%\n"
    }
   },
   "outputs": [
    {
     "name": "stdout",
     "output_type": "stream",
     "text": [
      "213\n"
     ]
    }
   ],
   "source": [
    "marks = [10, 20, 50, 33, 100]\n",
    "total = 0\n",
    "for i in range(len(marks)):\n",
    "    total += marks[i]\n",
    "print(total)"
   ]
  },
  {
   "cell_type": "code",
   "execution_count": 78,
   "metadata": {
    "pycharm": {
     "name": "#%%\n"
    }
   },
   "outputs": [
    {
     "name": "stdout",
     "output_type": "stream",
     "text": [
      "0 10\n",
      "1 20\n",
      "2 50\n",
      "3 33\n",
      "4 100\n"
     ]
    }
   ],
   "source": [
    "total = 0\n",
    "for i, v in enumerate(marks):\n",
    "    print(i, v)"
   ]
  },
  {
   "cell_type": "code",
   "execution_count": 81,
   "metadata": {
    "pycharm": {
     "name": "#%%\n"
    }
   },
   "outputs": [
    {
     "name": "stdout",
     "output_type": "stream",
     "text": [
      "True\n"
     ]
    }
   ],
   "source": [
    "# Quizz\n",
    "a = [10, 20, 30]\n",
    "b = a\n",
    "print(b is a)"
   ]
  },
  {
   "cell_type": "code",
   "execution_count": 82,
   "metadata": {
    "pycharm": {
     "name": "#%%\n"
    }
   },
   "outputs": [
    {
     "name": "stdout",
     "output_type": "stream",
     "text": [
      "[10, 40, 30]\n"
     ]
    }
   ],
   "source": [
    "# Quizz\n",
    "a = [10, 20, 30]\n",
    "b = a\n",
    "a[1] = 40\n",
    "print(b)"
   ]
  },
  {
   "cell_type": "code",
   "execution_count": 83,
   "metadata": {
    "pycharm": {
     "name": "#%%\n"
    }
   },
   "outputs": [
    {
     "name": "stdout",
     "output_type": "stream",
     "text": [
      "[10, 20, 30]\n",
      "False\n"
     ]
    }
   ],
   "source": [
    "# Quizz\n",
    "a = [10, 20, 30]\n",
    "b = a[:]\n",
    "\n",
    "print(b)\n",
    "print(b is a)"
   ]
  },
  {
   "cell_type": "code",
   "execution_count": null,
   "metadata": {
    "pycharm": {
     "name": "#%%\n"
    }
   },
   "outputs": [],
   "source": [
    " # https://www.geeksforgeeks.org/python-cloning-copying-list/\n",
    "\n",
    "'''Python | Cloning or Copying a list\n",
    "\n",
    "In this article, we will go through various ways of copy lists in Python.\n",
    "These various ways of copying list take different execution times, so we can compare them on the basis of time.\n",
    "Different Ways to copy list:\n",
    "\n",
    "    Using the slicing technique\n",
    "    Using the extend() method\n",
    "    List copy using =(assignment operator)\n",
    "    Using the method of Shallow Copy\n",
    "    Using list comprehension\n",
    "    Using the append() method\n",
    "    Using the copy() method\n",
    "    Using the method of Deep Copy\n",
    "    Using the map method\n",
    "    Using slice() function\n",
    "\n",
    "1. Using the slicing technique\n",
    "\n",
    "This is the easiest and fastest way to clone a list.\n",
    "This method is considered when we want to modify a list and also keep a copy of the original.\n",
    "In this, we make a copy of the list itself, along with the reference.\n",
    "This process is also called cloning.\n",
    "This technique takes about 0.039 seconds and is the fastest technique.\n",
    "\n",
    "For more information, you can read this article – List Slicing Technique\n",
    "\n",
    "Function aliasing in Python\n",
    "\n",
    "In Python, we can give another name of the function.\n",
    "For the existing function, we can give another name, which is nothing but function aliasing.\n",
    "Function aliasing in Python\n",
    "\n",
    "In function aliasing, we create a new variable and assign the function reference to one existing function to the variable.\n",
    "We can verify that both the objects pointing to the same memory location using id() built-in function in Python.\n",
    "\n",
    "'''"
   ]
  },
  {
   "cell_type": "code",
   "execution_count": 84,
   "outputs": [
    {
     "data": {
      "text/plain": "[1, 2, 3, 4, 5, 6]"
     },
     "execution_count": 84,
     "metadata": {},
     "output_type": "execute_result"
    }
   ],
   "source": [
    "[1, 2, 3]+[4, 5, 6]"
   ],
   "metadata": {
    "collapsed": false,
    "pycharm": {
     "name": "#%%\n"
    }
   }
  },
  {
   "cell_type": "code",
   "execution_count": 88,
   "outputs": [
    {
     "name": "stdout",
     "output_type": "stream",
     "text": [
      "2192322442432\n",
      "2192322242944\n",
      "['apple', 'nokia', 'samsung']\n"
     ]
    }
   ],
   "source": [
    "a = [\"apple\", \"nokia\", \"samsung\"]\n",
    "print(id(a))\n",
    "b = a.copy()\n",
    "print(id(b))\n",
    "print(b)"
   ],
   "metadata": {
    "collapsed": false,
    "pycharm": {
     "name": "#%%\n"
    }
   }
  },
  {
   "cell_type": "code",
   "execution_count": 89,
   "outputs": [
    {
     "name": "stdout",
     "output_type": "stream",
     "text": [
      "[10, 20, 30, [40, 50, 60]]\n"
     ]
    }
   ],
   "source": [
    "a = [10, 20, 30]\n",
    "a.append([40, 50, 60])\n",
    "print(a)"
   ],
   "metadata": {
    "collapsed": false,
    "pycharm": {
     "name": "#%%\n"
    }
   }
  },
  {
   "cell_type": "code",
   "execution_count": 90,
   "outputs": [
    {
     "name": "stdout",
     "output_type": "stream",
     "text": [
      "[10, 20, 30, 40, 50, 60]\n"
     ]
    }
   ],
   "source": [
    "a = [10, 20, 30]\n",
    "a.extend([40, 50, 60])\n",
    "print(a)"
   ],
   "metadata": {
    "collapsed": false,
    "pycharm": {
     "name": "#%%\n"
    }
   }
  },
  {
   "cell_type": "code",
   "execution_count": null,
   "outputs": [],
   "source": [],
   "metadata": {
    "collapsed": false,
    "pycharm": {
     "name": "#%%\n"
    }
   }
  },
  {
   "cell_type": "code",
   "execution_count": null,
   "outputs": [],
   "source": [],
   "metadata": {
    "collapsed": false,
    "pycharm": {
     "name": "#%%\n"
    }
   }
  }
 ],
 "metadata": {
  "kernelspec": {
   "display_name": "Python 3 (ipykernel)",
   "language": "python",
   "name": "python3"
  },
  "language_info": {
   "codemirror_mode": {
    "name": "ipython",
    "version": 3
   },
   "file_extension": ".py",
   "mimetype": "text/x-python",
   "name": "python",
   "nbconvert_exporter": "python",
   "pygments_lexer": "ipython3",
   "version": "3.10.10"
  }
 },
 "nbformat": 4,
 "nbformat_minor": 1
}