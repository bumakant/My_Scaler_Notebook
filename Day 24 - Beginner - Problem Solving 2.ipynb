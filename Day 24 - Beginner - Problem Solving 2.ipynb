{
 "cells": [
  {
   "attachments": {},
   "cell_type": "markdown",
   "metadata": {},
   "source": [
    " # Right Shif an Array\n",
    "\n",
    " # Problem dicscription \n",
    "\n",
    " Write a program that reads an integer array A from input and modifies the array by shifting \n",
    " each element to the right by one position and by shifting the last element to the first position.\n",
    "\n",
    " return the modified array \n",
    "\n",
    " Problem contraints \n",
    " 1<=N<=10^5\n",
    " 1<=A(i)<=10^9\n",
    "\n",
    " # Input Format\n",
    " The first of the input is the size of the array N. The seconf line of the input is N integers of the array seper ated by space.\n",
    "\n",
    " # Output Format \n",
    " Print a single line that is the elemnts of the modified array seperated by space.\n",
    "\n",
    " Example input \n",
    "\n",
    " 5\n",
    " 1 2 3 4 5\n",
    "\n",
    " Example output \n",
    "\n",
    " 5 1 2 3 4 \n",
    "\n",
    " \n",
    "\n"
   ]
  },
  {
   "cell_type": "code",
   "execution_count": 14,
   "metadata": {},
   "outputs": [
    {
     "name": "stdout",
     "output_type": "stream",
     "text": [
      "[5, 1, 2, 3, 4]\n"
     ]
    }
   ],
   "source": [
    "'''\n",
    "To right shift an array in Python without using any libraries, \n",
    "you can use a simple approach using basic list operations:\n",
    "'''\n",
    "\n",
    "'''\n",
    "Here, the insert() method is used to insert the popped element from the end of the list to \n",
    "the beginning of the list shift_count number of times. \n",
    "This essentially shifts the array to the right by shift_count positions.\n",
    "\n",
    "In the example above, the output will be [4, 5, 1, 2, 3], \n",
    "which is the original array shifted to the right by 1 positions.\n",
    "'''\n",
    "\n",
    "# Solution and Aproch to the problem\n",
    "\n",
    "# Creat sample array \n",
    "arr = [1, 2, 3, 4, 5]\n",
    "\n",
    "# number of posiotn to shift the array to the right\n",
    "shift_count = 1\n",
    "\n",
    "# right shift the array \n",
    "for i in range(shift_count):\n",
    "    arr.insert(0, arr.pop())\n",
    "\n",
    "print(arr)\n"
   ]
  },
  {
   "cell_type": "code",
   "execution_count": 16,
   "metadata": {},
   "outputs": [
    {
     "data": {
      "text/plain": [
       "[5, 1, 2, 3, 4]"
      ]
     },
     "execution_count": 16,
     "metadata": {},
     "output_type": "execute_result"
    }
   ],
   "source": [
    "# list slicing approach \n",
    "lst = [1, 2, 3, 4, 5]\n",
    "[lst[-1]] + lst[:4]"
   ]
  },
  {
   "cell_type": "code",
   "execution_count": 18,
   "metadata": {},
   "outputs": [
    {
     "name": "stdout",
     "output_type": "stream",
     "text": [
      "5 1 2 3 4 "
     ]
    }
   ],
   "source": [
    "lst = [1, 2, 3, 4, 5]\n",
    "for i in range(len(lst)):\n",
    "    print(lst[i-1], end=\" \")"
   ]
  },
  {
   "cell_type": "code",
   "execution_count": 11,
   "metadata": {},
   "outputs": [
    {
     "name": "stdout",
     "output_type": "stream",
     "text": [
      "6 1 2 3 4 5 "
     ]
    }
   ],
   "source": [
    "lst = [1, 2, 3, 4, 5, 6]\n",
    "last_ele = lst.pop()\n",
    "lst.insert(0, last_ele)\n",
    "for i in lst:\n",
    "    print(i, end=\" \")"
   ]
  },
  {
   "cell_type": "code",
   "execution_count": 3,
   "metadata": {},
   "outputs": [
    {
     "name": "stdout",
     "output_type": "stream",
     "text": [
      "[6, 9, 7]\n",
      "[8, 9, 13]\n",
      "[14, 9, 16]\n"
     ]
    }
   ],
   "source": [
    "# Problem 2 => How to add two matrix ?\n",
    "\n",
    "# program for addition of matrix  using for loop\n",
    "\n",
    "mat1 = [[1, 3, 6], [5, 4, 6], [6, 4, 9]]\n",
    "mat2 = [[5, 6, 1], [3, 5, 7], [8, 5, 7]]\n",
    "\n",
    "res = [[0,0,0], [0,0,0], [0,0,0]]\n",
    "rows = len(mat1)\n",
    "cols  = len(mat1[0])\n",
    "\n",
    "#iterate through rows \n",
    "for i in range(len(mat1)):\n",
    "# iterate through columns\n",
    "    for j in range(len(mat1[0])):\n",
    "        res[i][j] = mat1[i][j] + mat2[i][j]\n",
    "for r in res:\n",
    "    print(r)"
   ]
  },
  {
   "cell_type": "code",
   "execution_count": 14,
   "metadata": {},
   "outputs": [
    {
     "name": "stdout",
     "output_type": "stream",
     "text": [
      "[[6, 9, 7], [8, 9, 13], [14, 9, 16]]\n"
     ]
    }
   ],
   "source": [
    "# Problem 2 => How to add two matrix ?\n",
    "\n",
    "# program for addition of matrix  using for loop\n",
    "\n",
    "mat1 = [[1, 3, 6], [5, 4, 6], [6, 4, 9]]\n",
    "mat2 = [[5, 6, 1], [3, 5, 7], [8, 5, 7]]\n",
    "\n",
    "res = []\n",
    "rows = len(mat1)\n",
    "cols  = len(mat1[0])\n",
    "\n",
    "#iterate through rows \n",
    "for i in range(rows):\n",
    "    row = []\n",
    "# iterate through columns\n",
    "    for j in range(cols):\n",
    "        row.append(mat1[i][j] + mat2[i][j])\n",
    "    res.append(row)\n",
    "print(res)"
   ]
  },
  {
   "cell_type": "code",
   "execution_count": 1,
   "metadata": {},
   "outputs": [
    {
     "name": "stdout",
     "output_type": "stream",
     "text": [
      "[[6, 9, 7], [8, 9, 13], [14, 9, 16]]\n"
     ]
    }
   ],
   "source": [
    "\n",
    "# program for addition of matrix  using zip()\n",
    "\n",
    "#Here, list(map(sum, zip(*t))) computes the element-wise sum of the rows in mat1 and mat2 using the map() function and the sum() function. \n",
    "# The resulting map object is then converted to a list using the list() function. \n",
    "\n",
    "mat1 = [[1, 3, 6], [5, 4, 6], [6, 4, 9]]\n",
    "mat2 = [[5, 6, 1], [3, 5, 7], [8, 5, 7]]\n",
    "\n",
    "res = [list(map(sum, zip(*t))) for t in zip(mat1, mat2)]\n",
    "print(res)\n"
   ]
  },
  {
   "cell_type": "code",
   "execution_count": 1,
   "metadata": {},
   "outputs": [
    {
     "name": "stdout",
     "output_type": "stream",
     "text": [
      "[[ 6  9  7]\n",
      " [ 8  9 13]\n",
      " [14  9 16]]\n"
     ]
    }
   ],
   "source": [
    "# let's use numpy to add to matrix\n",
    "\n",
    "import numpy as np\n",
    "\n",
    "mat1 = [[1, 3, 6], [5, 4, 6], [6, 4, 9]]\n",
    "mat2 = [[5, 6, 1], [3, 5, 7], [8, 5, 7]]\n",
    "\n",
    "result = np.array(mat1) + np.array(mat2)\n",
    "print(result)"
   ]
  },
  {
   "cell_type": "code",
   "execution_count": null,
   "metadata": {},
   "outputs": [],
   "source": [
    "# Identity Matrix\n",
    "# https://www.geeksforgeeks.org/python-matrix/\n",
    "'''Introduction to Identity Matrix :\n",
    "\n",
    " The dictionary definition of an Identity Matrix is a square matrix in which all \n",
    " the elements of the principal or main diagonal are 1’s and all other elements are zeros. \n",
    " In the below image, every matrix is an Identity Matrix. \n",
    " \n",
    " '''\n"
   ]
  },
  {
   "cell_type": "code",
   "execution_count": 18,
   "metadata": {},
   "outputs": [
    {
     "name": "stdout",
     "output_type": "stream",
     "text": [
      "1\n",
      "1\n",
      "1\n"
     ]
    }
   ],
   "source": [
    "# program to check whether given matrix is identiy or not\n",
    "a = [[1,0,0], [0,1,0], [0,0,1]]\n",
    "for i in range(len(a)):\n",
    "    for j in range(len(a[0])):\n",
    "        if i == j:\n",
    "            print(a[i][j])\n",
    "\n"
   ]
  },
  {
   "cell_type": "code",
   "execution_count": 24,
   "metadata": {},
   "outputs": [
    {
     "data": {
      "text/plain": [
       "False"
      ]
     },
     "execution_count": 24,
     "metadata": {},
     "output_type": "execute_result"
    }
   ],
   "source": [
    "def identity_matrix(a, n):\n",
    "    for i in range(n):\n",
    "        for j in range(n):\n",
    "            if i == j and a[i][j] != 1: # if it is diagonal element chek it is 0 or not\n",
    "                return False\n",
    "            elif i!=j and a[i][j] !=0: # if it is non-diagonal element chek it is 0 or not\n",
    "                return False\n",
    "    return True\n",
    "a = [[1,0,1], [0,1,0], [0,0,1]]\n",
    "identity_matrix(a, 3)"
   ]
  },
  {
   "cell_type": "code",
   "execution_count": 25,
   "metadata": {},
   "outputs": [
    {
     "name": "stdout",
     "output_type": "stream",
     "text": [
      "{'a': 6, 'u': 1, 't': 2, 'h': 4, 'o': 3, 'b': 1, 'i': 2, 'g': 2, 'r': 1, 'p': 1, 'y': 1, ' ': 3, 'f': 1, 'm': 2, 'n': 1, 'd': 1}\n"
     ]
    }
   ],
   "source": [
    "# Frequency of charecter in string\n",
    "string  =  \"authobiography of mahatma gandhi\"\n",
    "dictionary  = {}\n",
    "for i in string:\n",
    "    dictionary[i] = string.count(i)\n",
    "\n",
    "print(dictionary)"
   ]
  },
  {
   "cell_type": "code",
   "execution_count": 28,
   "metadata": {},
   "outputs": [
    {
     "name": "stdout",
     "output_type": "stream",
     "text": [
      "{'i': 1, 'n': 1, 't': 2, 'e': 2, 'r': 2, 's': 1, 'l': 2, 'a': 1}\n"
     ]
    }
   ],
   "source": [
    "string = \"interstellar\"\n",
    "dictionary = {}\n",
    "for i in string:\n",
    "    if dictionary.get(i):\n",
    "        dictionary[i] += 1\n",
    "    else:\n",
    "        dictionary[i] = 1\n",
    "print(dictionary)\n"
   ]
  }
 ],
 "metadata": {
  "kernelspec": {
   "display_name": "Python 3",
   "language": "python",
   "name": "python3"
  },
  "language_info": {
   "codemirror_mode": {
    "name": "ipython",
    "version": 3
   },
   "file_extension": ".py",
   "mimetype": "text/x-python",
   "name": "python",
   "nbconvert_exporter": "python",
   "pygments_lexer": "ipython3",
   "version": "3.10.9"
  },
  "orig_nbformat": 4
 },
 "nbformat": 4,
 "nbformat_minor": 2
}
